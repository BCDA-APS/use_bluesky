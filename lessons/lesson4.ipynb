{
 "cells": [
  {
   "cell_type": "markdown",
   "metadata": {},
   "source": [
    "# Lesson 4: Basic scan (& plot) of scaler *vs.* motor\n",
    "\n",
    "\n",
    "**Preparation**\n",
    "\n",
    "*`instrument` package*\n",
    "\n",
    "Make sure the `instrument` package is in the same directory \n",
    "as this jupyter notebook. The `instrument` package included with \n",
    "this lesson is a brief version of the standard package used \n",
    "with any APS instrument.  Since the notebook is for teaching,\n",
    "it does not connect with any mongodb database.  The scans are \n",
    "not kept by the databroker.  However, every scan is saved to a \n",
    "SPEC data file as described when the instrument package is loaded."
   ]
  },
  {
   "cell_type": "code",
   "execution_count": null,
   "metadata": {},
   "outputs": [],
   "source": [
    "from instrument.collection import *"
   ]
  },
  {
   "cell_type": "markdown",
   "metadata": {},
   "source": [
    "get a motor and scaler from the ophyd simulators"
   ]
  },
  {
   "cell_type": "code",
   "execution_count": null,
   "metadata": {},
   "outputs": [],
   "source": [
    "from ophyd.sim import motor as m1\n",
    "from ophyd.sim import det as scaler"
   ]
  },
  {
   "cell_type": "markdown",
   "metadata": {},
   "source": [
    "scan the scaler *v.* the motor"
   ]
  },
  {
   "cell_type": "code",
   "execution_count": null,
   "metadata": {
    "scrolled": true
   },
   "outputs": [],
   "source": [
    "RE(bp.scan([scaler], m1, -5, 5, 35))"
   ]
  }
 ],
 "metadata": {
  "kernelspec": {
   "display_name": "Python 3",
   "language": "python",
   "name": "python3"
  },
  "language_info": {
   "codemirror_mode": {
    "name": "ipython",
    "version": 3
   },
   "file_extension": ".py",
   "mimetype": "text/x-python",
   "name": "python",
   "nbconvert_exporter": "python",
   "pygments_lexer": "ipython3",
   "version": "3.7.7"
  }
 },
 "nbformat": 4,
 "nbformat_minor": 2
}
