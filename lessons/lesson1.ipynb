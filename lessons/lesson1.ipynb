{
 "cells": [
  {
   "cell_type": "markdown",
   "metadata": {},
   "source": [
    "# Lesson 1 : scaler and count\n",
    "\n",
    "In this lesson, we'll work with a scaler (devices that counts pulses emitted from one or more pulse-emitting ***detector*** electronics) and use this to make a first lesson in using [Bluesky](http://nsls-ii.github.io/bluesky/) and [related tools](http://nsls-ii.github.io/).\n",
    "\n",
    "First, we'll show how to start a Jupyter notebook.  Next, we'll connect with an EPICS scaler (using [ophyd](http://nsls-ii.github.io/ophyd/)), and then use the Bluesky software to count from the scaler.\n",
    "\n",
    "\n",
    "**note**:  This tutorial expects to find an EPICS IOC on the local network configured as a synApps [`xxx`](https://github.com/epics-modules/xxx) IOC with prefix `sky:`.  A docker container is available to provide this IOC.  See this URL for instructions:  https://github.com/prjemian/epics-docker/blob/master/n3_synApps/README.md\n",
    "\n",
    "\n",
    "## Starting this session in a Jupyter notebook\n",
    "\n",
    "This session was started from the linux command line:\n",
    "\n",
    "```\n",
    "jemian@otz ~ $ source /APSshare/anaconda3/Bluesky/bin/activate \n",
    "(base) jemian@otz ~ $ jupyter-notebook \n",
    "```\n",
    "\n",
    "This command produced the following console output and then started my default web browser with a one-time-token-authenticated connection to the Jupyter Notebook server (still running in the console):\n",
    "\n",
    "```\n",
    "[I 15:16:57.546 NotebookApp] Serving notebooks from local directory: /home/oxygen18/JEMIAN\n",
    "[I 15:16:57.546 NotebookApp] 0 active kernels\n",
    "[I 15:16:57.546 NotebookApp] The Jupyter Notebook is running at:\n",
    "[I 15:16:57.546 NotebookApp] http://localhost:8888/?token=e6a7584762c731a7c64f8f71246b3e616d779f7b4852c9d9\n",
    "[I 15:16:57.546 NotebookApp] Use Control-C to stop this server and shut down all kernels (twice to skip confirmation).\n",
    "[C 15:16:57.547 NotebookApp] \n",
    "    \n",
    "    Copy/paste this URL into your browser when you connect for the first time,\n",
    "    to login with a token:\n",
    "        http://localhost:8888/?token=e6a7584762c731a7c64f8f71246b3e616d779f7b4852c9d9\n",
    "[I 15:17:00.863 NotebookApp] Accepting one-time-token-authenticated connection from ::1\n",
    "```\n",
    "\n",
    "Next, found the **New** drop-down menu button (top right, below the **Lougout** button) and selected *Python 3* to start a new notebook page using a Python 3 shell (the only kind available here).\n",
    "\n",
    "Finally, from the **File** menu in the jupyter notebook (in the browser), selected *Rename ...* to save the *Untitled* notebook with the name *lesson1* (default extension is `.ipynb`)."
   ]
  },
  {
   "cell_type": "markdown",
   "metadata": {},
   "source": [
    "## Connect an EPICS scaler\n",
    "\n",
    "I have a synApps (v6.1) *XXX*-style IOC with the prefix `sky:`.  It has a [scaler](https://htmlpreview.github.io/?https://raw.githubusercontent.com/epics-modules/std/R3-4-1/documentation/scalerRecord.html), 16 soft channel [motor](https://github.com/epics-modules/motor)s, and some other support we'll ignore in lesson 1.\n",
    "\n",
    "The scaler is `sky:scaler1`.  We'll connect to that first.  To make the connection, we need to import the [`ScalerCH`](http://nsls-ii.github.io/ophyd/builtin-devices.html#epicsscaler) device from the [`ophyd.scaler`](http://nsls-ii.github.io/ophyd/) library."
   ]
  },
  {
   "cell_type": "code",
   "execution_count": 1,
   "metadata": {},
   "outputs": [],
   "source": [
    "from ophyd.scaler import ScalerCH"
   ]
  },
  {
   "cell_type": "markdown",
   "metadata": {},
   "source": [
    "Now we can create the scaler object we'll use as a detector."
   ]
  },
  {
   "cell_type": "code",
   "execution_count": 2,
   "metadata": {},
   "outputs": [],
   "source": [
    "scaler = ScalerCH(\"sky:scaler1\", name=\"scaler\")"
   ]
  },
  {
   "cell_type": "markdown",
   "metadata": {},
   "source": [
    "In a script or program, we should wait for that to connect with EPICS."
   ]
  },
  {
   "cell_type": "code",
   "execution_count": 3,
   "metadata": {},
   "outputs": [],
   "source": [
    "scaler.wait_for_connection()"
   ]
  },
  {
   "cell_type": "markdown",
   "metadata": {},
   "source": [
    "Let's test that connection by asking the scaler to read its values from EPICS."
   ]
  },
  {
   "cell_type": "code",
   "execution_count": 4,
   "metadata": {},
   "outputs": [
    {
     "data": {
      "text/plain": [
       "OrderedDict([('clock', {'value': 16000000.0, 'timestamp': 1588796563.657101}),\n",
       "             ('I0', {'value': 10.0, 'timestamp': 1588796563.657101}),\n",
       "             ('scint', {'value': 8.0, 'timestamp': 1588796563.657101}),\n",
       "             ('diode', {'value': 6.0, 'timestamp': 1588796563.657101}),\n",
       "             ('', {'value': 0.0, 'timestamp': 1588796563.657101}),\n",
       "             ('roi1', {'value': 6.0, 'timestamp': 1588796563.657101}),\n",
       "             ('I0Mon', {'value': 9.0, 'timestamp': 1588796563.657101}),\n",
       "             ('ROI1', {'value': 0.0, 'timestamp': 1588796563.657101}),\n",
       "             ('ROI2', {'value': 0.0, 'timestamp': 1588796563.657101}),\n",
       "             ('scaler_time', {'value': 1.6, 'timestamp': 1588796563.657101})])"
      ]
     },
     "execution_count": 4,
     "metadata": {},
     "output_type": "execute_result"
    }
   ],
   "source": [
    "scaler.read()"
   ]
  },
  {
   "cell_type": "markdown",
   "metadata": {},
   "source": [
    "By default, the ophyd `ScalerCH` object shows data for only the channels with names defined in EPICS.  Except for one channel (probably a bug in the `ScalerCH` code).  To fix that, we'll load another support library.  (Loading additional support as we need it will be a common theme in these lessons.  Rather than loading all the libraries first, as is common in python code files, we'll load support code as the need arises.)\n",
    "\n",
    "The new support code is `use_EPICS_scaler_channels` from [`apstools.devices`](http://apstools.readthedocs.io/en/latest/source_code/devices.html#apstools.devices.use_EPICS_scaler_channels)."
   ]
  },
  {
   "cell_type": "markdown",
   "metadata": {},
   "source": [
    "Our scaler only has a few channels in use (that is, channels where the name of the channel has been specified in the GUI screen).  Let's focus on just those channels.\n",
    "\n",
    "To read just the *named* channels, we'll load an additional support library.  (Loading additional support as we need it will be a common theme in these lessons.  Rather than loading all the libraries first, as is common in python code files, we'll load support code as the need arises.)\n",
    "\n",
    "The new support code is `use_EPICS_scaler_channels` from [`apstools.devices`](http://apstools.readthedocs.io/en/latest/source_code/devices.html#apstools.devices.use_EPICS_scaler_channels)."
   ]
  },
  {
   "cell_type": "code",
   "execution_count": 5,
   "metadata": {},
   "outputs": [],
   "source": [
    "from apstools.devices import use_EPICS_scaler_channels"
   ]
  },
  {
   "cell_type": "markdown",
   "metadata": {},
   "source": [
    "That is a utility function that will modify our `scaler` so it only reports the named channels (edits out the one empty named channel).  Now the report is succinct."
   ]
  },
  {
   "cell_type": "code",
   "execution_count": 6,
   "metadata": {},
   "outputs": [
    {
     "data": {
      "text/plain": [
       "OrderedDict([('clock', {'value': 16000000.0, 'timestamp': 1588796563.657101}),\n",
       "             ('I0', {'value': 10.0, 'timestamp': 1588796563.657101}),\n",
       "             ('scint', {'value': 8.0, 'timestamp': 1588796563.657101}),\n",
       "             ('diode', {'value': 6.0, 'timestamp': 1588796563.657101}),\n",
       "             ('roi1', {'value': 6.0, 'timestamp': 1588796563.657101}),\n",
       "             ('I0Mon', {'value': 9.0, 'timestamp': 1588796563.657101}),\n",
       "             ('ROI1', {'value': 0.0, 'timestamp': 1588796563.657101}),\n",
       "             ('ROI2', {'value': 0.0, 'timestamp': 1588796563.657101}),\n",
       "             ('scaler_time', {'value': 1.6, 'timestamp': 1588796563.657101})])"
      ]
     },
     "execution_count": 6,
     "metadata": {},
     "output_type": "execute_result"
    }
   ],
   "source": [
    "scaler.match_names()\n",
    "use_EPICS_scaler_channels(scaler)\n",
    "scaler.read()"
   ]
  },
  {
   "cell_type": "markdown",
   "metadata": {},
   "source": [
    "If you want to change the name fields on any of the scaler channels from the command line, follow this example."
   ]
  },
  {
   "cell_type": "code",
   "execution_count": 7,
   "metadata": {},
   "outputs": [],
   "source": [
    "scaler.channels.chan04.chname.put(\"scint\")\n",
    "scaler.channels.chan07.chname.put(\"roi1\")"
   ]
  },
  {
   "cell_type": "markdown",
   "metadata": {},
   "source": [
    "Then, update the `scaler` object for these channels."
   ]
  },
  {
   "cell_type": "code",
   "execution_count": 8,
   "metadata": {},
   "outputs": [
    {
     "data": {
      "text/plain": [
       "OrderedDict([('clock', {'value': 16000000.0, 'timestamp': 1588796563.657101}),\n",
       "             ('I0', {'value': 10.0, 'timestamp': 1588796563.657101}),\n",
       "             ('scint', {'value': 8.0, 'timestamp': 1588796563.657101}),\n",
       "             ('diode', {'value': 6.0, 'timestamp': 1588796563.657101}),\n",
       "             ('roi1', {'value': 6.0, 'timestamp': 1588796563.657101}),\n",
       "             ('I0Mon', {'value': 9.0, 'timestamp': 1588796563.657101}),\n",
       "             ('ROI1', {'value': 0.0, 'timestamp': 1588796563.657101}),\n",
       "             ('ROI2', {'value': 0.0, 'timestamp': 1588796563.657101}),\n",
       "             ('scaler_time', {'value': 1.6, 'timestamp': 1588796563.657101})])"
      ]
     },
     "execution_count": 8,
     "metadata": {},
     "output_type": "execute_result"
    }
   ],
   "source": [
    "scaler.match_names()\n",
    "use_EPICS_scaler_channels(scaler)\n",
    "scaler.read()"
   ]
  },
  {
   "cell_type": "markdown",
   "metadata": {},
   "source": [
    "## Get, then Set the count time on the scaler\n",
    "\n",
    "The preset counting time (`.TP`) is one of the many fields of the EPICS scaler record.  It is available as `scaler.preset_time` in this scaler object.  We can inspect this:"
   ]
  },
  {
   "cell_type": "code",
   "execution_count": 9,
   "metadata": {},
   "outputs": [
    {
     "data": {
      "text/plain": [
       "EpicsSignal(read_pv='sky:scaler1.TP', name='scaler_preset_time', parent='scaler', timestamp=1588796563.657101, tolerance=0.001, auto_monitor=False, string=False, write_pv='sky:scaler1.TP', limits=False, put_complete=False)"
      ]
     },
     "execution_count": 9,
     "metadata": {},
     "output_type": "execute_result"
    }
   ],
   "source": [
    "scaler.preset_time"
   ]
  },
  {
   "cell_type": "markdown",
   "metadata": {},
   "source": [
    "Since `scaler.preset_time` is an [`EpicsSignal`](https://github.com/NSLS-II/ophyd/blob/master/ophyd/signal.py#L647), ([Signal](http://nsls-ii.github.io/ophyd/signals.html) is a fundamental ophyd structure), we print its `.value`."
   ]
  },
  {
   "cell_type": "code",
   "execution_count": 10,
   "metadata": {},
   "outputs": [
    {
     "data": {
      "text/plain": [
       "1.5"
      ]
     },
     "execution_count": 10,
     "metadata": {},
     "output_type": "execute_result"
    }
   ],
   "source": [
    "scaler.preset_time.get()"
   ]
  },
  {
   "cell_type": "markdown",
   "metadata": {},
   "source": [
    "Set the scaler to count for 1.5 seconds once it is told to count.  We'll count it next."
   ]
  },
  {
   "cell_type": "code",
   "execution_count": 11,
   "metadata": {},
   "outputs": [],
   "source": [
    "scaler.preset_time.put(1.5)"
   ]
  },
  {
   "cell_type": "markdown",
   "metadata": {},
   "source": [
    "Note, to tell the scaler to count, we put a 1 to its `.CNT` field."
   ]
  },
  {
   "cell_type": "code",
   "execution_count": 12,
   "metadata": {},
   "outputs": [],
   "source": [
    "scaler.count.put(1)"
   ]
  },
  {
   "cell_type": "markdown",
   "metadata": {},
   "source": [
    "Now, read the scaler again.  This scaler is not very interesting since it is not connected to any hardware.  But, the timestamps have changed."
   ]
  },
  {
   "cell_type": "code",
   "execution_count": 13,
   "metadata": {},
   "outputs": [
    {
     "data": {
      "text/plain": [
       "OrderedDict([('clock', {'value': 0.0, 'timestamp': 1588796563.657101}),\n",
       "             ('I0', {'value': 0.0, 'timestamp': 1588796563.657101}),\n",
       "             ('scint', {'value': 0.0, 'timestamp': 1588796563.657101}),\n",
       "             ('diode', {'value': 0.0, 'timestamp': 1588796563.657101}),\n",
       "             ('roi1', {'value': 0.0, 'timestamp': 1588796563.657101}),\n",
       "             ('I0Mon', {'value': 0.0, 'timestamp': 1588796563.657101}),\n",
       "             ('ROI1', {'value': 0.0, 'timestamp': 1588796563.657101}),\n",
       "             ('ROI2', {'value': 0.0, 'timestamp': 1588796563.657101}),\n",
       "             ('scaler_time', {'value': 0.0, 'timestamp': 1588796563.657101})])"
      ]
     },
     "execution_count": 13,
     "metadata": {},
     "output_type": "execute_result"
    }
   ],
   "source": [
    "scaler.read()"
   ]
  },
  {
   "cell_type": "markdown",
   "metadata": {},
   "source": [
    "## Use Bluesky to count the scaler\n",
    "\n",
    "So far, we have used ophyd to talk with the EPICS scaler.  Let's start to use Bluesky.  We need to load support to start the Bluesky [*RunEngine*](http://nsls-ii.github.io/bluesky/tutorial.html#the-runengine).  For now, we'll use the most basic configuration (does not save data anywhere).  \n",
    "\n",
    "The job of the RunEngine is to process command messages (our data acquisition commands) and to output documents (the data to be acquired).  Initially, we'll use predefined data acquisition sequences (called [*plans*](http://nsls-ii.github.io/bluesky/plans.html)) and ignore the [documents](http://nsls-ii.github.io/bluesky/documents.html)."
   ]
  },
  {
   "cell_type": "code",
   "execution_count": 14,
   "metadata": {},
   "outputs": [],
   "source": [
    "from bluesky import RunEngine\n",
    "RE = RunEngine({})"
   ]
  },
  {
   "cell_type": "markdown",
   "metadata": {},
   "source": [
    "Next, we'll load a library with many [predefined plans](http://nsls-ii.github.io/bluesky/plans.html#summary).  The first plan we want to use is [`count()`](http://nsls-ii.github.io/bluesky/generated/bluesky.plans.count.html#bluesky.plans.count).  By the way, we'll use a python feature to rename `bluesky.plans` to the shorter `bp` since it will be used a lot."
   ]
  },
  {
   "cell_type": "code",
   "execution_count": 15,
   "metadata": {},
   "outputs": [],
   "source": [
    "import bluesky.plans as bp"
   ]
  },
  {
   "cell_type": "markdown",
   "metadata": {},
   "source": [
    "Now we can count the `scaler` by submitting the `bp.count` plan to the RunEngine instance `RE`.  The `bp.count()` plan takes one argument, a *list* of countable objects (just in case you want to count more than one detector at the same time).  Our list has only one object: `scaler`"
   ]
  },
  {
   "cell_type": "code",
   "execution_count": 16,
   "metadata": {},
   "outputs": [
    {
     "data": {
      "text/plain": [
       "('4989dcc9-d380-425f-a1cb-5e7dd314bd97',)"
      ]
     },
     "execution_count": 16,
     "metadata": {},
     "output_type": "execute_result"
    }
   ],
   "source": [
    "RE(bp.count([scaler]))"
   ]
  },
  {
   "cell_type": "markdown",
   "metadata": {},
   "source": [
    "The final result from submitting a plan to the RunEngine is an identifier of the sequence of documents.  Since we did not capture that sequence, we can't view it or access it in any way.  Let's *fix* that next."
   ]
  },
  {
   "cell_type": "markdown",
   "metadata": {},
   "source": [
    "### Report about the documents emitted from the RunEngine\n",
    "\n",
    "To display information about the documents emitted from the RunEngine, we need to make a function that will receive the documents.  \n",
    "\n",
    "In Bluesky terms, this type of function is a *callback*.  It takes two arguments.  The first argument is a `str` that tells what kind of document is coming, the second is a python dictionary with the document's contents.  We'll start by printing summary information.  We then submit the plan again with the name of our callback function as a second argument (not to `bp.count` but as a second argument to `RE()`)."
   ]
  },
  {
   "cell_type": "code",
   "execution_count": 17,
   "metadata": {},
   "outputs": [],
   "source": [
    "def myCallbackBrief(key, doc):\n",
    "    print(key, len(doc))"
   ]
  },
  {
   "cell_type": "code",
   "execution_count": 18,
   "metadata": {},
   "outputs": [
    {
     "name": "stdout",
     "output_type": "stream",
     "text": [
      "start 11\n",
      "descriptor 8\n",
      "event 7\n",
      "stop 6\n"
     ]
    },
    {
     "data": {
      "text/plain": [
       "('e94e8360-3551-4983-a296-49c5392e85ba',)"
      ]
     },
     "execution_count": 18,
     "metadata": {},
     "output_type": "execute_result"
    }
   ],
   "source": [
    "RE(bp.count([scaler]), myCallbackBrief)"
   ]
  },
  {
   "cell_type": "markdown",
   "metadata": {},
   "source": [
    "So, there were four documents.  See http://nsls-ii.github.io/bluesky/documents.html for the details of each.  Let's extend our callback to print the details of each."
   ]
  },
  {
   "cell_type": "code",
   "execution_count": 19,
   "metadata": {},
   "outputs": [],
   "source": [
    "def myCallback(key, doc):\n",
    "    print(key, len(doc))\n",
    "    for k, v in doc.items():\n",
    "        print(\"\\t\", k, v)\n",
    "    print(\"~~~~~~~~~~~~~~~~~\")"
   ]
  },
  {
   "cell_type": "code",
   "execution_count": 20,
   "metadata": {},
   "outputs": [
    {
     "name": "stdout",
     "output_type": "stream",
     "text": [
      "start 11\n",
      "\t uid 32396261-2a54-4865-a2e2-812279850f1b\n",
      "\t time 1588796608.7243698\n",
      "\t versions {'ophyd': '1.5.0', 'bluesky': '1.6.0'}\n",
      "\t scan_id 3\n",
      "\t plan_type generator\n",
      "\t plan_name count\n",
      "\t detectors ['scaler']\n",
      "\t num_points 1\n",
      "\t num_intervals 0\n",
      "\t plan_args {'detectors': [\"ScalerCH(prefix='sky:scaler1', name='scaler', read_attrs=['channels', 'channels.chan01', 'channels.chan01.s', 'channels.chan02', 'channels.chan02.s', 'channels.chan03', 'channels.chan03.s', 'channels.chan04', 'channels.chan04.s', 'channels.chan05', 'channels.chan05.s', 'channels.chan07', 'channels.chan07.s', 'channels.chan08', 'channels.chan08.s', 'channels.chan10', 'channels.chan10.s', 'channels.chan11', 'channels.chan11.s', 'time'], configuration_attrs=['channels', 'channels.chan01', 'channels.chan01.chname', 'channels.chan02', 'channels.chan02.chname', 'channels.chan02.preset', 'channels.chan03', 'channels.chan03.chname', 'channels.chan04', 'channels.chan04.gate', 'channels.chan05', 'channels.chan05.preset', 'channels.chan07', 'channels.chan07.preset', 'channels.chan08', 'channels.chan08.chname', 'channels.chan10', 'channels.chan10.chname', 'channels.chan11', 'channels.chan11.chname', 'count_mode', 'delay', 'auto_count_delay', 'freq', 'preset_time', 'auto_count_time', 'egu'])\"], 'num': 1}\n",
      "\t hints {'dimensions': [(('time',), 'primary')]}\n",
      "~~~~~~~~~~~~~~~~~\n",
      "descriptor 8\n",
      "\t run_start 32396261-2a54-4865-a2e2-812279850f1b\n",
      "\t time 1588796610.5079522\n",
      "\t data_keys {'clock': {'source': 'PV:sky:scaler1.S1', 'dtype': 'number', 'shape': [], 'units': '', 'lower_ctrl_limit': 0.0, 'upper_ctrl_limit': 0.0, 'precision': 0, 'object_name': 'scaler'}, 'I0': {'source': 'PV:sky:scaler1.S2', 'dtype': 'number', 'shape': [], 'units': '', 'lower_ctrl_limit': 0.0, 'upper_ctrl_limit': 0.0, 'precision': 0, 'object_name': 'scaler'}, 'scint': {'source': 'PV:sky:scaler1.S4', 'dtype': 'number', 'shape': [], 'units': '', 'lower_ctrl_limit': 0.0, 'upper_ctrl_limit': 0.0, 'precision': 0, 'object_name': 'scaler'}, 'diode': {'source': 'PV:sky:scaler1.S5', 'dtype': 'number', 'shape': [], 'units': '', 'lower_ctrl_limit': 0.0, 'upper_ctrl_limit': 0.0, 'precision': 0, 'object_name': 'scaler'}, 'roi1': {'source': 'PV:sky:scaler1.S7', 'dtype': 'number', 'shape': [], 'units': '', 'lower_ctrl_limit': 0.0, 'upper_ctrl_limit': 0.0, 'precision': 0, 'object_name': 'scaler'}, 'I0Mon': {'source': 'PV:sky:scaler1.S8', 'dtype': 'number', 'shape': [], 'units': '', 'lower_ctrl_limit': 0.0, 'upper_ctrl_limit': 0.0, 'precision': 0, 'object_name': 'scaler'}, 'ROI1': {'source': 'PV:sky:scaler1.S10', 'dtype': 'number', 'shape': [], 'units': '', 'lower_ctrl_limit': 0.0, 'upper_ctrl_limit': 0.0, 'precision': 0, 'object_name': 'scaler'}, 'ROI2': {'source': 'PV:sky:scaler1.S11', 'dtype': 'number', 'shape': [], 'units': '', 'lower_ctrl_limit': 0.0, 'upper_ctrl_limit': 0.0, 'precision': 0, 'object_name': 'scaler'}, 'scaler_time': {'source': 'PV:sky:scaler1.T', 'dtype': 'number', 'shape': [], 'units': '', 'lower_ctrl_limit': 0.0, 'upper_ctrl_limit': 0.0, 'precision': 3, 'object_name': 'scaler'}}\n",
      "\t uid ad88ec0b-33fd-4813-b413-90a27efc328e\n",
      "\t configuration {'scaler': {'data': {'scaler_channels_chan01_chname': 'clock', 'scaler_channels_chan02_chname': 'I0', 'scaler_channels_chan02_preset': 0.0, 'scaler_channels_chan03_chname': 'scint', 'scaler_channels_chan04_gate': 'N', 'scaler_channels_chan05_preset': 0.0, 'scaler_channels_chan07_preset': 0.0, 'scaler_channels_chan08_chname': 'I0Mon', 'scaler_channels_chan10_chname': 'ROI1', 'scaler_channels_chan11_chname': 'ROI2', 'scaler_count_mode': 'OneShot', 'scaler_delay': 0.0, 'scaler_auto_count_delay': 0.0, 'scaler_freq': 10000000.0, 'scaler_preset_time': 1.5, 'scaler_auto_count_time': 1.0, 'scaler_egu': ''}, 'timestamps': {'scaler_channels_chan01_chname': 1588796610.485527, 'scaler_channels_chan02_chname': 1588796610.485527, 'scaler_channels_chan02_preset': 1588796610.485527, 'scaler_channels_chan03_chname': 1588796610.485527, 'scaler_channels_chan04_gate': 1588796610.485527, 'scaler_channels_chan05_preset': 1588796610.485527, 'scaler_channels_chan07_preset': 1588796610.485527, 'scaler_channels_chan08_chname': 1588796610.485527, 'scaler_channels_chan10_chname': 1588796610.485527, 'scaler_channels_chan11_chname': 1588796610.485527, 'scaler_count_mode': 1588796610.485527, 'scaler_delay': 1588796610.485527, 'scaler_auto_count_delay': 1588796610.485527, 'scaler_freq': 1588796610.485527, 'scaler_preset_time': 1588796610.485527, 'scaler_auto_count_time': 1588796610.485527, 'scaler_egu': 1588796610.485527}, 'data_keys': OrderedDict([('scaler_channels_chan01_chname', {'source': 'PV:sky:scaler1.NM1', 'dtype': 'string', 'shape': [], 'units': None, 'lower_ctrl_limit': None, 'upper_ctrl_limit': None}), ('scaler_channels_chan02_chname', {'source': 'PV:sky:scaler1.NM2', 'dtype': 'string', 'shape': [], 'units': None, 'lower_ctrl_limit': None, 'upper_ctrl_limit': None}), ('scaler_channels_chan02_preset', {'source': 'PV:sky:scaler1.PR2', 'dtype': 'number', 'shape': [], 'units': '', 'lower_ctrl_limit': 0.0, 'upper_ctrl_limit': 0.0, 'precision': 0}), ('scaler_channels_chan03_chname', {'source': 'PV:sky:scaler1.NM3', 'dtype': 'string', 'shape': [], 'units': None, 'lower_ctrl_limit': None, 'upper_ctrl_limit': None}), ('scaler_channels_chan04_gate', {'source': 'PV:sky:scaler1.G4', 'dtype': 'string', 'shape': [], 'units': None, 'lower_ctrl_limit': None, 'upper_ctrl_limit': None, 'enum_strs': ('N', 'Y')}), ('scaler_channels_chan05_preset', {'source': 'PV:sky:scaler1.PR5', 'dtype': 'number', 'shape': [], 'units': '', 'lower_ctrl_limit': 0.0, 'upper_ctrl_limit': 0.0, 'precision': 0}), ('scaler_channels_chan07_preset', {'source': 'PV:sky:scaler1.PR7', 'dtype': 'number', 'shape': [], 'units': '', 'lower_ctrl_limit': 0.0, 'upper_ctrl_limit': 0.0, 'precision': 0}), ('scaler_channels_chan08_chname', {'source': 'PV:sky:scaler1.NM8', 'dtype': 'string', 'shape': [], 'units': None, 'lower_ctrl_limit': None, 'upper_ctrl_limit': None}), ('scaler_channels_chan10_chname', {'source': 'PV:sky:scaler1.NM10', 'dtype': 'string', 'shape': [], 'units': None, 'lower_ctrl_limit': None, 'upper_ctrl_limit': None}), ('scaler_channels_chan11_chname', {'source': 'PV:sky:scaler1.NM11', 'dtype': 'string', 'shape': [], 'units': None, 'lower_ctrl_limit': None, 'upper_ctrl_limit': None}), ('scaler_count_mode', {'source': 'PV:sky:scaler1.CONT', 'dtype': 'string', 'shape': [], 'units': None, 'lower_ctrl_limit': None, 'upper_ctrl_limit': None, 'enum_strs': ('OneShot', 'AutoCount')}), ('scaler_delay', {'source': 'PV:sky:scaler1.DLY', 'dtype': 'number', 'shape': [], 'units': '', 'lower_ctrl_limit': 0.0, 'upper_ctrl_limit': 0.0, 'precision': 3}), ('scaler_auto_count_delay', {'source': 'PV:sky:scaler1.DLY1', 'dtype': 'number', 'shape': [], 'units': '', 'lower_ctrl_limit': 0.0, 'upper_ctrl_limit': 0.0, 'precision': 3}), ('scaler_freq', {'source': 'PV:sky:scaler1.FREQ', 'dtype': 'number', 'shape': [], 'units': '', 'lower_ctrl_limit': 0.0, 'upper_ctrl_limit': 0.0, 'precision': 3}), ('scaler_preset_time', {'source': 'PV:sky:scaler1.TP', 'dtype': 'number', 'shape': [], 'units': '', 'lower_ctrl_limit': 0.0, 'upper_ctrl_limit': 0.0, 'precision': 3}), ('scaler_auto_count_time', {'source': 'PV:sky:scaler1.TP1', 'dtype': 'number', 'shape': [], 'units': '', 'lower_ctrl_limit': 0.0, 'upper_ctrl_limit': 0.0, 'precision': 3}), ('scaler_egu', {'source': 'PV:sky:scaler1.EGU', 'dtype': 'string', 'shape': [], 'units': None, 'lower_ctrl_limit': None, 'upper_ctrl_limit': None})])}}\n",
      "\t name primary\n",
      "\t hints {'scaler': {'fields': ['clock', 'I0', 'scint', 'scint', 'diode', 'roi1', 'I0Mon', 'ROI1', 'ROI2']}}\n",
      "\t object_keys {'scaler': ['clock', 'I0', 'scint', 'diode', 'roi1', 'I0Mon', 'ROI1', 'ROI2', 'scaler_time']}\n",
      "~~~~~~~~~~~~~~~~~\n",
      "event 7\n",
      "\t descriptor ad88ec0b-33fd-4813-b413-90a27efc328e\n",
      "\t time 1588796610.5204127\n",
      "\t data {'clock': 16000000.0, 'I0': 7.0, 'scint': 6.0, 'diode': 9.0, 'roi1': 7.0, 'I0Mon': 9.0, 'ROI1': 0.0, 'ROI2': 0.0, 'scaler_time': 1.6}\n",
      "\t timestamps {'clock': 1588796610.485527, 'I0': 1588796610.485527, 'scint': 1588796610.485527, 'diode': 1588796610.485527, 'roi1': 1588796610.485527, 'I0Mon': 1588796610.485527, 'ROI1': 1588796610.485527, 'ROI2': 1588796610.485527, 'scaler_time': 1588796610.485527}\n",
      "\t seq_num 1\n",
      "\t uid 9de6f980-9c28-4c3f-a82e-354cec5ef17c\n",
      "\t filled {}\n",
      "~~~~~~~~~~~~~~~~~\n",
      "stop 6\n",
      "\t run_start 32396261-2a54-4865-a2e2-812279850f1b\n",
      "\t time 1588796610.5232446\n",
      "\t uid b9272454-02b4-4c29-bd1a-2b29a27c0754\n",
      "\t exit_status success\n",
      "\t reason \n",
      "\t num_events {'primary': 1}\n",
      "~~~~~~~~~~~~~~~~~\n"
     ]
    },
    {
     "data": {
      "text/plain": [
       "('32396261-2a54-4865-a2e2-812279850f1b',)"
      ]
     },
     "execution_count": 20,
     "metadata": {},
     "output_type": "execute_result"
    }
   ],
   "source": [
    "RE(bp.count([scaler]), myCallback)"
   ]
  },
  {
   "cell_type": "markdown",
   "metadata": {},
   "source": [
    "With the details, we see more of what is happening.  \n",
    "\n",
    "The first document is a `start` and it says what is happening and how it will be identified.  The identifier (named `uid`) is a [UUID](https://docs.python.org/3.6/library/uuid.html) (specifically, a [uuid4](https://docs.python.org/3.6/library/uuid.html#uuid.uuid4)).  This looks tedious and random.  The one good thing is that these are unique and often can be referred to by the first few characters (6-8 are enough to be *probably* unique).  The `uid` from the `start` document is what the RunEngine reports when the scan stops.\n",
    "\n",
    "The second document is a `descriptor` and it says what, exactly, will be measured.  It also includes a reference to `start`'s `uid`.  We can follow the chain back to `start` this way.\n",
    "\n",
    "The third document is an `event` and it provides the data reading when the scaler was counted.  The data is read according to the `descriptor` document (just actual values for the *named* channels).\n",
    "\n",
    "The last document is a `stop` document that describes how things ended.  It also says there was only one stream of event documents named *primary*.\n",
    "\n",
    "Let's repeat that plan, this time asking to `count` the scaler three times.  This is the `num=3` addition to the call to `bp.count()`.  What's tricky now is keeping track of the parentheses and square braces."
   ]
  },
  {
   "cell_type": "code",
   "execution_count": 21,
   "metadata": {},
   "outputs": [
    {
     "name": "stdout",
     "output_type": "stream",
     "text": [
      "start 11\n",
      "\t uid a599bd45-89bc-48c4-9aa4-cb57988944fa\n",
      "\t time 1588796610.5611725\n",
      "\t versions {'ophyd': '1.5.0', 'bluesky': '1.6.0'}\n",
      "\t scan_id 4\n",
      "\t plan_type generator\n",
      "\t plan_name count\n",
      "\t detectors ['scaler']\n",
      "\t num_points 3\n",
      "\t num_intervals 2\n",
      "\t plan_args {'detectors': [\"ScalerCH(prefix='sky:scaler1', name='scaler', read_attrs=['channels', 'channels.chan01', 'channels.chan01.s', 'channels.chan02', 'channels.chan02.s', 'channels.chan03', 'channels.chan03.s', 'channels.chan04', 'channels.chan04.s', 'channels.chan05', 'channels.chan05.s', 'channels.chan07', 'channels.chan07.s', 'channels.chan08', 'channels.chan08.s', 'channels.chan10', 'channels.chan10.s', 'channels.chan11', 'channels.chan11.s', 'time'], configuration_attrs=['channels', 'channels.chan01', 'channels.chan01.chname', 'channels.chan02', 'channels.chan02.chname', 'channels.chan02.preset', 'channels.chan03', 'channels.chan03.chname', 'channels.chan04', 'channels.chan04.gate', 'channels.chan05', 'channels.chan05.preset', 'channels.chan07', 'channels.chan07.preset', 'channels.chan08', 'channels.chan08.chname', 'channels.chan10', 'channels.chan10.chname', 'channels.chan11', 'channels.chan11.chname', 'count_mode', 'delay', 'auto_count_delay', 'freq', 'preset_time', 'auto_count_time', 'egu'])\"], 'num': 3}\n",
      "\t hints {'dimensions': [(('time',), 'primary')]}\n",
      "~~~~~~~~~~~~~~~~~\n",
      "descriptor 8\n",
      "\t run_start a599bd45-89bc-48c4-9aa4-cb57988944fa\n",
      "\t time 1588796612.3201668\n",
      "\t data_keys {'clock': {'source': 'PV:sky:scaler1.S1', 'dtype': 'number', 'shape': [], 'units': '', 'lower_ctrl_limit': 0.0, 'upper_ctrl_limit': 0.0, 'precision': 0, 'object_name': 'scaler'}, 'I0': {'source': 'PV:sky:scaler1.S2', 'dtype': 'number', 'shape': [], 'units': '', 'lower_ctrl_limit': 0.0, 'upper_ctrl_limit': 0.0, 'precision': 0, 'object_name': 'scaler'}, 'scint': {'source': 'PV:sky:scaler1.S4', 'dtype': 'number', 'shape': [], 'units': '', 'lower_ctrl_limit': 0.0, 'upper_ctrl_limit': 0.0, 'precision': 0, 'object_name': 'scaler'}, 'diode': {'source': 'PV:sky:scaler1.S5', 'dtype': 'number', 'shape': [], 'units': '', 'lower_ctrl_limit': 0.0, 'upper_ctrl_limit': 0.0, 'precision': 0, 'object_name': 'scaler'}, 'roi1': {'source': 'PV:sky:scaler1.S7', 'dtype': 'number', 'shape': [], 'units': '', 'lower_ctrl_limit': 0.0, 'upper_ctrl_limit': 0.0, 'precision': 0, 'object_name': 'scaler'}, 'I0Mon': {'source': 'PV:sky:scaler1.S8', 'dtype': 'number', 'shape': [], 'units': '', 'lower_ctrl_limit': 0.0, 'upper_ctrl_limit': 0.0, 'precision': 0, 'object_name': 'scaler'}, 'ROI1': {'source': 'PV:sky:scaler1.S10', 'dtype': 'number', 'shape': [], 'units': '', 'lower_ctrl_limit': 0.0, 'upper_ctrl_limit': 0.0, 'precision': 0, 'object_name': 'scaler'}, 'ROI2': {'source': 'PV:sky:scaler1.S11', 'dtype': 'number', 'shape': [], 'units': '', 'lower_ctrl_limit': 0.0, 'upper_ctrl_limit': 0.0, 'precision': 0, 'object_name': 'scaler'}, 'scaler_time': {'source': 'PV:sky:scaler1.T', 'dtype': 'number', 'shape': [], 'units': '', 'lower_ctrl_limit': 0.0, 'upper_ctrl_limit': 0.0, 'precision': 3, 'object_name': 'scaler'}}\n",
      "\t uid 75f59f6e-ed55-43ce-b88b-2cd10b431f1f\n",
      "\t configuration {'scaler': {'data': {'scaler_channels_chan01_chname': 'clock', 'scaler_channels_chan02_chname': 'I0', 'scaler_channels_chan02_preset': 0.0, 'scaler_channels_chan03_chname': 'scint', 'scaler_channels_chan04_gate': 'N', 'scaler_channels_chan05_preset': 0.0, 'scaler_channels_chan07_preset': 0.0, 'scaler_channels_chan08_chname': 'I0Mon', 'scaler_channels_chan10_chname': 'ROI1', 'scaler_channels_chan11_chname': 'ROI2', 'scaler_count_mode': 'OneShot', 'scaler_delay': 0.0, 'scaler_auto_count_delay': 0.0, 'scaler_freq': 10000000.0, 'scaler_preset_time': 1.5, 'scaler_auto_count_time': 1.0, 'scaler_egu': ''}, 'timestamps': {'scaler_channels_chan01_chname': 1588796612.309148, 'scaler_channels_chan02_chname': 1588796612.309148, 'scaler_channels_chan02_preset': 1588796612.309148, 'scaler_channels_chan03_chname': 1588796612.309148, 'scaler_channels_chan04_gate': 1588796612.309148, 'scaler_channels_chan05_preset': 1588796612.309148, 'scaler_channels_chan07_preset': 1588796612.309148, 'scaler_channels_chan08_chname': 1588796612.309148, 'scaler_channels_chan10_chname': 1588796612.309148, 'scaler_channels_chan11_chname': 1588796612.309148, 'scaler_count_mode': 1588796612.309148, 'scaler_delay': 1588796612.309148, 'scaler_auto_count_delay': 1588796612.309148, 'scaler_freq': 1588796612.309148, 'scaler_preset_time': 1588796612.309148, 'scaler_auto_count_time': 1588796612.309148, 'scaler_egu': 1588796612.309148}, 'data_keys': OrderedDict([('scaler_channels_chan01_chname', {'source': 'PV:sky:scaler1.NM1', 'dtype': 'string', 'shape': [], 'units': None, 'lower_ctrl_limit': None, 'upper_ctrl_limit': None}), ('scaler_channels_chan02_chname', {'source': 'PV:sky:scaler1.NM2', 'dtype': 'string', 'shape': [], 'units': None, 'lower_ctrl_limit': None, 'upper_ctrl_limit': None}), ('scaler_channels_chan02_preset', {'source': 'PV:sky:scaler1.PR2', 'dtype': 'number', 'shape': [], 'units': '', 'lower_ctrl_limit': 0.0, 'upper_ctrl_limit': 0.0, 'precision': 0}), ('scaler_channels_chan03_chname', {'source': 'PV:sky:scaler1.NM3', 'dtype': 'string', 'shape': [], 'units': None, 'lower_ctrl_limit': None, 'upper_ctrl_limit': None}), ('scaler_channels_chan04_gate', {'source': 'PV:sky:scaler1.G4', 'dtype': 'string', 'shape': [], 'units': None, 'lower_ctrl_limit': None, 'upper_ctrl_limit': None, 'enum_strs': ('N', 'Y')}), ('scaler_channels_chan05_preset', {'source': 'PV:sky:scaler1.PR5', 'dtype': 'number', 'shape': [], 'units': '', 'lower_ctrl_limit': 0.0, 'upper_ctrl_limit': 0.0, 'precision': 0}), ('scaler_channels_chan07_preset', {'source': 'PV:sky:scaler1.PR7', 'dtype': 'number', 'shape': [], 'units': '', 'lower_ctrl_limit': 0.0, 'upper_ctrl_limit': 0.0, 'precision': 0}), ('scaler_channels_chan08_chname', {'source': 'PV:sky:scaler1.NM8', 'dtype': 'string', 'shape': [], 'units': None, 'lower_ctrl_limit': None, 'upper_ctrl_limit': None}), ('scaler_channels_chan10_chname', {'source': 'PV:sky:scaler1.NM10', 'dtype': 'string', 'shape': [], 'units': None, 'lower_ctrl_limit': None, 'upper_ctrl_limit': None}), ('scaler_channels_chan11_chname', {'source': 'PV:sky:scaler1.NM11', 'dtype': 'string', 'shape': [], 'units': None, 'lower_ctrl_limit': None, 'upper_ctrl_limit': None}), ('scaler_count_mode', {'source': 'PV:sky:scaler1.CONT', 'dtype': 'string', 'shape': [], 'units': None, 'lower_ctrl_limit': None, 'upper_ctrl_limit': None, 'enum_strs': ('OneShot', 'AutoCount')}), ('scaler_delay', {'source': 'PV:sky:scaler1.DLY', 'dtype': 'number', 'shape': [], 'units': '', 'lower_ctrl_limit': 0.0, 'upper_ctrl_limit': 0.0, 'precision': 3}), ('scaler_auto_count_delay', {'source': 'PV:sky:scaler1.DLY1', 'dtype': 'number', 'shape': [], 'units': '', 'lower_ctrl_limit': 0.0, 'upper_ctrl_limit': 0.0, 'precision': 3}), ('scaler_freq', {'source': 'PV:sky:scaler1.FREQ', 'dtype': 'number', 'shape': [], 'units': '', 'lower_ctrl_limit': 0.0, 'upper_ctrl_limit': 0.0, 'precision': 3}), ('scaler_preset_time', {'source': 'PV:sky:scaler1.TP', 'dtype': 'number', 'shape': [], 'units': '', 'lower_ctrl_limit': 0.0, 'upper_ctrl_limit': 0.0, 'precision': 3}), ('scaler_auto_count_time', {'source': 'PV:sky:scaler1.TP1', 'dtype': 'number', 'shape': [], 'units': '', 'lower_ctrl_limit': 0.0, 'upper_ctrl_limit': 0.0, 'precision': 3}), ('scaler_egu', {'source': 'PV:sky:scaler1.EGU', 'dtype': 'string', 'shape': [], 'units': None, 'lower_ctrl_limit': None, 'upper_ctrl_limit': None})])}}\n",
      "\t name primary\n",
      "\t hints {'scaler': {'fields': ['clock', 'I0', 'scint', 'scint', 'diode', 'roi1', 'I0Mon', 'ROI1', 'ROI2']}}\n",
      "\t object_keys {'scaler': ['clock', 'I0', 'scint', 'diode', 'roi1', 'I0Mon', 'ROI1', 'ROI2', 'scaler_time']}\n",
      "~~~~~~~~~~~~~~~~~\n",
      "event 7\n",
      "\t descriptor 75f59f6e-ed55-43ce-b88b-2cd10b431f1f\n",
      "\t time 1588796612.3257906\n",
      "\t data {'clock': 16000000.0, 'I0': 7.0, 'scint': 7.0, 'diode': 7.0, 'roi1': 7.0, 'I0Mon': 6.0, 'ROI1': 0.0, 'ROI2': 0.0, 'scaler_time': 1.6}\n",
      "\t timestamps {'clock': 1588796612.309148, 'I0': 1588796612.309148, 'scint': 1588796612.309148, 'diode': 1588796612.309148, 'roi1': 1588796612.309148, 'I0Mon': 1588796612.309148, 'ROI1': 1588796612.309148, 'ROI2': 1588796612.309148, 'scaler_time': 1588796612.309148}\n",
      "\t seq_num 1\n",
      "\t uid b8336db3-9d75-4c6f-9e47-b74f1b783b22\n",
      "\t filled {}\n",
      "~~~~~~~~~~~~~~~~~\n"
     ]
    },
    {
     "name": "stdout",
     "output_type": "stream",
     "text": [
      "event 7\n",
      "\t descriptor 75f59f6e-ed55-43ce-b88b-2cd10b431f1f\n",
      "\t time 1588796613.9632955\n",
      "\t data {'clock': 16000000.0, 'I0': 8.0, 'scint': 7.0, 'diode': 8.0, 'roi1': 8.0, 'I0Mon': 7.0, 'ROI1': 0.0, 'ROI2': 0.0, 'scaler_time': 1.6}\n",
      "\t timestamps {'clock': 1588796613.958025, 'I0': 1588796613.958025, 'scint': 1588796613.958025, 'diode': 1588796613.958025, 'roi1': 1588796613.958025, 'I0Mon': 1588796613.958025, 'ROI1': 1588796613.958025, 'ROI2': 1588796613.958025, 'scaler_time': 1588796613.958025}\n",
      "\t seq_num 2\n",
      "\t uid 09c1f765-5a12-435c-adf9-3984dbd5a74b\n",
      "\t filled {}\n",
      "~~~~~~~~~~~~~~~~~\n",
      "event 7\n",
      "\t descriptor 75f59f6e-ed55-43ce-b88b-2cd10b431f1f\n",
      "\t time 1588796615.711435\n",
      "\t data {'clock': 15000000.0, 'I0': 7.0, 'scint': 8.0, 'diode': 6.0, 'roi1': 7.0, 'I0Mon': 7.0, 'ROI1': 0.0, 'ROI2': 0.0, 'scaler_time': 1.5}\n",
      "\t timestamps {'clock': 1588796615.706006, 'I0': 1588796615.706006, 'scint': 1588796615.706006, 'diode': 1588796615.706006, 'roi1': 1588796615.706006, 'I0Mon': 1588796615.706006, 'ROI1': 1588796615.706006, 'ROI2': 1588796615.706006, 'scaler_time': 1588796615.706006}\n",
      "\t seq_num 3\n",
      "\t uid e1bf721a-eb43-42d7-95b1-97dac248c214\n",
      "\t filled {}\n",
      "~~~~~~~~~~~~~~~~~\n",
      "stop 6\n",
      "\t run_start a599bd45-89bc-48c4-9aa4-cb57988944fa\n",
      "\t time 1588796615.7134225\n",
      "\t uid 1312c713-00f3-473b-8e15-3e2858cb9481\n",
      "\t exit_status success\n",
      "\t reason \n",
      "\t num_events {'primary': 3}\n",
      "~~~~~~~~~~~~~~~~~\n"
     ]
    },
    {
     "data": {
      "text/plain": [
       "('a599bd45-89bc-48c4-9aa4-cb57988944fa',)"
      ]
     },
     "execution_count": 21,
     "metadata": {},
     "output_type": "execute_result"
    }
   ],
   "source": [
    "RE(bp.count([scaler], num=3), myCallback)"
   ]
  },
  {
   "cell_type": "markdown",
   "metadata": {},
   "source": [
    "Mostly the same but now there are three `event` documents."
   ]
  },
  {
   "cell_type": "markdown",
   "metadata": {},
   "source": [
    "# Summary\n",
    "\n",
    "We'll show this code as a python program:\n",
    "\n",
    "```\n",
    "#!/usr/bin/env python\n",
    "\n",
    "\"lesson 1: EpicsScaler\"\n",
    "\n",
    "from ophyd.scaler import ScalerCH\n",
    "from bluesky import RunEngine\n",
    "import bluesky.plans as bp\n",
    "from apstools.devices import use_EPICS_scaler_channels\n",
    "\n",
    "\n",
    "def myCallback(key, doc):\n",
    "    print(key, len(doc))\n",
    "    for k, v in doc.items():\n",
    "        print(\"\\t\", k, v)\n",
    "    print(\"~~~~~~~~~~~~~~~~~\")\n",
    "\n",
    "\n",
    "RE = RunEngine({})\n",
    "\n",
    "scaler = ScalerCH(\"sky:scaler1\", name=\"scaler\")\n",
    "scaler.preset_time.put(1.5)\n",
    "print(scaler.preset_time.value)\n",
    "\n",
    "scaler.channels.chan04.chname.put(\"scint\")\n",
    "scaler.channels.chan07.chname.put(\"roi1\")\n",
    "\n",
    "scaler.match_names()\n",
    "use_EPICS_scaler_channels(scaler)\n",
    "print(scaler.read())\n",
    "print(RE(bp.count([scaler], num=3), myCallback))\n",
    "```\n"
   ]
  },
  {
   "cell_type": "markdown",
   "metadata": {},
   "source": [
    "## Quit the jupyter notebook\n",
    "\n",
    "* Save the \"lesson1\" page if you wish.\n",
    "* Press the **Logout** button in the upper right corner of \"lesson1\" and close the page.\n",
    "* Press the **Logout** button in the upper right corner of \"Home\" and close the page.\n",
    "* Type Control-C (^C) twice in the jupyter-notebook console to kill the server."
   ]
  }
 ],
 "metadata": {
  "kernelspec": {
   "display_name": "Python 3",
   "language": "python",
   "name": "python3"
  },
  "language_info": {
   "codemirror_mode": {
    "name": "ipython",
    "version": 3
   },
   "file_extension": ".py",
   "mimetype": "text/x-python",
   "name": "python",
   "nbconvert_exporter": "python",
   "pygments_lexer": "ipython3",
   "version": "3.7.7"
  }
 },
 "nbformat": 4,
 "nbformat_minor": 2
}
