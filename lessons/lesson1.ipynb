{
 "cells": [
  {
   "cell_type": "markdown",
   "metadata": {},
   "source": [
    "# Lesson 1 - scaler and count\n",
    "\n",
    "In this lesson, we'll work with a scaler (devices that counts pulses emitted from one or more pulse-emitting ***detector*** electronics) and use this to make a first lesson in using [Bluesky](http://nsls-ii.github.io/bluesky/) and [related tools](http://nsls-ii.github.io/).\n",
    "\n",
    "First, we'll show how to start a Jupyter notebook.  Next, we'll connect with an EPICS scaler (using [ophyd](http://nsls-ii.github.io/ophyd/)), and then use the Bluesky software to count from the scaler.\n",
    "\n",
    "\n",
    "**note**:  This tutorial expects to find an EPICS IOC on the local network configured as a synApps [`xxx`](https://github.com/epics-modules/xxx) IOC with prefix `sky:`.  A docker container is available to provide this IOC.  See this URL for instructions:  https://github.com/prjemian/epics-docker/blob/master/n3_synApps/README.md\n",
    "\n",
    "\n",
    "## Starting this session in a Jupyter notebook\n",
    "\n",
    "This session was started from the linux command line:\n",
    "\n",
    "```\n",
    "jemian@otz ~ $ source /APSshare/anaconda3/Bluesky/bin/activate \n",
    "(base) jemian@otz ~ $ jupyter-notebook \n",
    "```\n",
    "\n",
    "This command produced the following console output and then started my default web browser with a one-time-token-authenticated connection to the Jupyter Notebook server (still running in the console):\n",
    "\n",
    "```\n",
    "[I 15:16:57.546 NotebookApp] Serving notebooks from local directory: /home/oxygen18/JEMIAN\n",
    "[I 15:16:57.546 NotebookApp] 0 active kernels\n",
    "[I 15:16:57.546 NotebookApp] The Jupyter Notebook is running at:\n",
    "[I 15:16:57.546 NotebookApp] http://localhost:8888/?token=e6a7584762c731a7c64f8f71246b3e616d779f7b4852c9d9\n",
    "[I 15:16:57.546 NotebookApp] Use Control-C to stop this server and shut down all kernels (twice to skip confirmation).\n",
    "[C 15:16:57.547 NotebookApp] \n",
    "    \n",
    "    Copy/paste this URL into your browser when you connect for the first time,\n",
    "    to login with a token:\n",
    "        http://localhost:8888/?token=e6a7584762c731a7c64f8f71246b3e616d779f7b4852c9d9\n",
    "[I 15:17:00.863 NotebookApp] Accepting one-time-token-authenticated connection from ::1\n",
    "```\n",
    "\n",
    "Next, found the **New** drop-down menu button (top right, below the **Lougout** button) and selected *Python 3* to start a new notebook page using a Python 3 shell (the only kind available here).\n",
    "\n",
    "Finally, from the **File** menu in the jupyter notebook (in the browser), selected *Rename ...* to save the *Untitled* notebook with the name *lesson1* (default extension is `.ipynb`)."
   ]
  },
  {
   "cell_type": "markdown",
   "metadata": {},
   "source": [
    "## Connect an EPICS scaler\n",
    "\n",
    "I have a synApps (v6.1) *XXX*-style IOC with the prefix `sky:`.  It has a [scaler](https://htmlpreview.github.io/?https://raw.githubusercontent.com/epics-modules/std/R3-4-1/documentation/scalerRecord.html), 16 soft channel [motor](https://github.com/epics-modules/motor)s, and some other support we'll ignore in lesson 1.\n",
    "\n",
    "The scaler is `sky:scaler1`.  We'll connect to that first.  To make the connection, we need to import the [`ScalerCH`](http://nsls-ii.github.io/ophyd/builtin-devices.html#epicsscaler) device from the [`ophyd.scaler`](http://nsls-ii.github.io/ophyd/) library."
   ]
  },
  {
   "cell_type": "code",
   "execution_count": 1,
   "metadata": {},
   "outputs": [],
   "source": [
    "from ophyd.scaler import ScalerCH"
   ]
  },
  {
   "cell_type": "markdown",
   "metadata": {},
   "source": [
    "Now we can create the scaler object we'll use as a detector."
   ]
  },
  {
   "cell_type": "code",
   "execution_count": 2,
   "metadata": {},
   "outputs": [],
   "source": [
    "scaler = ScalerCH(\"sky:scaler1\", name=\"scaler\")"
   ]
  },
  {
   "cell_type": "markdown",
   "metadata": {},
   "source": [
    "In a script or program, we should wait for that to connect with EPICS."
   ]
  },
  {
   "cell_type": "code",
   "execution_count": 3,
   "metadata": {},
   "outputs": [],
   "source": [
    "scaler.wait_for_connection()"
   ]
  },
  {
   "cell_type": "markdown",
   "metadata": {},
   "source": [
    "Let's test that connection by asking the scaler to read its values from EPICS."
   ]
  },
  {
   "cell_type": "code",
   "execution_count": 4,
   "metadata": {},
   "outputs": [
    {
     "data": {
      "text/plain": [
       "OrderedDict([('clock', {'value': 5000000.0, 'timestamp': 1587535749.845727}),\n",
       "             ('I0', {'value': 1.0, 'timestamp': 1587535749.845727}),\n",
       "             ('scint', {'value': 2.0, 'timestamp': 1587535749.845727}),\n",
       "             ('', {'value': 0.0, 'timestamp': 1587535749.845727}),\n",
       "             ('scaler_time', {'value': 0.5, 'timestamp': 1587535749.845727})])"
      ]
     },
     "execution_count": 4,
     "metadata": {},
     "output_type": "execute_result"
    }
   ],
   "source": [
    "scaler.read()"
   ]
  },
  {
   "cell_type": "markdown",
   "metadata": {},
   "source": [
    "By default, the ophyd `ScalerCH` object shows data for only the channels with names defined in EPICS.  Except for one channel (probably a bug in the `ScalerCH` code).  To fix that, we'll load another support library.  (Loading additional support as we need it will be a common theme in these lessons.  Rather than loading all the libraries first, as is common in python code files, we'll load support code as the need arises.)\n",
    "\n",
    "The new support code is `use_EPICS_scaler_channels` from [`apstools.devices`](http://apstools.readthedocs.io/en/latest/source_code/devices.html#apstools.devices.use_EPICS_scaler_channels)."
   ]
  },
  {
   "cell_type": "markdown",
   "metadata": {},
   "source": [
    "Our scaler only has a few channels in use (that is, channels where the name of the channel has been specified in the GUI screen).  Let's focus on just those channels.\n",
    "\n",
    "To read just the *named* channels, we'll load an additional support library.  (Loading additional support as we need it will be a common theme in these lessons.  Rather than loading all the libraries first, as is common in python code files, we'll load support code as the need arises.)\n",
    "\n",
    "The new support code is `use_EPICS_scaler_channels` from [`apstools.devices`](http://apstools.readthedocs.io/en/latest/source_code/devices.html#apstools.devices.use_EPICS_scaler_channels)."
   ]
  },
  {
   "cell_type": "code",
   "execution_count": 5,
   "metadata": {},
   "outputs": [],
   "source": [
    "from apstools.devices import use_EPICS_scaler_channels"
   ]
  },
  {
   "cell_type": "markdown",
   "metadata": {},
   "source": [
    "That is a utility function that will modify our `scaler` so it only reports the named channels (edits out the one empty named channel).  Now the report is succinct."
   ]
  },
  {
   "cell_type": "code",
   "execution_count": 6,
   "metadata": {},
   "outputs": [
    {
     "name": "stderr",
     "output_type": "stream",
     "text": [
      "/home/beams/JEMIAN/.conda/envs/bluesky_2020_5/lib/python3.7/site-packages/apstools/devices.py:169: UserWarning: You have called obj.value on EpicsSignal(read_pv='sky:scaler1.NM1', name='scaler_channels_chan01_chname', parent='scaler_channels_chan01', value='clock', timestamp=1587535749.845727, auto_monitor=False, string=False, write_pv='sky:scaler1.NM1', limits=False, put_complete=False) (scaler_channels_chan01_chname.channels.chan01.chname) which is a non-monitored signal.\n",
      "We are falling back to calling `.get` and interrogating the underlying control system, however this may cause several other problems:\n",
      "   1. This property access may take an arbitrarily long time\n",
      "   2. This property access, which you expect to be read only may change other state in the Signal.\n",
      "Your options to fix this are:\n",
      "  - do not use obj.value.\n",
      "    - If you are using this is in a plan you like want to be using bps.read, bps.rd, bpp.reset_positions_decorator, bpp.reset_positions_wrapper, bpp.relative_set_decorator, or bpp.relative_set_wrapper\n",
      "    - if you are doing this in an ophyd method use `self.get`\n",
      "  - set up the Signal to monitor\n",
      "\n",
      "This behavior will likely change in the future.\n",
      "  if nm_pv is not None and len(nm_pv.chname.value.strip()) > 0:\n",
      "/home/beams/JEMIAN/.conda/envs/bluesky_2020_5/lib/python3.7/site-packages/apstools/devices.py:169: UserWarning: You have called obj.value on EpicsSignal(read_pv='sky:scaler1.NM2', name='scaler_channels_chan02_chname', parent='scaler_channels_chan02', value='I0', timestamp=1587535749.845727, auto_monitor=False, string=False, write_pv='sky:scaler1.NM2', limits=False, put_complete=False) (scaler_channels_chan02_chname.channels.chan02.chname) which is a non-monitored signal.\n",
      "We are falling back to calling `.get` and interrogating the underlying control system, however this may cause several other problems:\n",
      "   1. This property access may take an arbitrarily long time\n",
      "   2. This property access, which you expect to be read only may change other state in the Signal.\n",
      "Your options to fix this are:\n",
      "  - do not use obj.value.\n",
      "    - If you are using this is in a plan you like want to be using bps.read, bps.rd, bpp.reset_positions_decorator, bpp.reset_positions_wrapper, bpp.relative_set_decorator, or bpp.relative_set_wrapper\n",
      "    - if you are doing this in an ophyd method use `self.get`\n",
      "  - set up the Signal to monitor\n",
      "\n",
      "This behavior will likely change in the future.\n",
      "  if nm_pv is not None and len(nm_pv.chname.value.strip()) > 0:\n",
      "/home/beams/JEMIAN/.conda/envs/bluesky_2020_4/lib/python3.7/site-packages/apstools/devices.py:169: UserWarning: You have called obj.value on EpicsSignal(read_pv='sky:scaler1.NM3', name='scaler_channels_chan03_chname', parent='scaler_channels_chan03', value='scint', timestamp=1587535749.845727, auto_monitor=False, string=False, write_pv='sky:scaler1.NM3', limits=False, put_complete=False) (scaler_channels_chan03_chname.channels.chan03.chname) which is a non-monitored signal.\n",
      "We are falling back to calling `.get` and interrogating the underlying control system, however this may cause several other problems:\n",
      "   1. This property access may take an arbitrarily long time\n",
      "   2. This property access, which you expect to be read only may change other state in the Signal.\n",
      "Your options to fix this are:\n",
      "  - do not use obj.value.\n",
      "    - If you are using this is in a plan you like want to be using bps.read, bps.rd, bpp.reset_positions_decorator, bpp.reset_positions_wrapper, bpp.relative_set_decorator, or bpp.relative_set_wrapper\n",
      "    - if you are doing this in an ophyd method use `self.get`\n",
      "  - set up the Signal to monitor\n",
      "\n",
      "This behavior will likely change in the future.\n",
      "  if nm_pv is not None and len(nm_pv.chname.value.strip()) > 0:\n",
      "/home/beams/JEMIAN/.conda/envs/bluesky_2020_4/lib/python3.7/site-packages/apstools/devices.py:169: UserWarning: You have called obj.value on EpicsSignal(read_pv='sky:scaler1.NM4', name='scaler_channels_chan04_chname', parent='scaler_channels_chan04', value='', timestamp=1587535749.845727, auto_monitor=False, string=False, write_pv='sky:scaler1.NM4', limits=False, put_complete=False) (scaler_channels_chan04_chname.channels.chan04.chname) which is a non-monitored signal.\n",
      "We are falling back to calling `.get` and interrogating the underlying control system, however this may cause several other problems:\n",
      "   1. This property access may take an arbitrarily long time\n",
      "   2. This property access, which you expect to be read only may change other state in the Signal.\n",
      "Your options to fix this are:\n",
      "  - do not use obj.value.\n",
      "    - If you are using this is in a plan you like want to be using bps.read, bps.rd, bpp.reset_positions_decorator, bpp.reset_positions_wrapper, bpp.relative_set_decorator, or bpp.relative_set_wrapper\n",
      "    - if you are doing this in an ophyd method use `self.get`\n",
      "  - set up the Signal to monitor\n",
      "\n",
      "This behavior will likely change in the future.\n",
      "  if nm_pv is not None and len(nm_pv.chname.value.strip()) > 0:\n",
      "/home/beams/JEMIAN/.conda/envs/bluesky_2020_4/lib/python3.7/site-packages/apstools/devices.py:169: UserWarning: You have called obj.value on EpicsSignal(read_pv='sky:scaler1.NM5', name='scaler_channels_chan05_chname', parent='scaler_channels_chan05', value='', timestamp=1587535749.845727, auto_monitor=False, string=False, write_pv='sky:scaler1.NM5', limits=False, put_complete=False) (scaler_channels_chan05_chname.channels.chan05.chname) which is a non-monitored signal.\n",
      "We are falling back to calling `.get` and interrogating the underlying control system, however this may cause several other problems:\n",
      "   1. This property access may take an arbitrarily long time\n",
      "   2. This property access, which you expect to be read only may change other state in the Signal.\n",
      "Your options to fix this are:\n",
      "  - do not use obj.value.\n",
      "    - If you are using this is in a plan you like want to be using bps.read, bps.rd, bpp.reset_positions_decorator, bpp.reset_positions_wrapper, bpp.relative_set_decorator, or bpp.relative_set_wrapper\n",
      "    - if you are doing this in an ophyd method use `self.get`\n",
      "  - set up the Signal to monitor\n",
      "\n",
      "This behavior will likely change in the future.\n",
      "  if nm_pv is not None and len(nm_pv.chname.value.strip()) > 0:\n",
      "/home/beams/JEMIAN/.conda/envs/bluesky_2020_4/lib/python3.7/site-packages/apstools/devices.py:169: UserWarning: You have called obj.value on EpicsSignal(read_pv='sky:scaler1.NM6', name='scaler_channels_chan06_chname', parent='scaler_channels_chan06', value='', timestamp=1587535749.845727, auto_monitor=False, string=False, write_pv='sky:scaler1.NM6', limits=False, put_complete=False) (scaler_channels_chan06_chname.channels.chan06.chname) which is a non-monitored signal.\n",
      "We are falling back to calling `.get` and interrogating the underlying control system, however this may cause several other problems:\n",
      "   1. This property access may take an arbitrarily long time\n",
      "   2. This property access, which you expect to be read only may change other state in the Signal.\n",
      "Your options to fix this are:\n",
      "  - do not use obj.value.\n",
      "    - If you are using this is in a plan you like want to be using bps.read, bps.rd, bpp.reset_positions_decorator, bpp.reset_positions_wrapper, bpp.relative_set_decorator, or bpp.relative_set_wrapper\n",
      "    - if you are doing this in an ophyd method use `self.get`\n",
      "  - set up the Signal to monitor\n",
      "\n",
      "This behavior will likely change in the future.\n",
      "  if nm_pv is not None and len(nm_pv.chname.value.strip()) > 0:\n",
      "/home/beams/JEMIAN/.conda/envs/bluesky_2020_4/lib/python3.7/site-packages/apstools/devices.py:169: UserWarning: You have called obj.value on EpicsSignal(read_pv='sky:scaler1.NM7', name='scaler_channels_chan07_chname', parent='scaler_channels_chan07', value='', timestamp=1587535749.845727, auto_monitor=False, string=False, write_pv='sky:scaler1.NM7', limits=False, put_complete=False) (scaler_channels_chan07_chname.channels.chan07.chname) which is a non-monitored signal.\n",
      "We are falling back to calling `.get` and interrogating the underlying control system, however this may cause several other problems:\n",
      "   1. This property access may take an arbitrarily long time\n",
      "   2. This property access, which you expect to be read only may change other state in the Signal.\n",
      "Your options to fix this are:\n",
      "  - do not use obj.value.\n",
      "    - If you are using this is in a plan you like want to be using bps.read, bps.rd, bpp.reset_positions_decorator, bpp.reset_positions_wrapper, bpp.relative_set_decorator, or bpp.relative_set_wrapper\n",
      "    - if you are doing this in an ophyd method use `self.get`\n",
      "  - set up the Signal to monitor\n",
      "\n",
      "This behavior will likely change in the future.\n",
      "  if nm_pv is not None and len(nm_pv.chname.value.strip()) > 0:\n",
      "/home/beams/JEMIAN/.conda/envs/bluesky_2020_4/lib/python3.7/site-packages/apstools/devices.py:169: UserWarning: You have called obj.value on EpicsSignal(read_pv='sky:scaler1.NM8', name='scaler_channels_chan08_chname', parent='scaler_channels_chan08', value='', timestamp=1587535749.845727, auto_monitor=False, string=False, write_pv='sky:scaler1.NM8', limits=False, put_complete=False) (scaler_channels_chan08_chname.channels.chan08.chname) which is a non-monitored signal.\n",
      "We are falling back to calling `.get` and interrogating the underlying control system, however this may cause several other problems:\n",
      "   1. This property access may take an arbitrarily long time\n",
      "   2. This property access, which you expect to be read only may change other state in the Signal.\n",
      "Your options to fix this are:\n",
      "  - do not use obj.value.\n",
      "    - If you are using this is in a plan you like want to be using bps.read, bps.rd, bpp.reset_positions_decorator, bpp.reset_positions_wrapper, bpp.relative_set_decorator, or bpp.relative_set_wrapper\n",
      "    - if you are doing this in an ophyd method use `self.get`\n",
      "  - set up the Signal to monitor\n",
      "\n",
      "This behavior will likely change in the future.\n",
      "  if nm_pv is not None and len(nm_pv.chname.value.strip()) > 0:\n",
      "/home/beams/JEMIAN/.conda/envs/bluesky_2020_4/lib/python3.7/site-packages/apstools/devices.py:169: UserWarning: You have called obj.value on EpicsSignal(read_pv='sky:scaler1.NM9', name='scaler_channels_chan09_chname', parent='scaler_channels_chan09', value='', timestamp=1587535749.845727, auto_monitor=False, string=False, write_pv='sky:scaler1.NM9', limits=False, put_complete=False) (scaler_channels_chan09_chname.channels.chan09.chname) which is a non-monitored signal.\n",
      "We are falling back to calling `.get` and interrogating the underlying control system, however this may cause several other problems:\n",
      "   1. This property access may take an arbitrarily long time\n",
      "   2. This property access, which you expect to be read only may change other state in the Signal.\n",
      "Your options to fix this are:\n",
      "  - do not use obj.value.\n",
      "    - If you are using this is in a plan you like want to be using bps.read, bps.rd, bpp.reset_positions_decorator, bpp.reset_positions_wrapper, bpp.relative_set_decorator, or bpp.relative_set_wrapper\n",
      "    - if you are doing this in an ophyd method use `self.get`\n",
      "  - set up the Signal to monitor\n",
      "\n",
      "This behavior will likely change in the future.\n",
      "  if nm_pv is not None and len(nm_pv.chname.value.strip()) > 0:\n",
      "/home/beams/JEMIAN/.conda/envs/bluesky_2020_4/lib/python3.7/site-packages/apstools/devices.py:169: UserWarning: You have called obj.value on EpicsSignal(read_pv='sky:scaler1.NM10', name='scaler_channels_chan10_chname', parent='scaler_channels_chan10', value='', timestamp=1587535749.845727, auto_monitor=False, string=False, write_pv='sky:scaler1.NM10', limits=False, put_complete=False) (scaler_channels_chan10_chname.channels.chan10.chname) which is a non-monitored signal.\n",
      "We are falling back to calling `.get` and interrogating the underlying control system, however this may cause several other problems:\n",
      "   1. This property access may take an arbitrarily long time\n",
      "   2. This property access, which you expect to be read only may change other state in the Signal.\n",
      "Your options to fix this are:\n",
      "  - do not use obj.value.\n",
      "    - If you are using this is in a plan you like want to be using bps.read, bps.rd, bpp.reset_positions_decorator, bpp.reset_positions_wrapper, bpp.relative_set_decorator, or bpp.relative_set_wrapper\n",
      "    - if you are doing this in an ophyd method use `self.get`\n",
      "  - set up the Signal to monitor\n",
      "\n",
      "This behavior will likely change in the future.\n",
      "  if nm_pv is not None and len(nm_pv.chname.value.strip()) > 0:\n",
      "/home/beams/JEMIAN/.conda/envs/bluesky_2020_4/lib/python3.7/site-packages/apstools/devices.py:169: UserWarning: You have called obj.value on EpicsSignal(read_pv='sky:scaler1.NM11', name='scaler_channels_chan11_chname', parent='scaler_channels_chan11', value='', timestamp=1587535749.845727, auto_monitor=False, string=False, write_pv='sky:scaler1.NM11', limits=False, put_complete=False) (scaler_channels_chan11_chname.channels.chan11.chname) which is a non-monitored signal.\n",
      "We are falling back to calling `.get` and interrogating the underlying control system, however this may cause several other problems:\n",
      "   1. This property access may take an arbitrarily long time\n",
      "   2. This property access, which you expect to be read only may change other state in the Signal.\n",
      "Your options to fix this are:\n",
      "  - do not use obj.value.\n",
      "    - If you are using this is in a plan you like want to be using bps.read, bps.rd, bpp.reset_positions_decorator, bpp.reset_positions_wrapper, bpp.relative_set_decorator, or bpp.relative_set_wrapper\n",
      "    - if you are doing this in an ophyd method use `self.get`\n",
      "  - set up the Signal to monitor\n",
      "\n",
      "This behavior will likely change in the future.\n",
      "  if nm_pv is not None and len(nm_pv.chname.value.strip()) > 0:\n",
      "/home/beams/JEMIAN/.conda/envs/bluesky_2020_4/lib/python3.7/site-packages/apstools/devices.py:169: UserWarning: You have called obj.value on EpicsSignal(read_pv='sky:scaler1.NM12', name='scaler_channels_chan12_chname', parent='scaler_channels_chan12', value='', timestamp=1587535749.845727, auto_monitor=False, string=False, write_pv='sky:scaler1.NM12', limits=False, put_complete=False) (scaler_channels_chan12_chname.channels.chan12.chname) which is a non-monitored signal.\n",
      "We are falling back to calling `.get` and interrogating the underlying control system, however this may cause several other problems:\n",
      "   1. This property access may take an arbitrarily long time\n",
      "   2. This property access, which you expect to be read only may change other state in the Signal.\n",
      "Your options to fix this are:\n",
      "  - do not use obj.value.\n",
      "    - If you are using this is in a plan you like want to be using bps.read, bps.rd, bpp.reset_positions_decorator, bpp.reset_positions_wrapper, bpp.relative_set_decorator, or bpp.relative_set_wrapper\n",
      "    - if you are doing this in an ophyd method use `self.get`\n",
      "  - set up the Signal to monitor\n",
      "\n",
      "This behavior will likely change in the future.\n",
      "  if nm_pv is not None and len(nm_pv.chname.value.strip()) > 0:\n",
      "/home/beams/JEMIAN/.conda/envs/bluesky_2020_4/lib/python3.7/site-packages/apstools/devices.py:169: UserWarning: You have called obj.value on EpicsSignal(read_pv='sky:scaler1.NM13', name='scaler_channels_chan13_chname', parent='scaler_channels_chan13', value='', timestamp=1587535749.845727, auto_monitor=False, string=False, write_pv='sky:scaler1.NM13', limits=False, put_complete=False) (scaler_channels_chan13_chname.channels.chan13.chname) which is a non-monitored signal.\n",
      "We are falling back to calling `.get` and interrogating the underlying control system, however this may cause several other problems:\n",
      "   1. This property access may take an arbitrarily long time\n",
      "   2. This property access, which you expect to be read only may change other state in the Signal.\n",
      "Your options to fix this are:\n",
      "  - do not use obj.value.\n",
      "    - If you are using this is in a plan you like want to be using bps.read, bps.rd, bpp.reset_positions_decorator, bpp.reset_positions_wrapper, bpp.relative_set_decorator, or bpp.relative_set_wrapper\n",
      "    - if you are doing this in an ophyd method use `self.get`\n",
      "  - set up the Signal to monitor\n",
      "\n",
      "This behavior will likely change in the future.\n",
      "  if nm_pv is not None and len(nm_pv.chname.value.strip()) > 0:\n",
      "/home/beams/JEMIAN/.conda/envs/bluesky_2020_4/lib/python3.7/site-packages/apstools/devices.py:169: UserWarning: You have called obj.value on EpicsSignal(read_pv='sky:scaler1.NM14', name='scaler_channels_chan14_chname', parent='scaler_channels_chan14', value='', timestamp=1587535749.845727, auto_monitor=False, string=False, write_pv='sky:scaler1.NM14', limits=False, put_complete=False) (scaler_channels_chan14_chname.channels.chan14.chname) which is a non-monitored signal.\n",
      "We are falling back to calling `.get` and interrogating the underlying control system, however this may cause several other problems:\n",
      "   1. This property access may take an arbitrarily long time\n",
      "   2. This property access, which you expect to be read only may change other state in the Signal.\n",
      "Your options to fix this are:\n",
      "  - do not use obj.value.\n",
      "    - If you are using this is in a plan you like want to be using bps.read, bps.rd, bpp.reset_positions_decorator, bpp.reset_positions_wrapper, bpp.relative_set_decorator, or bpp.relative_set_wrapper\n",
      "    - if you are doing this in an ophyd method use `self.get`\n",
      "  - set up the Signal to monitor\n",
      "\n",
      "This behavior will likely change in the future.\n",
      "  if nm_pv is not None and len(nm_pv.chname.value.strip()) > 0:\n",
      "/home/beams/JEMIAN/.conda/envs/bluesky_2020_4/lib/python3.7/site-packages/apstools/devices.py:169: UserWarning: You have called obj.value on EpicsSignal(read_pv='sky:scaler1.NM15', name='scaler_channels_chan15_chname', parent='scaler_channels_chan15', value='', timestamp=1587535749.845727, auto_monitor=False, string=False, write_pv='sky:scaler1.NM15', limits=False, put_complete=False) (scaler_channels_chan15_chname.channels.chan15.chname) which is a non-monitored signal.\n",
      "We are falling back to calling `.get` and interrogating the underlying control system, however this may cause several other problems:\n",
      "   1. This property access may take an arbitrarily long time\n",
      "   2. This property access, which you expect to be read only may change other state in the Signal.\n",
      "Your options to fix this are:\n",
      "  - do not use obj.value.\n",
      "    - If you are using this is in a plan you like want to be using bps.read, bps.rd, bpp.reset_positions_decorator, bpp.reset_positions_wrapper, bpp.relative_set_decorator, or bpp.relative_set_wrapper\n",
      "    - if you are doing this in an ophyd method use `self.get`\n",
      "  - set up the Signal to monitor\n",
      "\n",
      "This behavior will likely change in the future.\n",
      "  if nm_pv is not None and len(nm_pv.chname.value.strip()) > 0:\n",
      "/home/beams/JEMIAN/.conda/envs/bluesky_2020_4/lib/python3.7/site-packages/apstools/devices.py:169: UserWarning: You have called obj.value on EpicsSignal(read_pv='sky:scaler1.NM16', name='scaler_channels_chan16_chname', parent='scaler_channels_chan16', value='', timestamp=1587535749.845727, auto_monitor=False, string=False, write_pv='sky:scaler1.NM16', limits=False, put_complete=False) (scaler_channels_chan16_chname.channels.chan16.chname) which is a non-monitored signal.\n",
      "We are falling back to calling `.get` and interrogating the underlying control system, however this may cause several other problems:\n",
      "   1. This property access may take an arbitrarily long time\n",
      "   2. This property access, which you expect to be read only may change other state in the Signal.\n",
      "Your options to fix this are:\n",
      "  - do not use obj.value.\n",
      "    - If you are using this is in a plan you like want to be using bps.read, bps.rd, bpp.reset_positions_decorator, bpp.reset_positions_wrapper, bpp.relative_set_decorator, or bpp.relative_set_wrapper\n",
      "    - if you are doing this in an ophyd method use `self.get`\n",
      "  - set up the Signal to monitor\n",
      "\n",
      "This behavior will likely change in the future.\n",
      "  if nm_pv is not None and len(nm_pv.chname.value.strip()) > 0:\n",
      "/home/beams/JEMIAN/.conda/envs/bluesky_2020_4/lib/python3.7/site-packages/apstools/devices.py:169: UserWarning: You have called obj.value on EpicsSignal(read_pv='sky:scaler1.NM17', name='scaler_channels_chan17_chname', parent='scaler_channels_chan17', value='', timestamp=1587535749.845727, auto_monitor=False, string=False, write_pv='sky:scaler1.NM17', limits=False, put_complete=False) (scaler_channels_chan17_chname.channels.chan17.chname) which is a non-monitored signal.\n",
      "We are falling back to calling `.get` and interrogating the underlying control system, however this may cause several other problems:\n",
      "   1. This property access may take an arbitrarily long time\n",
      "   2. This property access, which you expect to be read only may change other state in the Signal.\n",
      "Your options to fix this are:\n",
      "  - do not use obj.value.\n",
      "    - If you are using this is in a plan you like want to be using bps.read, bps.rd, bpp.reset_positions_decorator, bpp.reset_positions_wrapper, bpp.relative_set_decorator, or bpp.relative_set_wrapper\n",
      "    - if you are doing this in an ophyd method use `self.get`\n",
      "  - set up the Signal to monitor\n",
      "\n",
      "This behavior will likely change in the future.\n",
      "  if nm_pv is not None and len(nm_pv.chname.value.strip()) > 0:\n",
      "/home/beams/JEMIAN/.conda/envs/bluesky_2020_4/lib/python3.7/site-packages/apstools/devices.py:169: UserWarning: You have called obj.value on EpicsSignal(read_pv='sky:scaler1.NM18', name='scaler_channels_chan18_chname', parent='scaler_channels_chan18', value='', timestamp=1587535749.845727, auto_monitor=False, string=False, write_pv='sky:scaler1.NM18', limits=False, put_complete=False) (scaler_channels_chan18_chname.channels.chan18.chname) which is a non-monitored signal.\n",
      "We are falling back to calling `.get` and interrogating the underlying control system, however this may cause several other problems:\n",
      "   1. This property access may take an arbitrarily long time\n",
      "   2. This property access, which you expect to be read only may change other state in the Signal.\n",
      "Your options to fix this are:\n",
      "  - do not use obj.value.\n",
      "    - If you are using this is in a plan you like want to be using bps.read, bps.rd, bpp.reset_positions_decorator, bpp.reset_positions_wrapper, bpp.relative_set_decorator, or bpp.relative_set_wrapper\n",
      "    - if you are doing this in an ophyd method use `self.get`\n",
      "  - set up the Signal to monitor\n",
      "\n",
      "This behavior will likely change in the future.\n",
      "  if nm_pv is not None and len(nm_pv.chname.value.strip()) > 0:\n",
      "/home/beams/JEMIAN/.conda/envs/bluesky_2020_4/lib/python3.7/site-packages/apstools/devices.py:169: UserWarning: You have called obj.value on EpicsSignal(read_pv='sky:scaler1.NM19', name='scaler_channels_chan19_chname', parent='scaler_channels_chan19', value='', timestamp=1587535749.845727, auto_monitor=False, string=False, write_pv='sky:scaler1.NM19', limits=False, put_complete=False) (scaler_channels_chan19_chname.channels.chan19.chname) which is a non-monitored signal.\n",
      "We are falling back to calling `.get` and interrogating the underlying control system, however this may cause several other problems:\n",
      "   1. This property access may take an arbitrarily long time\n",
      "   2. This property access, which you expect to be read only may change other state in the Signal.\n",
      "Your options to fix this are:\n",
      "  - do not use obj.value.\n",
      "    - If you are using this is in a plan you like want to be using bps.read, bps.rd, bpp.reset_positions_decorator, bpp.reset_positions_wrapper, bpp.relative_set_decorator, or bpp.relative_set_wrapper\n",
      "    - if you are doing this in an ophyd method use `self.get`\n",
      "  - set up the Signal to monitor\n",
      "\n",
      "This behavior will likely change in the future.\n",
      "  if nm_pv is not None and len(nm_pv.chname.value.strip()) > 0:\n",
      "/home/beams/JEMIAN/.conda/envs/bluesky_2020_4/lib/python3.7/site-packages/apstools/devices.py:169: UserWarning: You have called obj.value on EpicsSignal(read_pv='sky:scaler1.NM20', name='scaler_channels_chan20_chname', parent='scaler_channels_chan20', value='', timestamp=1587535749.845727, auto_monitor=False, string=False, write_pv='sky:scaler1.NM20', limits=False, put_complete=False) (scaler_channels_chan20_chname.channels.chan20.chname) which is a non-monitored signal.\n",
      "We are falling back to calling `.get` and interrogating the underlying control system, however this may cause several other problems:\n",
      "   1. This property access may take an arbitrarily long time\n",
      "   2. This property access, which you expect to be read only may change other state in the Signal.\n",
      "Your options to fix this are:\n",
      "  - do not use obj.value.\n",
      "    - If you are using this is in a plan you like want to be using bps.read, bps.rd, bpp.reset_positions_decorator, bpp.reset_positions_wrapper, bpp.relative_set_decorator, or bpp.relative_set_wrapper\n",
      "    - if you are doing this in an ophyd method use `self.get`\n",
      "  - set up the Signal to monitor\n",
      "\n",
      "This behavior will likely change in the future.\n",
      "  if nm_pv is not None and len(nm_pv.chname.value.strip()) > 0:\n",
      "/home/beams/JEMIAN/.conda/envs/bluesky_2020_4/lib/python3.7/site-packages/apstools/devices.py:169: UserWarning: You have called obj.value on EpicsSignal(read_pv='sky:scaler1.NM21', name='scaler_channels_chan21_chname', parent='scaler_channels_chan21', value='', timestamp=1587535749.845727, auto_monitor=False, string=False, write_pv='sky:scaler1.NM21', limits=False, put_complete=False) (scaler_channels_chan21_chname.channels.chan21.chname) which is a non-monitored signal.\n",
      "We are falling back to calling `.get` and interrogating the underlying control system, however this may cause several other problems:\n",
      "   1. This property access may take an arbitrarily long time\n",
      "   2. This property access, which you expect to be read only may change other state in the Signal.\n",
      "Your options to fix this are:\n",
      "  - do not use obj.value.\n",
      "    - If you are using this is in a plan you like want to be using bps.read, bps.rd, bpp.reset_positions_decorator, bpp.reset_positions_wrapper, bpp.relative_set_decorator, or bpp.relative_set_wrapper\n",
      "    - if you are doing this in an ophyd method use `self.get`\n",
      "  - set up the Signal to monitor\n",
      "\n",
      "This behavior will likely change in the future.\n",
      "  if nm_pv is not None and len(nm_pv.chname.value.strip()) > 0:\n",
      "/home/beams/JEMIAN/.conda/envs/bluesky_2020_4/lib/python3.7/site-packages/apstools/devices.py:169: UserWarning: You have called obj.value on EpicsSignal(read_pv='sky:scaler1.NM22', name='scaler_channels_chan22_chname', parent='scaler_channels_chan22', value='', timestamp=1587535749.845727, auto_monitor=False, string=False, write_pv='sky:scaler1.NM22', limits=False, put_complete=False) (scaler_channels_chan22_chname.channels.chan22.chname) which is a non-monitored signal.\n",
      "We are falling back to calling `.get` and interrogating the underlying control system, however this may cause several other problems:\n",
      "   1. This property access may take an arbitrarily long time\n",
      "   2. This property access, which you expect to be read only may change other state in the Signal.\n",
      "Your options to fix this are:\n",
      "  - do not use obj.value.\n",
      "    - If you are using this is in a plan you like want to be using bps.read, bps.rd, bpp.reset_positions_decorator, bpp.reset_positions_wrapper, bpp.relative_set_decorator, or bpp.relative_set_wrapper\n",
      "    - if you are doing this in an ophyd method use `self.get`\n",
      "  - set up the Signal to monitor\n",
      "\n",
      "This behavior will likely change in the future.\n",
      "  if nm_pv is not None and len(nm_pv.chname.value.strip()) > 0:\n",
      "/home/beams/JEMIAN/.conda/envs/bluesky_2020_4/lib/python3.7/site-packages/apstools/devices.py:169: UserWarning: You have called obj.value on EpicsSignal(read_pv='sky:scaler1.NM23', name='scaler_channels_chan23_chname', parent='scaler_channels_chan23', value='', timestamp=1587535749.845727, auto_monitor=False, string=False, write_pv='sky:scaler1.NM23', limits=False, put_complete=False) (scaler_channels_chan23_chname.channels.chan23.chname) which is a non-monitored signal.\n",
      "We are falling back to calling `.get` and interrogating the underlying control system, however this may cause several other problems:\n",
      "   1. This property access may take an arbitrarily long time\n",
      "   2. This property access, which you expect to be read only may change other state in the Signal.\n",
      "Your options to fix this are:\n",
      "  - do not use obj.value.\n",
      "    - If you are using this is in a plan you like want to be using bps.read, bps.rd, bpp.reset_positions_decorator, bpp.reset_positions_wrapper, bpp.relative_set_decorator, or bpp.relative_set_wrapper\n",
      "    - if you are doing this in an ophyd method use `self.get`\n",
      "  - set up the Signal to monitor\n",
      "\n",
      "This behavior will likely change in the future.\n",
      "  if nm_pv is not None and len(nm_pv.chname.value.strip()) > 0:\n",
      "/home/beams/JEMIAN/.conda/envs/bluesky_2020_4/lib/python3.7/site-packages/apstools/devices.py:169: UserWarning: You have called obj.value on EpicsSignal(read_pv='sky:scaler1.NM24', name='scaler_channels_chan24_chname', parent='scaler_channels_chan24', value='', timestamp=1587535749.845727, auto_monitor=False, string=False, write_pv='sky:scaler1.NM24', limits=False, put_complete=False) (scaler_channels_chan24_chname.channels.chan24.chname) which is a non-monitored signal.\n",
      "We are falling back to calling `.get` and interrogating the underlying control system, however this may cause several other problems:\n",
      "   1. This property access may take an arbitrarily long time\n",
      "   2. This property access, which you expect to be read only may change other state in the Signal.\n",
      "Your options to fix this are:\n",
      "  - do not use obj.value.\n",
      "    - If you are using this is in a plan you like want to be using bps.read, bps.rd, bpp.reset_positions_decorator, bpp.reset_positions_wrapper, bpp.relative_set_decorator, or bpp.relative_set_wrapper\n",
      "    - if you are doing this in an ophyd method use `self.get`\n",
      "  - set up the Signal to monitor\n",
      "\n",
      "This behavior will likely change in the future.\n",
      "  if nm_pv is not None and len(nm_pv.chname.value.strip()) > 0:\n",
      "/home/beams/JEMIAN/.conda/envs/bluesky_2020_4/lib/python3.7/site-packages/apstools/devices.py:169: UserWarning: You have called obj.value on EpicsSignal(read_pv='sky:scaler1.NM25', name='scaler_channels_chan25_chname', parent='scaler_channels_chan25', value='', timestamp=1587535749.845727, auto_monitor=False, string=False, write_pv='sky:scaler1.NM25', limits=False, put_complete=False) (scaler_channels_chan25_chname.channels.chan25.chname) which is a non-monitored signal.\n",
      "We are falling back to calling `.get` and interrogating the underlying control system, however this may cause several other problems:\n",
      "   1. This property access may take an arbitrarily long time\n",
      "   2. This property access, which you expect to be read only may change other state in the Signal.\n",
      "Your options to fix this are:\n",
      "  - do not use obj.value.\n",
      "    - If you are using this is in a plan you like want to be using bps.read, bps.rd, bpp.reset_positions_decorator, bpp.reset_positions_wrapper, bpp.relative_set_decorator, or bpp.relative_set_wrapper\n",
      "    - if you are doing this in an ophyd method use `self.get`\n",
      "  - set up the Signal to monitor\n",
      "\n",
      "This behavior will likely change in the future.\n",
      "  if nm_pv is not None and len(nm_pv.chname.value.strip()) > 0:\n",
      "/home/beams/JEMIAN/.conda/envs/bluesky_2020_4/lib/python3.7/site-packages/apstools/devices.py:169: UserWarning: You have called obj.value on EpicsSignal(read_pv='sky:scaler1.NM26', name='scaler_channels_chan26_chname', parent='scaler_channels_chan26', value='', timestamp=1587535749.845727, auto_monitor=False, string=False, write_pv='sky:scaler1.NM26', limits=False, put_complete=False) (scaler_channels_chan26_chname.channels.chan26.chname) which is a non-monitored signal.\n",
      "We are falling back to calling `.get` and interrogating the underlying control system, however this may cause several other problems:\n",
      "   1. This property access may take an arbitrarily long time\n",
      "   2. This property access, which you expect to be read only may change other state in the Signal.\n",
      "Your options to fix this are:\n",
      "  - do not use obj.value.\n",
      "    - If you are using this is in a plan you like want to be using bps.read, bps.rd, bpp.reset_positions_decorator, bpp.reset_positions_wrapper, bpp.relative_set_decorator, or bpp.relative_set_wrapper\n",
      "    - if you are doing this in an ophyd method use `self.get`\n",
      "  - set up the Signal to monitor\n",
      "\n",
      "This behavior will likely change in the future.\n",
      "  if nm_pv is not None and len(nm_pv.chname.value.strip()) > 0:\n",
      "/home/beams/JEMIAN/.conda/envs/bluesky_2020_4/lib/python3.7/site-packages/apstools/devices.py:169: UserWarning: You have called obj.value on EpicsSignal(read_pv='sky:scaler1.NM27', name='scaler_channels_chan27_chname', parent='scaler_channels_chan27', value='', timestamp=1587535749.845727, auto_monitor=False, string=False, write_pv='sky:scaler1.NM27', limits=False, put_complete=False) (scaler_channels_chan27_chname.channels.chan27.chname) which is a non-monitored signal.\n",
      "We are falling back to calling `.get` and interrogating the underlying control system, however this may cause several other problems:\n",
      "   1. This property access may take an arbitrarily long time\n",
      "   2. This property access, which you expect to be read only may change other state in the Signal.\n",
      "Your options to fix this are:\n",
      "  - do not use obj.value.\n",
      "    - If you are using this is in a plan you like want to be using bps.read, bps.rd, bpp.reset_positions_decorator, bpp.reset_positions_wrapper, bpp.relative_set_decorator, or bpp.relative_set_wrapper\n",
      "    - if you are doing this in an ophyd method use `self.get`\n",
      "  - set up the Signal to monitor\n",
      "\n",
      "This behavior will likely change in the future.\n",
      "  if nm_pv is not None and len(nm_pv.chname.value.strip()) > 0:\n",
      "/home/beams/JEMIAN/.conda/envs/bluesky_2020_4/lib/python3.7/site-packages/apstools/devices.py:169: UserWarning: You have called obj.value on EpicsSignal(read_pv='sky:scaler1.NM28', name='scaler_channels_chan28_chname', parent='scaler_channels_chan28', value='', timestamp=1587535749.845727, auto_monitor=False, string=False, write_pv='sky:scaler1.NM28', limits=False, put_complete=False) (scaler_channels_chan28_chname.channels.chan28.chname) which is a non-monitored signal.\n",
      "We are falling back to calling `.get` and interrogating the underlying control system, however this may cause several other problems:\n",
      "   1. This property access may take an arbitrarily long time\n",
      "   2. This property access, which you expect to be read only may change other state in the Signal.\n",
      "Your options to fix this are:\n",
      "  - do not use obj.value.\n",
      "    - If you are using this is in a plan you like want to be using bps.read, bps.rd, bpp.reset_positions_decorator, bpp.reset_positions_wrapper, bpp.relative_set_decorator, or bpp.relative_set_wrapper\n",
      "    - if you are doing this in an ophyd method use `self.get`\n",
      "  - set up the Signal to monitor\n",
      "\n",
      "This behavior will likely change in the future.\n",
      "  if nm_pv is not None and len(nm_pv.chname.value.strip()) > 0:\n",
      "/home/beams/JEMIAN/.conda/envs/bluesky_2020_4/lib/python3.7/site-packages/apstools/devices.py:169: UserWarning: You have called obj.value on EpicsSignal(read_pv='sky:scaler1.NM29', name='scaler_channels_chan29_chname', parent='scaler_channels_chan29', value='', timestamp=1587535749.845727, auto_monitor=False, string=False, write_pv='sky:scaler1.NM29', limits=False, put_complete=False) (scaler_channels_chan29_chname.channels.chan29.chname) which is a non-monitored signal.\n",
      "We are falling back to calling `.get` and interrogating the underlying control system, however this may cause several other problems:\n",
      "   1. This property access may take an arbitrarily long time\n",
      "   2. This property access, which you expect to be read only may change other state in the Signal.\n",
      "Your options to fix this are:\n",
      "  - do not use obj.value.\n",
      "    - If you are using this is in a plan you like want to be using bps.read, bps.rd, bpp.reset_positions_decorator, bpp.reset_positions_wrapper, bpp.relative_set_decorator, or bpp.relative_set_wrapper\n",
      "    - if you are doing this in an ophyd method use `self.get`\n",
      "  - set up the Signal to monitor\n",
      "\n",
      "This behavior will likely change in the future.\n",
      "  if nm_pv is not None and len(nm_pv.chname.value.strip()) > 0:\n",
      "/home/beams/JEMIAN/.conda/envs/bluesky_2020_4/lib/python3.7/site-packages/apstools/devices.py:169: UserWarning: You have called obj.value on EpicsSignal(read_pv='sky:scaler1.NM30', name='scaler_channels_chan30_chname', parent='scaler_channels_chan30', value='', timestamp=1587535749.845727, auto_monitor=False, string=False, write_pv='sky:scaler1.NM30', limits=False, put_complete=False) (scaler_channels_chan30_chname.channels.chan30.chname) which is a non-monitored signal.\n",
      "We are falling back to calling `.get` and interrogating the underlying control system, however this may cause several other problems:\n",
      "   1. This property access may take an arbitrarily long time\n",
      "   2. This property access, which you expect to be read only may change other state in the Signal.\n",
      "Your options to fix this are:\n",
      "  - do not use obj.value.\n",
      "    - If you are using this is in a plan you like want to be using bps.read, bps.rd, bpp.reset_positions_decorator, bpp.reset_positions_wrapper, bpp.relative_set_decorator, or bpp.relative_set_wrapper\n",
      "    - if you are doing this in an ophyd method use `self.get`\n",
      "  - set up the Signal to monitor\n",
      "\n",
      "This behavior will likely change in the future.\n",
      "  if nm_pv is not None and len(nm_pv.chname.value.strip()) > 0:\n",
      "/home/beams/JEMIAN/.conda/envs/bluesky_2020_4/lib/python3.7/site-packages/apstools/devices.py:169: UserWarning: You have called obj.value on EpicsSignal(read_pv='sky:scaler1.NM31', name='scaler_channels_chan31_chname', parent='scaler_channels_chan31', value='', timestamp=1587535749.845727, auto_monitor=False, string=False, write_pv='sky:scaler1.NM31', limits=False, put_complete=False) (scaler_channels_chan31_chname.channels.chan31.chname) which is a non-monitored signal.\n",
      "We are falling back to calling `.get` and interrogating the underlying control system, however this may cause several other problems:\n",
      "   1. This property access may take an arbitrarily long time\n",
      "   2. This property access, which you expect to be read only may change other state in the Signal.\n",
      "Your options to fix this are:\n",
      "  - do not use obj.value.\n",
      "    - If you are using this is in a plan you like want to be using bps.read, bps.rd, bpp.reset_positions_decorator, bpp.reset_positions_wrapper, bpp.relative_set_decorator, or bpp.relative_set_wrapper\n",
      "    - if you are doing this in an ophyd method use `self.get`\n",
      "  - set up the Signal to monitor\n",
      "\n",
      "This behavior will likely change in the future.\n",
      "  if nm_pv is not None and len(nm_pv.chname.value.strip()) > 0:\n",
      "/home/beams/JEMIAN/.conda/envs/bluesky_2020_4/lib/python3.7/site-packages/apstools/devices.py:169: UserWarning: You have called obj.value on EpicsSignal(read_pv='sky:scaler1.NM32', name='scaler_channels_chan32_chname', parent='scaler_channels_chan32', value='', timestamp=1587535749.845727, auto_monitor=False, string=False, write_pv='sky:scaler1.NM32', limits=False, put_complete=False) (scaler_channels_chan32_chname.channels.chan32.chname) which is a non-monitored signal.\n",
      "We are falling back to calling `.get` and interrogating the underlying control system, however this may cause several other problems:\n",
      "   1. This property access may take an arbitrarily long time\n",
      "   2. This property access, which you expect to be read only may change other state in the Signal.\n",
      "Your options to fix this are:\n",
      "  - do not use obj.value.\n",
      "    - If you are using this is in a plan you like want to be using bps.read, bps.rd, bpp.reset_positions_decorator, bpp.reset_positions_wrapper, bpp.relative_set_decorator, or bpp.relative_set_wrapper\n",
      "    - if you are doing this in an ophyd method use `self.get`\n",
      "  - set up the Signal to monitor\n",
      "\n",
      "This behavior will likely change in the future.\n",
      "  if nm_pv is not None and len(nm_pv.chname.value.strip()) > 0:\n"
     ]
    },
    {
     "data": {
      "text/plain": [
       "OrderedDict([('clock', {'value': 5000000.0, 'timestamp': 1587535749.845727}),\n",
       "             ('I0', {'value': 1.0, 'timestamp': 1587535749.845727}),\n",
       "             ('scint', {'value': 2.0, 'timestamp': 1587535749.845727}),\n",
       "             ('scaler_time', {'value': 0.5, 'timestamp': 1587535749.845727})])"
      ]
     },
     "execution_count": 6,
     "metadata": {},
     "output_type": "execute_result"
    }
   ],
   "source": [
    "scaler.match_names()\n",
    "use_EPICS_scaler_channels(scaler)\n",
    "scaler.read()"
   ]
  },
  {
   "cell_type": "markdown",
   "metadata": {},
   "source": [
    "If you want to change the name fields on any of the scaler channels from the command line, follow this example."
   ]
  },
  {
   "cell_type": "code",
   "execution_count": 7,
   "metadata": {},
   "outputs": [],
   "source": [
    "scaler.channels.chan04.chname.put(\"scint\")\n",
    "scaler.channels.chan07.chname.put(\"roi1\")"
   ]
  },
  {
   "cell_type": "markdown",
   "metadata": {},
   "source": [
    "Then, update the `scaler` object for these channels."
   ]
  },
  {
   "cell_type": "code",
   "execution_count": 8,
   "metadata": {},
   "outputs": [
    {
     "name": "stderr",
     "output_type": "stream",
     "text": [
      "/home/beams/JEMIAN/.conda/envs/bluesky_2020_4/lib/python3.7/site-packages/apstools/devices.py:169: UserWarning: You have called obj.value on EpicsSignal(read_pv='sky:scaler1.NM4', name='scaler_channels_chan04_chname', parent='scaler_channels_chan04', value='scint', timestamp=1587535749.845727, auto_monitor=False, string=False, write_pv='sky:scaler1.NM4', limits=False, put_complete=False) (scaler_channels_chan04_chname.channels.chan04.chname) which is a non-monitored signal.\n",
      "We are falling back to calling `.get` and interrogating the underlying control system, however this may cause several other problems:\n",
      "   1. This property access may take an arbitrarily long time\n",
      "   2. This property access, which you expect to be read only may change other state in the Signal.\n",
      "Your options to fix this are:\n",
      "  - do not use obj.value.\n",
      "    - If you are using this is in a plan you like want to be using bps.read, bps.rd, bpp.reset_positions_decorator, bpp.reset_positions_wrapper, bpp.relative_set_decorator, or bpp.relative_set_wrapper\n",
      "    - if you are doing this in an ophyd method use `self.get`\n",
      "  - set up the Signal to monitor\n",
      "\n",
      "This behavior will likely change in the future.\n",
      "  if nm_pv is not None and len(nm_pv.chname.value.strip()) > 0:\n",
      "/home/beams/JEMIAN/.conda/envs/bluesky_2020_4/lib/python3.7/site-packages/apstools/devices.py:169: UserWarning: You have called obj.value on EpicsSignal(read_pv='sky:scaler1.NM7', name='scaler_channels_chan07_chname', parent='scaler_channels_chan07', value='roi1', timestamp=1587535749.845727, auto_monitor=False, string=False, write_pv='sky:scaler1.NM7', limits=False, put_complete=False) (scaler_channels_chan07_chname.channels.chan07.chname) which is a non-monitored signal.\n",
      "We are falling back to calling `.get` and interrogating the underlying control system, however this may cause several other problems:\n",
      "   1. This property access may take an arbitrarily long time\n",
      "   2. This property access, which you expect to be read only may change other state in the Signal.\n",
      "Your options to fix this are:\n",
      "  - do not use obj.value.\n",
      "    - If you are using this is in a plan you like want to be using bps.read, bps.rd, bpp.reset_positions_decorator, bpp.reset_positions_wrapper, bpp.relative_set_decorator, or bpp.relative_set_wrapper\n",
      "    - if you are doing this in an ophyd method use `self.get`\n",
      "  - set up the Signal to monitor\n",
      "\n",
      "This behavior will likely change in the future.\n",
      "  if nm_pv is not None and len(nm_pv.chname.value.strip()) > 0:\n"
     ]
    },
    {
     "data": {
      "text/plain": [
       "OrderedDict([('clock', {'value': 5000000.0, 'timestamp': 1587535749.845727}),\n",
       "             ('I0', {'value': 1.0, 'timestamp': 1587535749.845727}),\n",
       "             ('scint', {'value': 1.0, 'timestamp': 1587535749.845727}),\n",
       "             ('roi1', {'value': 2.0, 'timestamp': 1587535749.845727}),\n",
       "             ('scaler_time', {'value': 0.5, 'timestamp': 1587535749.845727})])"
      ]
     },
     "execution_count": 8,
     "metadata": {},
     "output_type": "execute_result"
    }
   ],
   "source": [
    "scaler.match_names()\n",
    "use_EPICS_scaler_channels(scaler)\n",
    "scaler.read()"
   ]
  },
  {
   "cell_type": "markdown",
   "metadata": {},
   "source": [
    "## Get, then Set the count time on the scaler\n",
    "\n",
    "The preset counting time (`.TP`) is one of the many fields of the EPICS scaler record.  It is available as `scaler.preset_time` in this scaler object.  We can inspect this:"
   ]
  },
  {
   "cell_type": "code",
   "execution_count": 9,
   "metadata": {},
   "outputs": [
    {
     "data": {
      "text/plain": [
       "EpicsSignal(read_pv='sky:scaler1.TP', name='scaler_preset_time', parent='scaler', timestamp=1587535749.845727, tolerance=0.001, auto_monitor=False, string=False, write_pv='sky:scaler1.TP', limits=False, put_complete=False)"
      ]
     },
     "execution_count": 9,
     "metadata": {},
     "output_type": "execute_result"
    }
   ],
   "source": [
    "scaler.preset_time"
   ]
  },
  {
   "cell_type": "markdown",
   "metadata": {},
   "source": [
    "Since `scaler.preset_time` is an [`EpicsSignal`](https://github.com/NSLS-II/ophyd/blob/master/ophyd/signal.py#L647), ([Signal](http://nsls-ii.github.io/ophyd/signals.html) is a fundamental ophyd structure), we print its `.value`."
   ]
  },
  {
   "cell_type": "code",
   "execution_count": 10,
   "metadata": {},
   "outputs": [
    {
     "name": "stderr",
     "output_type": "stream",
     "text": [
      "/home/beams/JEMIAN/.conda/envs/bluesky_2020_4/lib/python3.7/site-packages/ipykernel_launcher.py:1: UserWarning: You have called obj.value on EpicsSignal(read_pv='sky:scaler1.TP', name='scaler_preset_time', parent='scaler', timestamp=1587535749.845727, tolerance=0.001, auto_monitor=False, string=False, write_pv='sky:scaler1.TP', limits=False, put_complete=False) (scaler_preset_time.preset_time) which has not gotten value from the control system yet.\n",
      "We are falling back to calling `.get` and interrogating the underlying control system, however this may cause several other problems:\n",
      "   1. This property access may take an arbitrarily long time\n",
      "   2. This property access, which you expect to be read only may change other state in the Signal.\n",
      "Your options to fix this are:\n",
      "  - do not use obj.value.\n",
      "    - If you are using this is in a plan you like want to be using bps.read, bps.rd, bpp.reset_positions_decorator, bpp.reset_positions_wrapper, bpp.relative_set_decorator, or bpp.relative_set_wrapper\n",
      "    - if you are doing this in an ophyd method use `self.get`\n",
      "  - set up the Signal to monitor\n",
      "\n",
      "This behavior will likely change in the future.\n",
      "  \"\"\"Entry point for launching an IPython kernel.\n"
     ]
    },
    {
     "data": {
      "text/plain": [
       "0.4"
      ]
     },
     "execution_count": 10,
     "metadata": {},
     "output_type": "execute_result"
    }
   ],
   "source": [
    "scaler.preset_time.value"
   ]
  },
  {
   "cell_type": "markdown",
   "metadata": {},
   "source": [
    "Set the scaler to count for 1.5 seconds once it is told to count.  We'll count it next."
   ]
  },
  {
   "cell_type": "code",
   "execution_count": 11,
   "metadata": {},
   "outputs": [],
   "source": [
    "scaler.preset_time.put(1.5)"
   ]
  },
  {
   "cell_type": "markdown",
   "metadata": {},
   "source": [
    "Note, to tell the scaler to count, we put a 1 to its `.CNT` field."
   ]
  },
  {
   "cell_type": "code",
   "execution_count": 12,
   "metadata": {},
   "outputs": [],
   "source": [
    "scaler.count.put(1)"
   ]
  },
  {
   "cell_type": "markdown",
   "metadata": {},
   "source": [
    "Now, read the scaler again.  This scaler is not very interesting since it is not connected to any hardware.  But, the timestamps have changed."
   ]
  },
  {
   "cell_type": "code",
   "execution_count": 13,
   "metadata": {},
   "outputs": [
    {
     "data": {
      "text/plain": [
       "OrderedDict([('clock', {'value': 0.0, 'timestamp': 1587535749.845727}),\n",
       "             ('I0', {'value': 0.0, 'timestamp': 1587535749.845727}),\n",
       "             ('scint', {'value': 0.0, 'timestamp': 1587535749.845727}),\n",
       "             ('roi1', {'value': 0.0, 'timestamp': 1587535749.845727}),\n",
       "             ('scaler_time', {'value': 0.0, 'timestamp': 1587535749.845727})])"
      ]
     },
     "execution_count": 13,
     "metadata": {},
     "output_type": "execute_result"
    }
   ],
   "source": [
    "scaler.read()"
   ]
  },
  {
   "cell_type": "markdown",
   "metadata": {},
   "source": [
    "## Use Bluesky to count the scaler\n",
    "\n",
    "So far, we have used ophyd to talk with the EPICS scaler.  Let's start to use Bluesky.  We need to load support to start the Bluesky [*RunEngine*](http://nsls-ii.github.io/bluesky/tutorial.html#the-runengine).  For now, we'll use the most basic configuration (does not save data anywhere).  \n",
    "\n",
    "The job of the RunEngine is to process command messages (our data acquisition commands) and to output documents (the data to be acquired).  Initially, we'll use predefined data acquisition sequences (called [*plans*](http://nsls-ii.github.io/bluesky/plans.html)) and ignore the [documents](http://nsls-ii.github.io/bluesky/documents.html)."
   ]
  },
  {
   "cell_type": "code",
   "execution_count": 14,
   "metadata": {},
   "outputs": [],
   "source": [
    "from bluesky import RunEngine\n",
    "RE = RunEngine({})"
   ]
  },
  {
   "cell_type": "markdown",
   "metadata": {},
   "source": [
    "Next, we'll load a library with many [predefined plans](http://nsls-ii.github.io/bluesky/plans.html#summary).  The first plan we want to use is [`count()`](http://nsls-ii.github.io/bluesky/generated/bluesky.plans.count.html#bluesky.plans.count).  By the way, we'll use a python feature to rename `bluesky.plans` to the shorter `bp` since it will be used a lot."
   ]
  },
  {
   "cell_type": "code",
   "execution_count": 15,
   "metadata": {},
   "outputs": [],
   "source": [
    "import bluesky.plans as bp"
   ]
  },
  {
   "cell_type": "markdown",
   "metadata": {},
   "source": [
    "Now we can count the `scaler` by submitting the `bp.count` plan to the RunEngine instance `RE`.  The `bp.count()` plan takes one argument, a *list* of countable objects (just in case you want to count more than one detector at the same time).  Our list has only one object: `scaler`"
   ]
  },
  {
   "cell_type": "code",
   "execution_count": 16,
   "metadata": {},
   "outputs": [
    {
     "data": {
      "text/plain": [
       "('65856893-f2a4-4b22-8ffe-f2a22d5b8c19',)"
      ]
     },
     "execution_count": 16,
     "metadata": {},
     "output_type": "execute_result"
    }
   ],
   "source": [
    "RE(bp.count([scaler]))"
   ]
  },
  {
   "cell_type": "markdown",
   "metadata": {},
   "source": [
    "The final result from submitting a plan to the RunEngine is an identifier of the sequence of documents.  Since we did not capture that sequence, we can't view it or access it in any way.  Let's *fix* that next."
   ]
  },
  {
   "cell_type": "markdown",
   "metadata": {},
   "source": [
    "### Report about the documents emitted from the RunEngine\n",
    "\n",
    "To display information about the documents emitted from the RunEngine, we need to make a function that will receive the documents.  \n",
    "\n",
    "In Bluesky terms, this type of function is a *callback*.  It takes two arguments.  The first argument is a `str` that tells what kind of document is coming, the second is a python dictionary with the document's contents.  We'll start by printing summary information.  We then submit the plan again with the name of our callback function as a second argument (not to `bp.count` but as a second argument to `RE()`)."
   ]
  },
  {
   "cell_type": "code",
   "execution_count": 17,
   "metadata": {},
   "outputs": [],
   "source": [
    "def myCallback(key, doc):\n",
    "    print(key, len(doc))"
   ]
  },
  {
   "cell_type": "code",
   "execution_count": 18,
   "metadata": {},
   "outputs": [
    {
     "name": "stdout",
     "output_type": "stream",
     "text": [
      "start 11\n",
      "descriptor 8\n",
      "event 7\n",
      "stop 6\n"
     ]
    },
    {
     "data": {
      "text/plain": [
       "('114cb89e-4e4b-4cb2-b43e-bf63a171e5bf',)"
      ]
     },
     "execution_count": 18,
     "metadata": {},
     "output_type": "execute_result"
    }
   ],
   "source": [
    "RE(bp.count([scaler]), myCallback)"
   ]
  },
  {
   "cell_type": "markdown",
   "metadata": {},
   "source": [
    "So, there were four documents.  See http://nsls-ii.github.io/bluesky/documents.html for the details of each.  Let's extend our callback to print the details of each."
   ]
  },
  {
   "cell_type": "code",
   "execution_count": 19,
   "metadata": {},
   "outputs": [],
   "source": [
    "def myCallback(key, doc):\n",
    "    print(key, len(doc))\n",
    "    for k, v in doc.items():\n",
    "        print(\"\\t\", k, v)\n",
    "    print(\"~~~~~~~~~~~~~~~~~\")"
   ]
  },
  {
   "cell_type": "code",
   "execution_count": 20,
   "metadata": {},
   "outputs": [
    {
     "name": "stdout",
     "output_type": "stream",
     "text": [
      "start 11\n",
      "\t uid 00be4fd0-8443-4f1b-97bb-2cdbf4485f90\n",
      "\t time 1587536106.9568734\n",
      "\t versions {'ophyd': '1.4.1', 'bluesky': '1.6.0'}\n",
      "\t scan_id 3\n",
      "\t plan_type generator\n",
      "\t plan_name count\n",
      "\t detectors ['scaler']\n",
      "\t num_points 1\n",
      "\t num_intervals 0\n",
      "\t plan_args {'detectors': [\"ScalerCH(prefix='sky:scaler1', name='scaler', read_attrs=['channels', 'channels.chan01', 'channels.chan01.s', 'channels.chan02', 'channels.chan02.s', 'channels.chan03', 'channels.chan03.s', 'channels.chan04', 'channels.chan04.s', 'channels.chan07', 'channels.chan07.s', 'time'], configuration_attrs=['channels', 'channels.chan01', 'channels.chan01.gate', 'channels.chan02', 'channels.chan02.chname', 'channels.chan02.preset', 'channels.chan03', 'channels.chan03.chname', 'channels.chan03.preset', 'channels.chan03.gate', 'channels.chan04', 'channels.chan04.gate', 'channels.chan07', 'channels.chan07.chname', 'channels.chan07.preset', 'channels.chan07.gate', 'count_mode', 'delay', 'auto_count_delay', 'freq', 'preset_time', 'auto_count_time', 'egu'])\"], 'num': 1}\n",
      "\t hints {'dimensions': [(('time',), 'primary')]}\n",
      "~~~~~~~~~~~~~~~~~\n",
      "descriptor 8\n",
      "\t run_start 00be4fd0-8443-4f1b-97bb-2cdbf4485f90\n",
      "\t time 1587536108.5813568\n",
      "\t data_keys {'clock': {'source': 'PV:sky:scaler1.S1', 'dtype': 'number', 'shape': [], 'units': '', 'lower_ctrl_limit': 0.0, 'upper_ctrl_limit': 0.0, 'precision': 0, 'object_name': 'scaler'}, 'I0': {'source': 'PV:sky:scaler1.S2', 'dtype': 'number', 'shape': [], 'units': '', 'lower_ctrl_limit': 0.0, 'upper_ctrl_limit': 0.0, 'precision': 0, 'object_name': 'scaler'}, 'scint': {'source': 'PV:sky:scaler1.S4', 'dtype': 'number', 'shape': [], 'units': '', 'lower_ctrl_limit': 0.0, 'upper_ctrl_limit': 0.0, 'precision': 0, 'object_name': 'scaler'}, 'roi1': {'source': 'PV:sky:scaler1.S7', 'dtype': 'number', 'shape': [], 'units': '', 'lower_ctrl_limit': 0.0, 'upper_ctrl_limit': 0.0, 'precision': 0, 'object_name': 'scaler'}, 'scaler_time': {'source': 'PV:sky:scaler1.T', 'dtype': 'number', 'shape': [], 'units': '', 'lower_ctrl_limit': 0.0, 'upper_ctrl_limit': 0.0, 'precision': 3, 'object_name': 'scaler'}}\n",
      "\t uid df8c5b53-c9f3-47af-83cf-3853c0a15f0a\n",
      "\t configuration {'scaler': {'data': {'scaler_channels_chan01_gate': 'Y', 'scaler_channels_chan02_chname': 'I0', 'scaler_channels_chan02_preset': 0.0, 'scaler_channels_chan03_chname': 'scint', 'scaler_channels_chan03_preset': 0.0, 'scaler_channels_chan03_gate': 'N', 'scaler_channels_chan04_gate': 'N', 'scaler_channels_chan07_chname': 'roi1', 'scaler_channels_chan07_preset': 0.0, 'scaler_channels_chan07_gate': 'N', 'scaler_count_mode': 'OneShot', 'scaler_delay': 0.0, 'scaler_auto_count_delay': 0.0, 'scaler_freq': 10000000.0, 'scaler_preset_time': 1.5, 'scaler_auto_count_time': 1.0, 'scaler_egu': ''}, 'timestamps': {'scaler_channels_chan01_gate': 1587536108.576314, 'scaler_channels_chan02_chname': 1587536108.576314, 'scaler_channels_chan02_preset': 1587536108.576314, 'scaler_channels_chan03_chname': 1587536108.576314, 'scaler_channels_chan03_preset': 1587536108.576314, 'scaler_channels_chan03_gate': 1587536108.576314, 'scaler_channels_chan04_gate': 1587536108.576314, 'scaler_channels_chan07_chname': 1587536108.576314, 'scaler_channels_chan07_preset': 1587536108.576314, 'scaler_channels_chan07_gate': 1587536108.576314, 'scaler_count_mode': 1587536108.576314, 'scaler_delay': 1587536108.576314, 'scaler_auto_count_delay': 1587536108.576314, 'scaler_freq': 1587536108.576314, 'scaler_preset_time': 1587536108.576314, 'scaler_auto_count_time': 1587536108.576314, 'scaler_egu': 1587536108.576314}, 'data_keys': OrderedDict([('scaler_channels_chan01_gate', {'source': 'PV:sky:scaler1.G1', 'dtype': 'string', 'shape': [], 'units': None, 'lower_ctrl_limit': None, 'upper_ctrl_limit': None, 'enum_strs': ('N', 'Y')}), ('scaler_channels_chan02_chname', {'source': 'PV:sky:scaler1.NM2', 'dtype': 'string', 'shape': [], 'units': None, 'lower_ctrl_limit': None, 'upper_ctrl_limit': None}), ('scaler_channels_chan02_preset', {'source': 'PV:sky:scaler1.PR2', 'dtype': 'number', 'shape': [], 'units': '', 'lower_ctrl_limit': 0.0, 'upper_ctrl_limit': 0.0, 'precision': 0}), ('scaler_channels_chan03_chname', {'source': 'PV:sky:scaler1.NM3', 'dtype': 'string', 'shape': [], 'units': None, 'lower_ctrl_limit': None, 'upper_ctrl_limit': None}), ('scaler_channels_chan03_preset', {'source': 'PV:sky:scaler1.PR3', 'dtype': 'number', 'shape': [], 'units': '', 'lower_ctrl_limit': 0.0, 'upper_ctrl_limit': 0.0, 'precision': 0}), ('scaler_channels_chan03_gate', {'source': 'PV:sky:scaler1.G3', 'dtype': 'string', 'shape': [], 'units': None, 'lower_ctrl_limit': None, 'upper_ctrl_limit': None, 'enum_strs': ('N', 'Y')}), ('scaler_channels_chan04_gate', {'source': 'PV:sky:scaler1.G4', 'dtype': 'string', 'shape': [], 'units': None, 'lower_ctrl_limit': None, 'upper_ctrl_limit': None, 'enum_strs': ('N', 'Y')}), ('scaler_channels_chan07_chname', {'source': 'PV:sky:scaler1.NM7', 'dtype': 'string', 'shape': [], 'units': None, 'lower_ctrl_limit': None, 'upper_ctrl_limit': None}), ('scaler_channels_chan07_preset', {'source': 'PV:sky:scaler1.PR7', 'dtype': 'number', 'shape': [], 'units': '', 'lower_ctrl_limit': 0.0, 'upper_ctrl_limit': 0.0, 'precision': 0}), ('scaler_channels_chan07_gate', {'source': 'PV:sky:scaler1.G7', 'dtype': 'string', 'shape': [], 'units': None, 'lower_ctrl_limit': None, 'upper_ctrl_limit': None, 'enum_strs': ('N', 'Y')}), ('scaler_count_mode', {'source': 'PV:sky:scaler1.CONT', 'dtype': 'string', 'shape': [], 'units': None, 'lower_ctrl_limit': None, 'upper_ctrl_limit': None, 'enum_strs': ('OneShot', 'AutoCount')}), ('scaler_delay', {'source': 'PV:sky:scaler1.DLY', 'dtype': 'number', 'shape': [], 'units': '', 'lower_ctrl_limit': 0.0, 'upper_ctrl_limit': 0.0, 'precision': 3}), ('scaler_auto_count_delay', {'source': 'PV:sky:scaler1.DLY1', 'dtype': 'number', 'shape': [], 'units': '', 'lower_ctrl_limit': 0.0, 'upper_ctrl_limit': 0.0, 'precision': 3}), ('scaler_freq', {'source': 'PV:sky:scaler1.FREQ', 'dtype': 'number', 'shape': [], 'units': '', 'lower_ctrl_limit': 0.0, 'upper_ctrl_limit': 0.0, 'precision': 3}), ('scaler_preset_time', {'source': 'PV:sky:scaler1.TP', 'dtype': 'number', 'shape': [], 'units': '', 'lower_ctrl_limit': 0.0, 'upper_ctrl_limit': 0.0, 'precision': 3}), ('scaler_auto_count_time', {'source': 'PV:sky:scaler1.TP1', 'dtype': 'number', 'shape': [], 'units': '', 'lower_ctrl_limit': 0.0, 'upper_ctrl_limit': 0.0, 'precision': 3}), ('scaler_egu', {'source': 'PV:sky:scaler1.EGU', 'dtype': 'string', 'shape': [], 'units': None, 'lower_ctrl_limit': None, 'upper_ctrl_limit': None})])}}\n",
      "\t name primary\n",
      "\t hints {'scaler': {'fields': ['clock', 'I0', 'scint', 'scint', 'roi1']}}\n",
      "\t object_keys {'scaler': ['clock', 'I0', 'scint', 'roi1', 'scaler_time']}\n",
      "~~~~~~~~~~~~~~~~~\n",
      "event 7\n",
      "\t descriptor df8c5b53-c9f3-47af-83cf-3853c0a15f0a\n",
      "\t time 1587536108.5852838\n",
      "\t data {'clock': 16000000.0, 'I0': 6.0, 'scint': 9.0, 'roi1': 9.0, 'scaler_time': 1.6}\n",
      "\t timestamps {'clock': 1587536108.576314, 'I0': 1587536108.576314, 'scint': 1587536108.576314, 'roi1': 1587536108.576314, 'scaler_time': 1587536108.576314}\n",
      "\t seq_num 1\n",
      "\t uid 6ac5c94b-6337-4c45-b5d4-82b528b89a01\n",
      "\t filled {}\n",
      "~~~~~~~~~~~~~~~~~\n",
      "stop 6\n",
      "\t run_start 00be4fd0-8443-4f1b-97bb-2cdbf4485f90\n",
      "\t time 1587536108.5868337\n",
      "\t uid 1caa9271-8245-449d-81b6-e087125e6ddb\n",
      "\t exit_status success\n",
      "\t reason \n",
      "\t num_events {'primary': 1}\n",
      "~~~~~~~~~~~~~~~~~\n"
     ]
    },
    {
     "data": {
      "text/plain": [
       "('00be4fd0-8443-4f1b-97bb-2cdbf4485f90',)"
      ]
     },
     "execution_count": 20,
     "metadata": {},
     "output_type": "execute_result"
    }
   ],
   "source": [
    "RE(bp.count([scaler]), myCallback)"
   ]
  },
  {
   "cell_type": "markdown",
   "metadata": {},
   "source": [
    "With the details, we see more of what is happening.  \n",
    "\n",
    "The first document is a `start` and it says what is happening and how it will be identified.  The identifier (named `uid`) is a [UUID](https://docs.python.org/3.6/library/uuid.html) (specifically, a [uuid4](https://docs.python.org/3.6/library/uuid.html#uuid.uuid4)).  This looks tedious and random.  The one good thing is that these are unique and often can be referred to by the first few characters (6-8 are enough to be *probably* unique).  The `uid` from the `start` document is what the RunEngine reports when the scan stops.\n",
    "\n",
    "The second document is a `descriptor` and it says what, exactly, will be measured.  It also includes a reference to `start`'s `uid`.  We can follow the chain back to `start` this way.\n",
    "\n",
    "The third document is an `event` and it provides the data reading when the scaler was counted.  The data is read according to the `descriptor` document (just actual values for the *named* channels).\n",
    "\n",
    "The last document is a `stop` document that describes how things ended.  It also says there was only one stream of event documents named *primary*.\n",
    "\n",
    "Let's repeat that plan, this time asking to `count` the scaler three times.  This is the `num=3` addition to the call to `bp.count()`.  What's tricky now is keeping track of the parentheses and square braces."
   ]
  },
  {
   "cell_type": "code",
   "execution_count": 21,
   "metadata": {},
   "outputs": [
    {
     "name": "stdout",
     "output_type": "stream",
     "text": [
      "start 11\n",
      "\t uid 3033f13e-bee7-4c62-9e24-a572e1de3d6b\n",
      "\t time 1587536108.5958724\n",
      "\t versions {'ophyd': '1.4.1', 'bluesky': '1.6.0'}\n",
      "\t scan_id 4\n",
      "\t plan_type generator\n",
      "\t plan_name count\n",
      "\t detectors ['scaler']\n",
      "\t num_points 3\n",
      "\t num_intervals 2\n",
      "\t plan_args {'detectors': [\"ScalerCH(prefix='sky:scaler1', name='scaler', read_attrs=['channels', 'channels.chan01', 'channels.chan01.s', 'channels.chan02', 'channels.chan02.s', 'channels.chan03', 'channels.chan03.s', 'channels.chan04', 'channels.chan04.s', 'channels.chan07', 'channels.chan07.s', 'time'], configuration_attrs=['channels', 'channels.chan01', 'channels.chan01.gate', 'channels.chan02', 'channels.chan02.chname', 'channels.chan02.preset', 'channels.chan03', 'channels.chan03.chname', 'channels.chan03.preset', 'channels.chan03.gate', 'channels.chan04', 'channels.chan04.gate', 'channels.chan07', 'channels.chan07.chname', 'channels.chan07.preset', 'channels.chan07.gate', 'count_mode', 'delay', 'auto_count_delay', 'freq', 'preset_time', 'auto_count_time', 'egu'])\"], 'num': 3}\n",
      "\t hints {'dimensions': [(('time',), 'primary')]}\n",
      "~~~~~~~~~~~~~~~~~\n",
      "descriptor 8\n",
      "\t run_start 3033f13e-bee7-4c62-9e24-a572e1de3d6b\n",
      "\t time 1587536110.126922\n",
      "\t data_keys {'clock': {'source': 'PV:sky:scaler1.S1', 'dtype': 'number', 'shape': [], 'units': '', 'lower_ctrl_limit': 0.0, 'upper_ctrl_limit': 0.0, 'precision': 0, 'object_name': 'scaler'}, 'I0': {'source': 'PV:sky:scaler1.S2', 'dtype': 'number', 'shape': [], 'units': '', 'lower_ctrl_limit': 0.0, 'upper_ctrl_limit': 0.0, 'precision': 0, 'object_name': 'scaler'}, 'scint': {'source': 'PV:sky:scaler1.S4', 'dtype': 'number', 'shape': [], 'units': '', 'lower_ctrl_limit': 0.0, 'upper_ctrl_limit': 0.0, 'precision': 0, 'object_name': 'scaler'}, 'roi1': {'source': 'PV:sky:scaler1.S7', 'dtype': 'number', 'shape': [], 'units': '', 'lower_ctrl_limit': 0.0, 'upper_ctrl_limit': 0.0, 'precision': 0, 'object_name': 'scaler'}, 'scaler_time': {'source': 'PV:sky:scaler1.T', 'dtype': 'number', 'shape': [], 'units': '', 'lower_ctrl_limit': 0.0, 'upper_ctrl_limit': 0.0, 'precision': 3, 'object_name': 'scaler'}}\n",
      "\t uid a081ca54-e0dc-46e3-924e-d951dc6108f5\n",
      "\t configuration {'scaler': {'data': {'scaler_channels_chan01_gate': 'Y', 'scaler_channels_chan02_chname': 'I0', 'scaler_channels_chan02_preset': 0.0, 'scaler_channels_chan03_chname': 'scint', 'scaler_channels_chan03_preset': 0.0, 'scaler_channels_chan03_gate': 'N', 'scaler_channels_chan04_gate': 'N', 'scaler_channels_chan07_chname': 'roi1', 'scaler_channels_chan07_preset': 0.0, 'scaler_channels_chan07_gate': 'N', 'scaler_count_mode': 'OneShot', 'scaler_delay': 0.0, 'scaler_auto_count_delay': 0.0, 'scaler_freq': 10000000.0, 'scaler_preset_time': 1.5, 'scaler_auto_count_time': 1.0, 'scaler_egu': ''}, 'timestamps': {'scaler_channels_chan01_gate': 1587536110.121171, 'scaler_channels_chan02_chname': 1587536110.121171, 'scaler_channels_chan02_preset': 1587536110.121171, 'scaler_channels_chan03_chname': 1587536110.121171, 'scaler_channels_chan03_preset': 1587536110.121171, 'scaler_channels_chan03_gate': 1587536110.121171, 'scaler_channels_chan04_gate': 1587536110.121171, 'scaler_channels_chan07_chname': 1587536110.121171, 'scaler_channels_chan07_preset': 1587536110.121171, 'scaler_channels_chan07_gate': 1587536110.121171, 'scaler_count_mode': 1587536110.121171, 'scaler_delay': 1587536110.121171, 'scaler_auto_count_delay': 1587536110.121171, 'scaler_freq': 1587536110.121171, 'scaler_preset_time': 1587536110.121171, 'scaler_auto_count_time': 1587536110.121171, 'scaler_egu': 1587536110.121171}, 'data_keys': OrderedDict([('scaler_channels_chan01_gate', {'source': 'PV:sky:scaler1.G1', 'dtype': 'string', 'shape': [], 'units': None, 'lower_ctrl_limit': None, 'upper_ctrl_limit': None, 'enum_strs': ('N', 'Y')}), ('scaler_channels_chan02_chname', {'source': 'PV:sky:scaler1.NM2', 'dtype': 'string', 'shape': [], 'units': None, 'lower_ctrl_limit': None, 'upper_ctrl_limit': None}), ('scaler_channels_chan02_preset', {'source': 'PV:sky:scaler1.PR2', 'dtype': 'number', 'shape': [], 'units': '', 'lower_ctrl_limit': 0.0, 'upper_ctrl_limit': 0.0, 'precision': 0}), ('scaler_channels_chan03_chname', {'source': 'PV:sky:scaler1.NM3', 'dtype': 'string', 'shape': [], 'units': None, 'lower_ctrl_limit': None, 'upper_ctrl_limit': None}), ('scaler_channels_chan03_preset', {'source': 'PV:sky:scaler1.PR3', 'dtype': 'number', 'shape': [], 'units': '', 'lower_ctrl_limit': 0.0, 'upper_ctrl_limit': 0.0, 'precision': 0}), ('scaler_channels_chan03_gate', {'source': 'PV:sky:scaler1.G3', 'dtype': 'string', 'shape': [], 'units': None, 'lower_ctrl_limit': None, 'upper_ctrl_limit': None, 'enum_strs': ('N', 'Y')}), ('scaler_channels_chan04_gate', {'source': 'PV:sky:scaler1.G4', 'dtype': 'string', 'shape': [], 'units': None, 'lower_ctrl_limit': None, 'upper_ctrl_limit': None, 'enum_strs': ('N', 'Y')}), ('scaler_channels_chan07_chname', {'source': 'PV:sky:scaler1.NM7', 'dtype': 'string', 'shape': [], 'units': None, 'lower_ctrl_limit': None, 'upper_ctrl_limit': None}), ('scaler_channels_chan07_preset', {'source': 'PV:sky:scaler1.PR7', 'dtype': 'number', 'shape': [], 'units': '', 'lower_ctrl_limit': 0.0, 'upper_ctrl_limit': 0.0, 'precision': 0}), ('scaler_channels_chan07_gate', {'source': 'PV:sky:scaler1.G7', 'dtype': 'string', 'shape': [], 'units': None, 'lower_ctrl_limit': None, 'upper_ctrl_limit': None, 'enum_strs': ('N', 'Y')}), ('scaler_count_mode', {'source': 'PV:sky:scaler1.CONT', 'dtype': 'string', 'shape': [], 'units': None, 'lower_ctrl_limit': None, 'upper_ctrl_limit': None, 'enum_strs': ('OneShot', 'AutoCount')}), ('scaler_delay', {'source': 'PV:sky:scaler1.DLY', 'dtype': 'number', 'shape': [], 'units': '', 'lower_ctrl_limit': 0.0, 'upper_ctrl_limit': 0.0, 'precision': 3}), ('scaler_auto_count_delay', {'source': 'PV:sky:scaler1.DLY1', 'dtype': 'number', 'shape': [], 'units': '', 'lower_ctrl_limit': 0.0, 'upper_ctrl_limit': 0.0, 'precision': 3}), ('scaler_freq', {'source': 'PV:sky:scaler1.FREQ', 'dtype': 'number', 'shape': [], 'units': '', 'lower_ctrl_limit': 0.0, 'upper_ctrl_limit': 0.0, 'precision': 3}), ('scaler_preset_time', {'source': 'PV:sky:scaler1.TP', 'dtype': 'number', 'shape': [], 'units': '', 'lower_ctrl_limit': 0.0, 'upper_ctrl_limit': 0.0, 'precision': 3}), ('scaler_auto_count_time', {'source': 'PV:sky:scaler1.TP1', 'dtype': 'number', 'shape': [], 'units': '', 'lower_ctrl_limit': 0.0, 'upper_ctrl_limit': 0.0, 'precision': 3}), ('scaler_egu', {'source': 'PV:sky:scaler1.EGU', 'dtype': 'string', 'shape': [], 'units': None, 'lower_ctrl_limit': None, 'upper_ctrl_limit': None})])}}\n",
      "\t name primary\n",
      "\t hints {'scaler': {'fields': ['clock', 'I0', 'scint', 'scint', 'roi1']}}\n",
      "\t object_keys {'scaler': ['clock', 'I0', 'scint', 'roi1', 'scaler_time']}\n",
      "~~~~~~~~~~~~~~~~~\n",
      "event 7\n",
      "\t descriptor a081ca54-e0dc-46e3-924e-d951dc6108f5\n",
      "\t time 1587536110.1312637\n",
      "\t data {'clock': 16000000.0, 'I0': 7.0, 'scint': 8.0, 'roi1': 8.0, 'scaler_time': 1.6}\n",
      "\t timestamps {'clock': 1587536110.121171, 'I0': 1587536110.121171, 'scint': 1587536110.121171, 'roi1': 1587536110.121171, 'scaler_time': 1587536110.121171}\n",
      "\t seq_num 1\n",
      "\t uid 36c81284-e113-4cb6-b4af-f0bbdbb125e8\n",
      "\t filled {}\n",
      "~~~~~~~~~~~~~~~~~\n",
      "event 7\n",
      "\t descriptor a081ca54-e0dc-46e3-924e-d951dc6108f5\n",
      "\t time 1587536111.751758\n",
      "\t data {'clock': 16000000.0, 'I0': 6.0, 'scint': 7.0, 'roi1': 9.0, 'scaler_time': 1.6}\n",
      "\t timestamps {'clock': 1587536111.749645, 'I0': 1587536111.749645, 'scint': 1587536111.749645, 'roi1': 1587536111.749645, 'scaler_time': 1587536111.749645}\n",
      "\t seq_num 2\n",
      "\t uid 04c4deb6-f8a2-47bf-b133-3d69e8a0a40c\n",
      "\t filled {}\n",
      "~~~~~~~~~~~~~~~~~\n",
      "event 7\n",
      "\t descriptor a081ca54-e0dc-46e3-924e-d951dc6108f5\n",
      "\t time 1587536113.3726838\n",
      "\t data {'clock': 16000000.0, 'I0': 7.0, 'scint': 8.0, 'roi1': 7.0, 'scaler_time': 1.6}\n",
      "\t timestamps {'clock': 1587536113.370926, 'I0': 1587536113.370926, 'scint': 1587536113.370926, 'roi1': 1587536113.370926, 'scaler_time': 1587536113.370926}\n",
      "\t seq_num 3\n",
      "\t uid 358262bf-3f10-4af8-82d0-6a2be35eff78\n",
      "\t filled {}\n",
      "~~~~~~~~~~~~~~~~~\n",
      "stop 6\n",
      "\t run_start 3033f13e-bee7-4c62-9e24-a572e1de3d6b\n",
      "\t time 1587536113.3730767\n",
      "\t uid 8b2a3f83-f7dc-4aa4-bcc1-76ead83e4037\n",
      "\t exit_status success\n",
      "\t reason \n",
      "\t num_events {'primary': 3}\n",
      "~~~~~~~~~~~~~~~~~\n"
     ]
    },
    {
     "data": {
      "text/plain": [
       "('3033f13e-bee7-4c62-9e24-a572e1de3d6b',)"
      ]
     },
     "execution_count": 21,
     "metadata": {},
     "output_type": "execute_result"
    }
   ],
   "source": [
    "RE(bp.count([scaler], num=3), myCallback)"
   ]
  },
  {
   "cell_type": "markdown",
   "metadata": {},
   "source": [
    "Mostly the same but now there are three `event` documents."
   ]
  },
  {
   "cell_type": "markdown",
   "metadata": {},
   "source": [
    "# Summary\n",
    "\n",
    "We'll show this code as a python program:\n",
    "\n",
    "```\n",
    "#!/usr/bin/env python\n",
    "\n",
    "\"lesson 1: EpicsScaler\"\n",
    "\n",
    "from ophyd.scaler import ScalerCH\n",
    "from bluesky import RunEngine\n",
    "import bluesky.plans as bp\n",
    "from apstools.devices import use_EPICS_scaler_channels\n",
    "\n",
    "\n",
    "def myCallback(key, doc):\n",
    "    print(key, len(doc))\n",
    "    for k, v in doc.items():\n",
    "        print(\"\\t\", k, v)\n",
    "    print(\"~~~~~~~~~~~~~~~~~\")\n",
    "\n",
    "\n",
    "RE = RunEngine({})\n",
    "\n",
    "scaler = ScalerCH(\"sky:scaler1\", name=\"scaler\")\n",
    "scaler.preset_time.put(1.5)\n",
    "print(scaler.preset_time.value)\n",
    "\n",
    "scaler.channels.chan04.chname.put(\"scint\")\n",
    "scaler.channels.chan07.chname.put(\"roi1\")\n",
    "\n",
    "scaler.match_names()\n",
    "use_EPICS_scaler_channels(scaler)\n",
    "print(scaler.read())\n",
    "print(RE(bp.count([scaler], num=3), myCallback))\n",
    "```\n"
   ]
  },
  {
   "cell_type": "markdown",
   "metadata": {},
   "source": [
    "## Quit the jupyter notebook\n",
    "\n",
    "* Save the \"lesson1\" page if you wish.\n",
    "* Press the **Logout** button in the upper right corner of \"lesson1\" and close the page.\n",
    "* Press the **Logout** button in the upper right corner of \"Home\" and close the page.\n",
    "* Type Control-C (^C) twice in the jupyter-notebook console to kill the server."
   ]
  }
 ],
 "metadata": {
  "kernelspec": {
   "display_name": "Python 3",
   "language": "python",
   "name": "python3"
  },
  "language_info": {
   "codemirror_mode": {
    "name": "ipython",
    "version": 3
   },
   "file_extension": ".py",
   "mimetype": "text/x-python",
   "name": "python",
   "nbconvert_exporter": "python",
   "pygments_lexer": "ipython3",
   "version": "3.7.7"
  }
 },
 "nbformat": 4,
 "nbformat_minor": 2
}
