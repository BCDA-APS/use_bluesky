{
 "cells": [
  {
   "cell_type": "markdown",
   "metadata": {},
   "source": [
    "# Lesson 6 : EPICS area detector\n",
    "\n",
    "Start the instrument package as our routine initialization."
   ]
  },
  {
   "cell_type": "code",
   "execution_count": 1,
   "metadata": {},
   "outputs": [
    {
     "output_type": "stream",
     "name": "stderr",
     "text": "I Thu-09:45:00 - ############################################################ startup\nI Thu-09:45:00 - logging started\nI Thu-09:45:00 - logging level = 10\nI Thu-09:45:00 - c:\\Users\\Pete\\Documents\\projects\\use_bluesky\\lessons\\instrument\\collection.py\nI Thu-09:45:00 - c:\\Users\\Pete\\Documents\\projects\\use_bluesky\\lessons\\instrument\\mpl\\notebook.py\nActivating auto-logging. Current session state plus future input saved.\nFilename       : c:\\Users\\Pete\\Documents\\projects\\use_bluesky\\lessons\\.logs\\ipython_console.log\nMode           : rotate\nOutput logging : True\nRaw input log  : False\nTimestamping   : True\nState          : active\nI Thu-09:45:02 - bluesky framework\nI Thu-09:45:02 - c:\\Users\\Pete\\Documents\\projects\\use_bluesky\\lessons\\instrument\\framework\\check_python.py\nI Thu-09:45:02 - c:\\Users\\Pete\\Documents\\projects\\use_bluesky\\lessons\\instrument\\framework\\check_bluesky.py\nI Thu-09:45:04 - c:\\Users\\Pete\\Documents\\projects\\use_bluesky\\lessons\\instrument\\framework\\initialize.py\nI Thu-09:45:06 - c:\\Users\\Pete\\Documents\\projects\\use_bluesky\\lessons\\instrument\\framework\\metadata.py\nI Thu-09:45:06 - c:\\Users\\Pete\\Documents\\projects\\use_bluesky\\lessons\\instrument\\framework\\callbacks.py\nI Thu-09:45:06 - writing to SPEC file: c:\\Users\\Pete\\Documents\\projects\\use_bluesky\\lessons\\20200514-094506.dat\nI Thu-09:45:06 -    >>>>   Using default SPEC file name   <<<<\nI Thu-09:45:06 -    file will be created when bluesky ends its next scan\nI Thu-09:45:06 -    to change SPEC file, use command:   newSpecFile('title')\n"
    }
   ],
   "source": [
    "from instrument.collection import *"
   ]
  },
  {
   "cell_type": "markdown",
   "metadata": {},
   "source": [
    "The EPICS area detector support in ophyd has many features, some of them specific to the detector make and model.  Let's start with just a few features using the ADSimDetector.  We'll need to import support from ophyd by parts as they are needed.\n",
    "\n",
    "As we add features from the area detector plugins or other capabilities, the configuration complexity will increase.  So, it is good to start with a simple case where we can control the camera and generate images."
   ]
  },
  {
   "cell_type": "code",
   "execution_count": 2,
   "metadata": {},
   "outputs": [],
   "source": [
    "from ophyd import Component\n",
    "from ophyd.areadetector import ImagePlugin\n",
    "from ophyd.areadetector import SimDetector\n",
    "from ophyd.areadetector import SingleTrigger"
   ]
  },
  {
   "cell_type": "code",
   "execution_count": 3,
   "metadata": {},
   "outputs": [],
   "source": [
    "# for jupyterlab ...\n",
    "# https://stackoverflow.com/a/51932652\n",
    "%matplotlib inline"
   ]
  },
  {
   "cell_type": "code",
   "execution_count": 4,
   "metadata": {},
   "outputs": [],
   "source": [
    "_ad_prefix = \"adsky:\""
   ]
  },
  {
   "cell_type": "code",
   "execution_count": 5,
   "metadata": {},
   "outputs": [],
   "source": [
    "class MySingleTriggerSimDetector(SingleTrigger, SimDetector): \n",
    "       \n",
    "    image = Component(ImagePlugin, suffix=\"image1:\")"
   ]
  },
  {
   "cell_type": "code",
   "execution_count": 6,
   "metadata": {},
   "outputs": [],
   "source": [
    "adsimdet = MySingleTriggerSimDetector(_ad_prefix, name='adsimdet')\n",
    "adsimdet.wait_for_connection()"
   ]
  },
  {
   "cell_type": "code",
   "execution_count": 7,
   "metadata": {},
   "outputs": [
    {
     "output_type": "execute_result",
     "data": {
      "text/plain": "OrderedDict([('cam.acquire', 0),\n             ('cam.image_mode', 1),\n             ('cam.num_images', 1),\n             ('cam.acquire_time', 0.1),\n             ('cam.acquire_period', 0.25)])"
     },
     "metadata": {},
     "execution_count": 7
    }
   ],
   "source": [
    "adsimdet.stage_sigs[\"cam.num_images\"] = 1\n",
    "adsimdet.stage_sigs[\"cam.acquire_time\"] = 0.1\n",
    "adsimdet.stage_sigs[\"cam.acquire_period\"] = 0.25\n",
    "\n",
    "adsimdet.stage_sigs"
   ]
  },
  {
   "cell_type": "code",
   "execution_count": 8,
   "metadata": {},
   "outputs": [
    {
     "output_type": "stream",
     "name": "stdout",
     "text": "\n\nTransient Scan ID: 1     Time: 2020-05-14 09:45:07\nPersistent Unique Scan ID: '29f41ea9-57ee-492a-93fe-9fa76e2d2bed'\nNew stream: 'primary'\n+-----------+------------+\n|   seq_num |       time |\n+-----------+------------+\n|         1 | 09:45:08.1 |\n+-----------+------------+\ngenerator count ['29f41ea9'] (scan num: 1)\n"
    },
    {
     "output_type": "execute_result",
     "data": {
      "text/plain": "('29f41ea9-57ee-492a-93fe-9fa76e2d2bed',)"
     },
     "metadata": {},
     "execution_count": 8
    }
   ],
   "source": [
    "RE(bp.count([adsimdet]))"
   ]
  },
  {
   "cell_type": "markdown",
   "metadata": {},
   "source": [
    "Get the detector image and display it.  In the initial instrument setup, MatPlotLib was initialized for our display.  We need a copy of the plotting object that was created, `plt` to show the detector image."
   ]
  },
  {
   "cell_type": "code",
   "execution_count": 9,
   "metadata": {},
   "outputs": [],
   "source": [
    "# get the MatPlotLib tool\n",
    "from instrument.mpl import plt"
   ]
  },
  {
   "cell_type": "code",
   "execution_count": 10,
   "metadata": {},
   "outputs": [],
   "source": [
    "# NOTE:\n",
    "#   These next cells show how one might get the image data directly from EPICS\n",
    "#   This is not recommended practice with Bluesky so the code has been commented out.\n",
    "\n",
    "# # The image comes from EPICS AD as a 1-D array, row by row.\n",
    "# # We need to make it into a 2-D array, so first we need to\n",
    "# # get the number of rows and columns from the image plugin.\n",
    "\n",
    "# array_size = adsimdet.image.array_size.get()\n",
    "# shape = (array_size.height, array_size.width)\n",
    "\n",
    "# # Now, get the image and make it a 2-D array.\n",
    "# im = adsimdet.image.array_data.get().reshape(shape)\n",
    "\n",
    "# # Tell MatPlotLib to show the image.\n",
    "# plt.imshow(im)"
   ]
  },
  {
   "cell_type": "markdown",
   "metadata": {},
   "source": [
    "It's useful to make these steps into a Python function."
   ]
  },
  {
   "cell_type": "code",
   "execution_count": 11,
   "metadata": {},
   "outputs": [],
   "source": [
    "# def show_ad_image(det):\n",
    "#     array_size = det.image.array_size.get()\n",
    "#     shape = (array_size.height, array_size.width)\n",
    "#     im = det.image.array_data.get().reshape(shape)\n",
    "#     plt.imshow(im)"
   ]
  },
  {
   "cell_type": "code",
   "execution_count": 12,
   "metadata": {},
   "outputs": [],
   "source": [
    "# plt.close()   # stop interaction with previous MPL window\n",
    "# show_ad_image(adsimdet)"
   ]
  },
  {
   "cell_type": "markdown",
   "metadata": {},
   "source": [
    "----\n",
    "\n",
    "Save image(s) to HDF5 file."
   ]
  },
  {
   "cell_type": "code",
   "execution_count": 13,
   "metadata": {},
   "outputs": [],
   "source": [
    "from ophyd.areadetector import ADComponent\n",
    "from ophyd.areadetector import EpicsSignalWithRBV\n",
    "from ophyd.areadetector import HDF5Plugin\n",
    "from ophyd.areadetector.filestore_mixins import FileStoreHDF5IterativeWrite\n",
    "\n",
    "class MyHDF5Plugin(HDF5Plugin, FileStoreHDF5IterativeWrite):\n",
    "    create_directory_depth = Component(EpicsSignalWithRBV, suffix=\"CreateDirectory\")\n",
    "    array_callbacks = Component(EpicsSignalWithRBV, suffix=\"ArrayCallbacks\")\n",
    "\n",
    "    pool_max_buffers = None\n",
    "    \n",
    "    def get_frames_per_point(self):\n",
    "        return self.num_capture.get()\n",
    "\n",
    "    def stage(self):\n",
    "        super().stage()\n",
    "        res_kwargs = {'frame_per_point': self.get_frames_per_point()}\n",
    "        # res_kwargs = {'frame_per_point': self.num_capture.get()}\n",
    "        self._generate_resource(res_kwargs)"
   ]
  },
  {
   "cell_type": "code",
   "execution_count": 14,
   "metadata": {},
   "outputs": [],
   "source": [
    "DATABROKER_ROOT_PATH = \"/tmp/\"\n",
    "\n",
    "# note: AD path MUST, must, MUST have trailing \"/\"!!!\n",
    "#  ...and... start with the same path defined in root (above)\n",
    "\n",
    "# path as seen by detector IOC\n",
    "WRITE_HDF5_FILE_PATH = \"/tmp/simdet/%Y/%m/%d/\"\n",
    "#!!! NOTE !!! This filesystem is on the IOC (might be in a docker container)!\n",
    "\n",
    "# path as seen by databroker\n",
    "READ_HDF5_FILE_PATH = \"/tmp/docker_ioc/iocadsky/tmp/simdet/%Y/%m/%d/\""
   ]
  },
  {
   "cell_type": "code",
   "execution_count": 15,
   "metadata": {},
   "outputs": [],
   "source": [
    "class MySingleTriggerSimDetector(SingleTrigger, SimDetector): \n",
    "       \n",
    "    image = Component(ImagePlugin, suffix=\"image1:\")\n",
    "    hdf1 = ADComponent(\n",
    "        MyHDF5Plugin,\n",
    "        suffix='HDF1:', \n",
    "        root=DATABROKER_ROOT_PATH,\n",
    "        write_path_template = WRITE_HDF5_FILE_PATH,\n",
    "        read_path_template = READ_HDF5_FILE_PATH,\n",
    "    )"
   ]
  },
  {
   "cell_type": "code",
   "execution_count": 16,
   "metadata": {},
   "outputs": [],
   "source": [
    "adsimdet = MySingleTriggerSimDetector(_ad_prefix, name='adsimdet')\n",
    "adsimdet.stage_sigs[\"cam.num_images\"] = 1\n",
    "adsimdet.stage_sigs[\"cam.acquire_time\"] = 0.1\n",
    "adsimdet.stage_sigs[\"cam.acquire_period\"] = 0.25\n",
    "adsimdet.hdf1.stage_sigs[\"num_capture\"] = 1\n",
    "\n",
    "adsimdet.read_attrs.append(\"hdf1\")\n",
    "if adsimdet.hdf1.create_directory_depth.get() == 0:\n",
    "    # probably not set, so let's set it now to some default\n",
    "    adsimdet.hdf1.create_directory_depth.put(-5)"
   ]
  },
  {
   "cell_type": "markdown",
   "metadata": {},
   "source": [
    "NOTE: EPICS AreaDetector file-saving plugins (such as \n",
    "the HDF plugin) must be primed before they can be \n",
    "used.  Priming must be done in these situations:\n",
    "\n",
    "* the IOC has just started\n",
    "* the image size has changed\n",
    "\n",
    "If you do not prime the detector and its plugin chain, *ophyd* will report an *UnprimedPlugin* error like this if you try to trigger (acquire data from) the detector:\n",
    "\n",
    "```\n",
    "UnprimedPlugin: The plugin hdf1 on the area detector with name DETECTOR_NAME has not been primed.\n",
    "```\n",
    "\n",
    "To prime the HDF plugin, call its `warmup()` method."
   ]
  },
  {
   "cell_type": "code",
   "execution_count": 17,
   "metadata": {},
   "outputs": [],
   "source": [
    "enabled = adsimdet.hdf1.enable.get()\n",
    "adsimdet.hdf1.warmup()\n",
    "adsimdet.hdf1.enable.put(enabled)"
   ]
  },
  {
   "cell_type": "code",
   "execution_count": 18,
   "metadata": {},
   "outputs": [
    {
     "output_type": "execute_result",
     "data": {
      "text/plain": "OrderedDict([('enable', 1),\n             ('auto_increment', 'Yes'),\n             ('array_counter', 0),\n             ('auto_save', 'Yes'),\n             ('num_capture', 1),\n             ('file_template', '%s%s_%6.6d.h5'),\n             ('file_write_mode', 'Stream'),\n             ('capture', 1),\n             ('blocking_callbacks', 'Yes'),\n             ('parent.cam.array_callbacks', 1)])"
     },
     "metadata": {},
     "execution_count": 18
    }
   ],
   "source": [
    "adsimdet.hdf1.stage_sigs"
   ]
  },
  {
   "cell_type": "code",
   "execution_count": 19,
   "metadata": {},
   "outputs": [
    {
     "output_type": "stream",
     "name": "stdout",
     "text": "frames/point: 1\n\n\nTransient Scan ID: 2     Time: 2020-05-14 09:45:14\nPersistent Unique Scan ID: 'fda1331e-d95f-4ea9-bb18-6fbb2e97c182'\nNew stream: 'primary'\n+-----------+------------+\n|   seq_num |       time |\n+-----------+------------+\n|         1 | 09:45:14.8 |\n+-----------+------------+\ngenerator count ['fda1331e'] (scan num: 2)\n"
    },
    {
     "output_type": "execute_result",
     "data": {
      "text/plain": "('fda1331e-d95f-4ea9-bb18-6fbb2e97c182',)"
     },
     "metadata": {},
     "execution_count": 19
    }
   ],
   "source": [
    "print(f\"frames/point: {adsimdet.hdf1.get_frames_per_point()}\")\n",
    "RE(bp.count([adsimdet]))"
   ]
  },
  {
   "cell_type": "markdown",
   "metadata": {},
   "source": [
    "----\n",
    "\n",
    "Now, use databroker to retrieve that data and show the image."
   ]
  },
  {
   "cell_type": "code",
   "execution_count": 20,
   "metadata": {},
   "outputs": [],
   "source": [
    "h = db[-1]"
   ]
  },
  {
   "cell_type": "code",
   "execution_count": 21,
   "metadata": {},
   "outputs": [
    {
     "output_type": "stream",
     "name": "stdout",
     "text": "start\nRun Start\n=========\nbeamline_id     : APS lesson                              \ndetectors       : ['adsimdet']                            \nhints           :\n  dimensions      : [[['time'], 'primary']]                 \nlogin_id        : Pete@sev                                \nnum_intervals   : 0                                       \nnum_points      : 1                                       \npid             : 3740                                    \nplan_args       :\n  detectors       : [\"MySingleTriggerSimDetector(prefix='adsky:', name='adsimdet', read_attrs=['hdf1'], configuration_attrs=['cam', 'cam.acquire_period', 'cam.acquire_time', 'cam.image_mode', 'cam.manufacturer', 'cam.model', 'cam.num_exposures', 'cam.trigger_mode', 'hdf1'])\"]\n  num             : 1                                       \nplan_name       : count                                   \nplan_type       : generator                               \nproposal_id     : testing                                 \nscan_id         : 2                                       \ntime            : 1589467514.4127831                      \nuid             : fda1331e-d95f-4ea9-bb18-6fbb2e97c182    \nversions        :\n  apstools        : 1.1.16                                  \n  bluesky         : 1.6.0                                   \n  databroker      : 1.0.2                                   \n  epics           : 3.4.1                                   \n  matplotlib      : 3.1.3                                   \n  numpy           : 1.18.1                                  \n  ophyd           : 1.5.0                                   \n  pyRestTable     : 2020.0.2                                \n  spec2nexus      : 2021.1.7\n----------------------------------------\ndescriptor\nEvent Descriptor\n================\nconfiguration   :\n      adsimdet_cam_acq: 0.25                                    \n      adsimdet_cam_acq: 0.1                                     \n      adsimdet_cam_ima: 1                                       \n      adsimdet_cam_man: Simulated detector                      \n      adsimdet_cam_mod: Basic simulator                         \n      adsimdet_cam_num: 1                                       \n      adsimdet_cam_tri: 0                                       \n      adsimdet_cam_acq: 1589467512.104217                       \n      adsimdet_cam_acq: 1589467512.096982                       \n      adsimdet_cam_ima: 1589467512.082909                       \n      adsimdet_cam_man: 1586977318.115755                       \n      adsimdet_cam_mod: 1586977318.115765                       \n      adsimdet_cam_num: 1586977318.116052                       \n      adsimdet_cam_tri: 1586977318.116125                       \n        source          : PV:adsky:cam1:AcquirePeriod_RBV         \n        dtype           : number                                  \n        shape           : []                                      \n        units           :                                         \n        lower_ctrl_limit: 0.0                                     \n        upper_ctrl_limit: 0.0                                     \n        precision       : 3                                       \n        source          : PV:adsky:cam1:AcquireTime_RBV           \n        dtype           : number                                  \n        shape           : []                                      \n        units           :                                         \n        lower_ctrl_limit: 0.0                                     \n        upper_ctrl_limit: 0.0                                     \n        precision       : 3                                       \n        source          : PV:adsky:cam1:ImageMode_RBV             \n        dtype           : integer                                 \n        shape           : []                                      \n        units           : None                                    \n        lower_ctrl_limit: None                                    \n        upper_ctrl_limit: None                                    \n        enum_strs       : ['Single', 'Multiple', 'Continuous']    \n        source          : PV:adsky:cam1:Manufacturer_RBV          \n        dtype           : string                                  \n        shape           : []                                      \n        units           : None                                    \n        lower_ctrl_limit: None                                    \n        upper_ctrl_limit: None                                    \n        source          : PV:adsky:cam1:Model_RBV                 \n        dtype           : string                                  \n        shape           : []                                      \n        units           : None                                    \n        lower_ctrl_limit: None                                    \n        upper_ctrl_limit: None                                    \n        source          : PV:adsky:cam1:NumExposures_RBV          \n        dtype           : integer                                 \n        shape           : []                                      \n        units           :                                         \n        lower_ctrl_limit: 0                                       \n        upper_ctrl_limit: 0                                       \n        source          : PV:adsky:cam1:TriggerMode_RBV           \n        dtype           : integer                                 \n        shape           : []                                      \n        units           : None                                    \n        lower_ctrl_limit: None                                    \n        upper_ctrl_limit: None                                    \n        enum_strs       : ['Internal', 'External']                \n+----------------+-------+------------+-------------+-----------------+-----------+\n| data keys      | dtype |  external  | object_name |      shape      |   source  |\n+----------------+-------+------------+-------------+-----------------+-----------+\n| adsimdet_image | array | FILESTORE: |   adsimdet  | [1024, 1024, 0] | PV:adsky: |\n+----------------+-------+------------+-------------+-----------------+-----------+\nhints           :\n    fields          : []                                      \nname            : primary                                 \nobject_keys     :\n  adsimdet        : ['adsimdet_image']                      \nrun_start       : fda1331e-d95f-4ea9-bb18-6fbb2e97c182    \ntime            : 1589467514.8393595                      \nuid             : 6e95b1bb-f0bd-419e-822b-aade7389abf5\n----------------------------------------\nresource\nResource\n========\npath_semantics  : posix                                   \nresource_kwargs :\n  frame_per_point : 1                                       \nresource_path   : docker_ioc\\iocadsky\\tmp\\simdet\\2020\\05\\14\\5227499c-6456-4caa-a419_000000.h5\nroot            : \\tmp                                    \nrun_start       : fda1331e-d95f-4ea9-bb18-6fbb2e97c182    \nspec            : AD_HDF5                                 \nuid             : 8643edcf-04f0-4c7c-a78b-74ec6c0607b7\n----------------------------------------\nresource\nResource\n========\npath_semantics  : posix                                   \nresource_kwargs :\n  frame_per_point : 1                                       \nresource_path   : docker_ioc\\iocadsky\\tmp\\simdet\\2020\\05\\14\\5227499c-6456-4caa-a419_000000.h5\nroot            : \\tmp                                    \nrun_start       : fda1331e-d95f-4ea9-bb18-6fbb2e97c182    \nspec            : AD_HDF5                                 \nuid             : 336ef7a9-f114-4de6-a9cf-2cef0abc0cb2\n----------------------------------------\ndatum\nDatum\n=====\ndatum_id        : 336ef7a9-f114-4de6-a9cf-2cef0abc0cb2/0  \ndatum_kwargs    :\n  point_number    : 0                                       \nresource        : 336ef7a9-f114-4de6-a9cf-2cef0abc0cb2\n----------------------------------------\nevent\nEvent\n=====\ndata            :\n  adsimdet_image  : 336ef7a9-f114-4de6-a9cf-2cef0abc0cb2/0  \ndescriptor      : 6e95b1bb-f0bd-419e-822b-aade7389abf5    \nfilled          :\n  adsimdet_image  : False                                   \nseq_num         : 1                                       \ntime            : 1589467514.852345                       \ntimestamps      :\n  adsimdet_image  : 1589467514.4446733                      \nuid             : 388ac810-329e-42fd-a17f-1d82a75f7ceb\n----------------------------------------\nstop\nRun Stop\n========\nexit_status     : success                                 \nnum_events      :\n  primary         : 1                                       \nreason          :                                         \nrun_start       : fda1331e-d95f-4ea9-bb18-6fbb2e97c182    \ntime            : 1589467514.8582904                      \nuid             : 27eb2dc1-4b5f-4756-a110-2924fced070c\n----------------------------------------\n"
    }
   ],
   "source": [
    "for entry in h.documents():\n",
    "    key, doc = entry\n",
    "    print(key, doc)\n",
    "    print(\"-\"*40)"
   ]
  },
  {
   "cell_type": "code",
   "execution_count": 22,
   "metadata": {
    "scrolled": true
   },
   "outputs": [
    {
     "output_type": "error",
     "ename": "EventModelError",
     "evalue": "Error instantiating handler class <class 'area_detector_handlers.handlers.AreaDetectorHDF5Handler'> with Resource document {'spec': 'AD_HDF5', 'root': '\\\\tmp', 'resource_path': 'docker_ioc\\\\iocadsky\\\\tmp\\\\simdet\\\\2020\\\\05\\\\14\\\\5227499c-6456-4caa-a419_000000.h5', 'resource_kwargs': {'frame_per_point': 1}, 'path_semantics': 'posix', 'uid': '336ef7a9-f114-4de6-a9cf-2cef0abc0cb2', 'run_start': 'fda1331e-d95f-4ea9-bb18-6fbb2e97c182'}. Its 'root' field \\tmp was *not* modified by root_map.",
     "traceback": [
      "\u001b[1;31m---------------------------------------------------------------------------\u001b[0m",
      "\u001b[1;31mKeyError\u001b[0m                                  Traceback (most recent call last)",
      "\u001b[1;32m~\\Apps\\Anaconda3\\envs\\bluesky_2020_5\\lib\\site-packages\\event_model\\__init__.py\u001b[0m in \u001b[0;36mfill_event\u001b[1;34m(self, doc, include, exclude, inplace)\u001b[0m\n\u001b[0;32m    851\u001b[0m             \u001b[1;32mtry\u001b[0m\u001b[1;33m:\u001b[0m\u001b[1;33m\u001b[0m\u001b[1;33m\u001b[0m\u001b[0m\n\u001b[1;32m--> 852\u001b[1;33m                 \u001b[0mdatum_doc\u001b[0m \u001b[1;33m=\u001b[0m \u001b[0mself\u001b[0m\u001b[1;33m.\u001b[0m\u001b[0m_datum_cache\u001b[0m\u001b[1;33m[\u001b[0m\u001b[0mdatum_id\u001b[0m\u001b[1;33m]\u001b[0m\u001b[1;33m\u001b[0m\u001b[1;33m\u001b[0m\u001b[0m\n\u001b[0m\u001b[0;32m    853\u001b[0m             \u001b[1;32mexcept\u001b[0m \u001b[0mKeyError\u001b[0m \u001b[1;32mas\u001b[0m \u001b[0merr\u001b[0m\u001b[1;33m:\u001b[0m\u001b[1;33m\u001b[0m\u001b[1;33m\u001b[0m\u001b[0m\n",
      "\u001b[1;31mKeyError\u001b[0m: '336ef7a9-f114-4de6-a9cf-2cef0abc0cb2/0'",
      "\nThe above exception was the direct cause of the following exception:\n",
      "\u001b[1;31mUnresolvableForeignKeyError\u001b[0m               Traceback (most recent call last)",
      "\u001b[1;32m~\\Apps\\Anaconda3\\envs\\bluesky_2020_5\\lib\\site-packages\\databroker\\core.py\u001b[0m in \u001b[0;36m_fill\u001b[1;34m(filler, event, lookup_resource_for_datum, get_resource, get_datum_pages, last_datum_id)\u001b[0m\n\u001b[0;32m    519\u001b[0m     \u001b[1;32mtry\u001b[0m\u001b[1;33m:\u001b[0m\u001b[1;33m\u001b[0m\u001b[1;33m\u001b[0m\u001b[0m\n\u001b[1;32m--> 520\u001b[1;33m         \u001b[0m_\u001b[0m\u001b[1;33m,\u001b[0m \u001b[0mfilled_event\u001b[0m \u001b[1;33m=\u001b[0m \u001b[0mfiller\u001b[0m\u001b[1;33m(\u001b[0m\u001b[1;34m\"event\"\u001b[0m\u001b[1;33m,\u001b[0m \u001b[0mevent\u001b[0m\u001b[1;33m)\u001b[0m\u001b[1;33m\u001b[0m\u001b[1;33m\u001b[0m\u001b[0m\n\u001b[0m\u001b[0;32m    521\u001b[0m         \u001b[1;32mreturn\u001b[0m \u001b[0mfilled_event\u001b[0m\u001b[1;33m\u001b[0m\u001b[1;33m\u001b[0m\u001b[0m\n",
      "\u001b[1;32m~\\Apps\\Anaconda3\\envs\\bluesky_2020_5\\lib\\site-packages\\event_model\\__init__.py\u001b[0m in \u001b[0;36m__call__\u001b[1;34m(self, name, doc, validate)\u001b[0m\n\u001b[0;32m    909\u001b[0m                 \"This Filler has been closed and is no longer usable.\")\n\u001b[1;32m--> 910\u001b[1;33m         \u001b[1;32mreturn\u001b[0m \u001b[0msuper\u001b[0m\u001b[1;33m(\u001b[0m\u001b[1;33m)\u001b[0m\u001b[1;33m.\u001b[0m\u001b[0m__call__\u001b[0m\u001b[1;33m(\u001b[0m\u001b[0mname\u001b[0m\u001b[1;33m,\u001b[0m \u001b[0mdoc\u001b[0m\u001b[1;33m,\u001b[0m \u001b[0mvalidate\u001b[0m\u001b[1;33m)\u001b[0m\u001b[1;33m\u001b[0m\u001b[1;33m\u001b[0m\u001b[0m\n\u001b[0m\u001b[0;32m    911\u001b[0m \u001b[1;33m\u001b[0m\u001b[0m\n",
      "\u001b[1;32m~\\Apps\\Anaconda3\\envs\\bluesky_2020_5\\lib\\site-packages\\event_model\\__init__.py\u001b[0m in \u001b[0;36m__call__\u001b[1;34m(self, name, doc, validate)\u001b[0m\n\u001b[0;32m     73\u001b[0m         \"\"\"\n\u001b[1;32m---> 74\u001b[1;33m         \u001b[1;32mreturn\u001b[0m \u001b[0mself\u001b[0m\u001b[1;33m.\u001b[0m\u001b[0m_dispatch\u001b[0m\u001b[1;33m(\u001b[0m\u001b[0mname\u001b[0m\u001b[1;33m,\u001b[0m \u001b[0mdoc\u001b[0m\u001b[1;33m,\u001b[0m \u001b[0mvalidate\u001b[0m\u001b[1;33m)\u001b[0m\u001b[1;33m\u001b[0m\u001b[1;33m\u001b[0m\u001b[0m\n\u001b[0m\u001b[0;32m     75\u001b[0m \u001b[1;33m\u001b[0m\u001b[0m\n",
      "\u001b[1;32m~\\Apps\\Anaconda3\\envs\\bluesky_2020_5\\lib\\site-packages\\event_model\\__init__.py\u001b[0m in \u001b[0;36m_dispatch\u001b[1;34m(self, name, doc, validate)\u001b[0m\n\u001b[0;32m     81\u001b[0m         \"\"\"\n\u001b[1;32m---> 82\u001b[1;33m         \u001b[0moutput_doc\u001b[0m \u001b[1;33m=\u001b[0m \u001b[0mgetattr\u001b[0m\u001b[1;33m(\u001b[0m\u001b[0mself\u001b[0m\u001b[1;33m,\u001b[0m \u001b[0mname\u001b[0m\u001b[1;33m)\u001b[0m\u001b[1;33m(\u001b[0m\u001b[0mdoc\u001b[0m\u001b[1;33m)\u001b[0m\u001b[1;33m\u001b[0m\u001b[1;33m\u001b[0m\u001b[0m\n\u001b[0m\u001b[0;32m     83\u001b[0m \u001b[1;33m\u001b[0m\u001b[0m\n",
      "\u001b[1;32m~\\Apps\\Anaconda3\\envs\\bluesky_2020_5\\lib\\site-packages\\event_model\\__init__.py\u001b[0m in \u001b[0;36mevent\u001b[1;34m(self, doc)\u001b[0m\n\u001b[0;32m    723\u001b[0m         filled_doc = self.fill_event(doc, include=self.include,\n\u001b[1;32m--> 724\u001b[1;33m                                      exclude=self.exclude)\n\u001b[0m\u001b[0;32m    725\u001b[0m         \u001b[1;32mreturn\u001b[0m \u001b[0mfilled_doc\u001b[0m\u001b[1;33m\u001b[0m\u001b[1;33m\u001b[0m\u001b[0m\n",
      "\u001b[1;32m~\\Apps\\Anaconda3\\envs\\bluesky_2020_5\\lib\\site-packages\\event_model\\__init__.py\u001b[0m in \u001b[0;36mfill_event\u001b[1;34m(self, doc, include, exclude, inplace)\u001b[0m\n\u001b[0;32m    856\u001b[0m                     \u001b[1;34mf\"Event with uid {doc['uid']} refers to unknown Datum \"\u001b[0m\u001b[1;33m\u001b[0m\u001b[1;33m\u001b[0m\u001b[0m\n\u001b[1;32m--> 857\u001b[1;33m                     f\"datum_id {datum_id}\") from err\n\u001b[0m\u001b[0;32m    858\u001b[0m             \u001b[0mresource_uid\u001b[0m \u001b[1;33m=\u001b[0m \u001b[0mdatum_doc\u001b[0m\u001b[1;33m[\u001b[0m\u001b[1;34m'resource'\u001b[0m\u001b[1;33m]\u001b[0m\u001b[1;33m\u001b[0m\u001b[1;33m\u001b[0m\u001b[0m\n",
      "\u001b[1;31mUnresolvableForeignKeyError\u001b[0m: ('336ef7a9-f114-4de6-a9cf-2cef0abc0cb2/0', 'Event with uid 388ac810-329e-42fd-a17f-1d82a75f7ceb refers to unknown Datum datum_id 336ef7a9-f114-4de6-a9cf-2cef0abc0cb2/0')",
      "\nDuring handling of the above exception, another exception occurred:\n",
      "\u001b[1;31mKeyError\u001b[0m                                  Traceback (most recent call last)",
      "\u001b[1;32m~\\Apps\\Anaconda3\\envs\\bluesky_2020_5\\lib\\site-packages\\event_model\\__init__.py\u001b[0m in \u001b[0;36m_get_handler_maybe_cached\u001b[1;34m(self, resource)\u001b[0m\n\u001b[0;32m    795\u001b[0m         \u001b[1;32mtry\u001b[0m\u001b[1;33m:\u001b[0m\u001b[1;33m\u001b[0m\u001b[1;33m\u001b[0m\u001b[0m\n\u001b[1;32m--> 796\u001b[1;33m             \u001b[0mhandler\u001b[0m \u001b[1;33m=\u001b[0m \u001b[0mself\u001b[0m\u001b[1;33m.\u001b[0m\u001b[0m_handler_cache\u001b[0m\u001b[1;33m[\u001b[0m\u001b[0mkey\u001b[0m\u001b[1;33m]\u001b[0m\u001b[1;33m\u001b[0m\u001b[1;33m\u001b[0m\u001b[0m\n\u001b[0m\u001b[0;32m    797\u001b[0m         \u001b[1;32mexcept\u001b[0m \u001b[0mKeyError\u001b[0m\u001b[1;33m:\u001b[0m\u001b[1;33m\u001b[0m\u001b[1;33m\u001b[0m\u001b[0m\n",
      "\u001b[1;31mKeyError\u001b[0m: ('336ef7a9-f114-4de6-a9cf-2cef0abc0cb2', 'AD_HDF5')",
      "\nDuring handling of the above exception, another exception occurred:\n",
      "\u001b[1;31mOSError\u001b[0m                                   Traceback (most recent call last)",
      "\u001b[1;32m~\\Apps\\Anaconda3\\envs\\bluesky_2020_5\\lib\\site-packages\\event_model\\__init__.py\u001b[0m in \u001b[0;36m_attempt_with_retries\u001b[1;34m(func, args, kwargs, intervals, error_to_catch, error_to_raise)\u001b[0m\n\u001b[0;32m    930\u001b[0m         \u001b[1;32mtry\u001b[0m\u001b[1;33m:\u001b[0m\u001b[1;33m\u001b[0m\u001b[1;33m\u001b[0m\u001b[0m\n\u001b[1;32m--> 931\u001b[1;33m             \u001b[1;32mreturn\u001b[0m \u001b[0mfunc\u001b[0m\u001b[1;33m(\u001b[0m\u001b[1;33m*\u001b[0m\u001b[0margs\u001b[0m\u001b[1;33m,\u001b[0m \u001b[1;33m**\u001b[0m\u001b[0mkwargs\u001b[0m\u001b[1;33m)\u001b[0m\u001b[1;33m\u001b[0m\u001b[1;33m\u001b[0m\u001b[0m\n\u001b[0m\u001b[0;32m    932\u001b[0m         \u001b[1;32mexcept\u001b[0m \u001b[0merror_to_catch\u001b[0m \u001b[1;32mas\u001b[0m \u001b[0merror_\u001b[0m\u001b[1;33m:\u001b[0m\u001b[1;33m\u001b[0m\u001b[1;33m\u001b[0m\u001b[0m\n",
      "\u001b[1;32m~\\Apps\\Anaconda3\\envs\\bluesky_2020_5\\lib\\site-packages\\area_detector_handlers\\handlers.py\u001b[0m in \u001b[0;36m__init__\u001b[1;34m(self, filename, frame_per_point)\u001b[0m\n\u001b[0;32m    166\u001b[0m         super().__init__(\n\u001b[1;32m--> 167\u001b[1;33m             \u001b[0mfilename\u001b[0m\u001b[1;33m=\u001b[0m\u001b[0mfilename\u001b[0m\u001b[1;33m,\u001b[0m \u001b[0mkey\u001b[0m\u001b[1;33m=\u001b[0m\u001b[0mhardcoded_key\u001b[0m\u001b[1;33m,\u001b[0m \u001b[0mframe_per_point\u001b[0m\u001b[1;33m=\u001b[0m\u001b[0mframe_per_point\u001b[0m\u001b[1;33m\u001b[0m\u001b[1;33m\u001b[0m\u001b[0m\n\u001b[0m\u001b[0;32m    168\u001b[0m         )\n",
      "\u001b[1;32m~\\Apps\\Anaconda3\\envs\\bluesky_2020_5\\lib\\site-packages\\area_detector_handlers\\handlers.py\u001b[0m in \u001b[0;36m__init__\u001b[1;34m(self, filename, key, frame_per_point)\u001b[0m\n\u001b[0;32m    109\u001b[0m         \u001b[0mself\u001b[0m\u001b[1;33m.\u001b[0m\u001b[0m_data_objects\u001b[0m \u001b[1;33m=\u001b[0m \u001b[1;33m{\u001b[0m\u001b[1;33m}\u001b[0m\u001b[1;33m\u001b[0m\u001b[1;33m\u001b[0m\u001b[0m\n\u001b[1;32m--> 110\u001b[1;33m         \u001b[0mself\u001b[0m\u001b[1;33m.\u001b[0m\u001b[0mopen\u001b[0m\u001b[1;33m(\u001b[0m\u001b[1;33m)\u001b[0m\u001b[1;33m\u001b[0m\u001b[1;33m\u001b[0m\u001b[0m\n\u001b[0m\u001b[0;32m    111\u001b[0m \u001b[1;33m\u001b[0m\u001b[0m\n",
      "\u001b[1;32m~\\Apps\\Anaconda3\\envs\\bluesky_2020_5\\lib\\site-packages\\area_detector_handlers\\handlers.py\u001b[0m in \u001b[0;36mopen\u001b[1;34m(self)\u001b[0m\n\u001b[0;32m    126\u001b[0m \u001b[1;33m\u001b[0m\u001b[0m\n\u001b[1;32m--> 127\u001b[1;33m         \u001b[0mself\u001b[0m\u001b[1;33m.\u001b[0m\u001b[0m_file\u001b[0m \u001b[1;33m=\u001b[0m \u001b[0mh5py\u001b[0m\u001b[1;33m.\u001b[0m\u001b[0mFile\u001b[0m\u001b[1;33m(\u001b[0m\u001b[0mself\u001b[0m\u001b[1;33m.\u001b[0m\u001b[0m_filename\u001b[0m\u001b[1;33m,\u001b[0m \u001b[1;34m\"r\"\u001b[0m\u001b[1;33m)\u001b[0m\u001b[1;33m\u001b[0m\u001b[1;33m\u001b[0m\u001b[0m\n\u001b[0m\u001b[0;32m    128\u001b[0m \u001b[1;33m\u001b[0m\u001b[0m\n",
      "\u001b[1;32m~\\Apps\\Anaconda3\\envs\\bluesky_2020_5\\lib\\site-packages\\h5py\\_hl\\files.py\u001b[0m in \u001b[0;36m__init__\u001b[1;34m(self, name, mode, driver, libver, userblock_size, swmr, rdcc_nslots, rdcc_nbytes, rdcc_w0, track_order, **kwds)\u001b[0m\n\u001b[0;32m    407\u001b[0m                                \u001b[0mfapl\u001b[0m\u001b[1;33m,\u001b[0m \u001b[0mfcpl\u001b[0m\u001b[1;33m=\u001b[0m\u001b[0mmake_fcpl\u001b[0m\u001b[1;33m(\u001b[0m\u001b[0mtrack_order\u001b[0m\u001b[1;33m=\u001b[0m\u001b[0mtrack_order\u001b[0m\u001b[1;33m)\u001b[0m\u001b[1;33m,\u001b[0m\u001b[1;33m\u001b[0m\u001b[1;33m\u001b[0m\u001b[0m\n\u001b[1;32m--> 408\u001b[1;33m                                swmr=swmr)\n\u001b[0m\u001b[0;32m    409\u001b[0m \u001b[1;33m\u001b[0m\u001b[0m\n",
      "\u001b[1;32m~\\Apps\\Anaconda3\\envs\\bluesky_2020_5\\lib\\site-packages\\h5py\\_hl\\files.py\u001b[0m in \u001b[0;36mmake_fid\u001b[1;34m(name, mode, userblock_size, fapl, fcpl, swmr)\u001b[0m\n\u001b[0;32m    172\u001b[0m             \u001b[0mflags\u001b[0m \u001b[1;33m|=\u001b[0m \u001b[0mh5f\u001b[0m\u001b[1;33m.\u001b[0m\u001b[0mACC_SWMR_READ\u001b[0m\u001b[1;33m\u001b[0m\u001b[1;33m\u001b[0m\u001b[0m\n\u001b[1;32m--> 173\u001b[1;33m         \u001b[0mfid\u001b[0m \u001b[1;33m=\u001b[0m \u001b[0mh5f\u001b[0m\u001b[1;33m.\u001b[0m\u001b[0mopen\u001b[0m\u001b[1;33m(\u001b[0m\u001b[0mname\u001b[0m\u001b[1;33m,\u001b[0m \u001b[0mflags\u001b[0m\u001b[1;33m,\u001b[0m \u001b[0mfapl\u001b[0m\u001b[1;33m=\u001b[0m\u001b[0mfapl\u001b[0m\u001b[1;33m)\u001b[0m\u001b[1;33m\u001b[0m\u001b[1;33m\u001b[0m\u001b[0m\n\u001b[0m\u001b[0;32m    174\u001b[0m     \u001b[1;32melif\u001b[0m \u001b[0mmode\u001b[0m \u001b[1;33m==\u001b[0m \u001b[1;34m'r+'\u001b[0m\u001b[1;33m:\u001b[0m\u001b[1;33m\u001b[0m\u001b[1;33m\u001b[0m\u001b[0m\n",
      "\u001b[1;32mh5py\\_objects.pyx\u001b[0m in \u001b[0;36mh5py._objects.with_phil.wrapper\u001b[1;34m()\u001b[0m\n",
      "\u001b[1;32mh5py\\_objects.pyx\u001b[0m in \u001b[0;36mh5py._objects.with_phil.wrapper\u001b[1;34m()\u001b[0m\n",
      "\u001b[1;32mh5py\\h5f.pyx\u001b[0m in \u001b[0;36mh5py.h5f.open\u001b[1;34m()\u001b[0m\n",
      "\u001b[1;31mOSError\u001b[0m: Unable to open file (unable to open file: name = '\\tmp\\docker_ioc\\iocadsky\\tmp\\simdet\\2020\\05\\14\\5227499c-6456-4caa-a419_000000.h5', errno = 2, error message = 'No such file or directory', flags = 0, o_flags = 0)",
      "\nThe above exception was the direct cause of the following exception:\n",
      "\u001b[1;31mEventModelError\u001b[0m                           Traceback (most recent call last)",
      "\u001b[1;32m<ipython-input-22-41d62879bec9>\u001b[0m in \u001b[0;36m<module>\u001b[1;34m\u001b[0m\n\u001b[0;32m      1\u001b[0m \u001b[0mplt\u001b[0m\u001b[1;33m.\u001b[0m\u001b[0mclose\u001b[0m\u001b[1;33m(\u001b[0m\u001b[1;33m)\u001b[0m   \u001b[1;31m# stop interaction with previous MPL window\u001b[0m\u001b[1;33m\u001b[0m\u001b[1;33m\u001b[0m\u001b[0m\n\u001b[0;32m      2\u001b[0m \u001b[1;31m# FIXME: EventModelError: Error instantiating handler class  with Resource document {'spec': 'AD_HDF5', 'root': '/tmp', 'resource_path': 'docker_ioc/iocadsky/tmp/simdet/2020/05/13/ddfb7e48-4a25-4bf7-a45e_000000.h5', 'resource_kwargs': {'frame_per_point': 1}, 'path_semantics': 'posix', 'uid': '0117f6d5-67ca-4083-ba3b-6b30d5dca5f8', 'run_start': '94a857fe-a26d-4ede-947b-51e2187a8894'}. Its 'root' field /tmp was *not* modified by root_map.\u001b[0m\u001b[1;33m\u001b[0m\u001b[1;33m\u001b[0m\u001b[1;33m\u001b[0m\u001b[0m\n\u001b[1;32m----> 3\u001b[1;33m \u001b[0mplt\u001b[0m\u001b[1;33m.\u001b[0m\u001b[0mimshow\u001b[0m\u001b[1;33m(\u001b[0m\u001b[0mh\u001b[0m\u001b[1;33m.\u001b[0m\u001b[0mxarray\u001b[0m\u001b[1;33m(\u001b[0m\u001b[1;33m)\u001b[0m\u001b[1;33m.\u001b[0m\u001b[0madsimdet_image\u001b[0m\u001b[1;33m[\u001b[0m\u001b[1;36m0\u001b[0m\u001b[1;33m]\u001b[0m\u001b[1;33m[\u001b[0m\u001b[1;36m0\u001b[0m\u001b[1;33m]\u001b[0m\u001b[1;33m)\u001b[0m\u001b[1;33m\u001b[0m\u001b[1;33m\u001b[0m\u001b[0m\n\u001b[0m",
      "\u001b[1;32m~\\Apps\\Anaconda3\\envs\\bluesky_2020_5\\lib\\site-packages\\databroker\\v1.py\u001b[0m in \u001b[0;36mxarray\u001b[1;34m(self, stream_name)\u001b[0m\n\u001b[0;32m   1056\u001b[0m \u001b[1;33m\u001b[0m\u001b[0m\n\u001b[0;32m   1057\u001b[0m     \u001b[1;32mdef\u001b[0m \u001b[0mxarray\u001b[0m\u001b[1;33m(\u001b[0m\u001b[0mself\u001b[0m\u001b[1;33m,\u001b[0m \u001b[0mstream_name\u001b[0m\u001b[1;33m=\u001b[0m\u001b[1;34m'primary'\u001b[0m\u001b[1;33m)\u001b[0m\u001b[1;33m:\u001b[0m\u001b[1;33m\u001b[0m\u001b[1;33m\u001b[0m\u001b[0m\n\u001b[1;32m-> 1058\u001b[1;33m         \u001b[1;32mreturn\u001b[0m \u001b[0mself\u001b[0m\u001b[1;33m.\u001b[0m\u001b[0m_data_source\u001b[0m\u001b[1;33m[\u001b[0m\u001b[0mstream_name\u001b[0m\u001b[1;33m]\u001b[0m\u001b[1;33m.\u001b[0m\u001b[0mread\u001b[0m\u001b[1;33m(\u001b[0m\u001b[1;33m)\u001b[0m\u001b[1;33m\u001b[0m\u001b[1;33m\u001b[0m\u001b[0m\n\u001b[0m\u001b[0;32m   1059\u001b[0m \u001b[1;33m\u001b[0m\u001b[0m\n\u001b[0;32m   1060\u001b[0m     \u001b[1;32mdef\u001b[0m \u001b[0mxarray_dask\u001b[0m\u001b[1;33m(\u001b[0m\u001b[0mself\u001b[0m\u001b[1;33m,\u001b[0m \u001b[0mstream_name\u001b[0m\u001b[1;33m=\u001b[0m\u001b[1;34m'primary'\u001b[0m\u001b[1;33m)\u001b[0m\u001b[1;33m:\u001b[0m\u001b[1;33m\u001b[0m\u001b[1;33m\u001b[0m\u001b[0m\n",
      "\u001b[1;32m~\\Apps\\Anaconda3\\envs\\bluesky_2020_5\\lib\\site-packages\\databroker\\core.py\u001b[0m in \u001b[0;36mread\u001b[1;34m(self)\u001b[0m\n\u001b[0;32m   1363\u001b[0m         \"\"\"\n\u001b[0;32m   1364\u001b[0m         \u001b[1;31m# Implemented just so we can put in a docstring\u001b[0m\u001b[1;33m\u001b[0m\u001b[1;33m\u001b[0m\u001b[1;33m\u001b[0m\u001b[0m\n\u001b[1;32m-> 1365\u001b[1;33m         \u001b[1;32mreturn\u001b[0m \u001b[0msuper\u001b[0m\u001b[1;33m(\u001b[0m\u001b[1;33m)\u001b[0m\u001b[1;33m.\u001b[0m\u001b[0mread\u001b[0m\u001b[1;33m(\u001b[0m\u001b[1;33m)\u001b[0m\u001b[1;33m\u001b[0m\u001b[1;33m\u001b[0m\u001b[0m\n\u001b[0m\u001b[0;32m   1366\u001b[0m \u001b[1;33m\u001b[0m\u001b[0m\n\u001b[0;32m   1367\u001b[0m     \u001b[1;32mdef\u001b[0m \u001b[0mto_dask\u001b[0m\u001b[1;33m(\u001b[0m\u001b[0mself\u001b[0m\u001b[1;33m)\u001b[0m\u001b[1;33m:\u001b[0m\u001b[1;33m\u001b[0m\u001b[1;33m\u001b[0m\u001b[0m\n",
      "\u001b[1;32m~\\Apps\\Anaconda3\\envs\\bluesky_2020_5\\lib\\site-packages\\databroker\\intake_xarray_core\\base.py\u001b[0m in \u001b[0;36mread\u001b[1;34m(self)\u001b[0m\n\u001b[0;32m     46\u001b[0m     \u001b[1;32mdef\u001b[0m \u001b[0mread\u001b[0m\u001b[1;33m(\u001b[0m\u001b[0mself\u001b[0m\u001b[1;33m)\u001b[0m\u001b[1;33m:\u001b[0m\u001b[1;33m\u001b[0m\u001b[1;33m\u001b[0m\u001b[0m\n\u001b[0;32m     47\u001b[0m         \u001b[1;34m\"\"\"Return a version of the xarray with all the data in memory\"\"\"\u001b[0m\u001b[1;33m\u001b[0m\u001b[1;33m\u001b[0m\u001b[0m\n\u001b[1;32m---> 48\u001b[1;33m         \u001b[0mself\u001b[0m\u001b[1;33m.\u001b[0m\u001b[0m_load_metadata\u001b[0m\u001b[1;33m(\u001b[0m\u001b[1;33m)\u001b[0m\u001b[1;33m\u001b[0m\u001b[1;33m\u001b[0m\u001b[0m\n\u001b[0m\u001b[0;32m     49\u001b[0m         \u001b[1;32mreturn\u001b[0m \u001b[0mself\u001b[0m\u001b[1;33m.\u001b[0m\u001b[0m_ds\u001b[0m\u001b[1;33m.\u001b[0m\u001b[0mload\u001b[0m\u001b[1;33m(\u001b[0m\u001b[1;33m)\u001b[0m\u001b[1;33m\u001b[0m\u001b[1;33m\u001b[0m\u001b[0m\n\u001b[0;32m     50\u001b[0m \u001b[1;33m\u001b[0m\u001b[0m\n",
      "\u001b[1;32m~\\Apps\\Anaconda3\\envs\\bluesky_2020_5\\lib\\site-packages\\intake\\source\\base.py\u001b[0m in \u001b[0;36m_load_metadata\u001b[1;34m(self)\u001b[0m\n\u001b[0;32m    115\u001b[0m         \u001b[1;34m\"\"\"load metadata only if needed\"\"\"\u001b[0m\u001b[1;33m\u001b[0m\u001b[1;33m\u001b[0m\u001b[0m\n\u001b[0;32m    116\u001b[0m         \u001b[1;32mif\u001b[0m \u001b[0mself\u001b[0m\u001b[1;33m.\u001b[0m\u001b[0m_schema\u001b[0m \u001b[1;32mis\u001b[0m \u001b[1;32mNone\u001b[0m\u001b[1;33m:\u001b[0m\u001b[1;33m\u001b[0m\u001b[1;33m\u001b[0m\u001b[0m\n\u001b[1;32m--> 117\u001b[1;33m             \u001b[0mself\u001b[0m\u001b[1;33m.\u001b[0m\u001b[0m_schema\u001b[0m \u001b[1;33m=\u001b[0m \u001b[0mself\u001b[0m\u001b[1;33m.\u001b[0m\u001b[0m_get_schema\u001b[0m\u001b[1;33m(\u001b[0m\u001b[1;33m)\u001b[0m\u001b[1;33m\u001b[0m\u001b[1;33m\u001b[0m\u001b[0m\n\u001b[0m\u001b[0;32m    118\u001b[0m             \u001b[0mself\u001b[0m\u001b[1;33m.\u001b[0m\u001b[0mdatashape\u001b[0m \u001b[1;33m=\u001b[0m \u001b[0mself\u001b[0m\u001b[1;33m.\u001b[0m\u001b[0m_schema\u001b[0m\u001b[1;33m.\u001b[0m\u001b[0mdatashape\u001b[0m\u001b[1;33m\u001b[0m\u001b[1;33m\u001b[0m\u001b[0m\n\u001b[0;32m    119\u001b[0m             \u001b[0mself\u001b[0m\u001b[1;33m.\u001b[0m\u001b[0mdtype\u001b[0m \u001b[1;33m=\u001b[0m \u001b[0mself\u001b[0m\u001b[1;33m.\u001b[0m\u001b[0m_schema\u001b[0m\u001b[1;33m.\u001b[0m\u001b[0mdtype\u001b[0m\u001b[1;33m\u001b[0m\u001b[1;33m\u001b[0m\u001b[0m\n",
      "\u001b[1;32m~\\Apps\\Anaconda3\\envs\\bluesky_2020_5\\lib\\site-packages\\databroker\\intake_xarray_core\\base.py\u001b[0m in \u001b[0;36m_get_schema\u001b[1;34m(self)\u001b[0m\n\u001b[0;32m     18\u001b[0m \u001b[1;33m\u001b[0m\u001b[0m\n\u001b[0;32m     19\u001b[0m         \u001b[1;32mif\u001b[0m \u001b[0mself\u001b[0m\u001b[1;33m.\u001b[0m\u001b[0m_ds\u001b[0m \u001b[1;32mis\u001b[0m \u001b[1;32mNone\u001b[0m\u001b[1;33m:\u001b[0m\u001b[1;33m\u001b[0m\u001b[1;33m\u001b[0m\u001b[0m\n\u001b[1;32m---> 20\u001b[1;33m             \u001b[0mself\u001b[0m\u001b[1;33m.\u001b[0m\u001b[0m_open_dataset\u001b[0m\u001b[1;33m(\u001b[0m\u001b[1;33m)\u001b[0m\u001b[1;33m\u001b[0m\u001b[1;33m\u001b[0m\u001b[0m\n\u001b[0m\u001b[0;32m     21\u001b[0m \u001b[1;33m\u001b[0m\u001b[0m\n\u001b[0;32m     22\u001b[0m             metadata = {\n",
      "\u001b[1;32m~\\Apps\\Anaconda3\\envs\\bluesky_2020_5\\lib\\site-packages\\databroker\\core.py\u001b[0m in \u001b[0;36m_open_dataset\u001b[1;34m(self)\u001b[0m\n\u001b[0;32m   1353\u001b[0m             \u001b[0mget_datum_pages\u001b[0m\u001b[1;33m=\u001b[0m\u001b[0mself\u001b[0m\u001b[1;33m.\u001b[0m\u001b[0m_get_datum_pages\u001b[0m\u001b[1;33m,\u001b[0m\u001b[1;33m\u001b[0m\u001b[1;33m\u001b[0m\u001b[0m\n\u001b[0;32m   1354\u001b[0m             \u001b[0minclude\u001b[0m\u001b[1;33m=\u001b[0m\u001b[0mself\u001b[0m\u001b[1;33m.\u001b[0m\u001b[0minclude\u001b[0m\u001b[1;33m,\u001b[0m\u001b[1;33m\u001b[0m\u001b[1;33m\u001b[0m\u001b[0m\n\u001b[1;32m-> 1355\u001b[1;33m             exclude=self.exclude)\n\u001b[0m\u001b[0;32m   1356\u001b[0m \u001b[1;33m\u001b[0m\u001b[0m\n\u001b[0;32m   1357\u001b[0m     \u001b[1;32mdef\u001b[0m \u001b[0mread\u001b[0m\u001b[1;33m(\u001b[0m\u001b[0mself\u001b[0m\u001b[1;33m)\u001b[0m\u001b[1;33m:\u001b[0m\u001b[1;33m\u001b[0m\u001b[1;33m\u001b[0m\u001b[0m\n",
      "\u001b[1;32m~\\Apps\\Anaconda3\\envs\\bluesky_2020_5\\lib\\site-packages\\databroker\\core.py\u001b[0m in \u001b[0;36m_documents_to_xarray\u001b[1;34m(start_doc, stop_doc, descriptor_docs, get_event_pages, filler, get_resource, lookup_resource_for_datum, get_datum_pages, include, exclude)\u001b[0m\n\u001b[0;32m    633\u001b[0m                 filled_event = _fill(\n\u001b[0;32m    634\u001b[0m                     \u001b[0mfiller\u001b[0m\u001b[1;33m,\u001b[0m \u001b[0mevent\u001b[0m\u001b[1;33m,\u001b[0m \u001b[0mlookup_resource_for_datum\u001b[0m\u001b[1;33m,\u001b[0m \u001b[0mget_resource\u001b[0m\u001b[1;33m,\u001b[0m\u001b[1;33m\u001b[0m\u001b[1;33m\u001b[0m\u001b[0m\n\u001b[1;32m--> 635\u001b[1;33m                     get_datum_pages)\n\u001b[0m\u001b[0;32m    636\u001b[0m                 \u001b[0mfilled_events\u001b[0m\u001b[1;33m.\u001b[0m\u001b[0mappend\u001b[0m\u001b[1;33m(\u001b[0m\u001b[0mfilled_event\u001b[0m\u001b[1;33m)\u001b[0m\u001b[1;33m\u001b[0m\u001b[1;33m\u001b[0m\u001b[0m\n\u001b[0;32m    637\u001b[0m         \u001b[1;32melse\u001b[0m\u001b[1;33m:\u001b[0m\u001b[1;33m\u001b[0m\u001b[1;33m\u001b[0m\u001b[0m\n",
      "\u001b[1;32m~\\Apps\\Anaconda3\\envs\\bluesky_2020_5\\lib\\site-packages\\databroker\\core.py\u001b[0m in \u001b[0;36m_fill\u001b[1;34m(filler, event, lookup_resource_for_datum, get_resource, get_datum_pages, last_datum_id)\u001b[0m\n\u001b[0;32m    561\u001b[0m             \u001b[0mget_resource\u001b[0m\u001b[1;33m,\u001b[0m\u001b[1;33m\u001b[0m\u001b[1;33m\u001b[0m\u001b[0m\n\u001b[0;32m    562\u001b[0m             \u001b[0mget_datum_pages\u001b[0m\u001b[1;33m,\u001b[0m\u001b[1;33m\u001b[0m\u001b[1;33m\u001b[0m\u001b[0m\n\u001b[1;32m--> 563\u001b[1;33m             \u001b[0mlast_datum_id\u001b[0m\u001b[1;33m=\u001b[0m\u001b[0mdatum_id\u001b[0m\u001b[1;33m,\u001b[0m\u001b[1;33m\u001b[0m\u001b[1;33m\u001b[0m\u001b[0m\n\u001b[0m\u001b[0;32m    564\u001b[0m         )\n\u001b[0;32m    565\u001b[0m \u001b[1;33m\u001b[0m\u001b[0m\n",
      "\u001b[1;32m~\\Apps\\Anaconda3\\envs\\bluesky_2020_5\\lib\\site-packages\\databroker\\core.py\u001b[0m in \u001b[0;36m_fill\u001b[1;34m(filler, event, lookup_resource_for_datum, get_resource, get_datum_pages, last_datum_id)\u001b[0m\n\u001b[0;32m    518\u001b[0m           last_datum_id=None):\n\u001b[0;32m    519\u001b[0m     \u001b[1;32mtry\u001b[0m\u001b[1;33m:\u001b[0m\u001b[1;33m\u001b[0m\u001b[1;33m\u001b[0m\u001b[0m\n\u001b[1;32m--> 520\u001b[1;33m         \u001b[0m_\u001b[0m\u001b[1;33m,\u001b[0m \u001b[0mfilled_event\u001b[0m \u001b[1;33m=\u001b[0m \u001b[0mfiller\u001b[0m\u001b[1;33m(\u001b[0m\u001b[1;34m\"event\"\u001b[0m\u001b[1;33m,\u001b[0m \u001b[0mevent\u001b[0m\u001b[1;33m)\u001b[0m\u001b[1;33m\u001b[0m\u001b[1;33m\u001b[0m\u001b[0m\n\u001b[0m\u001b[0;32m    521\u001b[0m         \u001b[1;32mreturn\u001b[0m \u001b[0mfilled_event\u001b[0m\u001b[1;33m\u001b[0m\u001b[1;33m\u001b[0m\u001b[0m\n\u001b[0;32m    522\u001b[0m     \u001b[1;32mexcept\u001b[0m \u001b[0mevent_model\u001b[0m\u001b[1;33m.\u001b[0m\u001b[0mUnresolvableForeignKeyError\u001b[0m \u001b[1;32mas\u001b[0m \u001b[0merr\u001b[0m\u001b[1;33m:\u001b[0m\u001b[1;33m\u001b[0m\u001b[1;33m\u001b[0m\u001b[0m\n",
      "\u001b[1;32m~\\Apps\\Anaconda3\\envs\\bluesky_2020_5\\lib\\site-packages\\event_model\\__init__.py\u001b[0m in \u001b[0;36m__call__\u001b[1;34m(self, name, doc, validate)\u001b[0m\n\u001b[0;32m    908\u001b[0m             raise EventModelRuntimeError(\n\u001b[0;32m    909\u001b[0m                 \"This Filler has been closed and is no longer usable.\")\n\u001b[1;32m--> 910\u001b[1;33m         \u001b[1;32mreturn\u001b[0m \u001b[0msuper\u001b[0m\u001b[1;33m(\u001b[0m\u001b[1;33m)\u001b[0m\u001b[1;33m.\u001b[0m\u001b[0m__call__\u001b[0m\u001b[1;33m(\u001b[0m\u001b[0mname\u001b[0m\u001b[1;33m,\u001b[0m \u001b[0mdoc\u001b[0m\u001b[1;33m,\u001b[0m \u001b[0mvalidate\u001b[0m\u001b[1;33m)\u001b[0m\u001b[1;33m\u001b[0m\u001b[1;33m\u001b[0m\u001b[0m\n\u001b[0m\u001b[0;32m    911\u001b[0m \u001b[1;33m\u001b[0m\u001b[0m\n\u001b[0;32m    912\u001b[0m \u001b[1;33m\u001b[0m\u001b[0m\n",
      "\u001b[1;32m~\\Apps\\Anaconda3\\envs\\bluesky_2020_5\\lib\\site-packages\\event_model\\__init__.py\u001b[0m in \u001b[0;36m__call__\u001b[1;34m(self, name, doc, validate)\u001b[0m\n\u001b[0;32m     72\u001b[0m             \u001b[0minstance\u001b[0m \u001b[1;32mas\u001b[0m \u001b[0mdoc\u001b[0m\u001b[1;33m,\u001b[0m \u001b[0ma\u001b[0m \u001b[0mcopy\u001b[0m \u001b[0mof\u001b[0m \u001b[0mdoc\u001b[0m\u001b[1;33m,\u001b[0m \u001b[1;32mor\u001b[0m \u001b[0ma\u001b[0m \u001b[0mdifferent\u001b[0m \u001b[0mdict\u001b[0m \u001b[0maltogether\u001b[0m\u001b[1;33m.\u001b[0m\u001b[1;33m\u001b[0m\u001b[1;33m\u001b[0m\u001b[0m\n\u001b[0;32m     73\u001b[0m         \"\"\"\n\u001b[1;32m---> 74\u001b[1;33m         \u001b[1;32mreturn\u001b[0m \u001b[0mself\u001b[0m\u001b[1;33m.\u001b[0m\u001b[0m_dispatch\u001b[0m\u001b[1;33m(\u001b[0m\u001b[0mname\u001b[0m\u001b[1;33m,\u001b[0m \u001b[0mdoc\u001b[0m\u001b[1;33m,\u001b[0m \u001b[0mvalidate\u001b[0m\u001b[1;33m)\u001b[0m\u001b[1;33m\u001b[0m\u001b[1;33m\u001b[0m\u001b[0m\n\u001b[0m\u001b[0;32m     75\u001b[0m \u001b[1;33m\u001b[0m\u001b[0m\n\u001b[0;32m     76\u001b[0m     \u001b[1;32mdef\u001b[0m \u001b[0m_dispatch\u001b[0m\u001b[1;33m(\u001b[0m\u001b[0mself\u001b[0m\u001b[1;33m,\u001b[0m \u001b[0mname\u001b[0m\u001b[1;33m,\u001b[0m \u001b[0mdoc\u001b[0m\u001b[1;33m,\u001b[0m \u001b[0mvalidate\u001b[0m\u001b[1;33m)\u001b[0m\u001b[1;33m:\u001b[0m\u001b[1;33m\u001b[0m\u001b[1;33m\u001b[0m\u001b[0m\n",
      "\u001b[1;32m~\\Apps\\Anaconda3\\envs\\bluesky_2020_5\\lib\\site-packages\\event_model\\__init__.py\u001b[0m in \u001b[0;36m_dispatch\u001b[1;34m(self, name, doc, validate)\u001b[0m\n\u001b[0;32m     80\u001b[0m         \u001b[0mOptionally\u001b[0m \u001b[0mvalidate\u001b[0m \u001b[0mthat\u001b[0m \u001b[0mthe\u001b[0m \u001b[0mresult\u001b[0m \u001b[1;32mis\u001b[0m \u001b[0mstill\u001b[0m \u001b[0ma\u001b[0m \u001b[0mvalid\u001b[0m \u001b[0mdocument\u001b[0m\u001b[1;33m.\u001b[0m\u001b[1;33m\u001b[0m\u001b[1;33m\u001b[0m\u001b[0m\n\u001b[0;32m     81\u001b[0m         \"\"\"\n\u001b[1;32m---> 82\u001b[1;33m         \u001b[0moutput_doc\u001b[0m \u001b[1;33m=\u001b[0m \u001b[0mgetattr\u001b[0m\u001b[1;33m(\u001b[0m\u001b[0mself\u001b[0m\u001b[1;33m,\u001b[0m \u001b[0mname\u001b[0m\u001b[1;33m)\u001b[0m\u001b[1;33m(\u001b[0m\u001b[0mdoc\u001b[0m\u001b[1;33m)\u001b[0m\u001b[1;33m\u001b[0m\u001b[1;33m\u001b[0m\u001b[0m\n\u001b[0m\u001b[0;32m     83\u001b[0m \u001b[1;33m\u001b[0m\u001b[0m\n\u001b[0;32m     84\u001b[0m         \u001b[1;31m# If 'event' is not defined by the subclass but 'event_page' is, or\u001b[0m\u001b[1;33m\u001b[0m\u001b[1;33m\u001b[0m\u001b[1;33m\u001b[0m\u001b[0m\n",
      "\u001b[1;32m~\\Apps\\Anaconda3\\envs\\bluesky_2020_5\\lib\\site-packages\\event_model\\__init__.py\u001b[0m in \u001b[0;36mevent\u001b[1;34m(self, doc)\u001b[0m\n\u001b[0;32m    722\u001b[0m     \u001b[1;32mdef\u001b[0m \u001b[0mevent\u001b[0m\u001b[1;33m(\u001b[0m\u001b[0mself\u001b[0m\u001b[1;33m,\u001b[0m \u001b[0mdoc\u001b[0m\u001b[1;33m)\u001b[0m\u001b[1;33m:\u001b[0m\u001b[1;33m\u001b[0m\u001b[1;33m\u001b[0m\u001b[0m\n\u001b[0;32m    723\u001b[0m         filled_doc = self.fill_event(doc, include=self.include,\n\u001b[1;32m--> 724\u001b[1;33m                                      exclude=self.exclude)\n\u001b[0m\u001b[0;32m    725\u001b[0m         \u001b[1;32mreturn\u001b[0m \u001b[0mfilled_doc\u001b[0m\u001b[1;33m\u001b[0m\u001b[1;33m\u001b[0m\u001b[0m\n\u001b[0;32m    726\u001b[0m \u001b[1;33m\u001b[0m\u001b[0m\n",
      "\u001b[1;32m~\\Apps\\Anaconda3\\envs\\bluesky_2020_5\\lib\\site-packages\\event_model\\__init__.py\u001b[0m in \u001b[0;36mfill_event\u001b[1;34m(self, doc, include, exclude, inplace)\u001b[0m\n\u001b[0;32m    865\u001b[0m                     \u001b[1;34mf\"Datum with id {datum_id} refers to unknown Resource \"\u001b[0m\u001b[1;33m\u001b[0m\u001b[1;33m\u001b[0m\u001b[0m\n\u001b[0;32m    866\u001b[0m                     f\"uid {resource_uid}\") from err\n\u001b[1;32m--> 867\u001b[1;33m             \u001b[0mhandler\u001b[0m \u001b[1;33m=\u001b[0m \u001b[0mself\u001b[0m\u001b[1;33m.\u001b[0m\u001b[0m_get_handler_maybe_cached\u001b[0m\u001b[1;33m(\u001b[0m\u001b[0mresource\u001b[0m\u001b[1;33m)\u001b[0m\u001b[1;33m\u001b[0m\u001b[1;33m\u001b[0m\u001b[0m\n\u001b[0m\u001b[0;32m    868\u001b[0m             error_to_raise = DataNotAccessible(\n\u001b[0;32m    869\u001b[0m                     \u001b[1;34mf\"Filler was unable to load the data referenced by \"\u001b[0m\u001b[1;33m\u001b[0m\u001b[1;33m\u001b[0m\u001b[0m\n",
      "\u001b[1;32m~\\Apps\\Anaconda3\\envs\\bluesky_2020_5\\lib\\site-packages\\event_model\\__init__.py\u001b[0m in \u001b[0;36m_get_handler_maybe_cached\u001b[1;34m(self, resource)\u001b[0m\n\u001b[0;32m    796\u001b[0m             \u001b[0mhandler\u001b[0m \u001b[1;33m=\u001b[0m \u001b[0mself\u001b[0m\u001b[1;33m.\u001b[0m\u001b[0m_handler_cache\u001b[0m\u001b[1;33m[\u001b[0m\u001b[0mkey\u001b[0m\u001b[1;33m]\u001b[0m\u001b[1;33m\u001b[0m\u001b[1;33m\u001b[0m\u001b[0m\n\u001b[0;32m    797\u001b[0m         \u001b[1;32mexcept\u001b[0m \u001b[0mKeyError\u001b[0m\u001b[1;33m:\u001b[0m\u001b[1;33m\u001b[0m\u001b[1;33m\u001b[0m\u001b[0m\n\u001b[1;32m--> 798\u001b[1;33m             \u001b[0mhandler\u001b[0m \u001b[1;33m=\u001b[0m \u001b[0mself\u001b[0m\u001b[1;33m.\u001b[0m\u001b[0mget_handler\u001b[0m\u001b[1;33m(\u001b[0m\u001b[0mresource\u001b[0m\u001b[1;33m)\u001b[0m\u001b[1;33m\u001b[0m\u001b[1;33m\u001b[0m\u001b[0m\n\u001b[0m\u001b[0;32m    799\u001b[0m             \u001b[0mself\u001b[0m\u001b[1;33m.\u001b[0m\u001b[0m_handler_cache\u001b[0m\u001b[1;33m[\u001b[0m\u001b[0mkey\u001b[0m\u001b[1;33m]\u001b[0m \u001b[1;33m=\u001b[0m \u001b[0mhandler\u001b[0m\u001b[1;33m\u001b[0m\u001b[1;33m\u001b[0m\u001b[0m\n\u001b[0;32m    800\u001b[0m         \u001b[1;32mreturn\u001b[0m \u001b[0mhandler\u001b[0m\u001b[1;33m\u001b[0m\u001b[1;33m\u001b[0m\u001b[0m\n",
      "\u001b[1;32m~\\Apps\\Anaconda3\\envs\\bluesky_2020_5\\lib\\site-packages\\event_model\\__init__.py\u001b[0m in \u001b[0;36mget_handler\u001b[1;34m(self, resource)\u001b[0m\n\u001b[0;32m    787\u001b[0m             \u001b[0mintervals\u001b[0m\u001b[1;33m=\u001b[0m\u001b[1;33m[\u001b[0m\u001b[1;36m0\u001b[0m\u001b[1;33m]\u001b[0m \u001b[1;33m+\u001b[0m \u001b[0mself\u001b[0m\u001b[1;33m.\u001b[0m\u001b[0mretry_intervals\u001b[0m\u001b[1;33m,\u001b[0m\u001b[1;33m\u001b[0m\u001b[1;33m\u001b[0m\u001b[0m\n\u001b[0;32m    788\u001b[0m             \u001b[0merror_to_catch\u001b[0m\u001b[1;33m=\u001b[0m\u001b[0mIOError\u001b[0m\u001b[1;33m,\u001b[0m\u001b[1;33m\u001b[0m\u001b[1;33m\u001b[0m\u001b[0m\n\u001b[1;32m--> 789\u001b[1;33m             error_to_raise=error_to_raise)\n\u001b[0m\u001b[0;32m    790\u001b[0m         \u001b[1;32mreturn\u001b[0m \u001b[0mhandler\u001b[0m\u001b[1;33m\u001b[0m\u001b[1;33m\u001b[0m\u001b[0m\n\u001b[0;32m    791\u001b[0m \u001b[1;33m\u001b[0m\u001b[0m\n",
      "\u001b[1;32m~\\Apps\\Anaconda3\\envs\\bluesky_2020_5\\lib\\site-packages\\event_model\\__init__.py\u001b[0m in \u001b[0;36m_attempt_with_retries\u001b[1;34m(func, args, kwargs, intervals, error_to_catch, error_to_raise)\u001b[0m\n\u001b[0;32m    940\u001b[0m         \u001b[1;31m# We have used up all our attempts. There seems to be an\u001b[0m\u001b[1;33m\u001b[0m\u001b[1;33m\u001b[0m\u001b[1;33m\u001b[0m\u001b[0m\n\u001b[0;32m    941\u001b[0m         \u001b[1;31m# actual problem. Raise specified error from the error stashed above.\u001b[0m\u001b[1;33m\u001b[0m\u001b[1;33m\u001b[0m\u001b[1;33m\u001b[0m\u001b[0m\n\u001b[1;32m--> 942\u001b[1;33m         \u001b[1;32mraise\u001b[0m \u001b[0merror_to_raise\u001b[0m \u001b[1;32mfrom\u001b[0m \u001b[0merror\u001b[0m\u001b[1;33m\u001b[0m\u001b[1;33m\u001b[0m\u001b[0m\n\u001b[0m\u001b[0;32m    943\u001b[0m \u001b[1;33m\u001b[0m\u001b[0m\n\u001b[0;32m    944\u001b[0m \u001b[1;33m\u001b[0m\u001b[0m\n",
      "\u001b[1;31mEventModelError\u001b[0m: Error instantiating handler class <class 'area_detector_handlers.handlers.AreaDetectorHDF5Handler'> with Resource document {'spec': 'AD_HDF5', 'root': '\\\\tmp', 'resource_path': 'docker_ioc\\\\iocadsky\\\\tmp\\\\simdet\\\\2020\\\\05\\\\14\\\\5227499c-6456-4caa-a419_000000.h5', 'resource_kwargs': {'frame_per_point': 1}, 'path_semantics': 'posix', 'uid': '336ef7a9-f114-4de6-a9cf-2cef0abc0cb2', 'run_start': 'fda1331e-d95f-4ea9-bb18-6fbb2e97c182'}. Its 'root' field \\tmp was *not* modified by root_map."
     ]
    }
   ],
   "source": [
    "plt.close()   # stop interaction with previous MPL window\n",
    "# FIXME: EventModelError: Error instantiating handler class  with Resource document {'spec': 'AD_HDF5', 'root': '/tmp', 'resource_path': 'docker_ioc/iocadsky/tmp/simdet/2020/05/13/ddfb7e48-4a25-4bf7-a45e_000000.h5', 'resource_kwargs': {'frame_per_point': 1}, 'path_semantics': 'posix', 'uid': '0117f6d5-67ca-4083-ba3b-6b30d5dca5f8', 'run_start': '94a857fe-a26d-4ede-947b-51e2187a8894'}. Its 'root' field /tmp was *not* modified by root_map.\n",
    "plt.imshow(h.xarray().adsimdet_image[0][0])"
   ]
  }
 ],
 "metadata": {
  "kernelspec": {
   "display_name": "Python 3.7.7 64-bit ('bluesky_2020_5': conda)",
   "language": "python",
   "name": "python37764bitbluesky20205conda414c31c00fba48028d4852f6340d7af7"
  },
  "language_info": {
   "codemirror_mode": {
    "name": "ipython",
    "version": 3
   },
   "file_extension": ".py",
   "mimetype": "text/x-python",
   "name": "python",
   "nbconvert_exporter": "python",
   "pygments_lexer": "ipython3",
   "version": "3.7.7-final"
  }
 },
 "nbformat": 4,
 "nbformat_minor": 4
}