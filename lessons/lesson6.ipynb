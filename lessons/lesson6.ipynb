{
 "cells": [
  {
   "cell_type": "markdown",
   "metadata": {},
   "source": [
    "# Lesson 6 : EPICS area detector\n",
    "\n",
    "Start the instrument package as our routine initialization."
   ]
  },
  {
   "cell_type": "code",
   "execution_count": 1,
   "metadata": {},
   "outputs": [
    {
     "name": "stderr",
     "output_type": "stream",
     "text": [
      "I Thu-18:28:32 - ############################################################ startup\n",
      "I Thu-18:28:32 - logging started\n",
      "I Thu-18:28:32 - logging level = 10\n",
      "I Thu-18:28:32 - /home/mintadmin/Documents/projects/use_bluesky/lessons/instrument/collection.py\n",
      "I Thu-18:28:32 - /home/mintadmin/Documents/projects/use_bluesky/lessons/instrument/mpl/notebook.py\n"
     ]
    },
    {
     "name": "stdout",
     "output_type": "stream",
     "text": [
      "Activating auto-logging. Current session state plus future input saved.\n",
      "Filename       : /home/mintadmin/Documents/projects/use_bluesky/lessons/.logs/ipython_console.log\n",
      "Mode           : rotate\n",
      "Output logging : True\n",
      "Raw input log  : False\n",
      "Timestamping   : True\n",
      "State          : active\n"
     ]
    },
    {
     "name": "stderr",
     "output_type": "stream",
     "text": [
      "I Thu-18:28:32 - bluesky framework\n",
      "I Thu-18:28:32 - /home/mintadmin/Documents/projects/use_bluesky/lessons/instrument/framework/check_python.py\n",
      "I Thu-18:28:32 - /home/mintadmin/Documents/projects/use_bluesky/lessons/instrument/framework/check_bluesky.py\n",
      "I Thu-18:28:32 - /home/mintadmin/Documents/projects/use_bluesky/lessons/instrument/framework/initialize.py\n",
      "I Thu-18:28:34 - /home/mintadmin/Documents/projects/use_bluesky/lessons/instrument/framework/metadata.py\n",
      "I Thu-18:28:34 - /home/mintadmin/Documents/projects/use_bluesky/lessons/instrument/framework/callbacks.py\n",
      "I Thu-18:28:34 - writing to SPEC file: /home/mintadmin/Documents/projects/use_bluesky/lessons/20200507-182834.dat\n",
      "I Thu-18:28:34 -    >>>>   Using default SPEC file name   <<<<\n",
      "I Thu-18:28:34 -    file will be created when bluesky ends its next scan\n",
      "I Thu-18:28:34 -    to change SPEC file, use command:   newSpecFile('title')\n"
     ]
    }
   ],
   "source": [
    "from instrument.collection import *"
   ]
  },
  {
   "cell_type": "markdown",
   "metadata": {},
   "source": [
    "The EPICS area detector support in ophyd has many features, some of them specific to the detector make and model.  Let's start with just a few features using the ADSimDetector.  We'll need to import support from ophyd by parts as they are needed.\n",
    "\n",
    "As we add features from the area detector plugins or other capabilities, the configuration complexity will increase.  So, it is good to start with a simple case where we can control the camera and generate images."
   ]
  },
  {
   "cell_type": "code",
   "execution_count": 2,
   "metadata": {},
   "outputs": [],
   "source": [
    "from ophyd import Component\n",
    "from ophyd.areadetector import ImagePlugin\n",
    "from ophyd.areadetector import SimDetector\n",
    "from ophyd.areadetector import SingleTrigger"
   ]
  },
  {
   "cell_type": "code",
   "execution_count": 3,
   "metadata": {},
   "outputs": [],
   "source": [
    "_ad_prefix = \"adsky:\""
   ]
  },
  {
   "cell_type": "code",
   "execution_count": 4,
   "metadata": {},
   "outputs": [],
   "source": [
    "class MySingleTriggerSimDetector(SingleTrigger, SimDetector): \n",
    "       \n",
    "    image = Component(ImagePlugin, suffix=\"image1:\")"
   ]
  },
  {
   "cell_type": "code",
   "execution_count": 5,
   "metadata": {},
   "outputs": [],
   "source": [
    "adsimdet = MySingleTriggerSimDetector(_ad_prefix, name='adsimdet')"
   ]
  },
  {
   "cell_type": "code",
   "execution_count": 6,
   "metadata": {},
   "outputs": [
    {
     "data": {
      "text/plain": [
       "OrderedDict([('cam.acquire', 0),\n",
       "             ('cam.image_mode', 1),\n",
       "             ('cam.num_images', 1),\n",
       "             ('cam.acquire_time', 0.1),\n",
       "             ('cam.acquire_period', 0.25)])"
      ]
     },
     "execution_count": 6,
     "metadata": {},
     "output_type": "execute_result"
    }
   ],
   "source": [
    "adsimdet.stage_sigs[\"cam.num_images\"] = 1\n",
    "adsimdet.stage_sigs[\"cam.acquire_time\"] = 0.1\n",
    "adsimdet.stage_sigs[\"cam.acquire_period\"] = 0.25\n",
    "\n",
    "adsimdet.stage_sigs"
   ]
  },
  {
   "cell_type": "code",
   "execution_count": 7,
   "metadata": {},
   "outputs": [
    {
     "name": "stdout",
     "output_type": "stream",
     "text": [
      "\n",
      "\n",
      "Transient Scan ID: 1     Time: 2020-05-07 18:28:45\n",
      "Persistent Unique Scan ID: '4812d8fb-93c9-48f9-8769-dc36d1c46b93'\n",
      "New stream: 'primary'\n",
      "+-----------+------------+\n",
      "|   seq_num |       time |\n",
      "+-----------+------------+\n",
      "|         1 | 18:28:45.7 |\n",
      "+-----------+------------+\n",
      "generator count ['4812d8fb'] (scan num: 1)\n"
     ]
    },
    {
     "data": {
      "text/plain": [
       "('4812d8fb-93c9-48f9-8769-dc36d1c46b93',)"
      ]
     },
     "execution_count": 7,
     "metadata": {},
     "output_type": "execute_result"
    }
   ],
   "source": [
    "RE(bp.count([adsimdet]))"
   ]
  },
  {
   "cell_type": "markdown",
   "metadata": {},
   "source": [
    "TODO: Get the image and display it.  See: https://github.com/BCDA-APS/use_bluesky/issues/31"
   ]
  },
  {
   "cell_type": "markdown",
   "metadata": {},
   "source": [
    "TODO: Save image(s) to HDF5 file."
   ]
  }
 ],
 "metadata": {
  "kernelspec": {
   "display_name": "Python 3",
   "language": "python",
   "name": "python3"
  },
  "language_info": {
   "codemirror_mode": {
    "name": "ipython",
    "version": 3
   },
   "file_extension": ".py",
   "mimetype": "text/x-python",
   "name": "python",
   "nbconvert_exporter": "python",
   "pygments_lexer": "ipython3",
   "version": "3.7.7"
  }
 },
 "nbformat": 4,
 "nbformat_minor": 4
}
