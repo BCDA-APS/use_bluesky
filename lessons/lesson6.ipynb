{
 "cells": [
  {
   "cell_type": "markdown",
   "metadata": {},
   "source": [
    "# Lesson 6 : EPICS area detector\n",
    "\n",
    "Start the instrument package as our routine initialization."
   ]
  },
  {
   "cell_type": "code",
   "execution_count": null,
   "metadata": {},
   "outputs": [],
   "source": [
    "from instrument.collection import *"
   ]
  },
  {
   "cell_type": "markdown",
   "metadata": {},
   "source": [
    "The EPICS area detector support in ophyd has many features, some of them specific to the detector make and model.  Let's start with just a few features using the ADSimDetector.  We'll need to import support from ophyd by parts as they are needed.\n",
    "\n",
    "As we add features from the area detector plugins or other capabilities, the configuration complexity will increase.  So, it is good to start with a simple case where we can control the camera and generate images."
   ]
  },
  {
   "cell_type": "code",
   "execution_count": null,
   "metadata": {},
   "outputs": [],
   "source": [
    "from ophyd import Component\n",
    "from ophyd.areadetector import ImagePlugin\n",
    "from ophyd.areadetector import SimDetector\n",
    "from ophyd.areadetector import SingleTrigger"
   ]
  },
  {
   "cell_type": "code",
   "execution_count": null,
   "metadata": {},
   "outputs": [],
   "source": [
    "# for jupyterlab ...\n",
    "# https://stackoverflow.com/a/51932652\n",
    "%matplotlib inline"
   ]
  },
  {
   "cell_type": "code",
   "execution_count": null,
   "metadata": {},
   "outputs": [],
   "source": [
    "_ad_prefix = \"adsky:\""
   ]
  },
  {
   "cell_type": "code",
   "execution_count": null,
   "metadata": {},
   "outputs": [],
   "source": [
    "class MySingleTriggerSimDetector(SingleTrigger, SimDetector): \n",
    "       \n",
    "    image = Component(ImagePlugin, suffix=\"image1:\")"
   ]
  },
  {
   "cell_type": "code",
   "execution_count": null,
   "metadata": {},
   "outputs": [],
   "source": [
    "adsimdet = MySingleTriggerSimDetector(_ad_prefix, name='adsimdet')\n",
    "adsimdet.wait_for_connection()"
   ]
  },
  {
   "cell_type": "code",
   "execution_count": null,
   "metadata": {},
   "outputs": [],
   "source": [
    "adsimdet.stage_sigs[\"cam.num_images\"] = 1\n",
    "adsimdet.stage_sigs[\"cam.acquire_time\"] = 0.1\n",
    "adsimdet.stage_sigs[\"cam.acquire_period\"] = 0.25\n",
    "\n",
    "adsimdet.stage_sigs"
   ]
  },
  {
   "cell_type": "code",
   "execution_count": null,
   "metadata": {},
   "outputs": [],
   "source": [
    "adsimdet.stage_sigs"
   ]
  },
  {
   "cell_type": "code",
   "execution_count": null,
   "metadata": {},
   "outputs": [],
   "source": [
    "RE(bp.count([adsimdet]))"
   ]
  },
  {
   "cell_type": "markdown",
   "metadata": {},
   "source": [
    "## Display image from EPICS PV data\n",
    "\n",
    "Get the detector image and display it.  In the initial instrument setup, MatPlotLib was initialized for our display.  We need a copy of the plotting object that was created, `plt` to show the detector image."
   ]
  },
  {
   "cell_type": "code",
   "execution_count": null,
   "metadata": {},
   "outputs": [],
   "source": [
    "# get the MatPlotLib tool\n",
    "from instrument.mpl import plt"
   ]
  },
  {
   "cell_type": "code",
   "execution_count": null,
   "metadata": {},
   "outputs": [],
   "source": [
    "# NOTE:\n",
    "#   These next cells show how one might get the image data directly from EPICS\n",
    "#   This is not recommended practice with Bluesky so the code has been commented out.\n",
    "\n",
    "# # The image comes from EPICS AD as a 1-D array, row by row.\n",
    "# # We need to make it into a 2-D array, so first we need to\n",
    "# # get the number of rows and columns from the image plugin.\n",
    "\n",
    "# array_size = adsimdet.image.array_size.get()\n",
    "# shape = (array_size.height, array_size.width)\n",
    "\n",
    "# # Now, get the image and make it a 2-D array.\n",
    "# im = adsimdet.image.array_data.get().reshape(shape)\n",
    "\n",
    "# # Tell MatPlotLib to show the image.\n",
    "# plt.imshow(im)"
   ]
  },
  {
   "cell_type": "markdown",
   "metadata": {},
   "source": [
    "It's useful to make these steps into a Python function."
   ]
  },
  {
   "cell_type": "code",
   "execution_count": null,
   "metadata": {},
   "outputs": [],
   "source": [
    "# def show_ad_image(det):\n",
    "#     array_size = det.image.array_size.get()\n",
    "#     shape = (array_size.height, array_size.width)\n",
    "#     im = det.image.array_data.get().reshape(shape)\n",
    "#     plt.imshow(im)"
   ]
  },
  {
   "cell_type": "code",
   "execution_count": null,
   "metadata": {},
   "outputs": [],
   "source": [
    "# plt.close()   # stop interaction with previous MPL window\n",
    "# show_ad_image(adsimdet)"
   ]
  },
  {
   "cell_type": "markdown",
   "metadata": {},
   "source": [
    "----\n",
    "## Use HDF file saving plugin\n",
    "\n",
    "Save image(s) to HDF5 file."
   ]
  },
  {
   "cell_type": "code",
   "execution_count": null,
   "metadata": {},
   "outputs": [],
   "source": [
    "from ophyd.areadetector import ADComponent\n",
    "from ophyd.areadetector import EpicsSignalWithRBV\n",
    "from ophyd.areadetector import HDF5Plugin\n",
    "from ophyd.areadetector.filestore_mixins import FileStoreHDF5IterativeWrite\n",
    "\n",
    "class MyHDF5Plugin(HDF5Plugin, FileStoreHDF5IterativeWrite):\n",
    "    create_directory_depth = Component(EpicsSignalWithRBV, suffix=\"CreateDirectory\")\n",
    "    array_callbacks = Component(EpicsSignalWithRBV, suffix=\"ArrayCallbacks\")\n",
    "\n",
    "    pool_max_buffers = None\n",
    "    \n",
    "    def get_frames_per_point(self):\n",
    "        return self.num_capture.get()\n",
    "\n",
    "    def stage(self):\n",
    "        super().stage()\n",
    "        res_kwargs = {'frame_per_point': self.get_frames_per_point()}\n",
    "        # res_kwargs = {'frame_per_point': self.num_capture.get()}\n",
    "        self._generate_resource(res_kwargs)"
   ]
  },
  {
   "cell_type": "code",
   "execution_count": null,
   "metadata": {},
   "outputs": [],
   "source": [
    "DATABROKER_ROOT_PATH = \"/tmp/\"\n",
    "\n",
    "# note: AD path MUST, must, MUST have trailing \"/\"!!!\n",
    "#  ...and... start with the same path defined in root (above)\n",
    "\n",
    "# path as seen by detector IOC\n",
    "WRITE_HDF5_FILE_PATH = \"/tmp/simdet/%Y/%m/%d/\"\n",
    "#!!! NOTE !!! This filesystem is on the IOC (might be in a docker container)!\n",
    "\n",
    "# path as seen by databroker\n",
    "READ_HDF5_FILE_PATH = \"/tmp/docker_ioc/iocadsky/tmp/simdet/%Y/%m/%d/\""
   ]
  },
  {
   "cell_type": "code",
   "execution_count": null,
   "metadata": {},
   "outputs": [],
   "source": [
    "class MySingleTriggerSimDetector(SingleTrigger, SimDetector): \n",
    "       \n",
    "    image = Component(ImagePlugin, suffix=\"image1:\")\n",
    "    hdf1 = ADComponent(\n",
    "        MyHDF5Plugin,\n",
    "        suffix='HDF1:', \n",
    "        root=DATABROKER_ROOT_PATH,\n",
    "        write_path_template = WRITE_HDF5_FILE_PATH,\n",
    "        read_path_template = READ_HDF5_FILE_PATH,\n",
    "    )"
   ]
  },
  {
   "cell_type": "code",
   "execution_count": null,
   "metadata": {},
   "outputs": [],
   "source": [
    "adsimdet = MySingleTriggerSimDetector(_ad_prefix, name='adsimdet')\n",
    "adsimdet.stage_sigs[\"cam.num_images\"] = 1\n",
    "adsimdet.stage_sigs[\"cam.acquire_time\"] = 0.1\n",
    "adsimdet.stage_sigs[\"cam.acquire_period\"] = 0.25\n",
    "adsimdet.hdf1.stage_sigs[\"num_capture\"] = 1\n",
    "\n",
    "adsimdet.read_attrs.append(\"hdf1\")\n",
    "if adsimdet.hdf1.create_directory_depth.get() == 0:\n",
    "    # probably not set, so let's set it now to some default\n",
    "    adsimdet.hdf1.create_directory_depth.put(-5)"
   ]
  },
  {
   "cell_type": "markdown",
   "metadata": {},
   "source": [
    "NOTE: EPICS AreaDetector file-saving plugins (such as \n",
    "the HDF plugin) must be primed before they can be \n",
    "used.  Priming must be done in these situations:\n",
    "\n",
    "* the IOC has just started\n",
    "* the image size has changed\n",
    "\n",
    "If you do not prime the detector and its plugin chain, *ophyd* will report an *UnprimedPlugin* error like this if you try to trigger (acquire data from) the detector:\n",
    "\n",
    "```\n",
    "UnprimedPlugin: The plugin hdf1 on the area detector with name DETECTOR_NAME has not been primed.\n",
    "```\n",
    "\n",
    "To prime the HDF plugin, call its `warmup()` method."
   ]
  },
  {
   "cell_type": "code",
   "execution_count": null,
   "metadata": {},
   "outputs": [],
   "source": [
    "enabled = adsimdet.hdf1.enable.get()\n",
    "adsimdet.hdf1.warmup()\n",
    "adsimdet.hdf1.enable.put(enabled)"
   ]
  },
  {
   "cell_type": "code",
   "execution_count": null,
   "metadata": {},
   "outputs": [],
   "source": [
    "adsimdet.hdf1.stage_sigs"
   ]
  },
  {
   "cell_type": "code",
   "execution_count": null,
   "metadata": {},
   "outputs": [],
   "source": [
    "print(f\"frames/point: {adsimdet.hdf1.get_frames_per_point()}\")\n",
    "RE(bp.count([adsimdet]))"
   ]
  },
  {
   "cell_type": "markdown",
   "metadata": {},
   "source": [
    "----\n",
    "\n",
    "Now, use databroker to retrieve that data and show the image."
   ]
  },
  {
   "cell_type": "code",
   "execution_count": null,
   "metadata": {},
   "outputs": [],
   "source": [
    "h = db[-1]"
   ]
  },
  {
   "cell_type": "code",
   "execution_count": null,
   "metadata": {},
   "outputs": [],
   "source": [
    "for entry in h.documents():\n",
    "    key, doc = entry\n",
    "    print(key, doc)\n",
    "    print(\"-\"*40)"
   ]
  },
  {
   "cell_type": "code",
   "execution_count": null,
   "metadata": {
    "scrolled": true
   },
   "outputs": [],
   "source": [
    "#plt.close()   # stop interaction with previous MPL window\n",
    "plt.imshow(h.xarray().adsimdet_image[0][0])"
   ]
  },
  {
   "cell_type": "markdown",
   "metadata": {},
   "source": [
    "The structure of the HDF5 file as reported by the \n",
    "punx program (https://punx.readthedocs.io):\n",
    "\n",
    "```\n",
    "  entry:NXentry\n",
    "    data:NXdata\n",
    "      data:NX_UINT8[1,1024,1024] = [ ... ]\n",
    "    instrument:NXinstrument\n",
    "      NDAttributes:NXcollection\n",
    "        NDArrayEpicsTSSec:NX_UINT32 = 958492486\n",
    "        NDArrayEpicsTSnSec:NX_UINT32 = 334947107\n",
    "        NDArrayTimeStamp:NX_FLOAT64 = 958492486.2348573\n",
    "        NDArrayUniqueId:NX_INT32 = 3\n",
    "      detector:NXdetector\n",
    "        data:NX_UINT8[1,1024,1024] = [ ... ]\n",
    "        NDAttributes:NXcollection\n",
    "          ColorMode:NX_INT32 = 0\n",
    "      performance\n",
    "        timestamp:NX_FLOAT64[1,5] = [ ... ]\n",
    "```\n",
    "\n",
    "With attributes shown:\n",
    "\n",
    "```\n",
    "  entry:NXentry\n",
    "    @NX_class = NXentry\n",
    "    data:NXdata\n",
    "      @NX_class = NXdata\n",
    "      data:NX_UINT8[1,1024,1024] = [ ... ]\n",
    "        @NDArrayDimBinning = 1\n",
    "        @NDArrayDimOffset = 0\n",
    "        @NDArrayDimReverse = 0\n",
    "        @NDArrayNumDims = 2\n",
    "        @signal = 1\n",
    "    instrument:NXinstrument\n",
    "      @NX_class = NXinstrument\n",
    "      NDAttributes:NXcollection\n",
    "        @NX_class = NXcollection\n",
    "        @hostname = poof\n",
    "        NDArrayEpicsTSSec:NX_UINT32 = 958492486\n",
    "          @NDAttrDescription = The NDArray EPICS timestamp seconds past epoch\n",
    "          @NDAttrName = NDArrayEpicsTSSec\n",
    "          @NDAttrSource = Driver\n",
    "          @NDAttrSourceType = NDAttrSourceDriver\n",
    "        NDArrayEpicsTSnSec:NX_UINT32 = 334947107\n",
    "          @NDAttrDescription = The NDArray EPICS timestamp nanoseconds\n",
    "          @NDAttrName = NDArrayEpicsTSnSec\n",
    "          @NDAttrSource = Driver\n",
    "          @NDAttrSourceType = NDAttrSourceDriver\n",
    "        NDArrayTimeStamp:NX_FLOAT64 = 958492486.2348573\n",
    "          @NDAttrDescription = The timestamp of the NDArray as float64\n",
    "          @NDAttrName = NDArrayTimeStamp\n",
    "          @NDAttrSource = Driver\n",
    "          @NDAttrSourceType = NDAttrSourceDriver\n",
    "        NDArrayUniqueId:NX_INT32 = 3\n",
    "          @NDAttrDescription = The unique ID of the NDArray\n",
    "          @NDAttrName = NDArrayUniqueId\n",
    "          @NDAttrSource = Driver\n",
    "          @NDAttrSourceType = NDAttrSourceDriver\n",
    "      detector:NXdetector\n",
    "        @NX_class = NXdetector\n",
    "        data:NX_UINT8[1,1024,1024] = [ ... ]\n",
    "          @NDArrayDimBinning = 1\n",
    "          @NDArrayDimOffset = 0\n",
    "          @NDArrayDimReverse = 0\n",
    "          @NDArrayNumDims = 2\n",
    "          @signal = 1\n",
    "        NDAttributes:NXcollection\n",
    "          @NX_class = NXcollection\n",
    "          ColorMode:NX_INT32 = 0\n",
    "            @NDAttrDescription = Color mode\n",
    "            @NDAttrName = ColorMode\n",
    "            @NDAttrSource = Driver\n",
    "            @NDAttrSourceType = NDAttrSourceDriver\n",
    "      performance\n",
    "        timestamp:NX_FLOAT64[1,5] = [ ... ]\n",
    "```\n"
   ]
  }
 ],
 "metadata": {
  "kernelspec": {
   "display_name": "Python 3",
   "language": "python",
   "name": "python3"
  },
  "language_info": {
   "codemirror_mode": {
    "name": "ipython",
    "version": 3
   },
   "file_extension": ".py",
   "mimetype": "text/x-python",
   "name": "python",
   "nbconvert_exporter": "python",
   "pygments_lexer": "ipython3",
   "version": "3.7.7-final"
  }
 },
 "nbformat": 4,
 "nbformat_minor": 4
}