{
 "cells": [
  {
   "cell_type": "markdown",
   "metadata": {},
   "source": [
    "# Lesson 5: find a peak and lineup\n",
    "\n",
    "In this lesson, alignment to a narrow diffraction peak is \n",
    "using capabilities provided by \n",
    "the [ophyd](https://blueskyproject.io/ophyd/) package.  The \n",
    "simulation consists of a simulated motor and simulated\n",
    "noisy detector.\n",
    "\n",
    "The noisy detector is configured to describe a narrow diffraction\n",
    "peak with Gaussian profile based on the value of the motor position.\n",
    "The peak is centered randomly somewhere between motor \n",
    "values -1 and +1.  The width is less than 0.05 in the same units.  The\n",
    "peak intensity is expected to be approximately 100,000 (counts/sec \n",
    "are typical units).\n",
    "\n",
    "**Preparation**\n",
    "\n",
    "Make sure the `instrument` package is in the same directory \n",
    "as this jupyter notebook. The `instrument` package included with \n",
    "this lesson is a brief version of the standard package used \n",
    "with any APS instrument.  Since the notebook is for teaching,\n",
    "it does not connect with any mongodb database.  The scans are \n",
    "not kept by the databroker.  However, every scan is saved to a \n",
    "SPEC data file as described when the instrument package is loaded."
   ]
  },
  {
   "cell_type": "markdown",
   "metadata": {},
   "source": [
    "## Objective\n",
    "\n",
    "Use *Bluesky* (the tools provided by the various packages \n",
    "of the [Bluesky framework](https://blueskyproject.io/)) \n",
    "to find the center and width of a simulated diffraction \n",
    "peak.  Move the motor to the peak center.\n",
    "\n",
    "1. Use interactive ophyd commands to find the peak and assess the width.\n",
    "2. Use the RunEngine and bluesky plans to find the peak and assess the width.\n",
    "\n",
    "\n",
    "## Advanced\n",
    "\n",
    "3. Make a custom plan and run it to find the peak center.\n",
    "4. Add that new plan to the instrument package, then \n",
    "   restart the notebook's kernel and try it.\n",
    "5. Add the simulated motor and noisy detector to the \n",
    "   instrument package, then restart the notebook's \n",
    "   kernel and find the peak again.\n",
    "\n",
    "\n",
    "----"
   ]
  },
  {
   "cell_type": "markdown",
   "metadata": {},
   "source": [
    "## Initialize\n",
    "\n",
    "Load the instrument controls (which sets up the Bluesky framework for collection: `RE`, `bec`, `bp`, ...).  This defines more than we need but works as a simple start, just like regular data acquisition at a beam line."
   ]
  },
  {
   "cell_type": "code",
   "execution_count": 1,
   "metadata": {
    "scrolled": true
   },
   "outputs": [
    {
     "name": "stderr",
     "output_type": "stream",
     "text": [
      "I Wed-14:39:46 - ############################################################ startup\n",
      "I Wed-14:39:46 - logging started\n",
      "I Wed-14:39:46 - logging level = 10\n",
      "I Wed-14:39:46 - /tmp/lessons/instrument/collection.py\n",
      "I Wed-14:39:46 - /tmp/lessons/instrument/mpl/notebook.py\n"
     ]
    },
    {
     "name": "stdout",
     "output_type": "stream",
     "text": [
      "Activating auto-logging. Current session state plus future input saved.\n",
      "Filename       : /tmp/lessons/.logs/ipython_console.log\n",
      "Mode           : rotate\n",
      "Output logging : True\n",
      "Raw input log  : False\n",
      "Timestamping   : True\n",
      "State          : active\n"
     ]
    },
    {
     "name": "stderr",
     "output_type": "stream",
     "text": [
      "I Wed-14:39:46 - bluesky framework\n",
      "I Wed-14:39:46 - /tmp/lessons/instrument/framework/check_python.py\n",
      "I Wed-14:39:46 - /tmp/lessons/instrument/framework/check_bluesky.py\n",
      "I Wed-14:39:51 - /tmp/lessons/instrument/framework/initialize.py\n",
      "I Wed-14:39:55 - /tmp/lessons/instrument/framework/metadata.py\n",
      "I Wed-14:39:56 - /tmp/lessons/instrument/framework/callbacks.py\n",
      "I Wed-14:39:56 - writing to SPEC file: /tmp/lessons/20200513-143956.dat\n",
      "I Wed-14:39:56 -    >>>>   Using default SPEC file name   <<<<\n",
      "I Wed-14:39:56 -    file will be created when bluesky ends its next scan\n",
      "I Wed-14:39:56 -    to change SPEC file, use command:   newSpecFile('title')\n"
     ]
    }
   ],
   "source": [
    "from instrument.collection import *"
   ]
  },
  {
   "cell_type": "markdown",
   "metadata": {},
   "source": [
    "Numpy provides the random number generator we'll use."
   ]
  },
  {
   "cell_type": "code",
   "execution_count": 3,
   "metadata": {},
   "outputs": [],
   "source": [
    "import numpy as np"
   ]
  },
  {
   "cell_type": "markdown",
   "metadata": {},
   "source": [
    "Load the ophyd simulators"
   ]
  },
  {
   "cell_type": "code",
   "execution_count": 4,
   "metadata": {},
   "outputs": [],
   "source": [
    "from ophyd.sim import *"
   ]
  },
  {
   "cell_type": "code",
   "execution_count": 5,
   "metadata": {},
   "outputs": [
    {
     "name": "stdout",
     "output_type": "stream",
     "text": [
      "=================== ===================== ======== =========\n",
      "name                ophyd structure       EPICS PV label(s) \n",
      "=================== ===================== ======== =========\n",
      "ab_det              ABDetector                     detectors\n",
      "bool_sig            Signal                         detectors\n",
      "det                 SynGauss                       detectors\n",
      "det1                SynGauss                       detectors\n",
      "det2                SynGauss                       detectors\n",
      "det3                SynGauss                       detectors\n",
      "det4                Syn2DGauss                     detectors\n",
      "det5                Syn2DGauss                     detectors\n",
      "det_with_conf       DetWithConf                    detectors\n",
      "det_with_count_time DetWithCountTime               detectors\n",
      "direct_img          DirectImage                    detectors\n",
      "direct_img_list     DirectImage                    detectors\n",
      "identical_det       SynGauss                       detectors\n",
      "img                 SynSignalWithRegistry          detectors\n",
      "invariant1          InvariantSignal                detectors\n",
      "invariant2          InvariantSignal                detectors\n",
      "jittery_motor1      SynAxis                        motors   \n",
      "jittery_motor2      SynAxis                        motors   \n",
      "motor               SynAxis                        motors   \n",
      "motor1              SynAxis                        motors   \n",
      "motor2              SynAxis                        motors   \n",
      "motor3              SynAxis                        motors   \n",
      "motor_empty_hints1  SynAxisEmptyHints              motors   \n",
      "motor_empty_hints2  SynAxisEmptyHints              motors   \n",
      "motor_no_hints1     SynAxisNoHints                 motors   \n",
      "motor_no_hints2     SynAxisNoHints                 motors   \n",
      "motor_no_pos        SynAxisNoPosition              motors   \n",
      "noisy_det           SynGauss                       detectors\n",
      "pseudo1x3           SPseudo1x3                              \n",
      "pseudo3x3           SPseudo3x3                              \n",
      "rand                SynPeriodicSignal              detectors\n",
      "rand2               SynPeriodicSignal              detectors\n",
      "sig                 Signal                                  \n",
      "signal              SynSignal                               \n",
      "=================== ===================== ======== =========\n",
      "\n"
     ]
    },
    {
     "data": {
      "text/plain": [
       "<pyRestTable.rest_table.Table at 0x7fbcc0dc8790>"
      ]
     },
     "execution_count": 5,
     "metadata": {},
     "output_type": "execute_result"
    }
   ],
   "source": [
    "listobjects()"
   ]
  },
  {
   "cell_type": "markdown",
   "metadata": {},
   "source": [
    "## Make a noisy detector\n",
    "\n",
    "Make a new ``noisy``, replacing the one from the simulator."
   ]
  },
  {
   "cell_type": "code",
   "execution_count": 65,
   "metadata": {},
   "outputs": [],
   "source": [
    "noisy = SynGauss(\n",
    "    'noisy', \n",
    "    motor, 'motor', \n",
    "    # center somewhere between -1 and 1\n",
    "    center=2 * (np.random.random()-0.5), \n",
    "    # randomize these parameters\n",
    "    Imax=100000 + 20000 * (np.random.random()-0.5),\n",
    "    noise='poisson', \n",
    "    sigma=0.016 + 0.015 * (np.random.random()-0.5), \n",
    "    noise_multiplier=0.1 + 0.02 * (np.random.random()-0.5),\n",
    "    labels={'detectors'})"
   ]
  },
  {
   "cell_type": "markdown",
   "metadata": {},
   "source": [
    "Define the reported precision of the motor and detector."
   ]
  },
  {
   "cell_type": "code",
   "execution_count": 66,
   "metadata": {},
   "outputs": [],
   "source": [
    "motor.precision = 5\n",
    "noisy.precision = 0"
   ]
  },
  {
   "cell_type": "markdown",
   "metadata": {},
   "source": [
    "Print the values just configured"
   ]
  },
  {
   "cell_type": "code",
   "execution_count": 67,
   "metadata": {},
   "outputs": [
    {
     "name": "stdout",
     "output_type": "stream",
     "text": [
      "motor: 0.5569999999999998\n",
      "center: 0.13750024109449166\n",
      "sigma: 0.02175365463198405\n",
      "Imax: 108137.86761890567\n",
      "noise: poisson\n",
      "noise_multiplier : 0.10368316849491396\n",
      "noisy_det : OrderedDict([('noisy', {'value': 0, 'timestamp': 1589399772.4064496})])\n"
     ]
    }
   ],
   "source": [
    "print(f\"motor: {motor.position}\")\n",
    "print(f\"center: {noisy.center.get()}\")\n",
    "print(f\"sigma: {noisy.sigma.get()}\")\n",
    "print(f\"Imax: {noisy.Imax.get()}\")\n",
    "print(f\"noise: {noisy.noise.get()}\")\n",
    "print(f\"noise_multiplier : {noisy.noise_multiplier.get()}\")\n",
    "noisy.trigger()     # update the \"detector\" value\n",
    "print(f\"noisy_det : {noisy.read()}\")"
   ]
  },
  {
   "cell_type": "markdown",
   "metadata": {},
   "source": [
    "## 1. Use `ophyd` commands\n",
    "\n",
    "The first thing to learn is how to move the motor.  As typical of many control systems, there are several ways to do this.  We will focus on only two of these since we can apply them to both simulated motors *and* EPICS motors.\n",
    "\n",
    "Different from a real motor, our simulated motor moves immediately, so motor velocity and acceleration are not involved.  Since the motor moves immediately, there is no discernable delay due to short or long motor motions.\n",
    "\n",
    "**tip**: There are several ways to do most things but this tutorial focuses on just a few with the hope that these ways are both simple and reuseable."
   ]
  },
  {
   "cell_type": "markdown",
   "metadata": {},
   "source": [
    "### motor, move and get position\n",
    "\n",
    "For a motor named `motor`, any of these commands can \n",
    "be used in an interactive session to move the motor from \n",
    "its current position to `1.0`:\n",
    "    \n",
    "    motor.set(1)\n",
    "    motor.set(1).wait()\n",
    "    %mov motor 1\n",
    "\n",
    "The `%mov` command is simplest so that is what we will use here.\n",
    "\n",
    "**tip**: The `%mov` command is absolute move, while `%movr` is a relative move.\n",
    "\n",
    "Move the motor from where it is now, to 1, and print its position."
   ]
  },
  {
   "cell_type": "code",
   "execution_count": 68,
   "metadata": {},
   "outputs": [
    {
     "name": "stdout",
     "output_type": "stream",
     "text": [
      "1\n"
     ]
    }
   ],
   "source": [
    "%mov motor 1\n",
    "print(motor.position)"
   ]
  },
  {
   "cell_type": "code",
   "execution_count": 69,
   "metadata": {},
   "outputs": [
    {
     "data": {
      "text/plain": [
       "1"
      ]
     },
     "execution_count": 69,
     "metadata": {},
     "output_type": "execute_result"
    }
   ],
   "source": [
    "motor.readback.get()"
   ]
  },
  {
   "cell_type": "markdown",
   "metadata": {},
   "source": [
    "Move the motor to 0 (this time using a relative move)."
   ]
  },
  {
   "cell_type": "code",
   "execution_count": 70,
   "metadata": {},
   "outputs": [
    {
     "data": {
      "text/plain": [
       "0"
      ]
     },
     "execution_count": 70,
     "metadata": {},
     "output_type": "execute_result"
    }
   ],
   "source": [
    "%movr motor -1\n",
    "motor.position"
   ]
  },
  {
   "cell_type": "markdown",
   "metadata": {},
   "source": [
    "### detector, count and get value\n",
    "\n",
    "Above, we created a detector named `noisy` that simulates a *scaler* (detector that records a single integer number of detection events, usually the number of X-ray photons received).  Real scalers are told to measure for a fixed time interval.  Our simulator does not have that feature.\n",
    "\n",
    "The simulated noisy detector computes its value for *counts* based on the position of the configured motor.\n",
    "\n",
    "Show the name of the motor configured into the `noisy` detector.  Check that its name is `motor`."
   ]
  },
  {
   "cell_type": "code",
   "execution_count": 71,
   "metadata": {},
   "outputs": [
    {
     "name": "stdout",
     "output_type": "stream",
     "text": [
      "SynAxis(prefix='', name='motor', read_attrs=['readback', 'setpoint'], configuration_attrs=['velocity', 'acceleration'])\n"
     ]
    }
   ],
   "source": [
    "print(noisy._motor)"
   ]
  },
  {
   "cell_type": "markdown",
   "metadata": {},
   "source": [
    "The value (number of counts) is kept in `noisy.val`.  Show it's value now.  \n",
    "\n",
    "**tip**: We can drop the `print()` wrapper if the command we use returns the value we'd print anyway.  Use this convenient shortcut."
   ]
  },
  {
   "cell_type": "code",
   "execution_count": 72,
   "metadata": {},
   "outputs": [
    {
     "data": {
      "text/plain": [
       "SynSignal(name='noisy', parent='noisy', value=0, timestamp=1589399772.4064496)"
      ]
     },
     "execution_count": 72,
     "metadata": {},
     "output_type": "execute_result"
    }
   ],
   "source": [
    "noisy.val"
   ]
  },
  {
   "cell_type": "markdown",
   "metadata": {},
   "source": [
    "We need to tell the detector to acquire data.  To acquire data, our simulator will re-compute its value based on the motor position (as with a real detector, the value does not update without something that compels this computation), since that may have changed since the last computation.\n",
    "\n",
    "For ophyd Devices, the method to call is [`trigger()`](https://blueskyproject.io/ophyd/generated/ophyd.device.BlueskyInterface.trigger.html?highlight=trigger)."
   ]
  },
  {
   "cell_type": "code",
   "execution_count": 73,
   "metadata": {},
   "outputs": [
    {
     "data": {
      "text/plain": [
       "SynSignal(name='noisy', parent='noisy', value=0, timestamp=1589399800.356046)"
      ]
     },
     "execution_count": 73,
     "metadata": {},
     "output_type": "execute_result"
    }
   ],
   "source": [
    "noisy.trigger()\n",
    "noisy.val"
   ]
  },
  {
   "cell_type": "markdown",
   "metadata": {},
   "source": [
    "### Find the simulated peak\n",
    "\n",
    "With tools to move the motor and acquire data from the detector, we can try to find the simulated peak.  It may take some retries since the peak is narrow.  Take big steps first (such as `0.1`) to find non-zero counts, then smaller steps to find the peak.\n",
    "\n",
    "First, move to one end of the range, then start stepping until you find non-zero counts.  Then use `%movr` and execute the same notebook cell repeatedly.  Call the detector's `.get()` method to only print the number of counts and not the other information."
   ]
  },
  {
   "cell_type": "code",
   "execution_count": 74,
   "metadata": {},
   "outputs": [
    {
     "name": "stdout",
     "output_type": "stream",
     "text": [
      "-1 0\n"
     ]
    }
   ],
   "source": [
    "%mov motor -1\n",
    "noisy.trigger()\n",
    "print(motor.position, noisy.val.get())"
   ]
  },
  {
   "cell_type": "markdown",
   "metadata": {},
   "source": [
    "The next cell will probably show a very small step size.  Change it to `0.1` and execute the cell repeatedly with <ctrl><ENTER>.  Once you have reached a peak (or passed it), change the sign and make the step size smaller.  Repeat until you are satisfied."
   ]
  },
  {
   "cell_type": "code",
   "execution_count": 75,
   "metadata": {},
   "outputs": [
    {
     "name": "stdout",
     "output_type": "stream",
     "text": [
      "-0.99900, 0\n"
     ]
    }
   ],
   "source": [
    "%movr motor 0.1\n",
    "noisy.trigger()\n",
    "print(f\"{motor.position:.5f}, {noisy.val.get()}\")"
   ]
  },
  {
   "cell_type": "markdown",
   "metadata": {},
   "source": [
    "Compare the peak center you found with the value printed after the `noisy` detector was configured (above).  Probably, they will differ by a small amount since the simulator applies random noise to the signal."
   ]
  },
  {
   "cell_type": "markdown",
   "metadata": {},
   "source": [
    "## 2. Use RunEngine and bluesky plans\n",
    "\n",
    "Here we use the RunEngine (`RE`) and standard [bluesky plans](https://blueskyproject.io/bluesky/plans.html) to locate the simulated diffraction peak.\n",
    "\n",
    "Since we will do a series of scans, let's make a list to collect the results from each scan.  We'll report that list later."
   ]
  },
  {
   "cell_type": "code",
   "execution_count": 76,
   "metadata": {},
   "outputs": [],
   "source": [
    "results=[]"
   ]
  },
  {
   "cell_type": "markdown",
   "metadata": {},
   "source": [
    "Next, some variables are defined which will make calling the scans more consistent.\n",
    "\n",
    "The first variable, *k*, is used to expand (only slightly) the range of the next scan to capture the full width of the peak.  We'll also define *n* as the number of points in each scan."
   ]
  },
  {
   "cell_type": "code",
   "execution_count": 77,
   "metadata": {},
   "outputs": [],
   "source": [
    "k = 1.5         # range expansion factor\n",
    "n = 29          # number of points per scan"
   ]
  },
  {
   "cell_type": "markdown",
   "metadata": {},
   "source": [
    "### Locate the approximate peak position\n",
    "\n",
    "Scan from -2 to 2 to find the peak.  Since it is a Gaussian (which decays rapidly away from the peak), we may need to increase *n*, the number of points in the scan.  All we need is one point above the background to find it!\n",
    "\n",
    "Use the [*scan*](https://blueskyproject.io/bluesky/generated/bluesky.plans.scan.html?highlight=scan) plan from `bluesky.plans` (provided here as `bp`) to locate at least one point on the peak that is above the background of 0 counts."
   ]
  },
  {
   "cell_type": "code",
   "execution_count": 78,
   "metadata": {
    "scrolled": true
   },
   "outputs": [
    {
     "name": "stdout",
     "output_type": "stream",
     "text": [
      "\n",
      "\n",
      "Transient Scan ID: 1     Time: 2020-05-13 15:01:28\n",
      "Persistent Unique Scan ID: '5d244134-0a8b-42b1-ac52-8508d5034fc6'\n",
      "New stream: 'primary'\n"
     ]
    },
    {
     "data": {
      "application/javascript": [
       "/* Put everything inside the global mpl namespace */\n",
       "window.mpl = {};\n",
       "\n",
       "\n",
       "mpl.get_websocket_type = function() {\n",
       "    if (typeof(WebSocket) !== 'undefined') {\n",
       "        return WebSocket;\n",
       "    } else if (typeof(MozWebSocket) !== 'undefined') {\n",
       "        return MozWebSocket;\n",
       "    } else {\n",
       "        alert('Your browser does not have WebSocket support. ' +\n",
       "              'Please try Chrome, Safari or Firefox ≥ 6. ' +\n",
       "              'Firefox 4 and 5 are also supported but you ' +\n",
       "              'have to enable WebSockets in about:config.');\n",
       "    };\n",
       "}\n",
       "\n",
       "mpl.figure = function(figure_id, websocket, ondownload, parent_element) {\n",
       "    this.id = figure_id;\n",
       "\n",
       "    this.ws = websocket;\n",
       "\n",
       "    this.supports_binary = (this.ws.binaryType != undefined);\n",
       "\n",
       "    if (!this.supports_binary) {\n",
       "        var warnings = document.getElementById(\"mpl-warnings\");\n",
       "        if (warnings) {\n",
       "            warnings.style.display = 'block';\n",
       "            warnings.textContent = (\n",
       "                \"This browser does not support binary websocket messages. \" +\n",
       "                    \"Performance may be slow.\");\n",
       "        }\n",
       "    }\n",
       "\n",
       "    this.imageObj = new Image();\n",
       "\n",
       "    this.context = undefined;\n",
       "    this.message = undefined;\n",
       "    this.canvas = undefined;\n",
       "    this.rubberband_canvas = undefined;\n",
       "    this.rubberband_context = undefined;\n",
       "    this.format_dropdown = undefined;\n",
       "\n",
       "    this.image_mode = 'full';\n",
       "\n",
       "    this.root = $('<div/>');\n",
       "    this._root_extra_style(this.root)\n",
       "    this.root.attr('style', 'display: inline-block');\n",
       "\n",
       "    $(parent_element).append(this.root);\n",
       "\n",
       "    this._init_header(this);\n",
       "    this._init_canvas(this);\n",
       "    this._init_toolbar(this);\n",
       "\n",
       "    var fig = this;\n",
       "\n",
       "    this.waiting = false;\n",
       "\n",
       "    this.ws.onopen =  function () {\n",
       "            fig.send_message(\"supports_binary\", {value: fig.supports_binary});\n",
       "            fig.send_message(\"send_image_mode\", {});\n",
       "            if (mpl.ratio != 1) {\n",
       "                fig.send_message(\"set_dpi_ratio\", {'dpi_ratio': mpl.ratio});\n",
       "            }\n",
       "            fig.send_message(\"refresh\", {});\n",
       "        }\n",
       "\n",
       "    this.imageObj.onload = function() {\n",
       "            if (fig.image_mode == 'full') {\n",
       "                // Full images could contain transparency (where diff images\n",
       "                // almost always do), so we need to clear the canvas so that\n",
       "                // there is no ghosting.\n",
       "                fig.context.clearRect(0, 0, fig.canvas.width, fig.canvas.height);\n",
       "            }\n",
       "            fig.context.drawImage(fig.imageObj, 0, 0);\n",
       "        };\n",
       "\n",
       "    this.imageObj.onunload = function() {\n",
       "        fig.ws.close();\n",
       "    }\n",
       "\n",
       "    this.ws.onmessage = this._make_on_message_function(this);\n",
       "\n",
       "    this.ondownload = ondownload;\n",
       "}\n",
       "\n",
       "mpl.figure.prototype._init_header = function() {\n",
       "    var titlebar = $(\n",
       "        '<div class=\"ui-dialog-titlebar ui-widget-header ui-corner-all ' +\n",
       "        'ui-helper-clearfix\"/>');\n",
       "    var titletext = $(\n",
       "        '<div class=\"ui-dialog-title\" style=\"width: 100%; ' +\n",
       "        'text-align: center; padding: 3px;\"/>');\n",
       "    titlebar.append(titletext)\n",
       "    this.root.append(titlebar);\n",
       "    this.header = titletext[0];\n",
       "}\n",
       "\n",
       "\n",
       "\n",
       "mpl.figure.prototype._canvas_extra_style = function(canvas_div) {\n",
       "\n",
       "}\n",
       "\n",
       "\n",
       "mpl.figure.prototype._root_extra_style = function(canvas_div) {\n",
       "\n",
       "}\n",
       "\n",
       "mpl.figure.prototype._init_canvas = function() {\n",
       "    var fig = this;\n",
       "\n",
       "    var canvas_div = $('<div/>');\n",
       "\n",
       "    canvas_div.attr('style', 'position: relative; clear: both; outline: 0');\n",
       "\n",
       "    function canvas_keyboard_event(event) {\n",
       "        return fig.key_event(event, event['data']);\n",
       "    }\n",
       "\n",
       "    canvas_div.keydown('key_press', canvas_keyboard_event);\n",
       "    canvas_div.keyup('key_release', canvas_keyboard_event);\n",
       "    this.canvas_div = canvas_div\n",
       "    this._canvas_extra_style(canvas_div)\n",
       "    this.root.append(canvas_div);\n",
       "\n",
       "    var canvas = $('<canvas/>');\n",
       "    canvas.addClass('mpl-canvas');\n",
       "    canvas.attr('style', \"left: 0; top: 0; z-index: 0; outline: 0\")\n",
       "\n",
       "    this.canvas = canvas[0];\n",
       "    this.context = canvas[0].getContext(\"2d\");\n",
       "\n",
       "    var backingStore = this.context.backingStorePixelRatio ||\n",
       "\tthis.context.webkitBackingStorePixelRatio ||\n",
       "\tthis.context.mozBackingStorePixelRatio ||\n",
       "\tthis.context.msBackingStorePixelRatio ||\n",
       "\tthis.context.oBackingStorePixelRatio ||\n",
       "\tthis.context.backingStorePixelRatio || 1;\n",
       "\n",
       "    mpl.ratio = (window.devicePixelRatio || 1) / backingStore;\n",
       "\n",
       "    var rubberband = $('<canvas/>');\n",
       "    rubberband.attr('style', \"position: absolute; left: 0; top: 0; z-index: 1;\")\n",
       "\n",
       "    var pass_mouse_events = true;\n",
       "\n",
       "    canvas_div.resizable({\n",
       "        start: function(event, ui) {\n",
       "            pass_mouse_events = false;\n",
       "        },\n",
       "        resize: function(event, ui) {\n",
       "            fig.request_resize(ui.size.width, ui.size.height);\n",
       "        },\n",
       "        stop: function(event, ui) {\n",
       "            pass_mouse_events = true;\n",
       "            fig.request_resize(ui.size.width, ui.size.height);\n",
       "        },\n",
       "    });\n",
       "\n",
       "    function mouse_event_fn(event) {\n",
       "        if (pass_mouse_events)\n",
       "            return fig.mouse_event(event, event['data']);\n",
       "    }\n",
       "\n",
       "    rubberband.mousedown('button_press', mouse_event_fn);\n",
       "    rubberband.mouseup('button_release', mouse_event_fn);\n",
       "    // Throttle sequential mouse events to 1 every 20ms.\n",
       "    rubberband.mousemove('motion_notify', mouse_event_fn);\n",
       "\n",
       "    rubberband.mouseenter('figure_enter', mouse_event_fn);\n",
       "    rubberband.mouseleave('figure_leave', mouse_event_fn);\n",
       "\n",
       "    canvas_div.on(\"wheel\", function (event) {\n",
       "        event = event.originalEvent;\n",
       "        event['data'] = 'scroll'\n",
       "        if (event.deltaY < 0) {\n",
       "            event.step = 1;\n",
       "        } else {\n",
       "            event.step = -1;\n",
       "        }\n",
       "        mouse_event_fn(event);\n",
       "    });\n",
       "\n",
       "    canvas_div.append(canvas);\n",
       "    canvas_div.append(rubberband);\n",
       "\n",
       "    this.rubberband = rubberband;\n",
       "    this.rubberband_canvas = rubberband[0];\n",
       "    this.rubberband_context = rubberband[0].getContext(\"2d\");\n",
       "    this.rubberband_context.strokeStyle = \"#000000\";\n",
       "\n",
       "    this._resize_canvas = function(width, height) {\n",
       "        // Keep the size of the canvas, canvas container, and rubber band\n",
       "        // canvas in synch.\n",
       "        canvas_div.css('width', width)\n",
       "        canvas_div.css('height', height)\n",
       "\n",
       "        canvas.attr('width', width * mpl.ratio);\n",
       "        canvas.attr('height', height * mpl.ratio);\n",
       "        canvas.attr('style', 'width: ' + width + 'px; height: ' + height + 'px;');\n",
       "\n",
       "        rubberband.attr('width', width);\n",
       "        rubberband.attr('height', height);\n",
       "    }\n",
       "\n",
       "    // Set the figure to an initial 600x600px, this will subsequently be updated\n",
       "    // upon first draw.\n",
       "    this._resize_canvas(600, 600);\n",
       "\n",
       "    // Disable right mouse context menu.\n",
       "    $(this.rubberband_canvas).bind(\"contextmenu\",function(e){\n",
       "        return false;\n",
       "    });\n",
       "\n",
       "    function set_focus () {\n",
       "        canvas.focus();\n",
       "        canvas_div.focus();\n",
       "    }\n",
       "\n",
       "    window.setTimeout(set_focus, 100);\n",
       "}\n",
       "\n",
       "mpl.figure.prototype._init_toolbar = function() {\n",
       "    var fig = this;\n",
       "\n",
       "    var nav_element = $('<div/>');\n",
       "    nav_element.attr('style', 'width: 100%');\n",
       "    this.root.append(nav_element);\n",
       "\n",
       "    // Define a callback function for later on.\n",
       "    function toolbar_event(event) {\n",
       "        return fig.toolbar_button_onclick(event['data']);\n",
       "    }\n",
       "    function toolbar_mouse_event(event) {\n",
       "        return fig.toolbar_button_onmouseover(event['data']);\n",
       "    }\n",
       "\n",
       "    for(var toolbar_ind in mpl.toolbar_items) {\n",
       "        var name = mpl.toolbar_items[toolbar_ind][0];\n",
       "        var tooltip = mpl.toolbar_items[toolbar_ind][1];\n",
       "        var image = mpl.toolbar_items[toolbar_ind][2];\n",
       "        var method_name = mpl.toolbar_items[toolbar_ind][3];\n",
       "\n",
       "        if (!name) {\n",
       "            // put a spacer in here.\n",
       "            continue;\n",
       "        }\n",
       "        var button = $('<button/>');\n",
       "        button.addClass('ui-button ui-widget ui-state-default ui-corner-all ' +\n",
       "                        'ui-button-icon-only');\n",
       "        button.attr('role', 'button');\n",
       "        button.attr('aria-disabled', 'false');\n",
       "        button.click(method_name, toolbar_event);\n",
       "        button.mouseover(tooltip, toolbar_mouse_event);\n",
       "\n",
       "        var icon_img = $('<span/>');\n",
       "        icon_img.addClass('ui-button-icon-primary ui-icon');\n",
       "        icon_img.addClass(image);\n",
       "        icon_img.addClass('ui-corner-all');\n",
       "\n",
       "        var tooltip_span = $('<span/>');\n",
       "        tooltip_span.addClass('ui-button-text');\n",
       "        tooltip_span.html(tooltip);\n",
       "\n",
       "        button.append(icon_img);\n",
       "        button.append(tooltip_span);\n",
       "\n",
       "        nav_element.append(button);\n",
       "    }\n",
       "\n",
       "    var fmt_picker_span = $('<span/>');\n",
       "\n",
       "    var fmt_picker = $('<select/>');\n",
       "    fmt_picker.addClass('mpl-toolbar-option ui-widget ui-widget-content');\n",
       "    fmt_picker_span.append(fmt_picker);\n",
       "    nav_element.append(fmt_picker_span);\n",
       "    this.format_dropdown = fmt_picker[0];\n",
       "\n",
       "    for (var ind in mpl.extensions) {\n",
       "        var fmt = mpl.extensions[ind];\n",
       "        var option = $(\n",
       "            '<option/>', {selected: fmt === mpl.default_extension}).html(fmt);\n",
       "        fmt_picker.append(option);\n",
       "    }\n",
       "\n",
       "    // Add hover states to the ui-buttons\n",
       "    $( \".ui-button\" ).hover(\n",
       "        function() { $(this).addClass(\"ui-state-hover\");},\n",
       "        function() { $(this).removeClass(\"ui-state-hover\");}\n",
       "    );\n",
       "\n",
       "    var status_bar = $('<span class=\"mpl-message\"/>');\n",
       "    nav_element.append(status_bar);\n",
       "    this.message = status_bar[0];\n",
       "}\n",
       "\n",
       "mpl.figure.prototype.request_resize = function(x_pixels, y_pixels) {\n",
       "    // Request matplotlib to resize the figure. Matplotlib will then trigger a resize in the client,\n",
       "    // which will in turn request a refresh of the image.\n",
       "    this.send_message('resize', {'width': x_pixels, 'height': y_pixels});\n",
       "}\n",
       "\n",
       "mpl.figure.prototype.send_message = function(type, properties) {\n",
       "    properties['type'] = type;\n",
       "    properties['figure_id'] = this.id;\n",
       "    this.ws.send(JSON.stringify(properties));\n",
       "}\n",
       "\n",
       "mpl.figure.prototype.send_draw_message = function() {\n",
       "    if (!this.waiting) {\n",
       "        this.waiting = true;\n",
       "        this.ws.send(JSON.stringify({type: \"draw\", figure_id: this.id}));\n",
       "    }\n",
       "}\n",
       "\n",
       "\n",
       "mpl.figure.prototype.handle_save = function(fig, msg) {\n",
       "    var format_dropdown = fig.format_dropdown;\n",
       "    var format = format_dropdown.options[format_dropdown.selectedIndex].value;\n",
       "    fig.ondownload(fig, format);\n",
       "}\n",
       "\n",
       "\n",
       "mpl.figure.prototype.handle_resize = function(fig, msg) {\n",
       "    var size = msg['size'];\n",
       "    if (size[0] != fig.canvas.width || size[1] != fig.canvas.height) {\n",
       "        fig._resize_canvas(size[0], size[1]);\n",
       "        fig.send_message(\"refresh\", {});\n",
       "    };\n",
       "}\n",
       "\n",
       "mpl.figure.prototype.handle_rubberband = function(fig, msg) {\n",
       "    var x0 = msg['x0'] / mpl.ratio;\n",
       "    var y0 = (fig.canvas.height - msg['y0']) / mpl.ratio;\n",
       "    var x1 = msg['x1'] / mpl.ratio;\n",
       "    var y1 = (fig.canvas.height - msg['y1']) / mpl.ratio;\n",
       "    x0 = Math.floor(x0) + 0.5;\n",
       "    y0 = Math.floor(y0) + 0.5;\n",
       "    x1 = Math.floor(x1) + 0.5;\n",
       "    y1 = Math.floor(y1) + 0.5;\n",
       "    var min_x = Math.min(x0, x1);\n",
       "    var min_y = Math.min(y0, y1);\n",
       "    var width = Math.abs(x1 - x0);\n",
       "    var height = Math.abs(y1 - y0);\n",
       "\n",
       "    fig.rubberband_context.clearRect(\n",
       "        0, 0, fig.canvas.width / mpl.ratio, fig.canvas.height / mpl.ratio);\n",
       "\n",
       "    fig.rubberband_context.strokeRect(min_x, min_y, width, height);\n",
       "}\n",
       "\n",
       "mpl.figure.prototype.handle_figure_label = function(fig, msg) {\n",
       "    // Updates the figure title.\n",
       "    fig.header.textContent = msg['label'];\n",
       "}\n",
       "\n",
       "mpl.figure.prototype.handle_cursor = function(fig, msg) {\n",
       "    var cursor = msg['cursor'];\n",
       "    switch(cursor)\n",
       "    {\n",
       "    case 0:\n",
       "        cursor = 'pointer';\n",
       "        break;\n",
       "    case 1:\n",
       "        cursor = 'default';\n",
       "        break;\n",
       "    case 2:\n",
       "        cursor = 'crosshair';\n",
       "        break;\n",
       "    case 3:\n",
       "        cursor = 'move';\n",
       "        break;\n",
       "    }\n",
       "    fig.rubberband_canvas.style.cursor = cursor;\n",
       "}\n",
       "\n",
       "mpl.figure.prototype.handle_message = function(fig, msg) {\n",
       "    fig.message.textContent = msg['message'];\n",
       "}\n",
       "\n",
       "mpl.figure.prototype.handle_draw = function(fig, msg) {\n",
       "    // Request the server to send over a new figure.\n",
       "    fig.send_draw_message();\n",
       "}\n",
       "\n",
       "mpl.figure.prototype.handle_image_mode = function(fig, msg) {\n",
       "    fig.image_mode = msg['mode'];\n",
       "}\n",
       "\n",
       "mpl.figure.prototype.updated_canvas_event = function() {\n",
       "    // Called whenever the canvas gets updated.\n",
       "    this.send_message(\"ack\", {});\n",
       "}\n",
       "\n",
       "// A function to construct a web socket function for onmessage handling.\n",
       "// Called in the figure constructor.\n",
       "mpl.figure.prototype._make_on_message_function = function(fig) {\n",
       "    return function socket_on_message(evt) {\n",
       "        if (evt.data instanceof Blob) {\n",
       "            /* FIXME: We get \"Resource interpreted as Image but\n",
       "             * transferred with MIME type text/plain:\" errors on\n",
       "             * Chrome.  But how to set the MIME type?  It doesn't seem\n",
       "             * to be part of the websocket stream */\n",
       "            evt.data.type = \"image/png\";\n",
       "\n",
       "            /* Free the memory for the previous frames */\n",
       "            if (fig.imageObj.src) {\n",
       "                (window.URL || window.webkitURL).revokeObjectURL(\n",
       "                    fig.imageObj.src);\n",
       "            }\n",
       "\n",
       "            fig.imageObj.src = (window.URL || window.webkitURL).createObjectURL(\n",
       "                evt.data);\n",
       "            fig.updated_canvas_event();\n",
       "            fig.waiting = false;\n",
       "            return;\n",
       "        }\n",
       "        else if (typeof evt.data === 'string' && evt.data.slice(0, 21) == \"data:image/png;base64\") {\n",
       "            fig.imageObj.src = evt.data;\n",
       "            fig.updated_canvas_event();\n",
       "            fig.waiting = false;\n",
       "            return;\n",
       "        }\n",
       "\n",
       "        var msg = JSON.parse(evt.data);\n",
       "        var msg_type = msg['type'];\n",
       "\n",
       "        // Call the  \"handle_{type}\" callback, which takes\n",
       "        // the figure and JSON message as its only arguments.\n",
       "        try {\n",
       "            var callback = fig[\"handle_\" + msg_type];\n",
       "        } catch (e) {\n",
       "            console.log(\"No handler for the '\" + msg_type + \"' message type: \", msg);\n",
       "            return;\n",
       "        }\n",
       "\n",
       "        if (callback) {\n",
       "            try {\n",
       "                // console.log(\"Handling '\" + msg_type + \"' message: \", msg);\n",
       "                callback(fig, msg);\n",
       "            } catch (e) {\n",
       "                console.log(\"Exception inside the 'handler_\" + msg_type + \"' callback:\", e, e.stack, msg);\n",
       "            }\n",
       "        }\n",
       "    };\n",
       "}\n",
       "\n",
       "// from http://stackoverflow.com/questions/1114465/getting-mouse-location-in-canvas\n",
       "mpl.findpos = function(e) {\n",
       "    //this section is from http://www.quirksmode.org/js/events_properties.html\n",
       "    var targ;\n",
       "    if (!e)\n",
       "        e = window.event;\n",
       "    if (e.target)\n",
       "        targ = e.target;\n",
       "    else if (e.srcElement)\n",
       "        targ = e.srcElement;\n",
       "    if (targ.nodeType == 3) // defeat Safari bug\n",
       "        targ = targ.parentNode;\n",
       "\n",
       "    // jQuery normalizes the pageX and pageY\n",
       "    // pageX,Y are the mouse positions relative to the document\n",
       "    // offset() returns the position of the element relative to the document\n",
       "    var x = e.pageX - $(targ).offset().left;\n",
       "    var y = e.pageY - $(targ).offset().top;\n",
       "\n",
       "    return {\"x\": x, \"y\": y};\n",
       "};\n",
       "\n",
       "/*\n",
       " * return a copy of an object with only non-object keys\n",
       " * we need this to avoid circular references\n",
       " * http://stackoverflow.com/a/24161582/3208463\n",
       " */\n",
       "function simpleKeys (original) {\n",
       "  return Object.keys(original).reduce(function (obj, key) {\n",
       "    if (typeof original[key] !== 'object')\n",
       "        obj[key] = original[key]\n",
       "    return obj;\n",
       "  }, {});\n",
       "}\n",
       "\n",
       "mpl.figure.prototype.mouse_event = function(event, name) {\n",
       "    var canvas_pos = mpl.findpos(event)\n",
       "\n",
       "    if (name === 'button_press')\n",
       "    {\n",
       "        this.canvas.focus();\n",
       "        this.canvas_div.focus();\n",
       "    }\n",
       "\n",
       "    var x = canvas_pos.x * mpl.ratio;\n",
       "    var y = canvas_pos.y * mpl.ratio;\n",
       "\n",
       "    this.send_message(name, {x: x, y: y, button: event.button,\n",
       "                             step: event.step,\n",
       "                             guiEvent: simpleKeys(event)});\n",
       "\n",
       "    /* This prevents the web browser from automatically changing to\n",
       "     * the text insertion cursor when the button is pressed.  We want\n",
       "     * to control all of the cursor setting manually through the\n",
       "     * 'cursor' event from matplotlib */\n",
       "    event.preventDefault();\n",
       "    return false;\n",
       "}\n",
       "\n",
       "mpl.figure.prototype._key_event_extra = function(event, name) {\n",
       "    // Handle any extra behaviour associated with a key event\n",
       "}\n",
       "\n",
       "mpl.figure.prototype.key_event = function(event, name) {\n",
       "\n",
       "    // Prevent repeat events\n",
       "    if (name == 'key_press')\n",
       "    {\n",
       "        if (event.which === this._key)\n",
       "            return;\n",
       "        else\n",
       "            this._key = event.which;\n",
       "    }\n",
       "    if (name == 'key_release')\n",
       "        this._key = null;\n",
       "\n",
       "    var value = '';\n",
       "    if (event.ctrlKey && event.which != 17)\n",
       "        value += \"ctrl+\";\n",
       "    if (event.altKey && event.which != 18)\n",
       "        value += \"alt+\";\n",
       "    if (event.shiftKey && event.which != 16)\n",
       "        value += \"shift+\";\n",
       "\n",
       "    value += 'k';\n",
       "    value += event.which.toString();\n",
       "\n",
       "    this._key_event_extra(event, name);\n",
       "\n",
       "    this.send_message(name, {key: value,\n",
       "                             guiEvent: simpleKeys(event)});\n",
       "    return false;\n",
       "}\n",
       "\n",
       "mpl.figure.prototype.toolbar_button_onclick = function(name) {\n",
       "    if (name == 'download') {\n",
       "        this.handle_save(this, null);\n",
       "    } else {\n",
       "        this.send_message(\"toolbar_button\", {name: name});\n",
       "    }\n",
       "};\n",
       "\n",
       "mpl.figure.prototype.toolbar_button_onmouseover = function(tooltip) {\n",
       "    this.message.textContent = tooltip;\n",
       "};\n",
       "mpl.toolbar_items = [[\"Home\", \"Reset original view\", \"fa fa-home icon-home\", \"home\"], [\"Back\", \"Back to previous view\", \"fa fa-arrow-left icon-arrow-left\", \"back\"], [\"Forward\", \"Forward to next view\", \"fa fa-arrow-right icon-arrow-right\", \"forward\"], [\"\", \"\", \"\", \"\"], [\"Pan\", \"Pan axes with left mouse, zoom with right\", \"fa fa-arrows icon-move\", \"pan\"], [\"Zoom\", \"Zoom to rectangle\", \"fa fa-square-o icon-check-empty\", \"zoom\"], [\"\", \"\", \"\", \"\"], [\"Download\", \"Download plot\", \"fa fa-floppy-o icon-save\", \"download\"]];\n",
       "\n",
       "mpl.extensions = [\"eps\", \"jpeg\", \"pdf\", \"png\", \"ps\", \"raw\", \"svg\", \"tif\"];\n",
       "\n",
       "mpl.default_extension = \"png\";var comm_websocket_adapter = function(comm) {\n",
       "    // Create a \"websocket\"-like object which calls the given IPython comm\n",
       "    // object with the appropriate methods. Currently this is a non binary\n",
       "    // socket, so there is still some room for performance tuning.\n",
       "    var ws = {};\n",
       "\n",
       "    ws.close = function() {\n",
       "        comm.close()\n",
       "    };\n",
       "    ws.send = function(m) {\n",
       "        //console.log('sending', m);\n",
       "        comm.send(m);\n",
       "    };\n",
       "    // Register the callback with on_msg.\n",
       "    comm.on_msg(function(msg) {\n",
       "        //console.log('receiving', msg['content']['data'], msg);\n",
       "        // Pass the mpl event to the overridden (by mpl) onmessage function.\n",
       "        ws.onmessage(msg['content']['data'])\n",
       "    });\n",
       "    return ws;\n",
       "}\n",
       "\n",
       "mpl.mpl_figure_comm = function(comm, msg) {\n",
       "    // This is the function which gets called when the mpl process\n",
       "    // starts-up an IPython Comm through the \"matplotlib\" channel.\n",
       "\n",
       "    var id = msg.content.data.id;\n",
       "    // Get hold of the div created by the display call when the Comm\n",
       "    // socket was opened in Python.\n",
       "    var element = $(\"#\" + id);\n",
       "    var ws_proxy = comm_websocket_adapter(comm)\n",
       "\n",
       "    function ondownload(figure, format) {\n",
       "        window.open(figure.imageObj.src);\n",
       "    }\n",
       "\n",
       "    var fig = new mpl.figure(id, ws_proxy,\n",
       "                           ondownload,\n",
       "                           element.get(0));\n",
       "\n",
       "    // Call onopen now - mpl needs it, as it is assuming we've passed it a real\n",
       "    // web socket which is closed, not our websocket->open comm proxy.\n",
       "    ws_proxy.onopen();\n",
       "\n",
       "    fig.parent_element = element.get(0);\n",
       "    fig.cell_info = mpl.find_output_cell(\"<div id='\" + id + \"'></div>\");\n",
       "    if (!fig.cell_info) {\n",
       "        console.error(\"Failed to find cell for figure\", id, fig);\n",
       "        return;\n",
       "    }\n",
       "\n",
       "    var output_index = fig.cell_info[2]\n",
       "    var cell = fig.cell_info[0];\n",
       "\n",
       "};\n",
       "\n",
       "mpl.figure.prototype.handle_close = function(fig, msg) {\n",
       "    var width = fig.canvas.width/mpl.ratio\n",
       "    fig.root.unbind('remove')\n",
       "\n",
       "    // Update the output cell to use the data from the current canvas.\n",
       "    fig.push_to_output();\n",
       "    var dataURL = fig.canvas.toDataURL();\n",
       "    // Re-enable the keyboard manager in IPython - without this line, in FF,\n",
       "    // the notebook keyboard shortcuts fail.\n",
       "    IPython.keyboard_manager.enable()\n",
       "    $(fig.parent_element).html('<img src=\"' + dataURL + '\" width=\"' + width + '\">');\n",
       "    fig.close_ws(fig, msg);\n",
       "}\n",
       "\n",
       "mpl.figure.prototype.close_ws = function(fig, msg){\n",
       "    fig.send_message('closing', msg);\n",
       "    // fig.ws.close()\n",
       "}\n",
       "\n",
       "mpl.figure.prototype.push_to_output = function(remove_interactive) {\n",
       "    // Turn the data on the canvas into data in the output cell.\n",
       "    var width = this.canvas.width/mpl.ratio\n",
       "    var dataURL = this.canvas.toDataURL();\n",
       "    this.cell_info[1]['text/html'] = '<img src=\"' + dataURL + '\" width=\"' + width + '\">';\n",
       "}\n",
       "\n",
       "mpl.figure.prototype.updated_canvas_event = function() {\n",
       "    // Tell IPython that the notebook contents must change.\n",
       "    IPython.notebook.set_dirty(true);\n",
       "    this.send_message(\"ack\", {});\n",
       "    var fig = this;\n",
       "    // Wait a second, then push the new image to the DOM so\n",
       "    // that it is saved nicely (might be nice to debounce this).\n",
       "    setTimeout(function () { fig.push_to_output() }, 1000);\n",
       "}\n",
       "\n",
       "mpl.figure.prototype._init_toolbar = function() {\n",
       "    var fig = this;\n",
       "\n",
       "    var nav_element = $('<div/>');\n",
       "    nav_element.attr('style', 'width: 100%');\n",
       "    this.root.append(nav_element);\n",
       "\n",
       "    // Define a callback function for later on.\n",
       "    function toolbar_event(event) {\n",
       "        return fig.toolbar_button_onclick(event['data']);\n",
       "    }\n",
       "    function toolbar_mouse_event(event) {\n",
       "        return fig.toolbar_button_onmouseover(event['data']);\n",
       "    }\n",
       "\n",
       "    for(var toolbar_ind in mpl.toolbar_items){\n",
       "        var name = mpl.toolbar_items[toolbar_ind][0];\n",
       "        var tooltip = mpl.toolbar_items[toolbar_ind][1];\n",
       "        var image = mpl.toolbar_items[toolbar_ind][2];\n",
       "        var method_name = mpl.toolbar_items[toolbar_ind][3];\n",
       "\n",
       "        if (!name) { continue; };\n",
       "\n",
       "        var button = $('<button class=\"btn btn-default\" href=\"#\" title=\"' + name + '\"><i class=\"fa ' + image + ' fa-lg\"></i></button>');\n",
       "        button.click(method_name, toolbar_event);\n",
       "        button.mouseover(tooltip, toolbar_mouse_event);\n",
       "        nav_element.append(button);\n",
       "    }\n",
       "\n",
       "    // Add the status bar.\n",
       "    var status_bar = $('<span class=\"mpl-message\" style=\"text-align:right; float: right;\"/>');\n",
       "    nav_element.append(status_bar);\n",
       "    this.message = status_bar[0];\n",
       "\n",
       "    // Add the close button to the window.\n",
       "    var buttongrp = $('<div class=\"btn-group inline pull-right\"></div>');\n",
       "    var button = $('<button class=\"btn btn-mini btn-primary\" href=\"#\" title=\"Stop Interaction\"><i class=\"fa fa-power-off icon-remove icon-large\"></i></button>');\n",
       "    button.click(function (evt) { fig.handle_close(fig, {}); } );\n",
       "    button.mouseover('Stop Interaction', toolbar_mouse_event);\n",
       "    buttongrp.append(button);\n",
       "    var titlebar = this.root.find($('.ui-dialog-titlebar'));\n",
       "    titlebar.prepend(buttongrp);\n",
       "}\n",
       "\n",
       "mpl.figure.prototype._root_extra_style = function(el){\n",
       "    var fig = this\n",
       "    el.on(\"remove\", function(){\n",
       "\tfig.close_ws(fig, {});\n",
       "    });\n",
       "}\n",
       "\n",
       "mpl.figure.prototype._canvas_extra_style = function(el){\n",
       "    // this is important to make the div 'focusable\n",
       "    el.attr('tabindex', 0)\n",
       "    // reach out to IPython and tell the keyboard manager to turn it's self\n",
       "    // off when our div gets focus\n",
       "\n",
       "    // location in version 3\n",
       "    if (IPython.notebook.keyboard_manager) {\n",
       "        IPython.notebook.keyboard_manager.register_events(el);\n",
       "    }\n",
       "    else {\n",
       "        // location in version 2\n",
       "        IPython.keyboard_manager.register_events(el);\n",
       "    }\n",
       "\n",
       "}\n",
       "\n",
       "mpl.figure.prototype._key_event_extra = function(event, name) {\n",
       "    var manager = IPython.notebook.keyboard_manager;\n",
       "    if (!manager)\n",
       "        manager = IPython.keyboard_manager;\n",
       "\n",
       "    // Check for shift+enter\n",
       "    if (event.shiftKey && event.which == 13) {\n",
       "        this.canvas_div.blur();\n",
       "        // select the cell after this one\n",
       "        var index = IPython.notebook.find_cell_index(this.cell_info[0]);\n",
       "        IPython.notebook.select(index + 1);\n",
       "    }\n",
       "}\n",
       "\n",
       "mpl.figure.prototype.handle_save = function(fig, msg) {\n",
       "    fig.ondownload(fig, null);\n",
       "}\n",
       "\n",
       "\n",
       "mpl.find_output_cell = function(html_output) {\n",
       "    // Return the cell and output element which can be found *uniquely* in the notebook.\n",
       "    // Note - this is a bit hacky, but it is done because the \"notebook_saving.Notebook\"\n",
       "    // IPython event is triggered only after the cells have been serialised, which for\n",
       "    // our purposes (turning an active figure into a static one), is too late.\n",
       "    var cells = IPython.notebook.get_cells();\n",
       "    var ncells = cells.length;\n",
       "    for (var i=0; i<ncells; i++) {\n",
       "        var cell = cells[i];\n",
       "        if (cell.cell_type === 'code'){\n",
       "            for (var j=0; j<cell.output_area.outputs.length; j++) {\n",
       "                var data = cell.output_area.outputs[j];\n",
       "                if (data.data) {\n",
       "                    // IPython >= 3 moved mimebundle to data attribute of output\n",
       "                    data = data.data;\n",
       "                }\n",
       "                if (data['text/html'] == html_output) {\n",
       "                    return [cell, data, j];\n",
       "                }\n",
       "            }\n",
       "        }\n",
       "    }\n",
       "}\n",
       "\n",
       "// Register the function which deals with the matplotlib target/channel.\n",
       "// The kernel may be null if the page has been refreshed.\n",
       "if (IPython.notebook.kernel != null) {\n",
       "    IPython.notebook.kernel.comm_manager.register_target('matplotlib', mpl.mpl_figure_comm);\n",
       "}\n"
      ],
      "text/plain": [
       "<IPython.core.display.Javascript object>"
      ]
     },
     "metadata": {},
     "output_type": "display_data"
    },
    {
     "data": {
      "text/html": [
       "<img src=\"data:image/png;base64,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\" width=\"639.4\">"
      ],
      "text/plain": [
       "<IPython.core.display.HTML object>"
      ]
     },
     "metadata": {},
     "output_type": "display_data"
    },
    {
     "name": "stdout",
     "output_type": "stream",
     "text": [
      "+-----------+------------+------------+------------+\n",
      "|   seq_num |       time |      motor |      noisy |\n",
      "+-----------+------------+------------+------------+\n",
      "|         1 | 15:01:28.8 |   -2.00000 |          0 |\n",
      "|         2 | 15:01:28.8 |   -1.85714 |          0 |\n",
      "|         3 | 15:01:28.8 |   -1.71429 |          0 |\n",
      "|         4 | 15:01:28.8 |   -1.57143 |          0 |\n",
      "|         5 | 15:01:28.8 |   -1.42857 |          0 |\n",
      "|         6 | 15:01:28.8 |   -1.28571 |          0 |\n",
      "|         7 | 15:01:28.8 |   -1.14286 |          0 |\n",
      "|         8 | 15:01:28.8 |   -1.00000 |          0 |\n",
      "|         9 | 15:01:28.8 |   -0.85714 |          0 |\n",
      "|        10 | 15:01:28.8 |   -0.71429 |          0 |\n",
      "|        11 | 15:01:28.8 |   -0.57143 |          0 |\n",
      "|        12 | 15:01:28.9 |   -0.42857 |          0 |\n",
      "|        13 | 15:01:28.9 |   -0.28571 |          0 |\n",
      "|        14 | 15:01:28.9 |   -0.14286 |          0 |\n",
      "|        15 | 15:01:28.9 |    0.00000 |          0 |\n",
      "|        16 | 15:01:28.9 |    0.14286 |     104484 |\n",
      "|        17 | 15:01:28.9 |    0.28571 |          0 |\n",
      "|        18 | 15:01:28.9 |    0.42857 |          0 |\n",
      "|        19 | 15:01:28.9 |    0.57143 |          0 |\n",
      "|        20 | 15:01:28.9 |    0.71429 |          0 |\n",
      "|        21 | 15:01:28.9 |    0.85714 |          0 |\n",
      "|        22 | 15:01:28.9 |    1.00000 |          0 |\n",
      "|        23 | 15:01:28.9 |    1.14286 |          0 |\n",
      "|        24 | 15:01:28.9 |    1.28571 |          0 |\n",
      "|        25 | 15:01:28.9 |    1.42857 |          0 |\n",
      "|        26 | 15:01:28.9 |    1.57143 |          0 |\n",
      "|        27 | 15:01:28.9 |    1.71429 |          0 |\n",
      "|        28 | 15:01:28.9 |    1.85714 |          0 |\n",
      "|        29 | 15:01:28.9 |    2.00000 |          0 |\n",
      "+-----------+------------+------------+------------+\n",
      "generator scan ['5d244134'] (scan num: 1)\n"
     ]
    },
    {
     "data": {
      "text/plain": [
       "('5d244134-0a8b-42b1-ac52-8508d5034fc6',)"
      ]
     },
     "execution_count": 78,
     "metadata": {},
     "output_type": "execute_result"
    }
   ],
   "source": [
    "RE(bp.scan([noisy], motor, -2, 2, n))"
   ]
  },
  {
   "cell_type": "markdown",
   "metadata": {},
   "source": [
    "One of the tools that works in the background of the Bluesky framework is the [*BestEffortCallback*](https://blueskyproject.io/bluesky/callbacks.html#best-effort-callback), known here as `bec`.  When `bec` is configured (see `instrument/framework/initialize.py`) as part of scanning with the RunEngine, it will assess peak parameters from each scan, where applicable.  The parameters are available in `bec.peaks` which we have, for convenience, defined as `peaks`.  We access a couple of those parameters here for peak center and width."
   ]
  },
  {
   "cell_type": "code",
   "execution_count": 80,
   "metadata": {},
   "outputs": [
    {
     "data": {
      "text/plain": [
       "{\n",
       "'com':\n",
       "    {'noisy': 0.1428571428571428}\n",
       ",\n",
       "'cen':\n",
       "    {'noisy': 0.1428571428571428}\n",
       ",\n",
       "'max':\n",
       "    {'noisy': (0.1428571428571428,\n",
       "               104484)}\n",
       ",\n",
       "'min':\n",
       "    {'noisy': (-2.0,\n",
       "               0)}\n",
       ",\n",
       "'fwhm':\n",
       "    {'noisy': 0.1428571428571428}\n",
       ",\n",
       "}"
      ]
     },
     "execution_count": 80,
     "metadata": {},
     "output_type": "execute_result"
    }
   ],
   "source": [
    "peaks"
   ]
  },
  {
   "cell_type": "code",
   "execution_count": 81,
   "metadata": {},
   "outputs": [
    {
     "name": "stdout",
     "output_type": "stream",
     "text": [
      "0.1428571428571428 0.1428571428571428\n"
     ]
    }
   ],
   "source": [
    "cen = peaks[\"cen\"][\"noisy\"]\n",
    "sigma = peaks[\"fwhm\"][\"noisy\"]\n",
    "results.append((RE.md[\"scan_id\"], cen, sigma))\n",
    "print(cen, sigma)"
   ]
  },
  {
   "cell_type": "markdown",
   "metadata": {},
   "source": [
    "### Refine the peak position\n",
    "\n",
    "Refine the scan to the range of (-sigma .. +sigma) near the center of the previous scan.  Repeat as often as necessary (using <ctrl><ENTER>) to get the peak center and width.  Use the [*relative scan*](https://blueskyproject.io/bluesky/generated/bluesky.plans.rel_scan.html?highlight=rel_scan) plan from `bluesky.plans` to find the peak.\n",
    "\n",
    "**tip**: Look for the plot in the cell above.  Replots will be drawn in different colors.  The legend indicates the `scan_id`."
   ]
  },
  {
   "cell_type": "code",
   "execution_count": 86,
   "metadata": {},
   "outputs": [
    {
     "name": "stdout",
     "output_type": "stream",
     "text": [
      "\n",
      "\n",
      "Transient Scan ID: 6     Time: 2020-05-13 15:04:39\n",
      "Persistent Unique Scan ID: '2d13c9d2-147c-4a88-9378-1468aeeb92cd'\n",
      "New stream: 'primary'\n",
      "+-----------+------------+------------+------------+\n",
      "|   seq_num |       time |      motor |      noisy |\n",
      "+-----------+------------+------------+------------+\n",
      "|         1 | 15:04:39.6 |    0.06072 |        199 |\n",
      "|         2 | 15:04:39.6 |    0.06620 |        491 |\n",
      "|         3 | 15:04:39.6 |    0.07168 |       1175 |\n",
      "|         4 | 15:04:39.6 |    0.07717 |       2276 |\n",
      "|         5 | 15:04:39.6 |    0.08265 |       4534 |\n",
      "|         6 | 15:04:39.6 |    0.08813 |       8160 |\n",
      "|         7 | 15:04:39.6 |    0.09361 |      14272 |\n",
      "|         8 | 15:04:39.6 |    0.09909 |      22642 |\n",
      "|         9 | 15:04:39.6 |    0.10457 |      34429 |\n",
      "|        10 | 15:04:39.6 |    0.11005 |      48499 |\n",
      "|        11 | 15:04:39.6 |    0.11554 |      65127 |\n",
      "|        12 | 15:04:39.6 |    0.12102 |      80764 |\n",
      "|        13 | 15:04:39.6 |    0.12650 |      95232 |\n",
      "|        14 | 15:04:39.6 |    0.13198 |     104880 |\n",
      "|        15 | 15:04:39.6 |    0.13746 |     108206 |\n",
      "|        16 | 15:04:39.6 |    0.14294 |     104562 |\n",
      "|        17 | 15:04:39.6 |    0.14842 |      95332 |\n",
      "|        18 | 15:04:39.6 |    0.15391 |      81450 |\n",
      "|        19 | 15:04:39.6 |    0.15939 |      65300 |\n",
      "|        20 | 15:04:39.7 |    0.16487 |      48690 |\n",
      "|        21 | 15:04:39.7 |    0.17035 |      34946 |\n",
      "|        22 | 15:04:39.7 |    0.17583 |      23046 |\n",
      "|        23 | 15:04:39.7 |    0.18131 |      14157 |\n",
      "|        24 | 15:04:39.7 |    0.18679 |       8283 |\n",
      "|        25 | 15:04:39.7 |    0.19228 |       4362 |\n",
      "|        26 | 15:04:39.7 |    0.19776 |       2393 |\n",
      "|        27 | 15:04:39.7 |    0.20324 |       1122 |\n",
      "|        28 | 15:04:39.7 |    0.20872 |        472 |\n",
      "|        29 | 15:04:39.7 |    0.21420 |        184 |\n",
      "+-----------+------------+------------+------------+\n",
      "generator rel_scan ['2d13c9d2'] (scan num: 6)\n",
      "0.13749215002356321 0.05112018833570953\n"
     ]
    }
   ],
   "source": [
    "%mov motor cen\n",
    "RE(bp.rel_scan([noisy], motor, -k*sigma, k*sigma, n))\n",
    "\n",
    "cen = peaks[\"cen\"][\"noisy\"]\n",
    "sigma = peaks[\"fwhm\"][\"noisy\"]\n",
    "results.append((RE.md[\"scan_id\"], cen, sigma))\n",
    "print(cen, sigma)"
   ]
  },
  {
   "cell_type": "markdown",
   "metadata": {},
   "source": [
    "### Report the results\n",
    "\n",
    "Print a nice table with the results from each of our scans."
   ]
  },
  {
   "cell_type": "code",
   "execution_count": 87,
   "metadata": {},
   "outputs": [
    {
     "name": "stdout",
     "output_type": "stream",
     "text": [
      "======= =================== ====================\n",
      "scan ID center              sigma               \n",
      "======= =================== ====================\n",
      "1       0.1428571428571428  0.1428571428571428  \n",
      "2       0.1376018864144785  0.05318136533642731 \n",
      "3       0.1374878804438366  0.0511979344862577  \n",
      "4       0.13747187950648312 0.051072163500770026\n",
      "5       0.13746165152600442 0.051160284724269894\n",
      "6       0.13749215002356321 0.05112018833570953 \n",
      "======= =================== ====================\n",
      "\n"
     ]
    }
   ],
   "source": [
    "tbl = pyRestTable.Table()\n",
    "tbl.addLabel(\"scan ID\")\n",
    "tbl.addLabel(\"center\")\n",
    "tbl.addLabel(\"sigma\")\n",
    "for sid, cen, sigma in results:\n",
    "    tbl.addRow((sid, cen, sigma))\n",
    "print(tbl)"
   ]
  }
 ],
 "metadata": {
  "kernelspec": {
   "display_name": "Python 3",
   "language": "python",
   "name": "python3"
  },
  "language_info": {
   "codemirror_mode": {
    "name": "ipython",
    "version": 3
   },
   "file_extension": ".py",
   "mimetype": "text/x-python",
   "name": "python",
   "nbconvert_exporter": "python",
   "pygments_lexer": "ipython3",
   "version": "3.7.7"
  }
 },
 "nbformat": 4,
 "nbformat_minor": 4
}
