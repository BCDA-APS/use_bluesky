{
 "cells": [
  {
   "cell_type": "markdown",
   "metadata": {},
   "source": [
    "# Lesson 5: find a peak and lineup\n",
    "\n",
    "In this lesson, alignment to a narrow diffraction peak is \n",
    "using capabilities provided by \n",
    "the [ophyd](https://blueskyproject.io/ophyd/) package.  The \n",
    "simulation consists of a simulated motor and simulated\n",
    "noisy detector.\n",
    "\n",
    "The noisy detector is configured to describe a narrow diffraction\n",
    "peak with Gaussian profile based on the value of the motor position.\n",
    "The peak is centered randomly somewhere between motor \n",
    "values -1 and +1.  The width is less than 0.05 in the same units.  The\n",
    "peak intensity is expected to be approximately 100,000 (counts/sec \n",
    "are typical units).\n",
    "\n",
    "**Preparation**\n",
    "\n",
    "Make sure the `instrument` package is in the same directory \n",
    "as this jupyter notebook. The `instrument` package included with \n",
    "this lesson is a brief version of the standard package used \n",
    "with any APS instrument.  Since the notebook is for teaching,\n",
    "it does not connect with any mongodb database.  The scans are \n",
    "not kept by the databroker.  However, every scan is saved to a \n",
    "SPEC data file as described when the instrument package is loaded."
   ]
  },
  {
   "cell_type": "markdown",
   "metadata": {},
   "source": [
    "## Objective\n",
    "\n",
    "Use *Bluesky* (the tools provided by the various packages \n",
    "of the [Bluesky framework](https://blueskyproject.io/)) \n",
    "to find the center and width of a simulated diffraction \n",
    "peak.  Move the motor to the peak center.\n",
    "\n",
    "1. Use interactive ophyd commands to find the peak and assess the width.\n",
    "2. Use the RunEngine and bluesky plans to find the peak and assess the width.\n",
    "\n",
    "\n",
    "## Advanced\n",
    "\n",
    "3. Make a custom plan and run it to find the peak center.\n",
    "4. Add that new plan to the instrument package, then \n",
    "   restart the notebook's kernel and try it.\n",
    "5. Add the simulated motor and noisy detector to the \n",
    "   instrument package, then restart the notebook's \n",
    "   kernel and find the peak again.\n",
    "\n",
    "\n",
    "----"
   ]
  },
  {
   "cell_type": "markdown",
   "metadata": {},
   "source": [
    "## Initialize\n",
    "\n",
    "Load the instrument controls (which sets up the Bluesky framework for collection: `RE`, `bec`, `bp`, ...).  This defines more than we need but works as a simple start, just like regular data acquisition at a beam line."
   ]
  },
  {
   "cell_type": "code",
   "execution_count": null,
   "metadata": {
    "scrolled": true
   },
   "outputs": [],
   "source": [
    "from instrument.collection import *"
   ]
  },
  {
   "cell_type": "markdown",
   "metadata": {},
   "source": [
    "Numpy provides the random number generator we'll use."
   ]
  },
  {
   "cell_type": "code",
   "execution_count": null,
   "metadata": {},
   "outputs": [],
   "source": [
    "import numpy as np"
   ]
  },
  {
   "cell_type": "markdown",
   "metadata": {},
   "source": [
    "Load the ophyd simulators"
   ]
  },
  {
   "cell_type": "code",
   "execution_count": null,
   "metadata": {},
   "outputs": [],
   "source": [
    "from ophyd.sim import *"
   ]
  },
  {
   "cell_type": "markdown",
   "metadata": {},
   "source": [
    "## Make a noisy detector\n",
    "\n",
    "Make a new ``noisy``, replacing the one from the simulator."
   ]
  },
  {
   "cell_type": "code",
   "execution_count": null,
   "metadata": {},
   "outputs": [],
   "source": [
    "noisy = SynGauss(\n",
    "    'noisy', \n",
    "    motor, 'motor', \n",
    "    # center somewhere between -1 and 1\n",
    "    center=2 * (np.random.random()-0.5), \n",
    "    # randomize these parameters\n",
    "    Imax=100000 + 20000 * (np.random.random()-0.5),\n",
    "    noise='poisson', \n",
    "    sigma=0.016 + 0.015 * (np.random.random()-0.5), \n",
    "    noise_multiplier=0.1 + 0.02 * (np.random.random()-0.5),\n",
    "    labels={'detectors'})"
   ]
  },
  {
   "cell_type": "markdown",
   "metadata": {},
   "source": [
    "Define the reported precision of the motor and detector."
   ]
  },
  {
   "cell_type": "code",
   "execution_count": null,
   "metadata": {},
   "outputs": [],
   "source": [
    "motor.precision = 5\n",
    "noisy.precision = 0"
   ]
  },
  {
   "cell_type": "markdown",
   "metadata": {},
   "source": [
    "Print the values just configured"
   ]
  },
  {
   "cell_type": "code",
   "execution_count": null,
   "metadata": {},
   "outputs": [],
   "source": [
    "print(f\"motor: {motor.position}\")\n",
    "print(f\"center: {noisy.center.get()}\")\n",
    "print(f\"sigma: {noisy.sigma.get()}\")\n",
    "print(f\"Imax: {noisy.Imax.get()}\")\n",
    "print(f\"noise: {noisy.noise.get()}\")\n",
    "print(f\"noise_multiplier : {noisy.noise_multiplier.get()}\")\n",
    "noisy.trigger()     # update the \"detector\" value\n",
    "print(f\"noisy_det : {noisy.read()}\")"
   ]
  },
  {
   "cell_type": "markdown",
   "metadata": {},
   "source": [
    "## 1. Use `ophyd` commands\n",
    "\n",
    "The first thing to learn is how to move the motor.  As typical of many control systems, there are several ways to do this.  We will focus on only two of these since we can apply them to both simulated motors *and* EPICS motors.\n",
    "\n",
    "Different from a real motor, our simulated motor moves immediately, so motor velocity and acceleration are not involved.  Since the motor moves immediately, there is no discernable delay due to short or long motor motions.\n",
    "\n",
    "**tip**: There are several ways to do most things but this tutorial focuses on just a few with the hope that these ways are both simple and reuseable."
   ]
  },
  {
   "cell_type": "markdown",
   "metadata": {},
   "source": [
    "### motor, move and get position\n",
    "\n",
    "For a motor named `motor`, any of these commands can \n",
    "be used in an interactive session to move the motor from \n",
    "its current position to `1.0`:\n",
    "    \n",
    "    motor.set(1)\n",
    "    motor.set(1).wait()\n",
    "    %mov motor 1\n",
    "\n",
    "The `%mov` command is simplest so that is what we will use here.\n",
    "\n",
    "**tip**: The `%mov` command is absolute move, while `%movr` is a relative move.\n",
    "\n",
    "Move the motor from where it is now, to 1, and print its position."
   ]
  },
  {
   "cell_type": "code",
   "execution_count": null,
   "metadata": {},
   "outputs": [],
   "source": [
    "%mov motor 1\n",
    "print(motor.position)"
   ]
  },
  {
   "cell_type": "code",
   "execution_count": null,
   "metadata": {},
   "outputs": [],
   "source": [
    "motor.readback.get()"
   ]
  },
  {
   "cell_type": "markdown",
   "metadata": {},
   "source": [
    "Move the motor to 0 (this time using a relative move)."
   ]
  },
  {
   "cell_type": "code",
   "execution_count": null,
   "metadata": {},
   "outputs": [],
   "source": [
    "%movr motor -1\n",
    "motor.position"
   ]
  },
  {
   "cell_type": "markdown",
   "metadata": {},
   "source": [
    "### detector, count and get value\n",
    "\n",
    "Above, we created a detector named `noisy` that simulates a *scaler* (detector that records a single integer number of detection events, usually the number of X-ray photons received).  Real scalers are told to measure for a fixed time interval.  Our simulator does not have that feature.\n",
    "\n",
    "The simulated noisy detector computes its value for *counts* based on the position of the configured motor.\n",
    "\n",
    "Show the name of the motor configured into the `noisy` detector.  Check that its name is `motor`."
   ]
  },
  {
   "cell_type": "code",
   "execution_count": null,
   "metadata": {},
   "outputs": [],
   "source": [
    "print(noisy._motor)"
   ]
  },
  {
   "cell_type": "markdown",
   "metadata": {},
   "source": [
    "The value (number of counts) is kept in `noisy.val`.  Show it's value now.  \n",
    "\n",
    "**tip**: We can drop the `print()` wrapper if the command we use returns the value we'd print anyway.  Use this convenient shortcut."
   ]
  },
  {
   "cell_type": "code",
   "execution_count": null,
   "metadata": {},
   "outputs": [],
   "source": [
    "noisy.val"
   ]
  },
  {
   "cell_type": "markdown",
   "metadata": {},
   "source": [
    "We need to tell the detector to acquire data.  To acquire data, our simulator will re-compute its value based on the motor position (as with a real detector, the value does not update without something that compels this computation), since that may have changed since the last computation.\n",
    "\n",
    "For ophyd Devices, the method to call is [`trigger()`](https://blueskyproject.io/ophyd/generated/ophyd.device.BlueskyInterface.trigger.html?highlight=trigger)."
   ]
  },
  {
   "cell_type": "code",
   "execution_count": null,
   "metadata": {},
   "outputs": [],
   "source": [
    "noisy.trigger()\n",
    "noisy.val"
   ]
  },
  {
   "cell_type": "markdown",
   "metadata": {},
   "source": [
    "### Find the simulated peak\n",
    "\n",
    "With tools to move the motor and acquire data from the detector, we can try to find the simulated peak.  It may take some retries since the peak is narrow.  Take big steps first (such as `0.1`) to find non-zero counts, then smaller steps to find the peak.\n",
    "\n",
    "First, move to one end of the range, then start stepping until you find non-zero counts.  Then use `%movr` and execute the same notebook cell repeatedly.  Call the detector's `.get()` method to only print the number of counts and not the other information."
   ]
  },
  {
   "cell_type": "code",
   "execution_count": null,
   "metadata": {},
   "outputs": [],
   "source": [
    "%mov motor -1\n",
    "noisy.trigger()\n",
    "print(f\"motor={motor.position:.5f}  noisy={noisy.val.get()}\")"
   ]
  },
  {
   "cell_type": "markdown",
   "metadata": {},
   "source": [
    "The next cell will probably show a very small step size.  Change it to `0.1` and execute the cell repeatedly with <ctrl><ENTER>.  Once you have reached a peak (or passed it), change the sign and make the step size smaller.  Repeat until you are satisfied."
   ]
  },
  {
   "cell_type": "code",
   "execution_count": null,
   "metadata": {},
   "outputs": [],
   "source": [
    "%movr motor 0.1\n",
    "noisy.trigger()\n",
    "print(f\"{motor.position:.5f}, {noisy.val.get()}\")"
   ]
  },
  {
   "cell_type": "markdown",
   "metadata": {},
   "source": [
    "Compare the peak center you found with the value printed after the `noisy` detector was configured (above).  Probably, they will differ by a small amount since the simulator applies random noise to the signal."
   ]
  },
  {
   "cell_type": "markdown",
   "metadata": {},
   "source": [
    "## 2. Use RunEngine and bluesky plans\n",
    "\n",
    "Here we use the RunEngine (`RE`) and standard [bluesky plans](https://blueskyproject.io/bluesky/plans.html) to locate the simulated diffraction peak.\n",
    "\n",
    "Since we will do a series of scans, let's make a list to collect the results from each scan.  We'll report that list later."
   ]
  },
  {
   "cell_type": "code",
   "execution_count": null,
   "metadata": {},
   "outputs": [],
   "source": [
    "results=[]"
   ]
  },
  {
   "cell_type": "markdown",
   "metadata": {},
   "source": [
    "Next, some variables are defined which will make calling the scans more consistent.\n",
    "\n",
    "The first variable, *k*, is used to expand (only slightly) the range of the next scan to capture the full width of the peak.  We'll also define *n* as the number of points in each scan."
   ]
  },
  {
   "cell_type": "code",
   "execution_count": null,
   "metadata": {},
   "outputs": [],
   "source": [
    "k = 1.5         # range expansion factor\n",
    "n = 29          # number of points per scan"
   ]
  },
  {
   "cell_type": "markdown",
   "metadata": {},
   "source": [
    "### Locate the approximate peak position\n",
    "\n",
    "Scan from -2 to 2 to find the peak.  Since it is a Gaussian (which decays rapidly away from the peak), we may need to increase *n*, the number of points in the scan.  All we need is one point above the background to find it!\n",
    "\n",
    "Use the [*scan*](https://blueskyproject.io/bluesky/generated/bluesky.plans.scan.html?highlight=scan) plan from `bluesky.plans` (provided here as `bp`) to locate at least one point on the peak that is above the background of 0 counts."
   ]
  },
  {
   "cell_type": "code",
   "execution_count": null,
   "metadata": {
    "scrolled": true
   },
   "outputs": [],
   "source": [
    "RE(bp.scan([noisy], motor, -2, 2, n))"
   ]
  },
  {
   "cell_type": "markdown",
   "metadata": {},
   "source": [
    "One of the tools that works in the background of the Bluesky framework is the [*BestEffortCallback*](https://blueskyproject.io/bluesky/callbacks.html#best-effort-callback), known here as `bec`.  When `bec` is configured (see `instrument/framework/initialize.py`) as part of scanning with the RunEngine, it will assess peak parameters from each scan, where applicable.  The parameters are available in `bec.peaks` which we have, for convenience, defined as `peaks`.  We access a couple of those parameters here for peak center and width."
   ]
  },
  {
   "cell_type": "code",
   "execution_count": null,
   "metadata": {},
   "outputs": [],
   "source": [
    "peaks"
   ]
  },
  {
   "cell_type": "markdown",
   "metadata": {},
   "source": [
    "We'll grab the values we need from this dictionary.  The term *sigma* is a measure of the peak width apparent from the data available.  Since the step size of the scan is large with respect to the width of the peak shown above, this is a low precision finding.  We should repeat this scan with finer step size near the peak to make a more precise assessment."
   ]
  },
  {
   "cell_type": "code",
   "execution_count": null,
   "metadata": {},
   "outputs": [],
   "source": [
    "cen = peaks[\"cen\"][\"noisy\"]\n",
    "sigma = peaks[\"fwhm\"][\"noisy\"]\n",
    "results.append((RE.md[\"scan_id\"], cen, sigma))\n",
    "print(f\"center={cen:.7f},  FWHM={sigma:.7f}\")"
   ]
  },
  {
   "cell_type": "markdown",
   "metadata": {},
   "source": [
    "### Refine the peak position\n",
    "\n",
    "Refine the scan to the range of (-sigma .. +sigma) near the center of the previous scan.  Repeat as often as necessary (using <ctrl><ENTER>) to get the peak center and width.  Use the [*relative scan*](https://blueskyproject.io/bluesky/generated/bluesky.plans.rel_scan.html?highlight=rel_scan) plan from `bluesky.plans` to find the peak.\n",
    "\n",
    "**tip**: Look for the plot in the cell above.  Replots will be drawn in different colors.  The legend indicates the `scan_id`."
   ]
  },
  {
   "cell_type": "code",
   "execution_count": null,
   "metadata": {},
   "outputs": [],
   "source": [
    "%mov motor cen\n",
    "RE(bp.rel_scan([noisy], motor, -k*sigma, k*sigma, n))\n",
    "\n",
    "cen = peaks[\"cen\"][\"noisy\"]\n",
    "sigma = peaks[\"fwhm\"][\"noisy\"]\n",
    "results.append((RE.md[\"scan_id\"], cen, sigma))\n",
    "print(f\"center={cen:.7f},  FWHM={sigma:.7f}\")"
   ]
  },
  {
   "cell_type": "markdown",
   "metadata": {},
   "source": [
    "### Report the results\n",
    "\n",
    "Print a nice table with the results from each of our scans."
   ]
  },
  {
   "cell_type": "code",
   "execution_count": null,
   "metadata": {},
   "outputs": [],
   "source": [
    "tbl = pyRestTable.Table()\n",
    "tbl.addLabel(\"scan ID\")\n",
    "tbl.addLabel(\"center\")\n",
    "tbl.addLabel(\"sigma\")\n",
    "for sid, cen, sigma in results:\n",
    "    tbl.addRow((sid, cen, sigma))\n",
    "print(tbl)"
   ]
  }
 ],
 "metadata": {
  "kernelspec": {
   "display_name": "Python 3",
   "language": "python",
   "name": "python3"
  },
  "language_info": {
   "codemirror_mode": {
    "name": "ipython",
    "version": 3
   },
   "file_extension": ".py",
   "mimetype": "text/x-python",
   "name": "python",
   "nbconvert_exporter": "python",
   "pygments_lexer": "ipython3",
   "version": "3.7.7"
  }
 },
 "nbformat": 4,
 "nbformat_minor": 4
}
