{
 "cells": [
  {
   "cell_type": "markdown",
   "metadata": {},
   "source": [
    "# AreaDetector image data\n",
    "\n",
    "* used BlueSky to acquire an image from ADSimDetector\n",
    "* now want to access the image\n",
    "\n",
    "Following these instructions from NSLS2:  http://nsls-ii.github.io/databroker/assets.html"
   ]
  },
  {
   "cell_type": "code",
   "execution_count": 1,
   "metadata": {},
   "outputs": [],
   "source": [
    "import databroker\n",
    "import numpy as np\n",
    "db = databroker.Broker.named(\"mongodb_config\")"
   ]
  },
  {
   "cell_type": "markdown",
   "metadata": {},
   "source": [
    "---------\n",
    "## Use Databroker to get the image data\n",
    "\n",
    "Get the *header* (`h`) of the last data added to the databroker (alternatively, we could reference this data otherwise, see tutorial above for examples)\n",
    "\n",
    "To acquire an image, see [Ophyd setup](#Ophyd-setup) and [Bluesky setup](#BlueSky-data-acquisition) below."
   ]
  },
  {
   "cell_type": "code",
   "execution_count": 14,
   "metadata": {},
   "outputs": [],
   "source": [
    "h = db[-1]"
   ]
  },
  {
   "cell_type": "markdown",
   "metadata": {},
   "source": [
    "We want the image from the `adsimdet` object that we counted.  That is `adsimdet.image` which is referenced by the name `adsimdet_image`.  The result of `h.data()` is a [generator](https://docs.python.org/3/glossary.html#generator) so we wrap in a list and pick the first one.  (Raises an exception if there is no image.)"
   ]
  },
  {
   "cell_type": "markdown",
   "metadata": {},
   "source": [
    "To get the image data, we need to know the name that was used."
   ]
  },
  {
   "cell_type": "code",
   "execution_count": 15,
   "metadata": {},
   "outputs": [
    {
     "data": {
      "text/plain": [
       "{'adsimdet_hdf1_file_name',\n",
       " 'adsimdet_hdf1_file_path',\n",
       " 'adsimdet_hdf1_full_file_name',\n",
       " 'adsimdet_image'}"
      ]
     },
     "execution_count": 15,
     "metadata": {},
     "output_type": "execute_result"
    }
   ],
   "source": [
    "h.fields()"
   ]
  },
  {
   "cell_type": "markdown",
   "metadata": {},
   "source": [
    "from this list, we want the `adsimdet_image` field."
   ]
  },
  {
   "cell_type": "code",
   "execution_count": 16,
   "metadata": {},
   "outputs": [],
   "source": [
    "image = list(h.data(\"adsimdet_image\"))[0]"
   ]
  },
  {
   "cell_type": "code",
   "execution_count": 17,
   "metadata": {},
   "outputs": [
    {
     "data": {
      "text/plain": [
       "<Frames>\n",
       "Length: 1 frames\n",
       "Frame Shape: 1024 x 1024\n",
       "Pixel Datatype: uint8"
      ]
     },
     "execution_count": 17,
     "metadata": {},
     "output_type": "execute_result"
    }
   ],
   "source": [
    "image"
   ]
  },
  {
   "cell_type": "markdown",
   "metadata": {},
   "source": [
    "It should have one frame, 1k by 1k, 8-bit.  Do some simple math on the image, such as image min/max/mean/std. dev."
   ]
  },
  {
   "cell_type": "code",
   "execution_count": 18,
   "metadata": {},
   "outputs": [
    {
     "data": {
      "text/plain": [
       "(0, 248, 124.0, 73.86474125047755)"
      ]
     },
     "execution_count": 18,
     "metadata": {},
     "output_type": "execute_result"
    }
   ],
   "source": [
    "np.min(image), np.max(image), np.mean(image), np.std(image)"
   ]
  },
  {
   "cell_type": "markdown",
   "metadata": {},
   "source": [
    "prepare to visualize the image"
   ]
  },
  {
   "cell_type": "code",
   "execution_count": null,
   "metadata": {},
   "outputs": [],
   "source": [
    "# TBA"
   ]
  },
  {
   "cell_type": "code",
   "execution_count": null,
   "metadata": {},
   "outputs": [],
   "source": []
  },
  {
   "cell_type": "code",
   "execution_count": null,
   "metadata": {},
   "outputs": [],
   "source": []
  },
  {
   "cell_type": "code",
   "execution_count": null,
   "metadata": {},
   "outputs": [],
   "source": []
  },
  {
   "cell_type": "code",
   "execution_count": null,
   "metadata": {},
   "outputs": [],
   "source": []
  },
  {
   "cell_type": "code",
   "execution_count": null,
   "metadata": {},
   "outputs": [],
   "source": []
  },
  {
   "cell_type": "markdown",
   "metadata": {},
   "source": [
    "---------------\n",
    "\n",
    "## Ophyd setup"
   ]
  },
  {
   "cell_type": "code",
   "execution_count": 2,
   "metadata": {},
   "outputs": [],
   "source": [
    "from ophyd import Component, SingleTrigger, AreaDetector, SimDetector\n",
    "from ophyd import HDF5Plugin, ImagePlugin\n",
    "from ophyd.areadetector.filestore_mixins import FileStoreHDF5IterativeWrite"
   ]
  },
  {
   "cell_type": "code",
   "execution_count": 3,
   "metadata": {},
   "outputs": [],
   "source": [
    "image_file_path = \"/tmp/simdet/%Y/%m/%d/\""
   ]
  },
  {
   "cell_type": "code",
   "execution_count": 4,
   "metadata": {},
   "outputs": [],
   "source": [
    "class MyHDF5Plugin(HDF5Plugin, FileStoreHDF5IterativeWrite):\n",
    "    \n",
    "    file_number_sync = None\n",
    "    \n",
    "    def get_frames_per_point(self):    # AD 2.5\n",
    "        return self.parent.cam.num_images.get()"
   ]
  },
  {
   "cell_type": "code",
   "execution_count": 5,
   "metadata": {},
   "outputs": [],
   "source": [
    "class MySingleTriggerHdf5SimDetector(SingleTrigger, SimDetector): \n",
    "       \n",
    "    image = Component(ImagePlugin, suffix=\"image1:\")\n",
    "    hdf1 = Component(\n",
    "        MyHDF5Plugin,\n",
    "        suffix='HDF1:', \n",
    "        root='/' ,                              # for databroker\n",
    "        write_path_template=image_file_path,    # for EPICS AD\n",
    "    )"
   ]
  },
  {
   "cell_type": "code",
   "execution_count": 6,
   "metadata": {},
   "outputs": [],
   "source": [
    "_ad_prefix = \"otzSIM1:\"\n",
    "adsimdet = MySingleTriggerHdf5SimDetector(_ad_prefix, name='adsimdet')\n",
    "#\n",
    "# define these so something appears in the event stream\n",
    "adsimdet.hdf1.read_attrs.append(\"file_name\")\n",
    "adsimdet.hdf1.read_attrs.append(\"file_path\")\n",
    "adsimdet.hdf1.read_attrs.append(\"full_file_name\")\n",
    "adsimdet.read_attrs.append(\"hdf1\")"
   ]
  },
  {
   "cell_type": "code",
   "execution_count": 7,
   "metadata": {},
   "outputs": [
    {
     "data": {
      "text/plain": [
       "'adsimdet_image'"
      ]
     },
     "execution_count": 7,
     "metadata": {},
     "output_type": "execute_result"
    }
   ],
   "source": [
    "adsimdet.image.name"
   ]
  },
  {
   "cell_type": "code",
   "execution_count": 8,
   "metadata": {},
   "outputs": [
    {
     "data": {
      "text/plain": [
       "ImagePlugin(prefix='otzSIM1:image1:', name='adsimdet_image', parent='adsimdet', read_attrs=[], configuration_attrs=['configuration_names', 'port_name', 'asyn_pipeline_config', 'blocking_callbacks', 'enable', 'nd_array_port', 'plugin_type'])"
      ]
     },
     "execution_count": 8,
     "metadata": {},
     "output_type": "execute_result"
    }
   ],
   "source": [
    "adsimdet.image"
   ]
  },
  {
   "cell_type": "markdown",
   "metadata": {},
   "source": [
    "## BlueSky data acquisition"
   ]
  },
  {
   "cell_type": "code",
   "execution_count": 9,
   "metadata": {},
   "outputs": [],
   "source": [
    "from bluesky import RunEngine\n",
    "import bluesky.plans as bp\n",
    "from bluesky import SupplementalData\n",
    "\n",
    "RE = RunEngine({})\n",
    "RE.md['purpose'] = 'documentation'\n",
    "\n",
    "import databroker\n",
    "db = databroker.Broker.named(\"mongodb_config\")\n",
    "RE.subscribe(db.insert)\n",
    "\n",
    "sd = SupplementalData()\n",
    "RE.preprocessors.append(sd)"
   ]
  },
  {
   "cell_type": "code",
   "execution_count": 10,
   "metadata": {},
   "outputs": [
    {
     "data": {
      "text/plain": [
       "OrderedDict([('adsimdet_cam_acquire_period',\n",
       "              {'source': 'PV:otzSIM1:cam1:AcquirePeriod_RBV',\n",
       "               'dtype': 'number',\n",
       "               'shape': [],\n",
       "               'precision': 3,\n",
       "               'units': '',\n",
       "               'lower_ctrl_limit': 0.0,\n",
       "               'upper_ctrl_limit': 0.0}),\n",
       "             ('adsimdet_cam_acquire_time',\n",
       "              {'source': 'PV:otzSIM1:cam1:AcquireTime_RBV',\n",
       "               'dtype': 'number',\n",
       "               'shape': [],\n",
       "               'precision': 3,\n",
       "               'units': '',\n",
       "               'lower_ctrl_limit': 0.0,\n",
       "               'upper_ctrl_limit': 0.0}),\n",
       "             ('adsimdet_cam_image_mode',\n",
       "              {'source': 'PV:otzSIM1:cam1:ImageMode_RBV',\n",
       "               'dtype': 'integer',\n",
       "               'shape': [],\n",
       "               'units': None,\n",
       "               'lower_ctrl_limit': None,\n",
       "               'upper_ctrl_limit': None,\n",
       "               'enum_strs': ['Single', 'Multiple', 'Continuous']}),\n",
       "             ('adsimdet_cam_manufacturer',\n",
       "              {'source': 'PV:otzSIM1:cam1:Manufacturer_RBV',\n",
       "               'dtype': 'string',\n",
       "               'shape': [],\n",
       "               'units': None,\n",
       "               'lower_ctrl_limit': None,\n",
       "               'upper_ctrl_limit': None}),\n",
       "             ('adsimdet_cam_model',\n",
       "              {'source': 'PV:otzSIM1:cam1:Model_RBV',\n",
       "               'dtype': 'string',\n",
       "               'shape': [],\n",
       "               'units': None,\n",
       "               'lower_ctrl_limit': None,\n",
       "               'upper_ctrl_limit': None}),\n",
       "             ('adsimdet_cam_num_exposures',\n",
       "              {'source': 'PV:otzSIM1:cam1:NumExposures_RBV',\n",
       "               'dtype': 'integer',\n",
       "               'shape': [],\n",
       "               'units': '',\n",
       "               'lower_ctrl_limit': 0,\n",
       "               'upper_ctrl_limit': 0}),\n",
       "             ('adsimdet_cam_trigger_mode',\n",
       "              {'source': 'PV:otzSIM1:cam1:TriggerMode_RBV',\n",
       "               'dtype': 'integer',\n",
       "               'shape': [],\n",
       "               'units': None,\n",
       "               'lower_ctrl_limit': None,\n",
       "               'upper_ctrl_limit': None,\n",
       "               'enum_strs': ['Internal', 'External']}),\n",
       "             ('adsimdet_hdf1_configuration_names',\n",
       "              {'source': 'PY:adsimdet_hdf1._configuration_names',\n",
       "               'dtype': 'array',\n",
       "               'shape': [35]}),\n",
       "             ('adsimdet_hdf1_port_name',\n",
       "              {'source': 'PV:otzSIM1:HDF1:PortName_RBV',\n",
       "               'dtype': 'string',\n",
       "               'shape': [],\n",
       "               'units': None,\n",
       "               'lower_ctrl_limit': None,\n",
       "               'upper_ctrl_limit': None}),\n",
       "             ('adsimdet_hdf1_asyn_pipeline_config',\n",
       "              {'source': 'PY:adsimdet_hdf1._asyn_pipeline_configuration_names',\n",
       "               'dtype': 'array',\n",
       "               'shape': [2]}),\n",
       "             ('adsimdet_hdf1_blocking_callbacks',\n",
       "              {'source': 'PV:otzSIM1:HDF1:BlockingCallbacks_RBV',\n",
       "               'dtype': 'string',\n",
       "               'shape': [],\n",
       "               'units': None,\n",
       "               'lower_ctrl_limit': None,\n",
       "               'upper_ctrl_limit': None,\n",
       "               'enum_strs': ['No', 'Yes']}),\n",
       "             ('adsimdet_hdf1_enable',\n",
       "              {'source': 'PV:otzSIM1:HDF1:EnableCallbacks_RBV',\n",
       "               'dtype': 'string',\n",
       "               'shape': [],\n",
       "               'units': None,\n",
       "               'lower_ctrl_limit': None,\n",
       "               'upper_ctrl_limit': None,\n",
       "               'enum_strs': ['Disable', 'Enable']}),\n",
       "             ('adsimdet_hdf1_nd_array_port',\n",
       "              {'source': 'PV:otzSIM1:HDF1:NDArrayPort_RBV',\n",
       "               'dtype': 'string',\n",
       "               'shape': [],\n",
       "               'units': None,\n",
       "               'lower_ctrl_limit': None,\n",
       "               'upper_ctrl_limit': None}),\n",
       "             ('adsimdet_hdf1_plugin_type',\n",
       "              {'source': 'PV:otzSIM1:HDF1:PluginType_RBV',\n",
       "               'dtype': 'string',\n",
       "               'shape': [],\n",
       "               'units': None,\n",
       "               'lower_ctrl_limit': None,\n",
       "               'upper_ctrl_limit': None}),\n",
       "             ('adsimdet_hdf1_auto_increment',\n",
       "              {'source': 'PV:otzSIM1:HDF1:AutoIncrement_RBV',\n",
       "               'dtype': 'integer',\n",
       "               'shape': [],\n",
       "               'units': None,\n",
       "               'lower_ctrl_limit': None,\n",
       "               'upper_ctrl_limit': None,\n",
       "               'enum_strs': ['No', 'Yes']}),\n",
       "             ('adsimdet_hdf1_auto_save',\n",
       "              {'source': 'PV:otzSIM1:HDF1:AutoSave_RBV',\n",
       "               'dtype': 'integer',\n",
       "               'shape': [],\n",
       "               'units': None,\n",
       "               'lower_ctrl_limit': None,\n",
       "               'upper_ctrl_limit': None,\n",
       "               'enum_strs': ['No', 'Yes']}),\n",
       "             ('adsimdet_hdf1_file_format',\n",
       "              {'source': 'PV:otzSIM1:HDF1:FileFormat_RBV',\n",
       "               'dtype': 'integer',\n",
       "               'shape': [],\n",
       "               'units': None,\n",
       "               'lower_ctrl_limit': None,\n",
       "               'upper_ctrl_limit': None,\n",
       "               'enum_strs': ['HDF5', 'Undefined']}),\n",
       "             ('adsimdet_hdf1_file_name',\n",
       "              {'source': 'PV:otzSIM1:HDF1:FileName_RBV',\n",
       "               'dtype': 'string',\n",
       "               'shape': [],\n",
       "               'units': '',\n",
       "               'lower_ctrl_limit': 0,\n",
       "               'upper_ctrl_limit': 0}),\n",
       "             ('adsimdet_hdf1_file_path',\n",
       "              {'source': 'PV:otzSIM1:HDF1:FilePath_RBV',\n",
       "               'dtype': 'string',\n",
       "               'shape': [],\n",
       "               'units': '',\n",
       "               'lower_ctrl_limit': 0,\n",
       "               'upper_ctrl_limit': 0}),\n",
       "             ('adsimdet_hdf1_file_path_exists',\n",
       "              {'source': 'PV:otzSIM1:HDF1:FilePathExists_RBV',\n",
       "               'dtype': 'integer',\n",
       "               'shape': [],\n",
       "               'units': None,\n",
       "               'lower_ctrl_limit': None,\n",
       "               'upper_ctrl_limit': None,\n",
       "               'enum_strs': ['No', 'Yes']}),\n",
       "             ('adsimdet_hdf1_file_template',\n",
       "              {'source': 'PV:otzSIM1:HDF1:FileTemplate_RBV',\n",
       "               'dtype': 'string',\n",
       "               'shape': [],\n",
       "               'units': '',\n",
       "               'lower_ctrl_limit': 0,\n",
       "               'upper_ctrl_limit': 0}),\n",
       "             ('adsimdet_hdf1_file_write_mode',\n",
       "              {'source': 'PV:otzSIM1:HDF1:FileWriteMode_RBV',\n",
       "               'dtype': 'integer',\n",
       "               'shape': [],\n",
       "               'units': None,\n",
       "               'lower_ctrl_limit': None,\n",
       "               'upper_ctrl_limit': None,\n",
       "               'enum_strs': ['Single', 'Capture', 'Stream']}),\n",
       "             ('adsimdet_hdf1_full_file_name',\n",
       "              {'source': 'PV:otzSIM1:HDF1:FullFileName_RBV',\n",
       "               'dtype': 'string',\n",
       "               'shape': [],\n",
       "               'units': '',\n",
       "               'lower_ctrl_limit': 0,\n",
       "               'upper_ctrl_limit': 0}),\n",
       "             ('adsimdet_hdf1_num_capture',\n",
       "              {'source': 'PV:otzSIM1:HDF1:NumCapture_RBV',\n",
       "               'dtype': 'integer',\n",
       "               'shape': [],\n",
       "               'units': '',\n",
       "               'lower_ctrl_limit': 0,\n",
       "               'upper_ctrl_limit': 0}),\n",
       "             ('adsimdet_hdf1_boundary_align',\n",
       "              {'source': 'PV:otzSIM1:HDF1:BoundaryAlign_RBV',\n",
       "               'dtype': 'integer',\n",
       "               'shape': [],\n",
       "               'units': 'bytes',\n",
       "               'lower_ctrl_limit': 0,\n",
       "               'upper_ctrl_limit': 0}),\n",
       "             ('adsimdet_hdf1_boundary_threshold',\n",
       "              {'source': 'PV:otzSIM1:HDF1:BoundaryThreshold_RBV',\n",
       "               'dtype': 'integer',\n",
       "               'shape': [],\n",
       "               'units': 'bytes',\n",
       "               'lower_ctrl_limit': 0,\n",
       "               'upper_ctrl_limit': 0}),\n",
       "             ('adsimdet_hdf1_compression',\n",
       "              {'source': 'PV:otzSIM1:HDF1:Compression_RBV',\n",
       "               'dtype': 'integer',\n",
       "               'shape': [],\n",
       "               'units': None,\n",
       "               'lower_ctrl_limit': None,\n",
       "               'upper_ctrl_limit': None,\n",
       "               'enum_strs': ['None', 'nbit', 'szip', 'zlib', 'blosc']}),\n",
       "             ('adsimdet_hdf1_data_bits_offset',\n",
       "              {'source': 'PV:otzSIM1:HDF1:DataBitsOffset_RBV',\n",
       "               'dtype': 'integer',\n",
       "               'shape': [],\n",
       "               'units': 'bit',\n",
       "               'lower_ctrl_limit': 0,\n",
       "               'upper_ctrl_limit': 0}),\n",
       "             ('adsimdet_hdf1_io_speed',\n",
       "              {'source': 'PV:otzSIM1:HDF1:IOSpeed',\n",
       "               'dtype': 'number',\n",
       "               'shape': [],\n",
       "               'precision': 1,\n",
       "               'units': 'Mbit/s',\n",
       "               'lower_ctrl_limit': 0.0,\n",
       "               'upper_ctrl_limit': 0.0}),\n",
       "             ('adsimdet_hdf1_num_col_chunks',\n",
       "              {'source': 'PV:otzSIM1:HDF1:NumColChunks_RBV',\n",
       "               'dtype': 'integer',\n",
       "               'shape': [],\n",
       "               'units': '',\n",
       "               'lower_ctrl_limit': 0,\n",
       "               'upper_ctrl_limit': 0}),\n",
       "             ('adsimdet_hdf1_num_data_bits',\n",
       "              {'source': 'PV:otzSIM1:HDF1:NumDataBits_RBV',\n",
       "               'dtype': 'integer',\n",
       "               'shape': [],\n",
       "               'units': 'bit',\n",
       "               'lower_ctrl_limit': 0,\n",
       "               'upper_ctrl_limit': 0}),\n",
       "             ('adsimdet_hdf1_num_extra_dims',\n",
       "              {'source': 'PV:otzSIM1:HDF1:NumExtraDims_RBV',\n",
       "               'dtype': 'integer',\n",
       "               'shape': [],\n",
       "               'units': '',\n",
       "               'lower_ctrl_limit': 0,\n",
       "               'upper_ctrl_limit': 0}),\n",
       "             ('adsimdet_hdf1_num_frames_chunks',\n",
       "              {'source': 'PV:otzSIM1:HDF1:NumFramesChunks_RBV',\n",
       "               'dtype': 'integer',\n",
       "               'shape': [],\n",
       "               'units': '',\n",
       "               'lower_ctrl_limit': 0,\n",
       "               'upper_ctrl_limit': 0}),\n",
       "             ('adsimdet_hdf1_num_frames_flush',\n",
       "              {'source': 'PV:otzSIM1:HDF1:NumFramesFlush_RBV',\n",
       "               'dtype': 'integer',\n",
       "               'shape': [],\n",
       "               'units': '',\n",
       "               'lower_ctrl_limit': 0,\n",
       "               'upper_ctrl_limit': 0}),\n",
       "             ('adsimdet_hdf1_num_row_chunks',\n",
       "              {'source': 'PV:otzSIM1:HDF1:NumRowChunks_RBV',\n",
       "               'dtype': 'integer',\n",
       "               'shape': [],\n",
       "               'units': '',\n",
       "               'lower_ctrl_limit': 0,\n",
       "               'upper_ctrl_limit': 0}),\n",
       "             ('adsimdet_hdf1_run_time',\n",
       "              {'source': 'PV:otzSIM1:HDF1:RunTime',\n",
       "               'dtype': 'number',\n",
       "               'shape': [],\n",
       "               'precision': 3,\n",
       "               'units': 's',\n",
       "               'lower_ctrl_limit': 0.0,\n",
       "               'upper_ctrl_limit': 0.0}),\n",
       "             ('adsimdet_hdf1_szip_num_pixels',\n",
       "              {'source': 'PV:otzSIM1:HDF1:SZipNumPixels_RBV',\n",
       "               'dtype': 'integer',\n",
       "               'shape': [],\n",
       "               'units': 'bit',\n",
       "               'lower_ctrl_limit': 0,\n",
       "               'upper_ctrl_limit': 0}),\n",
       "             ('adsimdet_hdf1_store_attr',\n",
       "              {'source': 'PV:otzSIM1:HDF1:StoreAttr_RBV',\n",
       "               'dtype': 'integer',\n",
       "               'shape': [],\n",
       "               'units': None,\n",
       "               'lower_ctrl_limit': None,\n",
       "               'upper_ctrl_limit': None,\n",
       "               'enum_strs': ['No', 'Yes']}),\n",
       "             ('adsimdet_hdf1_store_perform',\n",
       "              {'source': 'PV:otzSIM1:HDF1:StorePerform_RBV',\n",
       "               'dtype': 'integer',\n",
       "               'shape': [],\n",
       "               'units': None,\n",
       "               'lower_ctrl_limit': None,\n",
       "               'upper_ctrl_limit': None,\n",
       "               'enum_strs': ['No', 'Yes']}),\n",
       "             ('adsimdet_hdf1_zlevel',\n",
       "              {'source': 'PV:otzSIM1:HDF1:ZLevel_RBV',\n",
       "               'dtype': 'integer',\n",
       "               'shape': [],\n",
       "               'units': '',\n",
       "               'lower_ctrl_limit': 0,\n",
       "               'upper_ctrl_limit': 0})])"
      ]
     },
     "execution_count": 10,
     "metadata": {},
     "output_type": "execute_result"
    }
   ],
   "source": [
    "count_time = 0.2\n",
    "adsimdet.cam.stage_sigs[\"acquire_time\"] = count_time\n",
    "adsimdet.describe_configuration()"
   ]
  },
  {
   "cell_type": "code",
   "execution_count": 11,
   "metadata": {},
   "outputs": [
    {
     "data": {
      "text/plain": [
       "('04b0a9ae-cd46-419e-a8c8-63ce5c294c50',)"
      ]
     },
     "execution_count": 11,
     "metadata": {},
     "output_type": "execute_result"
    }
   ],
   "source": [
    "RE(bp.count([adsimdet]))"
   ]
  },
  {
   "cell_type": "code",
   "execution_count": 12,
   "metadata": {},
   "outputs": [
    {
     "name": "stdout",
     "output_type": "stream",
     "text": [
      "/tmp/simdet/2018/07/25/71206f16-5969-48cd-9596_000000.h5\n"
     ]
    }
   ],
   "source": [
    "cfg = adsimdet.hdf1.read_configuration()\n",
    "file_name = cfg[\"adsimdet_hdf1_full_file_name\"]['value']\n",
    "print(file_name)"
   ]
  },
  {
   "cell_type": "code",
   "execution_count": 13,
   "metadata": {},
   "outputs": [
    {
     "name": "stdout",
     "output_type": "stream",
     "text": [
      "0 /tmp/simdet/2018/07/25/71206f16-5969-48cd-9596_000000.h5\n"
     ]
    }
   ],
   "source": [
    "for i, ev in enumerate(db[-1].events()):\n",
    "    print(i, ev[\"data\"][adsimdet.hdf1.name+\"_full_file_name\"])"
   ]
  }
 ],
 "metadata": {
  "kernelspec": {
   "display_name": "Python 3",
   "language": "python",
   "name": "python3"
  },
  "language_info": {
   "codemirror_mode": {
    "name": "ipython",
    "version": 3
   },
   "file_extension": ".py",
   "mimetype": "text/x-python",
   "name": "python",
   "nbconvert_exporter": "python",
   "pygments_lexer": "ipython3",
   "version": "3.6.5"
  }
 },
 "nbformat": 4,
 "nbformat_minor": 2
}
