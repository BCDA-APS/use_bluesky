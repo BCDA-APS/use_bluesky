{
 "cells": [
  {
   "cell_type": "markdown",
   "metadata": {},
   "source": [
    "# Lesson 2 - motor and scan\n",
    "\n",
    "In this lesson, we'll work with a motor (for precise positioning) in [Bluesky](http://nsls-ii.github.io/bluesky/) and [related tools](http://nsls-ii.github.io/).\n",
    "\n",
    "First, we'll connect with an EPICS motor (using [ophyd](http://nsls-ii.github.io/ophyd/)), and then use the Bluesky software to scan the motor (with the scaler from [lesson 1](lesson1.ipynb).\n",
    "\n",
    "Load `ophyd` device support for the `EpicsMotor` and connect with one EPICS motor channel.  We have a synApps (v5.8) XXX-style IOC with the prefix `prj:`. It has a scaler, 16 soft channel motors, and some other support we'll ignore in this lesson."
   ]
  },
  {
   "cell_type": "code",
   "execution_count": 2,
   "metadata": {},
   "outputs": [],
   "source": [
    "from ophyd import EpicsMotor\n",
    "m1 = EpicsMotor(\"prj:m1\", name=\"m1\")"
   ]
  },
  {
   "cell_type": "markdown",
   "metadata": {},
   "source": [
    "Show the current value fo the motor (that's the `.RBV` field, in case you were interested)."
   ]
  },
  {
   "cell_type": "code",
   "execution_count": 3,
   "metadata": {},
   "outputs": [
    {
     "data": {
      "text/plain": [
       "0.0"
      ]
     },
     "execution_count": 3,
     "metadata": {},
     "output_type": "execute_result"
    }
   ],
   "source": [
    "m1.position"
   ]
  },
  {
   "cell_type": "markdown",
   "metadata": {},
   "source": [
    "Connect the scaler (as was done in lesson 1).  Define some of the chaannel names and clear out others."
   ]
  },
  {
   "cell_type": "code",
   "execution_count": 4,
   "metadata": {},
   "outputs": [],
   "source": [
    "from ophyd.scaler import ScalerCH\n",
    "scaler = ScalerCH(\"prj:scaler1\", name=\"scaler\")\n",
    "\n",
    "# Since there are no detectors actually connected to this scaler,\n",
    "# we can change names at our choice.  A real scaler will have\n",
    "# detectors connected to specific channels and we should not modify\n",
    "# these names without regard to how signals are physically connected.\n",
    "scaler.channels.chan01.chname.put(\"clock\")\n",
    "scaler.channels.chan02.chname.put(\"I0\")\n",
    "scaler.channels.chan03.chname.put(\"scint\")\n",
    "scaler.channels.chan04.chname.put(\"\")\n",
    "scaler.channels.chan05.chname.put(\"\")\n",
    "scaler.channels.chan06.chname.put(\"\")\n",
    "scaler.channels.chan07.chname.put(\"\")\n",
    "scaler.channels.chan08.chname.put(\"\")\n",
    "scaler.channels.chan09.chname.put(\"\")"
   ]
  },
  {
   "cell_type": "markdown",
   "metadata": {},
   "source": [
    "Use only the channels with EPICS names, those are the *interesting* channels."
   ]
  },
  {
   "cell_type": "code",
   "execution_count": 5,
   "metadata": {},
   "outputs": [
    {
     "data": {
      "text/plain": [
       "OrderedDict([('clock', {'value': 16000000.0, 'timestamp': 1533135553.458647}),\n",
       "             ('I0', {'value': 4.0, 'timestamp': 1533135553.458647}),\n",
       "             ('scint', {'value': 8.0, 'timestamp': 1533135553.458647}),\n",
       "             ('scaler_time', {'value': 1.6, 'timestamp': 1533135553.458647})])"
      ]
     },
     "execution_count": 5,
     "metadata": {},
     "output_type": "execute_result"
    }
   ],
   "source": [
    "from APS_BlueSky_tools.devices import use_EPICS_scaler_channels\n",
    "\n",
    "scaler.match_names()\n",
    "use_EPICS_scaler_channels(scaler)\n",
    "scaler.read()"
   ]
  },
  {
   "cell_type": "markdown",
   "metadata": {},
   "source": [
    "Create a RunEngine but do not connect it with a data collection strategy.  That will come in the next lessons."
   ]
  },
  {
   "cell_type": "code",
   "execution_count": 6,
   "metadata": {},
   "outputs": [],
   "source": [
    "from bluesky import RunEngine\n",
    "import bluesky.plans as bp\n",
    "RE = RunEngine({})"
   ]
  },
  {
   "cell_type": "markdown",
   "metadata": {},
   "source": [
    "Run a step scan using the motor and the scaler."
   ]
  },
  {
   "cell_type": "code",
   "execution_count": 10,
   "metadata": {},
   "outputs": [
    {
     "data": {
      "text/plain": [
       "('2fb37108-0e57-4d70-95db-5d451ae4af46',)"
      ]
     },
     "execution_count": 10,
     "metadata": {},
     "output_type": "execute_result"
    }
   ],
   "source": [
    "RE(bp.scan([scaler], m1, -1, 1, 5))"
   ]
  },
  {
   "cell_type": "markdown",
   "metadata": {},
   "source": [
    "Ah, yes.  Nothing to see here since we did not setup anything to receive the *documents* from the RunEngine.  Here's the basic callback from lesson 1."
   ]
  },
  {
   "cell_type": "code",
   "execution_count": 8,
   "metadata": {},
   "outputs": [],
   "source": [
    "def myCallback(key, doc):\n",
    "    print(key, len(doc))\n",
    "    for k, v in doc.items():\n",
    "        print(\"\\t\", k, v)"
   ]
  },
  {
   "cell_type": "markdown",
   "metadata": {},
   "source": [
    "Repeat the same scan but handle the document stream with `myCallback()`."
   ]
  },
  {
   "cell_type": "code",
   "execution_count": 9,
   "metadata": {},
   "outputs": [
    {
     "name": "stdout",
     "output_type": "stream",
     "text": [
      "start 14\n",
      "\t uid e6682f39-0f4e-42a0-8efe-87b185e46e7a\n",
      "\t time 1533136065.810937\n",
      "\t plan_pattern_module bluesky.plan_patterns\n",
      "\t plan_args {'detectors': [\"ScalerCH(prefix='prj:scaler1', name='scaler', read_attrs=['channels', 'channels.chan01', 'channels.chan01.s', 'channels.chan02', 'channels.chan02.s', 'channels.chan03', 'channels.chan03.s', 'time'], configuration_attrs=['channels', 'channels.chan01', 'channels.chan01.chname', 'channels.chan01.preset', 'channels.chan01.gate', 'channels.chan02', 'channels.chan02.chname', 'channels.chan02.preset', 'channels.chan02.gate', 'channels.chan03', 'channels.chan03.chname', 'channels.chan03.preset', 'channels.chan03.gate', 'channels.chan04', 'channels.chan04.chname', 'channels.chan04.preset', 'channels.chan04.gate', 'channels.chan05', 'channels.chan05.chname', 'channels.chan05.preset', 'channels.chan05.gate', 'channels.chan06', 'channels.chan06.chname', 'channels.chan06.preset', 'channels.chan06.gate', 'channels.chan07', 'channels.chan07.chname', 'channels.chan07.preset', 'channels.chan07.gate', 'channels.chan08', 'channels.chan08.chname', 'channels.chan08.preset', 'channels.chan08.gate', 'channels.chan09', 'channels.chan09.chname', 'channels.chan09.preset', 'channels.chan09.gate', 'channels.chan10', 'channels.chan10.chname', 'channels.chan10.preset', 'channels.chan10.gate', 'channels.chan11', 'channels.chan11.chname', 'channels.chan11.preset', 'channels.chan11.gate', 'channels.chan12', 'channels.chan12.chname', 'channels.chan12.preset', 'channels.chan12.gate', 'channels.chan13', 'channels.chan13.chname', 'channels.chan13.preset', 'channels.chan13.gate', 'channels.chan14', 'channels.chan14.chname', 'channels.chan14.preset', 'channels.chan14.gate', 'channels.chan15', 'channels.chan15.chname', 'channels.chan15.preset', 'channels.chan15.gate', 'channels.chan16', 'channels.chan16.chname', 'channels.chan16.preset', 'channels.chan16.gate', 'channels.chan17', 'channels.chan17.chname', 'channels.chan17.preset', 'channels.chan17.gate', 'channels.chan18', 'channels.chan18.chname', 'channels.chan18.preset', 'channels.chan18.gate', 'channels.chan19', 'channels.chan19.chname', 'channels.chan19.preset', 'channels.chan19.gate', 'channels.chan20', 'channels.chan20.chname', 'channels.chan20.preset', 'channels.chan20.gate', 'channels.chan21', 'channels.chan21.chname', 'channels.chan21.preset', 'channels.chan21.gate', 'channels.chan22', 'channels.chan22.chname', 'channels.chan22.preset', 'channels.chan22.gate', 'channels.chan23', 'channels.chan23.chname', 'channels.chan23.preset', 'channels.chan23.gate', 'channels.chan24', 'channels.chan24.chname', 'channels.chan24.preset', 'channels.chan24.gate', 'channels.chan25', 'channels.chan25.chname', 'channels.chan25.preset', 'channels.chan25.gate', 'channels.chan26', 'channels.chan26.chname', 'channels.chan26.preset', 'channels.chan26.gate', 'channels.chan27', 'channels.chan27.chname', 'channels.chan27.preset', 'channels.chan27.gate', 'channels.chan28', 'channels.chan28.chname', 'channels.chan28.preset', 'channels.chan28.gate', 'channels.chan29', 'channels.chan29.chname', 'channels.chan29.preset', 'channels.chan29.gate', 'channels.chan30', 'channels.chan30.chname', 'channels.chan30.preset', 'channels.chan30.gate', 'channels.chan31', 'channels.chan31.chname', 'channels.chan31.preset', 'channels.chan31.gate', 'channels.chan32', 'channels.chan32.chname', 'channels.chan32.preset', 'channels.chan32.gate', 'count_mode', 'delay', 'auto_count_delay', 'freq', 'preset_time', 'auto_count_time', 'egu'])\"], 'num': 5, 'args': [\"EpicsMotor(prefix='prj:m1', name='m1', settle_time=0.0, timeout=None, read_attrs=['user_readback', 'user_setpoint'], configuration_attrs=['user_offset', 'user_offset_dir', 'velocity', 'acceleration', 'motor_egu'])\", -1, 1], 'per_step': 'None'}\n",
      "\t num_intervals 4\n",
      "\t plan_pattern_args {'num': 5, 'args': [\"EpicsMotor(prefix='prj:m1', name='m1', settle_time=0.0, timeout=None, read_attrs=['user_readback', 'user_setpoint'], configuration_attrs=['user_offset', 'user_offset_dir', 'velocity', 'acceleration', 'motor_egu'])\", -1, 1]}\n",
      "\t motors ('m1',)\n",
      "\t plan_name scan\n",
      "\t hints {'dimensions': [(['m1'], 'primary')]}\n",
      "\t detectors ['scaler']\n",
      "\t plan_pattern inner_product\n",
      "\t scan_id 2\n",
      "\t num_points 5\n",
      "\t plan_type generator\n",
      "descriptor 8\n",
      "\t run_start e6682f39-0f4e-42a0-8efe-87b185e46e7a\n",
      "\t time 1533136069.9115171\n",
      "\t data_keys {'m1': {'source': 'PV:prj:m1.RBV', 'dtype': 'number', 'shape': [], 'precision': 5, 'units': 'degrees', 'lower_ctrl_limit': -100.0, 'upper_ctrl_limit': 100.0, 'object_name': 'm1'}, 'm1_user_setpoint': {'source': 'PV:prj:m1.VAL', 'dtype': 'number', 'shape': [], 'precision': 5, 'units': 'degrees', 'lower_ctrl_limit': -100.0, 'upper_ctrl_limit': 100.0, 'object_name': 'm1'}, 'clock': {'source': 'PV:prj:scaler1.S1', 'dtype': 'number', 'shape': [], 'precision': 0, 'units': '', 'lower_ctrl_limit': 0.0, 'upper_ctrl_limit': 0.0, 'object_name': 'scaler'}, 'I0': {'source': 'PV:prj:scaler1.S2', 'dtype': 'number', 'shape': [], 'precision': 0, 'units': '', 'lower_ctrl_limit': 0.0, 'upper_ctrl_limit': 0.0, 'object_name': 'scaler'}, 'scint': {'source': 'PV:prj:scaler1.S3', 'dtype': 'number', 'shape': [], 'precision': 0, 'units': '', 'lower_ctrl_limit': 0.0, 'upper_ctrl_limit': 0.0, 'object_name': 'scaler'}, 'scaler_time': {'source': 'PV:prj:scaler1.T', 'dtype': 'number', 'shape': [], 'precision': 3, 'units': '', 'lower_ctrl_limit': 0.0, 'upper_ctrl_limit': 0.0, 'object_name': 'scaler'}}\n",
      "\t uid 2d2646de-00ce-45ec-95e6-29d561de7c33\n",
      "\t configuration {'m1': {'data': {'m1_user_offset': 0.0, 'm1_user_offset_dir': 0, 'm1_velocity': 1.0, 'm1_acceleration': 0.2, 'm1_motor_egu': 'degrees'}, 'timestamps': {'m1_user_offset': 1533136068.128114, 'm1_user_offset_dir': 1533136068.128114, 'm1_velocity': 1533136068.128114, 'm1_acceleration': 1533136068.128114, 'm1_motor_egu': 1533136068.128114}, 'data_keys': OrderedDict([('m1_user_offset', {'source': 'PV:prj:m1.OFF', 'dtype': 'number', 'shape': [], 'precision': 5, 'units': 'degrees', 'lower_ctrl_limit': -1e+300, 'upper_ctrl_limit': 1e+300}), ('m1_user_offset_dir', {'source': 'PV:prj:m1.DIR', 'dtype': 'integer', 'shape': [], 'units': None, 'lower_ctrl_limit': None, 'upper_ctrl_limit': None, 'enum_strs': ['Pos', 'Neg']}), ('m1_velocity', {'source': 'PV:prj:m1.VELO', 'dtype': 'number', 'shape': [], 'precision': 5, 'units': 'degrees', 'lower_ctrl_limit': 0.1, 'upper_ctrl_limit': 0.0}), ('m1_acceleration', {'source': 'PV:prj:m1.ACCL', 'dtype': 'number', 'shape': [], 'precision': 5, 'units': 'sec', 'lower_ctrl_limit': -1e+300, 'upper_ctrl_limit': 1e+300}), ('m1_motor_egu', {'source': 'PV:prj:m1.EGU', 'dtype': 'string', 'shape': [], 'units': None, 'lower_ctrl_limit': None, 'upper_ctrl_limit': None})])}, 'scaler': {'data': {'scaler_channels_chan01_chname': 'clock', 'scaler_channels_chan01_preset': 15000000.0, 'scaler_channels_chan01_gate': 'Y', 'scaler_channels_chan02_chname': 'I0', 'scaler_channels_chan02_preset': 0.0, 'scaler_channels_chan02_gate': 'N', 'scaler_channels_chan03_chname': 'scint', 'scaler_channels_chan03_preset': 0.0, 'scaler_channels_chan03_gate': 'N', 'scaler_channels_chan04_chname': '', 'scaler_channels_chan04_preset': 0.0, 'scaler_channels_chan04_gate': 'N', 'scaler_channels_chan05_chname': '', 'scaler_channels_chan05_preset': 0.0, 'scaler_channels_chan05_gate': 'N', 'scaler_channels_chan06_chname': '', 'scaler_channels_chan06_preset': 0.0, 'scaler_channels_chan06_gate': 'N', 'scaler_channels_chan07_chname': '', 'scaler_channels_chan07_preset': 0.0, 'scaler_channels_chan07_gate': 'N', 'scaler_channels_chan08_chname': '', 'scaler_channels_chan08_preset': 0.0, 'scaler_channels_chan08_gate': 'N', 'scaler_channels_chan09_chname': '', 'scaler_channels_chan09_preset': 0.0, 'scaler_channels_chan09_gate': 'N', 'scaler_channels_chan10_chname': '', 'scaler_channels_chan10_preset': 0.0, 'scaler_channels_chan10_gate': 'N', 'scaler_channels_chan11_chname': '', 'scaler_channels_chan11_preset': 0.0, 'scaler_channels_chan11_gate': 'N', 'scaler_channels_chan12_chname': '', 'scaler_channels_chan12_preset': 0.0, 'scaler_channels_chan12_gate': 'N', 'scaler_channels_chan13_chname': '', 'scaler_channels_chan13_preset': 0.0, 'scaler_channels_chan13_gate': 'N', 'scaler_channels_chan14_chname': '', 'scaler_channels_chan14_preset': 0.0, 'scaler_channels_chan14_gate': 'N', 'scaler_channels_chan15_chname': '', 'scaler_channels_chan15_preset': 0.0, 'scaler_channels_chan15_gate': 'N', 'scaler_channels_chan16_chname': '', 'scaler_channels_chan16_preset': 0.0, 'scaler_channels_chan16_gate': 'N', 'scaler_channels_chan17_chname': '', 'scaler_channels_chan17_preset': 0.0, 'scaler_channels_chan17_gate': 'N', 'scaler_channels_chan18_chname': '', 'scaler_channels_chan18_preset': 0.0, 'scaler_channels_chan18_gate': 'N', 'scaler_channels_chan19_chname': '', 'scaler_channels_chan19_preset': 0.0, 'scaler_channels_chan19_gate': 'N', 'scaler_channels_chan20_chname': '', 'scaler_channels_chan20_preset': 0.0, 'scaler_channels_chan20_gate': 'N', 'scaler_channels_chan21_chname': '', 'scaler_channels_chan21_preset': 0.0, 'scaler_channels_chan21_gate': 'N', 'scaler_channels_chan22_chname': '', 'scaler_channels_chan22_preset': 0.0, 'scaler_channels_chan22_gate': 'N', 'scaler_channels_chan23_chname': '', 'scaler_channels_chan23_preset': 0.0, 'scaler_channels_chan23_gate': 'N', 'scaler_channels_chan24_chname': '', 'scaler_channels_chan24_preset': 0.0, 'scaler_channels_chan24_gate': 'N', 'scaler_channels_chan25_chname': '', 'scaler_channels_chan25_preset': 0.0, 'scaler_channels_chan25_gate': 'N', 'scaler_channels_chan26_chname': '', 'scaler_channels_chan26_preset': 0.0, 'scaler_channels_chan26_gate': 'N', 'scaler_channels_chan27_chname': '', 'scaler_channels_chan27_preset': 0.0, 'scaler_channels_chan27_gate': 'N', 'scaler_channels_chan28_chname': '', 'scaler_channels_chan28_preset': 0.0, 'scaler_channels_chan28_gate': 'N', 'scaler_channels_chan29_chname': '', 'scaler_channels_chan29_preset': 0.0, 'scaler_channels_chan29_gate': 'N', 'scaler_channels_chan30_chname': '', 'scaler_channels_chan30_preset': 0.0, 'scaler_channels_chan30_gate': 'N', 'scaler_channels_chan31_chname': '', 'scaler_channels_chan31_preset': 0.0, 'scaler_channels_chan31_gate': 'N', 'scaler_channels_chan32_chname': '', 'scaler_channels_chan32_preset': 0.0, 'scaler_channels_chan32_gate': 'N', 'scaler_count_mode': 'OneShot', 'scaler_delay': 0.0, 'scaler_auto_count_delay': 0.0, 'scaler_freq': 10000000.0, 'scaler_preset_time': 1.5, 'scaler_auto_count_time': 1.0, 'scaler_egu': ''}, 'timestamps': {'scaler_channels_chan01_chname': 1533136069.75258, 'scaler_channels_chan01_preset': 1533136069.75258, 'scaler_channels_chan01_gate': 1533136069.75258, 'scaler_channels_chan02_chname': 1533136069.75258, 'scaler_channels_chan02_preset': 1533136069.75258, 'scaler_channels_chan02_gate': 1533136069.75258, 'scaler_channels_chan03_chname': 1533136069.75258, 'scaler_channels_chan03_preset': 1533136069.75258, 'scaler_channels_chan03_gate': 1533136069.75258, 'scaler_channels_chan04_chname': 1533136069.75258, 'scaler_channels_chan04_preset': 1533136069.75258, 'scaler_channels_chan04_gate': 1533136069.75258, 'scaler_channels_chan05_chname': 1533136069.75258, 'scaler_channels_chan05_preset': 1533136069.75258, 'scaler_channels_chan05_gate': 1533136069.75258, 'scaler_channels_chan06_chname': 1533136069.75258, 'scaler_channels_chan06_preset': 1533136069.75258, 'scaler_channels_chan06_gate': 1533136069.75258, 'scaler_channels_chan07_chname': 1533136069.75258, 'scaler_channels_chan07_preset': 1533136069.75258, 'scaler_channels_chan07_gate': 1533136069.75258, 'scaler_channels_chan08_chname': 1533136069.75258, 'scaler_channels_chan08_preset': 1533136069.75258, 'scaler_channels_chan08_gate': 1533136069.75258, 'scaler_channels_chan09_chname': 1533136069.75258, 'scaler_channels_chan09_preset': 1533136069.75258, 'scaler_channels_chan09_gate': 1533136069.75258, 'scaler_channels_chan10_chname': 1533136069.75258, 'scaler_channels_chan10_preset': 1533136069.75258, 'scaler_channels_chan10_gate': 1533136069.75258, 'scaler_channels_chan11_chname': 1533136069.75258, 'scaler_channels_chan11_preset': 1533136069.75258, 'scaler_channels_chan11_gate': 1533136069.75258, 'scaler_channels_chan12_chname': 1533136069.75258, 'scaler_channels_chan12_preset': 1533136069.75258, 'scaler_channels_chan12_gate': 1533136069.75258, 'scaler_channels_chan13_chname': 1533136069.75258, 'scaler_channels_chan13_preset': 1533136069.75258, 'scaler_channels_chan13_gate': 1533136069.75258, 'scaler_channels_chan14_chname': 1533136069.75258, 'scaler_channels_chan14_preset': 1533136069.75258, 'scaler_channels_chan14_gate': 1533136069.75258, 'scaler_channels_chan15_chname': 1533136069.75258, 'scaler_channels_chan15_preset': 1533136069.75258, 'scaler_channels_chan15_gate': 1533136069.75258, 'scaler_channels_chan16_chname': 1533136069.75258, 'scaler_channels_chan16_preset': 1533136069.75258, 'scaler_channels_chan16_gate': 1533136069.75258, 'scaler_channels_chan17_chname': 1533136069.75258, 'scaler_channels_chan17_preset': 1533136069.75258, 'scaler_channels_chan17_gate': 1533136069.75258, 'scaler_channels_chan18_chname': 1533136069.75258, 'scaler_channels_chan18_preset': 1533136069.75258, 'scaler_channels_chan18_gate': 1533136069.75258, 'scaler_channels_chan19_chname': 1533136069.75258, 'scaler_channels_chan19_preset': 1533136069.75258, 'scaler_channels_chan19_gate': 1533136069.75258, 'scaler_channels_chan20_chname': 1533136069.75258, 'scaler_channels_chan20_preset': 1533136069.75258, 'scaler_channels_chan20_gate': 1533136069.75258, 'scaler_channels_chan21_chname': 1533136069.75258, 'scaler_channels_chan21_preset': 1533136069.75258, 'scaler_channels_chan21_gate': 1533136069.75258, 'scaler_channels_chan22_chname': 1533136069.75258, 'scaler_channels_chan22_preset': 1533136069.75258, 'scaler_channels_chan22_gate': 1533136069.75258, 'scaler_channels_chan23_chname': 1533136069.75258, 'scaler_channels_chan23_preset': 1533136069.75258, 'scaler_channels_chan23_gate': 1533136069.75258, 'scaler_channels_chan24_chname': 1533136069.75258, 'scaler_channels_chan24_preset': 1533136069.75258, 'scaler_channels_chan24_gate': 1533136069.75258, 'scaler_channels_chan25_chname': 1533136069.75258, 'scaler_channels_chan25_preset': 1533136069.75258, 'scaler_channels_chan25_gate': 1533136069.75258, 'scaler_channels_chan26_chname': 1533136069.75258, 'scaler_channels_chan26_preset': 1533136069.75258, 'scaler_channels_chan26_gate': 1533136069.75258, 'scaler_channels_chan27_chname': 1533136069.75258, 'scaler_channels_chan27_preset': 1533136069.75258, 'scaler_channels_chan27_gate': 1533136069.75258, 'scaler_channels_chan28_chname': 1533136069.75258, 'scaler_channels_chan28_preset': 1533136069.75258, 'scaler_channels_chan28_gate': 1533136069.75258, 'scaler_channels_chan29_chname': 1533136069.75258, 'scaler_channels_chan29_preset': 1533136069.75258, 'scaler_channels_chan29_gate': 1533136069.75258, 'scaler_channels_chan30_chname': 1533136069.75258, 'scaler_channels_chan30_preset': 1533136069.75258, 'scaler_channels_chan30_gate': 1533136069.75258, 'scaler_channels_chan31_chname': 1533136069.75258, 'scaler_channels_chan31_preset': 1533136069.75258, 'scaler_channels_chan31_gate': 1533136069.75258, 'scaler_channels_chan32_chname': 1533136069.75258, 'scaler_channels_chan32_preset': 1533136069.75258, 'scaler_channels_chan32_gate': 1533136069.75258, 'scaler_count_mode': 1533136069.75258, 'scaler_delay': 1533136069.75258, 'scaler_auto_count_delay': 1533136069.75258, 'scaler_freq': 1533136069.75258, 'scaler_preset_time': 1533136069.75258, 'scaler_auto_count_time': 1533136069.75258, 'scaler_egu': 1533136069.75258}, 'data_keys': OrderedDict([('scaler_channels_chan01_chname', {'source': 'PV:prj:scaler1.NM1', 'dtype': 'string', 'shape': [], 'units': None, 'lower_ctrl_limit': None, 'upper_ctrl_limit': None}), ('scaler_channels_chan01_preset', {'source': 'PV:prj:scaler1.PR1', 'dtype': 'number', 'shape': [], 'precision': 0, 'units': '', 'lower_ctrl_limit': 0.0, 'upper_ctrl_limit': 0.0}), ('scaler_channels_chan01_gate', {'source': 'PV:prj:scaler1.G1', 'dtype': 'string', 'shape': [], 'units': None, 'lower_ctrl_limit': None, 'upper_ctrl_limit': None, 'enum_strs': ['N', 'Y']}), ('scaler_channels_chan02_chname', {'source': 'PV:prj:scaler1.NM2', 'dtype': 'string', 'shape': [], 'units': None, 'lower_ctrl_limit': None, 'upper_ctrl_limit': None}), ('scaler_channels_chan02_preset', {'source': 'PV:prj:scaler1.PR2', 'dtype': 'number', 'shape': [], 'precision': 0, 'units': '', 'lower_ctrl_limit': 0.0, 'upper_ctrl_limit': 0.0}), ('scaler_channels_chan02_gate', {'source': 'PV:prj:scaler1.G2', 'dtype': 'string', 'shape': [], 'units': None, 'lower_ctrl_limit': None, 'upper_ctrl_limit': None, 'enum_strs': ['N', 'Y']}), ('scaler_channels_chan03_chname', {'source': 'PV:prj:scaler1.NM3', 'dtype': 'string', 'shape': [], 'units': None, 'lower_ctrl_limit': None, 'upper_ctrl_limit': None}), ('scaler_channels_chan03_preset', {'source': 'PV:prj:scaler1.PR3', 'dtype': 'number', 'shape': [], 'precision': 0, 'units': '', 'lower_ctrl_limit': 0.0, 'upper_ctrl_limit': 0.0}), ('scaler_channels_chan03_gate', {'source': 'PV:prj:scaler1.G3', 'dtype': 'string', 'shape': [], 'units': None, 'lower_ctrl_limit': None, 'upper_ctrl_limit': None, 'enum_strs': ['N', 'Y']}), ('scaler_channels_chan04_chname', {'source': 'PV:prj:scaler1.NM4', 'dtype': 'string', 'shape': [], 'units': None, 'lower_ctrl_limit': None, 'upper_ctrl_limit': None}), ('scaler_channels_chan04_preset', {'source': 'PV:prj:scaler1.PR4', 'dtype': 'number', 'shape': [], 'precision': 0, 'units': '', 'lower_ctrl_limit': 0.0, 'upper_ctrl_limit': 0.0}), ('scaler_channels_chan04_gate', {'source': 'PV:prj:scaler1.G4', 'dtype': 'string', 'shape': [], 'units': None, 'lower_ctrl_limit': None, 'upper_ctrl_limit': None, 'enum_strs': ['N', 'Y']}), ('scaler_channels_chan05_chname', {'source': 'PV:prj:scaler1.NM5', 'dtype': 'string', 'shape': [], 'units': None, 'lower_ctrl_limit': None, 'upper_ctrl_limit': None}), ('scaler_channels_chan05_preset', {'source': 'PV:prj:scaler1.PR5', 'dtype': 'number', 'shape': [], 'precision': 0, 'units': '', 'lower_ctrl_limit': 0.0, 'upper_ctrl_limit': 0.0}), ('scaler_channels_chan05_gate', {'source': 'PV:prj:scaler1.G5', 'dtype': 'string', 'shape': [], 'units': None, 'lower_ctrl_limit': None, 'upper_ctrl_limit': None, 'enum_strs': ['N', 'Y']}), ('scaler_channels_chan06_chname', {'source': 'PV:prj:scaler1.NM6', 'dtype': 'string', 'shape': [], 'units': None, 'lower_ctrl_limit': None, 'upper_ctrl_limit': None}), ('scaler_channels_chan06_preset', {'source': 'PV:prj:scaler1.PR6', 'dtype': 'number', 'shape': [], 'precision': 0, 'units': '', 'lower_ctrl_limit': 0.0, 'upper_ctrl_limit': 0.0}), ('scaler_channels_chan06_gate', {'source': 'PV:prj:scaler1.G6', 'dtype': 'string', 'shape': [], 'units': None, 'lower_ctrl_limit': None, 'upper_ctrl_limit': None, 'enum_strs': ['N', 'Y']}), ('scaler_channels_chan07_chname', {'source': 'PV:prj:scaler1.NM7', 'dtype': 'string', 'shape': [], 'units': None, 'lower_ctrl_limit': None, 'upper_ctrl_limit': None}), ('scaler_channels_chan07_preset', {'source': 'PV:prj:scaler1.PR7', 'dtype': 'number', 'shape': [], 'precision': 0, 'units': '', 'lower_ctrl_limit': 0.0, 'upper_ctrl_limit': 0.0}), ('scaler_channels_chan07_gate', {'source': 'PV:prj:scaler1.G7', 'dtype': 'string', 'shape': [], 'units': None, 'lower_ctrl_limit': None, 'upper_ctrl_limit': None, 'enum_strs': ['N', 'Y']}), ('scaler_channels_chan08_chname', {'source': 'PV:prj:scaler1.NM8', 'dtype': 'string', 'shape': [], 'units': None, 'lower_ctrl_limit': None, 'upper_ctrl_limit': None}), ('scaler_channels_chan08_preset', {'source': 'PV:prj:scaler1.PR8', 'dtype': 'number', 'shape': [], 'precision': 0, 'units': '', 'lower_ctrl_limit': 0.0, 'upper_ctrl_limit': 0.0}), ('scaler_channels_chan08_gate', {'source': 'PV:prj:scaler1.G8', 'dtype': 'string', 'shape': [], 'units': None, 'lower_ctrl_limit': None, 'upper_ctrl_limit': None, 'enum_strs': ['N', 'Y']}), ('scaler_channels_chan09_chname', {'source': 'PV:prj:scaler1.NM9', 'dtype': 'string', 'shape': [], 'units': None, 'lower_ctrl_limit': None, 'upper_ctrl_limit': None}), ('scaler_channels_chan09_preset', {'source': 'PV:prj:scaler1.PR9', 'dtype': 'number', 'shape': [], 'precision': 0, 'units': '', 'lower_ctrl_limit': 0.0, 'upper_ctrl_limit': 0.0}), ('scaler_channels_chan09_gate', {'source': 'PV:prj:scaler1.G9', 'dtype': 'string', 'shape': [], 'units': None, 'lower_ctrl_limit': None, 'upper_ctrl_limit': None, 'enum_strs': ['N', 'Y']}), ('scaler_channels_chan10_chname', {'source': 'PV:prj:scaler1.NM10', 'dtype': 'string', 'shape': [], 'units': None, 'lower_ctrl_limit': None, 'upper_ctrl_limit': None}), ('scaler_channels_chan10_preset', {'source': 'PV:prj:scaler1.PR10', 'dtype': 'number', 'shape': [], 'precision': 0, 'units': '', 'lower_ctrl_limit': 0.0, 'upper_ctrl_limit': 0.0}), ('scaler_channels_chan10_gate', {'source': 'PV:prj:scaler1.G10', 'dtype': 'string', 'shape': [], 'units': None, 'lower_ctrl_limit': None, 'upper_ctrl_limit': None, 'enum_strs': ['N', 'Y']}), ('scaler_channels_chan11_chname', {'source': 'PV:prj:scaler1.NM11', 'dtype': 'string', 'shape': [], 'units': None, 'lower_ctrl_limit': None, 'upper_ctrl_limit': None}), ('scaler_channels_chan11_preset', {'source': 'PV:prj:scaler1.PR11', 'dtype': 'number', 'shape': [], 'precision': 0, 'units': '', 'lower_ctrl_limit': 0.0, 'upper_ctrl_limit': 0.0}), ('scaler_channels_chan11_gate', {'source': 'PV:prj:scaler1.G11', 'dtype': 'string', 'shape': [], 'units': None, 'lower_ctrl_limit': None, 'upper_ctrl_limit': None, 'enum_strs': ['N', 'Y']}), ('scaler_channels_chan12_chname', {'source': 'PV:prj:scaler1.NM12', 'dtype': 'string', 'shape': [], 'units': None, 'lower_ctrl_limit': None, 'upper_ctrl_limit': None}), ('scaler_channels_chan12_preset', {'source': 'PV:prj:scaler1.PR12', 'dtype': 'number', 'shape': [], 'precision': 0, 'units': '', 'lower_ctrl_limit': 0.0, 'upper_ctrl_limit': 0.0}), ('scaler_channels_chan12_gate', {'source': 'PV:prj:scaler1.G12', 'dtype': 'string', 'shape': [], 'units': None, 'lower_ctrl_limit': None, 'upper_ctrl_limit': None, 'enum_strs': ['N', 'Y']}), ('scaler_channels_chan13_chname', {'source': 'PV:prj:scaler1.NM13', 'dtype': 'string', 'shape': [], 'units': None, 'lower_ctrl_limit': None, 'upper_ctrl_limit': None}), ('scaler_channels_chan13_preset', {'source': 'PV:prj:scaler1.PR13', 'dtype': 'number', 'shape': [], 'precision': 0, 'units': '', 'lower_ctrl_limit': 0.0, 'upper_ctrl_limit': 0.0}), ('scaler_channels_chan13_gate', {'source': 'PV:prj:scaler1.G13', 'dtype': 'string', 'shape': [], 'units': None, 'lower_ctrl_limit': None, 'upper_ctrl_limit': None, 'enum_strs': ['N', 'Y']}), ('scaler_channels_chan14_chname', {'source': 'PV:prj:scaler1.NM14', 'dtype': 'string', 'shape': [], 'units': None, 'lower_ctrl_limit': None, 'upper_ctrl_limit': None}), ('scaler_channels_chan14_preset', {'source': 'PV:prj:scaler1.PR14', 'dtype': 'number', 'shape': [], 'precision': 0, 'units': '', 'lower_ctrl_limit': 0.0, 'upper_ctrl_limit': 0.0}), ('scaler_channels_chan14_gate', {'source': 'PV:prj:scaler1.G14', 'dtype': 'string', 'shape': [], 'units': None, 'lower_ctrl_limit': None, 'upper_ctrl_limit': None, 'enum_strs': ['N', 'Y']}), ('scaler_channels_chan15_chname', {'source': 'PV:prj:scaler1.NM15', 'dtype': 'string', 'shape': [], 'units': None, 'lower_ctrl_limit': None, 'upper_ctrl_limit': None}), ('scaler_channels_chan15_preset', {'source': 'PV:prj:scaler1.PR15', 'dtype': 'number', 'shape': [], 'precision': 0, 'units': '', 'lower_ctrl_limit': 0.0, 'upper_ctrl_limit': 0.0}), ('scaler_channels_chan15_gate', {'source': 'PV:prj:scaler1.G15', 'dtype': 'string', 'shape': [], 'units': None, 'lower_ctrl_limit': None, 'upper_ctrl_limit': None, 'enum_strs': ['N', 'Y']}), ('scaler_channels_chan16_chname', {'source': 'PV:prj:scaler1.NM16', 'dtype': 'string', 'shape': [], 'units': None, 'lower_ctrl_limit': None, 'upper_ctrl_limit': None}), ('scaler_channels_chan16_preset', {'source': 'PV:prj:scaler1.PR16', 'dtype': 'number', 'shape': [], 'precision': 0, 'units': '', 'lower_ctrl_limit': 0.0, 'upper_ctrl_limit': 0.0}), ('scaler_channels_chan16_gate', {'source': 'PV:prj:scaler1.G16', 'dtype': 'string', 'shape': [], 'units': None, 'lower_ctrl_limit': None, 'upper_ctrl_limit': None, 'enum_strs': ['N', 'Y']}), ('scaler_channels_chan17_chname', {'source': 'PV:prj:scaler1.NM17', 'dtype': 'string', 'shape': [], 'units': None, 'lower_ctrl_limit': None, 'upper_ctrl_limit': None}), ('scaler_channels_chan17_preset', {'source': 'PV:prj:scaler1.PR17', 'dtype': 'number', 'shape': [], 'precision': 0, 'units': '', 'lower_ctrl_limit': 0.0, 'upper_ctrl_limit': 0.0}), ('scaler_channels_chan17_gate', {'source': 'PV:prj:scaler1.G17', 'dtype': 'string', 'shape': [], 'units': None, 'lower_ctrl_limit': None, 'upper_ctrl_limit': None, 'enum_strs': ['N', 'Y']}), ('scaler_channels_chan18_chname', {'source': 'PV:prj:scaler1.NM18', 'dtype': 'string', 'shape': [], 'units': None, 'lower_ctrl_limit': None, 'upper_ctrl_limit': None}), ('scaler_channels_chan18_preset', {'source': 'PV:prj:scaler1.PR18', 'dtype': 'number', 'shape': [], 'precision': 0, 'units': '', 'lower_ctrl_limit': 0.0, 'upper_ctrl_limit': 0.0}), ('scaler_channels_chan18_gate', {'source': 'PV:prj:scaler1.G18', 'dtype': 'string', 'shape': [], 'units': None, 'lower_ctrl_limit': None, 'upper_ctrl_limit': None, 'enum_strs': ['N', 'Y']}), ('scaler_channels_chan19_chname', {'source': 'PV:prj:scaler1.NM19', 'dtype': 'string', 'shape': [], 'units': None, 'lower_ctrl_limit': None, 'upper_ctrl_limit': None}), ('scaler_channels_chan19_preset', {'source': 'PV:prj:scaler1.PR19', 'dtype': 'number', 'shape': [], 'precision': 0, 'units': '', 'lower_ctrl_limit': 0.0, 'upper_ctrl_limit': 0.0}), ('scaler_channels_chan19_gate', {'source': 'PV:prj:scaler1.G19', 'dtype': 'string', 'shape': [], 'units': None, 'lower_ctrl_limit': None, 'upper_ctrl_limit': None, 'enum_strs': ['N', 'Y']}), ('scaler_channels_chan20_chname', {'source': 'PV:prj:scaler1.NM20', 'dtype': 'string', 'shape': [], 'units': None, 'lower_ctrl_limit': None, 'upper_ctrl_limit': None}), ('scaler_channels_chan20_preset', {'source': 'PV:prj:scaler1.PR20', 'dtype': 'number', 'shape': [], 'precision': 0, 'units': '', 'lower_ctrl_limit': 0.0, 'upper_ctrl_limit': 0.0}), ('scaler_channels_chan20_gate', {'source': 'PV:prj:scaler1.G20', 'dtype': 'string', 'shape': [], 'units': None, 'lower_ctrl_limit': None, 'upper_ctrl_limit': None, 'enum_strs': ['N', 'Y']}), ('scaler_channels_chan21_chname', {'source': 'PV:prj:scaler1.NM21', 'dtype': 'string', 'shape': [], 'units': None, 'lower_ctrl_limit': None, 'upper_ctrl_limit': None}), ('scaler_channels_chan21_preset', {'source': 'PV:prj:scaler1.PR21', 'dtype': 'number', 'shape': [], 'precision': 0, 'units': '', 'lower_ctrl_limit': 0.0, 'upper_ctrl_limit': 0.0}), ('scaler_channels_chan21_gate', {'source': 'PV:prj:scaler1.G21', 'dtype': 'string', 'shape': [], 'units': None, 'lower_ctrl_limit': None, 'upper_ctrl_limit': None, 'enum_strs': ['N', 'Y']}), ('scaler_channels_chan22_chname', {'source': 'PV:prj:scaler1.NM22', 'dtype': 'string', 'shape': [], 'units': None, 'lower_ctrl_limit': None, 'upper_ctrl_limit': None}), ('scaler_channels_chan22_preset', {'source': 'PV:prj:scaler1.PR22', 'dtype': 'number', 'shape': [], 'precision': 0, 'units': '', 'lower_ctrl_limit': 0.0, 'upper_ctrl_limit': 0.0}), ('scaler_channels_chan22_gate', {'source': 'PV:prj:scaler1.G22', 'dtype': 'string', 'shape': [], 'units': None, 'lower_ctrl_limit': None, 'upper_ctrl_limit': None, 'enum_strs': ['N', 'Y']}), ('scaler_channels_chan23_chname', {'source': 'PV:prj:scaler1.NM23', 'dtype': 'string', 'shape': [], 'units': None, 'lower_ctrl_limit': None, 'upper_ctrl_limit': None}), ('scaler_channels_chan23_preset', {'source': 'PV:prj:scaler1.PR23', 'dtype': 'number', 'shape': [], 'precision': 0, 'units': '', 'lower_ctrl_limit': 0.0, 'upper_ctrl_limit': 0.0}), ('scaler_channels_chan23_gate', {'source': 'PV:prj:scaler1.G23', 'dtype': 'string', 'shape': [], 'units': None, 'lower_ctrl_limit': None, 'upper_ctrl_limit': None, 'enum_strs': ['N', 'Y']}), ('scaler_channels_chan24_chname', {'source': 'PV:prj:scaler1.NM24', 'dtype': 'string', 'shape': [], 'units': None, 'lower_ctrl_limit': None, 'upper_ctrl_limit': None}), ('scaler_channels_chan24_preset', {'source': 'PV:prj:scaler1.PR24', 'dtype': 'number', 'shape': [], 'precision': 0, 'units': '', 'lower_ctrl_limit': 0.0, 'upper_ctrl_limit': 0.0}), ('scaler_channels_chan24_gate', {'source': 'PV:prj:scaler1.G24', 'dtype': 'string', 'shape': [], 'units': None, 'lower_ctrl_limit': None, 'upper_ctrl_limit': None, 'enum_strs': ['N', 'Y']}), ('scaler_channels_chan25_chname', {'source': 'PV:prj:scaler1.NM25', 'dtype': 'string', 'shape': [], 'units': None, 'lower_ctrl_limit': None, 'upper_ctrl_limit': None}), ('scaler_channels_chan25_preset', {'source': 'PV:prj:scaler1.PR25', 'dtype': 'number', 'shape': [], 'precision': 0, 'units': '', 'lower_ctrl_limit': 0.0, 'upper_ctrl_limit': 0.0}), ('scaler_channels_chan25_gate', {'source': 'PV:prj:scaler1.G25', 'dtype': 'string', 'shape': [], 'units': None, 'lower_ctrl_limit': None, 'upper_ctrl_limit': None, 'enum_strs': ['N', 'Y']}), ('scaler_channels_chan26_chname', {'source': 'PV:prj:scaler1.NM26', 'dtype': 'string', 'shape': [], 'units': None, 'lower_ctrl_limit': None, 'upper_ctrl_limit': None}), ('scaler_channels_chan26_preset', {'source': 'PV:prj:scaler1.PR26', 'dtype': 'number', 'shape': [], 'precision': 0, 'units': '', 'lower_ctrl_limit': 0.0, 'upper_ctrl_limit': 0.0}), ('scaler_channels_chan26_gate', {'source': 'PV:prj:scaler1.G26', 'dtype': 'string', 'shape': [], 'units': None, 'lower_ctrl_limit': None, 'upper_ctrl_limit': None, 'enum_strs': ['N', 'Y']}), ('scaler_channels_chan27_chname', {'source': 'PV:prj:scaler1.NM27', 'dtype': 'string', 'shape': [], 'units': None, 'lower_ctrl_limit': None, 'upper_ctrl_limit': None}), ('scaler_channels_chan27_preset', {'source': 'PV:prj:scaler1.PR27', 'dtype': 'number', 'shape': [], 'precision': 0, 'units': '', 'lower_ctrl_limit': 0.0, 'upper_ctrl_limit': 0.0}), ('scaler_channels_chan27_gate', {'source': 'PV:prj:scaler1.G27', 'dtype': 'string', 'shape': [], 'units': None, 'lower_ctrl_limit': None, 'upper_ctrl_limit': None, 'enum_strs': ['N', 'Y']}), ('scaler_channels_chan28_chname', {'source': 'PV:prj:scaler1.NM28', 'dtype': 'string', 'shape': [], 'units': None, 'lower_ctrl_limit': None, 'upper_ctrl_limit': None}), ('scaler_channels_chan28_preset', {'source': 'PV:prj:scaler1.PR28', 'dtype': 'number', 'shape': [], 'precision': 0, 'units': '', 'lower_ctrl_limit': 0.0, 'upper_ctrl_limit': 0.0}), ('scaler_channels_chan28_gate', {'source': 'PV:prj:scaler1.G28', 'dtype': 'string', 'shape': [], 'units': None, 'lower_ctrl_limit': None, 'upper_ctrl_limit': None, 'enum_strs': ['N', 'Y']}), ('scaler_channels_chan29_chname', {'source': 'PV:prj:scaler1.NM29', 'dtype': 'string', 'shape': [], 'units': None, 'lower_ctrl_limit': None, 'upper_ctrl_limit': None}), ('scaler_channels_chan29_preset', {'source': 'PV:prj:scaler1.PR29', 'dtype': 'number', 'shape': [], 'precision': 0, 'units': '', 'lower_ctrl_limit': 0.0, 'upper_ctrl_limit': 0.0}), ('scaler_channels_chan29_gate', {'source': 'PV:prj:scaler1.G29', 'dtype': 'string', 'shape': [], 'units': None, 'lower_ctrl_limit': None, 'upper_ctrl_limit': None, 'enum_strs': ['N', 'Y']}), ('scaler_channels_chan30_chname', {'source': 'PV:prj:scaler1.NM30', 'dtype': 'string', 'shape': [], 'units': None, 'lower_ctrl_limit': None, 'upper_ctrl_limit': None}), ('scaler_channels_chan30_preset', {'source': 'PV:prj:scaler1.PR30', 'dtype': 'number', 'shape': [], 'precision': 0, 'units': '', 'lower_ctrl_limit': 0.0, 'upper_ctrl_limit': 0.0}), ('scaler_channels_chan30_gate', {'source': 'PV:prj:scaler1.G30', 'dtype': 'string', 'shape': [], 'units': None, 'lower_ctrl_limit': None, 'upper_ctrl_limit': None, 'enum_strs': ['N', 'Y']}), ('scaler_channels_chan31_chname', {'source': 'PV:prj:scaler1.NM31', 'dtype': 'string', 'shape': [], 'units': None, 'lower_ctrl_limit': None, 'upper_ctrl_limit': None}), ('scaler_channels_chan31_preset', {'source': 'PV:prj:scaler1.PR31', 'dtype': 'number', 'shape': [], 'precision': 0, 'units': '', 'lower_ctrl_limit': 0.0, 'upper_ctrl_limit': 0.0}), ('scaler_channels_chan31_gate', {'source': 'PV:prj:scaler1.G31', 'dtype': 'string', 'shape': [], 'units': None, 'lower_ctrl_limit': None, 'upper_ctrl_limit': None, 'enum_strs': ['N', 'Y']}), ('scaler_channels_chan32_chname', {'source': 'PV:prj:scaler1.NM32', 'dtype': 'string', 'shape': [], 'units': None, 'lower_ctrl_limit': None, 'upper_ctrl_limit': None}), ('scaler_channels_chan32_preset', {'source': 'PV:prj:scaler1.PR32', 'dtype': 'number', 'shape': [], 'precision': 0, 'units': '', 'lower_ctrl_limit': 0.0, 'upper_ctrl_limit': 0.0}), ('scaler_channels_chan32_gate', {'source': 'PV:prj:scaler1.G32', 'dtype': 'string', 'shape': [], 'units': None, 'lower_ctrl_limit': None, 'upper_ctrl_limit': None, 'enum_strs': ['N', 'Y']}), ('scaler_count_mode', {'source': 'PV:prj:scaler1.CONT', 'dtype': 'string', 'shape': [], 'units': None, 'lower_ctrl_limit': None, 'upper_ctrl_limit': None, 'enum_strs': ['OneShot', 'AutoCount']}), ('scaler_delay', {'source': 'PV:prj:scaler1.DLY', 'dtype': 'number', 'shape': [], 'precision': 3, 'units': '', 'lower_ctrl_limit': 0.0, 'upper_ctrl_limit': 0.0}), ('scaler_auto_count_delay', {'source': 'PV:prj:scaler1.DLY1', 'dtype': 'number', 'shape': [], 'precision': 3, 'units': '', 'lower_ctrl_limit': 0.0, 'upper_ctrl_limit': 0.0}), ('scaler_freq', {'source': 'PV:prj:scaler1.FREQ', 'dtype': 'number', 'shape': [], 'precision': 3, 'units': '', 'lower_ctrl_limit': 0.0, 'upper_ctrl_limit': 0.0}), ('scaler_preset_time', {'source': 'PV:prj:scaler1.TP', 'dtype': 'number', 'shape': [], 'precision': 3, 'units': '', 'lower_ctrl_limit': 0.0, 'upper_ctrl_limit': 0.0}), ('scaler_auto_count_time', {'source': 'PV:prj:scaler1.TP1', 'dtype': 'number', 'shape': [], 'precision': 3, 'units': '', 'lower_ctrl_limit': 0.0, 'upper_ctrl_limit': 0.0}), ('scaler_egu', {'source': 'PV:prj:scaler1.EGU', 'dtype': 'string', 'shape': [], 'units': None, 'lower_ctrl_limit': None, 'upper_ctrl_limit': None})])}}\n",
      "\t name primary\n",
      "\t hints {'m1': {'fields': ['m1']}, 'scaler': {'fields': ['clock', 'I0', 'scint']}}\n",
      "\t object_keys {'m1': ['m1', 'm1_user_setpoint'], 'scaler': ['clock', 'I0', 'scint', 'scaler_time']}\n",
      "event 7\n",
      "\t descriptor 2d2646de-00ce-45ec-95e6-29d561de7c33\n",
      "\t time 1533136069.9411902\n",
      "\t data {'clock': 16000000.0, 'I0': 7.0, 'scint': 8.0, 'scaler_time': 1.6, 'm1': -1.0, 'm1_user_setpoint': -1.0}\n",
      "\t timestamps {'clock': 1533136069.75258, 'I0': 1533136069.75258, 'scint': 1533136069.75258, 'scaler_time': 1533136069.75258, 'm1': 1533136068.027975, 'm1_user_setpoint': 1533136068.128114}\n",
      "\t seq_num 1\n",
      "\t uid 880fa6bf-a3e5-4a6e-9cb7-a3ab060f6999\n",
      "\t filled {}\n"
     ]
    },
    {
     "name": "stdout",
     "output_type": "stream",
     "text": [
      "event 7\n",
      "\t descriptor 2d2646de-00ce-45ec-95e6-29d561de7c33\n",
      "\t time 1533136072.3648005\n",
      "\t data {'clock': 16000000.0, 'I0': 9.0, 'scint': 11.0, 'scaler_time': 1.6, 'm1': -0.5, 'm1_user_setpoint': -0.5}\n",
      "\t timestamps {'clock': 1533136072.361659, 'I0': 1533136072.361659, 'scint': 1533136072.361659, 'scaler_time': 1533136072.361659, 'm1': 1533136070.638063, 'm1_user_setpoint': 1533136070.738179}\n",
      "\t seq_num 2\n",
      "\t uid 6fa8e95f-81c6-42c0-8cba-9d9aaad020d7\n",
      "\t filled {}\n",
      "event 7\n",
      "\t descriptor 2d2646de-00ce-45ec-95e6-29d561de7c33\n",
      "\t time 1533136074.7777252\n",
      "\t data {'clock': 16000000.0, 'I0': 8.0, 'scint': 8.0, 'scaler_time': 1.6, 'm1': 0.0, 'm1_user_setpoint': 0.0}\n",
      "\t timestamps {'clock': 1533136074.767317, 'I0': 1533136074.767317, 'scint': 1533136074.767317, 'scaler_time': 1533136074.767317, 'm1': 1533136073.046235, 'm1_user_setpoint': 1533136073.14629}\n",
      "\t seq_num 3\n",
      "\t uid edb53847-3370-4c9a-9a6f-06cb7fbbf14e\n",
      "\t filled {}\n",
      "event 7\n",
      "\t descriptor 2d2646de-00ce-45ec-95e6-29d561de7c33\n",
      "\t time 1533136077.2726357\n",
      "\t data {'clock': 16000000.0, 'I0': 6.0, 'scint': 7.0, 'scaler_time': 1.6, 'm1': 0.5, 'm1_user_setpoint': 0.5}\n",
      "\t timestamps {'clock': 1533136077.26929, 'I0': 1533136077.26929, 'scint': 1533136077.26929, 'scaler_time': 1533136077.26929, 'm1': 1533136075.451613, 'm1_user_setpoint': 1533136075.552208}\n",
      "\t seq_num 4\n",
      "\t uid 69437573-7228-4d56-836a-3266657b57e3\n",
      "\t filled {}\n",
      "event 7\n",
      "\t descriptor 2d2646de-00ce-45ec-95e6-29d561de7c33\n",
      "\t time 1533136079.7789485\n",
      "\t data {'clock': 16000000.0, 'I0': 8.0, 'scint': 7.0, 'scaler_time': 1.6, 'm1': 1.0, 'm1_user_setpoint': 1.0}\n",
      "\t timestamps {'clock': 1533136079.775636, 'I0': 1533136079.775636, 'scint': 1533136079.775636, 'scaler_time': 1533136079.775636, 'm1': 1533136077.958072, 'm1_user_setpoint': 1533136078.058121}\n",
      "\t seq_num 5\n",
      "\t uid b8148095-c4c6-4e91-b55a-bf46e5950120\n",
      "\t filled {}\n",
      "stop 6\n",
      "\t run_start e6682f39-0f4e-42a0-8efe-87b185e46e7a\n",
      "\t time 1533136079.7825956\n",
      "\t uid 78b7c6e6-fef7-4dc0-8d84-d18a024177a7\n",
      "\t exit_status success\n",
      "\t reason \n",
      "\t num_events {'primary': 5}\n"
     ]
    },
    {
     "data": {
      "text/plain": [
       "('e6682f39-0f4e-42a0-8efe-87b185e46e7a',)"
      ]
     },
     "execution_count": 9,
     "metadata": {},
     "output_type": "execute_result"
    }
   ],
   "source": [
    "RE(bp.scan([scaler], m1, -1, 1, 5), myCallback)"
   ]
  },
  {
   "cell_type": "markdown",
   "metadata": {},
   "source": [
    "# Summary\n",
    "\n",
    "We'll show this code as a python program:\n",
    "\n",
    "```\n",
    "#!/APSshare/anaconda3/BlueSky/bin/python\n",
    "\n",
    "\"lesson 2: motor\"\n",
    "\n",
    "from ophyd import EpicsMotor\n",
    "from ophyd.scaler import ScalerCH\n",
    "from bluesky import RunEngine\n",
    "import bluesky.plans as bp\n",
    "from APS_BlueSky_tools.devices import use_EPICS_scaler_channels\n",
    "\n",
    "\n",
    "def myCallback(key, doc):\n",
    "    print(key, len(doc))\n",
    "    for k, v in doc.items():\n",
    "        print(\"\\t\", k, v)\n",
    "    print(\"~~~~~~~~~~~~~~~~~\")\n",
    "\n",
    "\n",
    "m1 = EpicsMotor(\"prj:m1\", name=\"m1\")\n",
    "print(m1.position)\n",
    "\n",
    "scaler = ScalerCH(\"prj:scaler1\", name=\"scaler\")\n",
    "\n",
    "\n",
    "# Since there are no detectors actually connected to this scaler,\n",
    "# we can change names at our choice.  A real scaler will have\n",
    "# detectors connected to specific channels and we should not modify\n",
    "# these names without regard to how signals are physically connected.\n",
    "scaler.channels.chan01.chname.put(\"clock\")\n",
    "scaler.channels.chan02.chname.put(\"I0\")\n",
    "scaler.channels.chan03.chname.put(\"scint\")\n",
    "scaler.channels.chan04.chname.put(\"\")\n",
    "scaler.channels.chan05.chname.put(\"\")\n",
    "scaler.channels.chan06.chname.put(\"\")\n",
    "scaler.channels.chan07.chname.put(\"\")\n",
    "scaler.channels.chan08.chname.put(\"\")\n",
    "scaler.channels.chan09.chname.put(\"\")\n",
    "\n",
    "\n",
    "scaler.match_names()\n",
    "use_EPICS_scaler_channels(scaler)\n",
    "print(scaler.read())\n",
    "\n",
    "RE = RunEngine({})\n",
    "\n",
    "RE(bp.scan([scaler], m1, -1, 1, 5))\n",
    "\n",
    "RE(bp.scan([scaler], m1, -1, 1, 5), myCallback)\n",
    "```"
   ]
  }
 ],
 "metadata": {
  "kernelspec": {
   "display_name": "Python 3",
   "language": "python",
   "name": "python3"
  },
  "language_info": {
   "codemirror_mode": {
    "name": "ipython",
    "version": 3
   },
   "file_extension": ".py",
   "mimetype": "text/x-python",
   "name": "python",
   "nbconvert_exporter": "python",
   "pygments_lexer": "ipython3",
   "version": "3.6.6"
  }
 },
 "nbformat": 4,
 "nbformat_minor": 2
}
