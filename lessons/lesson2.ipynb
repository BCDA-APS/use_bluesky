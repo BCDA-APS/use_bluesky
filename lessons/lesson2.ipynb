{
 "cells": [
  {
   "cell_type": "markdown",
   "metadata": {},
   "source": [
    "# Lesson 2 - motor and scan\n",
    "\n",
    "In this lesson, we'll work with a motor (for precise positioning) in [Bluesky](http://nsls-ii.github.io/bluesky/) and [related tools](http://nsls-ii.github.io/).\n",
    "\n",
    "First, we'll connect with an EPICS motor (using [ophyd](http://nsls-ii.github.io/ophyd/)), and then use the Bluesky software to scan the motor (with the scaler from [lesson 1](lesson1.ipynb)).\n",
    "\n",
    "Load `ophyd` device support for the `EpicsMotor` and connect with one EPICS motor channel.  We have a synApps (v6.1) XXX-style IOC with the prefix `sky:`. It has a scaler, 16 soft channel motors, and some other support we'll ignore in this lesson."
   ]
  },
  {
   "cell_type": "code",
   "execution_count": 1,
   "metadata": {},
   "outputs": [],
   "source": [
    "from ophyd import EpicsMotor\n",
    "m1 = EpicsMotor(\"sky:m1\", name=\"m1\")\n",
    "m1.wait_for_connection()"
   ]
  },
  {
   "cell_type": "markdown",
   "metadata": {},
   "source": [
    "Show the current value fo the motor (that's the `.RBV` field, in case you were interested)."
   ]
  },
  {
   "cell_type": "code",
   "execution_count": 2,
   "metadata": {},
   "outputs": [
    {
     "data": {
      "text/plain": [
       "1.0"
      ]
     },
     "execution_count": 2,
     "metadata": {},
     "output_type": "execute_result"
    }
   ],
   "source": [
    "m1.position"
   ]
  },
  {
   "cell_type": "markdown",
   "metadata": {},
   "source": [
    "Connect the scaler (as was done in lesson 1).  Define some of the chaannel names and clear out others."
   ]
  },
  {
   "cell_type": "code",
   "execution_count": 3,
   "metadata": {},
   "outputs": [],
   "source": [
    "from ophyd.scaler import ScalerCH\n",
    "scaler = ScalerCH(\"sky:scaler1\", name=\"scaler\")\n",
    "scaler.wait_for_connection()\n",
    "\n",
    "# Since there are no detectors actually connected to this scaler,\n",
    "# we can change names at our choice.  A real scaler will have\n",
    "# detectors connected to specific channels and we should not modify\n",
    "# these names without regard to how signals are physically connected.\n",
    "scaler.channels.chan01.chname.put(\"clock\")\n",
    "scaler.channels.chan02.chname.put(\"I0\")\n",
    "scaler.channels.chan03.chname.put(\"scint\")\n",
    "scaler.channels.chan04.chname.put(\"\")\n",
    "scaler.channels.chan05.chname.put(\"\")\n",
    "scaler.channels.chan06.chname.put(\"\")\n",
    "scaler.channels.chan07.chname.put(\"\")\n",
    "scaler.channels.chan08.chname.put(\"\")\n",
    "scaler.channels.chan09.chname.put(\"\")"
   ]
  },
  {
   "cell_type": "markdown",
   "metadata": {},
   "source": [
    "Use only the channels with EPICS names, those are the *interesting* channels."
   ]
  },
  {
   "cell_type": "code",
   "execution_count": 4,
   "metadata": {},
   "outputs": [
    {
     "data": {
      "text/plain": [
       "OrderedDict([('clock', {'value': 16000000.0, 'timestamp': 1587536229.321474}),\n",
       "             ('I0', {'value': 8.0, 'timestamp': 1587536229.321474}),\n",
       "             ('scint', {'value': 7.0, 'timestamp': 1587536229.321474}),\n",
       "             ('scaler_time', {'value': 1.6, 'timestamp': 1587536229.321474})])"
      ]
     },
     "execution_count": 4,
     "metadata": {},
     "output_type": "execute_result"
    }
   ],
   "source": [
    "from apstools.devices import use_EPICS_scaler_channels\n",
    "\n",
    "scaler.match_names()\n",
    "use_EPICS_scaler_channels(scaler)\n",
    "scaler.read()"
   ]
  },
  {
   "cell_type": "markdown",
   "metadata": {},
   "source": [
    "Create a RunEngine but do not connect it with a data collection strategy.  That will come in the next lessons."
   ]
  },
  {
   "cell_type": "code",
   "execution_count": 5,
   "metadata": {},
   "outputs": [],
   "source": [
    "from bluesky import RunEngine\n",
    "import bluesky.plans as bp\n",
    "RE = RunEngine({})"
   ]
  },
  {
   "cell_type": "markdown",
   "metadata": {},
   "source": [
    "Run a step scan using the motor and the scaler."
   ]
  },
  {
   "cell_type": "code",
   "execution_count": 6,
   "metadata": {},
   "outputs": [
    {
     "data": {
      "text/plain": [
       "('c28b701c-ff16-4899-89aa-665a4fbd9d68',)"
      ]
     },
     "execution_count": 6,
     "metadata": {},
     "output_type": "execute_result"
    }
   ],
   "source": [
    "RE(bp.scan([scaler], m1, -1, 1, 5))"
   ]
  },
  {
   "cell_type": "markdown",
   "metadata": {},
   "source": [
    "Ah, yes.  Nothing to see here since we did not setup anything to receive the *documents* from the RunEngine.  Here's the basic callback from lesson 1."
   ]
  },
  {
   "cell_type": "code",
   "execution_count": 7,
   "metadata": {},
   "outputs": [],
   "source": [
    "def myCallback(key, doc):\n",
    "    print(key, len(doc))\n",
    "    for k, v in doc.items():\n",
    "        print(\"\\t\", k, v)"
   ]
  },
  {
   "cell_type": "markdown",
   "metadata": {},
   "source": [
    "Repeat the same scan but handle the document stream with `myCallback()`."
   ]
  },
  {
   "cell_type": "code",
   "execution_count": 8,
   "metadata": {},
   "outputs": [
    {
     "name": "stdout",
     "output_type": "stream",
     "text": [
      "start 15\n",
      "\t uid 170b8bd9-49e0-4176-ae06-4f512cd73de9\n",
      "\t time 1587536351.92124\n",
      "\t versions {'ophyd': '1.4.1', 'bluesky': '1.6.0'}\n",
      "\t scan_id 2\n",
      "\t plan_type generator\n",
      "\t plan_name scan\n",
      "\t detectors ['scaler']\n",
      "\t motors ('m1',)\n",
      "\t num_points 5\n",
      "\t num_intervals 4\n",
      "\t plan_args {'detectors': [\"ScalerCH(prefix='sky:scaler1', name='scaler', read_attrs=['channels', 'channels.chan01', 'channels.chan01.s', 'channels.chan02', 'channels.chan02.s', 'channels.chan03', 'channels.chan03.s', 'time'], configuration_attrs=['channels', 'channels.chan01', 'channels.chan01.preset', 'channels.chan01.gate', 'channels.chan02', 'channels.chan02.chname', 'channels.chan02.preset', 'channels.chan03', 'channels.chan03.chname', 'channels.chan03.preset', 'channels.chan03.gate', 'count_mode', 'delay', 'auto_count_delay', 'freq', 'preset_time', 'auto_count_time', 'egu'])\"], 'num': 5, 'args': [\"EpicsMotor(prefix='sky:m1', name='m1', settle_time=0.0, timeout=None, read_attrs=['user_readback', 'user_setpoint'], configuration_attrs=['user_offset', 'user_offset_dir', 'velocity', 'acceleration', 'motor_egu'])\", -1, 1], 'per_step': 'None'}\n",
      "\t hints {'dimensions': [(['m1'], 'primary')]}\n",
      "\t plan_pattern inner_product\n",
      "\t plan_pattern_module bluesky.plan_patterns\n",
      "\t plan_pattern_args {'num': 5, 'args': [\"EpicsMotor(prefix='sky:m1', name='m1', settle_time=0.0, timeout=None, read_attrs=['user_readback', 'user_setpoint'], configuration_attrs=['user_offset', 'user_offset_dir', 'velocity', 'acceleration', 'motor_egu'])\", -1, 1]}\n",
      "descriptor 8\n",
      "\t run_start 170b8bd9-49e0-4176-ae06-4f512cd73de9\n",
      "\t time 1587536355.8166606\n",
      "\t data_keys {'clock': {'source': 'PV:sky:scaler1.S1', 'dtype': 'number', 'shape': [], 'units': '', 'lower_ctrl_limit': 0.0, 'upper_ctrl_limit': 0.0, 'precision': 0, 'object_name': 'scaler'}, 'I0': {'source': 'PV:sky:scaler1.S2', 'dtype': 'number', 'shape': [], 'units': '', 'lower_ctrl_limit': 0.0, 'upper_ctrl_limit': 0.0, 'precision': 0, 'object_name': 'scaler'}, 'scint': {'source': 'PV:sky:scaler1.S3', 'dtype': 'number', 'shape': [], 'units': '', 'lower_ctrl_limit': 0.0, 'upper_ctrl_limit': 0.0, 'precision': 0, 'object_name': 'scaler'}, 'scaler_time': {'source': 'PV:sky:scaler1.T', 'dtype': 'number', 'shape': [], 'units': '', 'lower_ctrl_limit': 0.0, 'upper_ctrl_limit': 0.0, 'precision': 3, 'object_name': 'scaler'}, 'm1': {'source': 'PV:sky:m1.RBV', 'dtype': 'number', 'shape': [], 'units': 'degrees', 'lower_ctrl_limit': -32000.0, 'upper_ctrl_limit': 32000.0, 'precision': 5, 'object_name': 'm1'}, 'm1_user_setpoint': {'source': 'PV:sky:m1.VAL', 'dtype': 'number', 'shape': [], 'units': 'degrees', 'lower_ctrl_limit': -32000.0, 'upper_ctrl_limit': 32000.0, 'precision': 5, 'object_name': 'm1'}}\n",
      "\t uid 3817dbc5-ff40-4a79-ae9e-1fd16bc432f5\n",
      "\t configuration {'scaler': {'data': {'scaler_channels_chan01_preset': 15000000.0, 'scaler_channels_chan01_gate': 'Y', 'scaler_channels_chan02_chname': 'I0', 'scaler_channels_chan02_preset': 0.0, 'scaler_channels_chan03_chname': 'scint', 'scaler_channels_chan03_preset': 0.0, 'scaler_channels_chan03_gate': 'N', 'scaler_count_mode': 'OneShot', 'scaler_delay': 0.0, 'scaler_auto_count_delay': 0.0, 'scaler_freq': 10000000.0, 'scaler_preset_time': 1.5, 'scaler_auto_count_time': 1.0, 'scaler_egu': ''}, 'timestamps': {'scaler_channels_chan01_preset': 1587536355.810019, 'scaler_channels_chan01_gate': 1587536355.810019, 'scaler_channels_chan02_chname': 1587536355.810019, 'scaler_channels_chan02_preset': 1587536355.810019, 'scaler_channels_chan03_chname': 1587536355.810019, 'scaler_channels_chan03_preset': 1587536355.810019, 'scaler_channels_chan03_gate': 1587536355.810019, 'scaler_count_mode': 1587536355.810019, 'scaler_delay': 1587536355.810019, 'scaler_auto_count_delay': 1587536355.810019, 'scaler_freq': 1587536355.810019, 'scaler_preset_time': 1587536355.810019, 'scaler_auto_count_time': 1587536355.810019, 'scaler_egu': 1587536355.810019}, 'data_keys': OrderedDict([('scaler_channels_chan01_preset', {'source': 'PV:sky:scaler1.PR1', 'dtype': 'number', 'shape': [], 'units': '', 'lower_ctrl_limit': 0.0, 'upper_ctrl_limit': 0.0, 'precision': 0}), ('scaler_channels_chan01_gate', {'source': 'PV:sky:scaler1.G1', 'dtype': 'string', 'shape': [], 'units': None, 'lower_ctrl_limit': None, 'upper_ctrl_limit': None, 'enum_strs': ('N', 'Y')}), ('scaler_channels_chan02_chname', {'source': 'PV:sky:scaler1.NM2', 'dtype': 'string', 'shape': [], 'units': None, 'lower_ctrl_limit': None, 'upper_ctrl_limit': None}), ('scaler_channels_chan02_preset', {'source': 'PV:sky:scaler1.PR2', 'dtype': 'number', 'shape': [], 'units': '', 'lower_ctrl_limit': 0.0, 'upper_ctrl_limit': 0.0, 'precision': 0}), ('scaler_channels_chan03_chname', {'source': 'PV:sky:scaler1.NM3', 'dtype': 'string', 'shape': [], 'units': None, 'lower_ctrl_limit': None, 'upper_ctrl_limit': None}), ('scaler_channels_chan03_preset', {'source': 'PV:sky:scaler1.PR3', 'dtype': 'number', 'shape': [], 'units': '', 'lower_ctrl_limit': 0.0, 'upper_ctrl_limit': 0.0, 'precision': 0}), ('scaler_channels_chan03_gate', {'source': 'PV:sky:scaler1.G3', 'dtype': 'string', 'shape': [], 'units': None, 'lower_ctrl_limit': None, 'upper_ctrl_limit': None, 'enum_strs': ('N', 'Y')}), ('scaler_count_mode', {'source': 'PV:sky:scaler1.CONT', 'dtype': 'string', 'shape': [], 'units': None, 'lower_ctrl_limit': None, 'upper_ctrl_limit': None, 'enum_strs': ('OneShot', 'AutoCount')}), ('scaler_delay', {'source': 'PV:sky:scaler1.DLY', 'dtype': 'number', 'shape': [], 'units': '', 'lower_ctrl_limit': 0.0, 'upper_ctrl_limit': 0.0, 'precision': 3}), ('scaler_auto_count_delay', {'source': 'PV:sky:scaler1.DLY1', 'dtype': 'number', 'shape': [], 'units': '', 'lower_ctrl_limit': 0.0, 'upper_ctrl_limit': 0.0, 'precision': 3}), ('scaler_freq', {'source': 'PV:sky:scaler1.FREQ', 'dtype': 'number', 'shape': [], 'units': '', 'lower_ctrl_limit': 0.0, 'upper_ctrl_limit': 0.0, 'precision': 3}), ('scaler_preset_time', {'source': 'PV:sky:scaler1.TP', 'dtype': 'number', 'shape': [], 'units': '', 'lower_ctrl_limit': 0.0, 'upper_ctrl_limit': 0.0, 'precision': 3}), ('scaler_auto_count_time', {'source': 'PV:sky:scaler1.TP1', 'dtype': 'number', 'shape': [], 'units': '', 'lower_ctrl_limit': 0.0, 'upper_ctrl_limit': 0.0, 'precision': 3}), ('scaler_egu', {'source': 'PV:sky:scaler1.EGU', 'dtype': 'string', 'shape': [], 'units': None, 'lower_ctrl_limit': None, 'upper_ctrl_limit': None})])}, 'm1': {'data': {'m1_user_offset': 0.0, 'm1_user_offset_dir': 0, 'm1_velocity': 1.0, 'm1_acceleration': 0.2, 'm1_motor_egu': 'degrees'}, 'timestamps': {'m1_user_offset': 1587536354.191725, 'm1_user_offset_dir': 1587536354.191725, 'm1_velocity': 1587536354.191725, 'm1_acceleration': 1587536354.191725, 'm1_motor_egu': 1587536354.191725}, 'data_keys': OrderedDict([('m1_user_offset', {'source': 'PV:sky:m1.OFF', 'dtype': 'number', 'shape': [], 'units': 'degrees', 'lower_ctrl_limit': -1e+300, 'upper_ctrl_limit': 1e+300, 'precision': 5}), ('m1_user_offset_dir', {'source': 'PV:sky:m1.DIR', 'dtype': 'integer', 'shape': [], 'units': None, 'lower_ctrl_limit': None, 'upper_ctrl_limit': None, 'enum_strs': ('Pos', 'Neg')}), ('m1_velocity', {'source': 'PV:sky:m1.VELO', 'dtype': 'number', 'shape': [], 'units': 'degrees', 'lower_ctrl_limit': 0.1, 'upper_ctrl_limit': 0.0, 'precision': 5}), ('m1_acceleration', {'source': 'PV:sky:m1.ACCL', 'dtype': 'number', 'shape': [], 'units': 'sec', 'lower_ctrl_limit': -1e+300, 'upper_ctrl_limit': 1e+300, 'precision': 5}), ('m1_motor_egu', {'source': 'PV:sky:m1.EGU', 'dtype': 'string', 'shape': [], 'units': None, 'lower_ctrl_limit': None, 'upper_ctrl_limit': None})])}}\n",
      "\t name primary\n",
      "\t hints {'scaler': {'fields': ['clock', 'I0', 'scint']}, 'm1': {'fields': ['m1']}}\n",
      "\t object_keys {'scaler': ['clock', 'I0', 'scint', 'scaler_time'], 'm1': ['m1', 'm1_user_setpoint']}\n",
      "event 7\n",
      "\t descriptor 3817dbc5-ff40-4a79-ae9e-1fd16bc432f5\n",
      "\t time 1587536355.8220112\n",
      "\t data {'clock': 15000000.0, 'I0': 6.0, 'scint': 7.0, 'scaler_time': 1.5, 'm1': -1.0, 'm1_user_setpoint': -1.0}\n",
      "\t timestamps {'clock': 1587536355.810019, 'I0': 1587536355.810019, 'scint': 1587536355.810019, 'scaler_time': 1587536355.810019, 'm1': 1587536354.091634, 'm1_user_setpoint': 1587536354.191725}\n",
      "\t seq_num 1\n",
      "\t uid 8a2cef3e-dcea-4276-a2e0-36b90a8adfa2\n",
      "\t filled {}\n"
     ]
    },
    {
     "name": "stdout",
     "output_type": "stream",
     "text": [
      "event 7\n",
      "\t descriptor 3817dbc5-ff40-4a79-ae9e-1fd16bc432f5\n",
      "\t time 1587536358.2132885\n",
      "\t data {'clock': 15000000.0, 'I0': 7.0, 'scint': 7.0, 'scaler_time': 1.5, 'm1': -0.5, 'm1_user_setpoint': -0.5}\n",
      "\t timestamps {'clock': 1587536358.211556, 'I0': 1587536358.211556, 'scint': 1587536358.211556, 'scaler_time': 1587536358.211556, 'm1': 1587536356.493479, 'm1_user_setpoint': 1587536356.593569}\n",
      "\t seq_num 2\n",
      "\t uid 735a12e5-0698-4c8c-9451-32faad034479\n",
      "\t filled {}\n",
      "event 7\n",
      "\t descriptor 3817dbc5-ff40-4a79-ae9e-1fd16bc432f5\n",
      "\t time 1587536360.6148698\n",
      "\t data {'clock': 15000000.0, 'I0': 8.0, 'scint': 6.0, 'scaler_time': 1.5, 'm1': 0.0, 'm1_user_setpoint': 0.0}\n",
      "\t timestamps {'clock': 1587536360.613223, 'I0': 1587536360.613223, 'scint': 1587536360.613223, 'scaler_time': 1587536360.613223, 'm1': 1587536358.895263, 'm1_user_setpoint': 1587536358.995354}\n",
      "\t seq_num 3\n",
      "\t uid 54731680-ed30-4668-95f2-6bca39a1b7ad\n",
      "\t filled {}\n",
      "event 7\n",
      "\t descriptor 3817dbc5-ff40-4a79-ae9e-1fd16bc432f5\n",
      "\t time 1587536363.0169368\n",
      "\t data {'clock': 16000000.0, 'I0': 6.0, 'scint': 6.0, 'scaler_time': 1.6, 'm1': 0.5, 'm1_user_setpoint': 0.5}\n",
      "\t timestamps {'clock': 1587536363.015223, 'I0': 1587536363.015223, 'scint': 1587536363.015223, 'scaler_time': 1587536363.015223, 'm1': 1587536361.297071, 'm1_user_setpoint': 1587536361.397157}\n",
      "\t seq_num 4\n",
      "\t uid f054c635-ba94-45d4-8fe9-17667c3fcb62\n",
      "\t filled {}\n",
      "event 7\n",
      "\t descriptor 3817dbc5-ff40-4a79-ae9e-1fd16bc432f5\n",
      "\t time 1587536365.4188545\n",
      "\t data {'clock': 16000000.0, 'I0': 9.0, 'scint': 9.0, 'scaler_time': 1.6, 'm1': 1.0, 'm1_user_setpoint': 1.0}\n",
      "\t timestamps {'clock': 1587536365.417003, 'I0': 1587536365.417003, 'scint': 1587536365.417003, 'scaler_time': 1587536365.417003, 'm1': 1587536363.698892, 'm1_user_setpoint': 1587536363.798967}\n",
      "\t seq_num 5\n",
      "\t uid af22fd04-41fb-4659-9bb2-eabd0666b67c\n",
      "\t filled {}\n",
      "stop 6\n",
      "\t run_start 170b8bd9-49e0-4176-ae06-4f512cd73de9\n",
      "\t time 1587536365.4192562\n",
      "\t uid 08f5394f-9d21-4243-b594-b6547c099954\n",
      "\t exit_status success\n",
      "\t reason \n",
      "\t num_events {'primary': 5}\n"
     ]
    },
    {
     "data": {
      "text/plain": [
       "('170b8bd9-49e0-4176-ae06-4f512cd73de9',)"
      ]
     },
     "execution_count": 8,
     "metadata": {},
     "output_type": "execute_result"
    }
   ],
   "source": [
    "RE(bp.scan([scaler], m1, -1, 1, 5), myCallback)"
   ]
  },
  {
   "cell_type": "markdown",
   "metadata": {},
   "source": [
    "# Summary\n",
    "\n",
    "We'll show this code as a python program:\n",
    "\n",
    "```\n",
    "#!/APSshare/anaconda3/BlueSky/bin/python\n",
    "\n",
    "\"lesson 2: motor\"\n",
    "\n",
    "from ophyd import EpicsMotor\n",
    "from ophyd.scaler import ScalerCH\n",
    "from bluesky import RunEngine\n",
    "import bluesky.plans as bp\n",
    "from apstools.devices import use_EPICS_scaler_channels\n",
    "\n",
    "\n",
    "def myCallback(key, doc):\n",
    "    print(key, len(doc))\n",
    "    for k, v in doc.items():\n",
    "        print(\"\\t\", k, v)\n",
    "    print(\"~~~~~~~~~~~~~~~~~\")\n",
    "\n",
    "\n",
    "m1 = EpicsMotor(\"sky:m1\", name=\"m1\")\n",
    "m1.wait_for_connection()\n",
    "print(m1.position)\n",
    "\n",
    "scaler = ScalerCH(\"sky:scaler1\", name=\"scaler\")\n",
    "scaler.wait_for_connection()\n",
    "\n",
    "\n",
    "# Since there are no detectors actually connected to this scaler,\n",
    "# we can change names at our choice.  A real scaler will have\n",
    "# detectors connected to specific channels and we should not modify\n",
    "# these names without regard to how signals are physically connected.\n",
    "scaler.channels.chan01.chname.put(\"clock\")\n",
    "scaler.channels.chan02.chname.put(\"I0\")\n",
    "scaler.channels.chan03.chname.put(\"scint\")\n",
    "scaler.channels.chan04.chname.put(\"\")\n",
    "scaler.channels.chan05.chname.put(\"\")\n",
    "scaler.channels.chan06.chname.put(\"\")\n",
    "scaler.channels.chan07.chname.put(\"\")\n",
    "scaler.channels.chan08.chname.put(\"\")\n",
    "scaler.channels.chan09.chname.put(\"\")\n",
    "\n",
    "\n",
    "scaler.match_names()\n",
    "use_EPICS_scaler_channels(scaler)\n",
    "print(scaler.read())\n",
    "\n",
    "RE = RunEngine({})\n",
    "\n",
    "RE(bp.scan([scaler], m1, -1, 1, 5))\n",
    "\n",
    "RE(bp.scan([scaler], m1, -1, 1, 5), myCallback)\n",
    "```"
   ]
  }
 ],
 "metadata": {
  "kernelspec": {
   "display_name": "Python 3",
   "language": "python",
   "name": "python3"
  },
  "language_info": {
   "codemirror_mode": {
    "name": "ipython",
    "version": 3
   },
   "file_extension": ".py",
   "mimetype": "text/x-python",
   "name": "python",
   "nbconvert_exporter": "python",
   "pygments_lexer": "ipython3",
   "version": "3.7.7"
  }
 },
 "nbformat": 4,
 "nbformat_minor": 2
}
