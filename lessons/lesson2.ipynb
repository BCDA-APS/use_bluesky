{
 "cells": [
  {
   "cell_type": "markdown",
   "metadata": {},
   "source": [
    "# Lesson 2 - motor and scan\n",
    "\n",
    "In this lesson, we'll work with a motor (for precise positioning) in [Bluesky](http://nsls-ii.github.io/bluesky/) and [related tools](http://nsls-ii.github.io/).\n",
    "\n",
    "First, we'll connect with an EPICS motor (using [ophyd](http://nsls-ii.github.io/ophyd/)), and then use the Bluesky software to scan the motor (with the scaler from [lesson 1](lesson1.ipynb)).\n",
    "\n",
    "Load `ophyd` device support for the `EpicsMotor` and connect with one EPICS motor channel.  We have a synApps (v6.1) XXX-style IOC with the prefix `sky:`. It has a scaler, 16 soft channel motors, and some other support we'll ignore in this lesson.\n",
    "\n",
    "**note**:  This tutorial expects to find an EPICS IOC on the local network configured as a synApps [`xxx`](https://github.com/epics-modules/xxx) IOC with prefix `sky:`.  A docker container is available to provide this IOC.  See this URL for instructions:  https://github.com/prjemian/epics-docker/blob/master/n3_synApps/README.md"
   ]
  },
  {
   "cell_type": "code",
   "execution_count": null,
   "metadata": {},
   "outputs": [],
   "source": [
    "from ophyd import EpicsMotor\n",
    "m1 = EpicsMotor(\"sky:m1\", name=\"m1\")\n",
    "m1.wait_for_connection()"
   ]
  },
  {
   "cell_type": "markdown",
   "metadata": {},
   "source": [
    "Show the current value fo the motor (that's the `.RBV` field, in case you were interested)."
   ]
  },
  {
   "cell_type": "code",
   "execution_count": null,
   "metadata": {},
   "outputs": [],
   "source": [
    "m1.position"
   ]
  },
  {
   "cell_type": "markdown",
   "metadata": {},
   "source": [
    "Connect the scaler (as was done in lesson 1).  Define some of the chaannel names and clear out others."
   ]
  },
  {
   "cell_type": "code",
   "execution_count": null,
   "metadata": {},
   "outputs": [],
   "source": [
    "from ophyd.scaler import ScalerCH\n",
    "scaler = ScalerCH(\"sky:scaler1\", name=\"scaler\")\n",
    "scaler.wait_for_connection()\n",
    "\n",
    "# Since there are no detectors actually connected to this scaler,\n",
    "# we can change names at our choice.  A real scaler will have\n",
    "# detectors connected to specific channels and we should not modify\n",
    "# these names without regard to how signals are physically connected.\n",
    "scaler.channels.chan01.chname.put(\"clock\")\n",
    "scaler.channels.chan02.chname.put(\"I0\")\n",
    "scaler.channels.chan03.chname.put(\"scint\")\n",
    "scaler.channels.chan04.chname.put(\"\")\n",
    "scaler.channels.chan05.chname.put(\"\")\n",
    "scaler.channels.chan06.chname.put(\"\")\n",
    "scaler.channels.chan07.chname.put(\"\")\n",
    "scaler.channels.chan08.chname.put(\"\")\n",
    "scaler.channels.chan09.chname.put(\"\")"
   ]
  },
  {
   "cell_type": "markdown",
   "metadata": {},
   "source": [
    "Use only the channels with EPICS names, those are the *interesting* channels."
   ]
  },
  {
   "cell_type": "code",
   "execution_count": null,
   "metadata": {},
   "outputs": [],
   "source": [
    "from apstools.devices import use_EPICS_scaler_channels\n",
    "\n",
    "scaler.match_names()\n",
    "use_EPICS_scaler_channels(scaler)\n",
    "scaler.read()"
   ]
  },
  {
   "cell_type": "markdown",
   "metadata": {},
   "source": [
    "Create a RunEngine but do not connect it with a data collection strategy.  That will come in the next lessons."
   ]
  },
  {
   "cell_type": "code",
   "execution_count": null,
   "metadata": {},
   "outputs": [],
   "source": [
    "from bluesky import RunEngine\n",
    "import bluesky.plans as bp\n",
    "RE = RunEngine({})"
   ]
  },
  {
   "cell_type": "markdown",
   "metadata": {},
   "source": [
    "Run a step scan using the motor and the scaler."
   ]
  },
  {
   "cell_type": "code",
   "execution_count": null,
   "metadata": {},
   "outputs": [],
   "source": [
    "RE(bp.scan([scaler], m1, -1, 1, 5))"
   ]
  },
  {
   "cell_type": "markdown",
   "metadata": {},
   "source": [
    "Ah, yes.  Nothing to see here since we did not setup anything to receive the *documents* from the RunEngine.  Here's the basic callback from lesson 1."
   ]
  },
  {
   "cell_type": "code",
   "execution_count": null,
   "metadata": {},
   "outputs": [],
   "source": [
    "def myCallback(key, doc):\n",
    "    print(key, len(doc))\n",
    "    for k, v in doc.items():\n",
    "        print(\"\\t\", k, v)"
   ]
  },
  {
   "cell_type": "markdown",
   "metadata": {},
   "source": [
    "Repeat the same scan but handle the document stream with `myCallback()`."
   ]
  },
  {
   "cell_type": "code",
   "execution_count": null,
   "metadata": {},
   "outputs": [],
   "source": [
    "RE(bp.scan([scaler], m1, -1, 1, 5), myCallback)"
   ]
  },
  {
   "cell_type": "markdown",
   "metadata": {},
   "source": [
    "# Summary\n",
    "\n",
    "We'll show this code as a python program:\n",
    "\n",
    "```\n",
    "#!/APSshare/anaconda3/BlueSky/bin/python\n",
    "\n",
    "\"lesson 2: motor\"\n",
    "\n",
    "from ophyd import EpicsMotor\n",
    "from ophyd.scaler import ScalerCH\n",
    "from bluesky import RunEngine\n",
    "import bluesky.plans as bp\n",
    "from apstools.devices import use_EPICS_scaler_channels\n",
    "\n",
    "\n",
    "def myCallback(key, doc):\n",
    "    print(key, len(doc))\n",
    "    for k, v in doc.items():\n",
    "        print(\"\\t\", k, v)\n",
    "    print(\"~~~~~~~~~~~~~~~~~\")\n",
    "\n",
    "\n",
    "m1 = EpicsMotor(\"sky:m1\", name=\"m1\")\n",
    "m1.wait_for_connection()\n",
    "print(m1.position)\n",
    "\n",
    "scaler = ScalerCH(\"sky:scaler1\", name=\"scaler\")\n",
    "scaler.wait_for_connection()\n",
    "\n",
    "\n",
    "# Since there are no detectors actually connected to this scaler,\n",
    "# we can change names at our choice.  A real scaler will have\n",
    "# detectors connected to specific channels and we should not modify\n",
    "# these names without regard to how signals are physically connected.\n",
    "scaler.channels.chan01.chname.put(\"clock\")\n",
    "scaler.channels.chan02.chname.put(\"I0\")\n",
    "scaler.channels.chan03.chname.put(\"scint\")\n",
    "scaler.channels.chan04.chname.put(\"\")\n",
    "scaler.channels.chan05.chname.put(\"\")\n",
    "scaler.channels.chan06.chname.put(\"\")\n",
    "scaler.channels.chan07.chname.put(\"\")\n",
    "scaler.channels.chan08.chname.put(\"\")\n",
    "scaler.channels.chan09.chname.put(\"\")\n",
    "\n",
    "\n",
    "scaler.match_names()\n",
    "use_EPICS_scaler_channels(scaler)\n",
    "print(scaler.read())\n",
    "\n",
    "RE = RunEngine({})\n",
    "\n",
    "RE(bp.scan([scaler], m1, -1, 1, 5))\n",
    "\n",
    "RE(bp.scan([scaler], m1, -1, 1, 5), myCallback)\n",
    "```"
   ]
  }
 ],
 "metadata": {
  "kernelspec": {
   "display_name": "Python 3",
   "language": "python",
   "name": "python3"
  },
  "language_info": {
   "codemirror_mode": {
    "name": "ipython",
    "version": 3
   },
   "file_extension": ".py",
   "mimetype": "text/x-python",
   "name": "python",
   "nbconvert_exporter": "python",
   "pygments_lexer": "ipython3",
   "version": "3.7.7"
  }
 },
 "nbformat": 4,
 "nbformat_minor": 2
}
