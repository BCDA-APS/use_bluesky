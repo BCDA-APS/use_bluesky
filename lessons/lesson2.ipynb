{
 "cells": [
  {
   "cell_type": "markdown",
   "metadata": {},
   "source": [
    "# Lesson 2 : motor and scan\n",
    "\n",
    "In this lesson, we'll work with a motor (for precise positioning) in [Bluesky](http://nsls-ii.github.io/bluesky/) and [related tools](http://nsls-ii.github.io/).\n",
    "\n",
    "First, we'll connect with an EPICS motor (using [ophyd](http://nsls-ii.github.io/ophyd/)), and then use the Bluesky software to scan the motor (with the scaler from [lesson 1](lesson1.ipynb)).\n",
    "\n",
    "Load `ophyd` device support for the `EpicsMotor` and connect with one EPICS motor channel.  We have a synApps (v6.1) XXX-style IOC with the prefix `sky:`. It has a scaler, 16 soft channel motors, and some other support we'll ignore in this lesson.\n",
    "\n",
    "**note**:  This tutorial expects to find an EPICS IOC on the local network configured as a synApps [`xxx`](https://github.com/epics-modules/xxx) IOC with prefix `sky:`.  A docker container is available to provide this IOC.  See this URL for instructions:  https://github.com/prjemian/epics-docker/blob/master/n3_synApps/README.md"
   ]
  },
  {
   "cell_type": "code",
   "execution_count": 1,
   "metadata": {},
   "outputs": [],
   "source": [
    "from ophyd import EpicsMotor\n",
    "m1 = EpicsMotor(\"sky:m1\", name=\"m1\")\n",
    "m1.wait_for_connection()"
   ]
  },
  {
   "cell_type": "markdown",
   "metadata": {},
   "source": [
    "Show the current value fo the motor (that's the `.RBV` field, in case you were interested)."
   ]
  },
  {
   "cell_type": "code",
   "execution_count": 2,
   "metadata": {},
   "outputs": [
    {
     "data": {
      "text/plain": [
       "0.6032500000000001"
      ]
     },
     "execution_count": 2,
     "metadata": {},
     "output_type": "execute_result"
    }
   ],
   "source": [
    "m1.position"
   ]
  },
  {
   "cell_type": "markdown",
   "metadata": {},
   "source": [
    "Connect the scaler (as was done in lesson 1).  Define some of the chaannel names and clear out others."
   ]
  },
  {
   "cell_type": "code",
   "execution_count": 3,
   "metadata": {},
   "outputs": [],
   "source": [
    "from ophyd.scaler import ScalerCH\n",
    "scaler = ScalerCH(\"sky:scaler1\", name=\"scaler\")\n",
    "scaler.wait_for_connection()\n",
    "\n",
    "# Since there are no detectors actually connected to this scaler,\n",
    "# we can change names at our choice.  A real scaler will have\n",
    "# detectors connected to specific channels and we should not modify\n",
    "# these names without regard to how signals are physically connected.\n",
    "scaler.channels.chan01.chname.put(\"clock\")\n",
    "scaler.channels.chan02.chname.put(\"I0\")\n",
    "scaler.channels.chan03.chname.put(\"scint\")\n",
    "scaler.channels.chan04.chname.put(\"\")\n",
    "scaler.channels.chan05.chname.put(\"\")\n",
    "scaler.channels.chan06.chname.put(\"\")\n",
    "scaler.channels.chan07.chname.put(\"\")\n",
    "scaler.channels.chan08.chname.put(\"\")\n",
    "scaler.channels.chan09.chname.put(\"\")"
   ]
  },
  {
   "cell_type": "markdown",
   "metadata": {},
   "source": [
    "Use only the channels with EPICS names, those are the *interesting* channels."
   ]
  },
  {
   "cell_type": "code",
   "execution_count": 4,
   "metadata": {},
   "outputs": [
    {
     "data": {
      "text/plain": [
       "OrderedDict([('clock', {'value': 16000000.0, 'timestamp': 1588881361.740096}),\n",
       "             ('I0', {'value': 6.0, 'timestamp': 1588881361.740096}),\n",
       "             ('scint', {'value': 8.0, 'timestamp': 1588881361.740096}),\n",
       "             ('ROI1', {'value': 0.0, 'timestamp': 1588881361.740096}),\n",
       "             ('ROI2', {'value': 0.0, 'timestamp': 1588881361.740096}),\n",
       "             ('scaler_time', {'value': 1.6, 'timestamp': 1588881361.740096})])"
      ]
     },
     "execution_count": 4,
     "metadata": {},
     "output_type": "execute_result"
    }
   ],
   "source": [
    "scaler.select_channels(None)\n",
    "scaler.read()"
   ]
  },
  {
   "cell_type": "markdown",
   "metadata": {},
   "source": [
    "Create a RunEngine but do not connect it with a data collection strategy.  That will come in the next lessons."
   ]
  },
  {
   "cell_type": "code",
   "execution_count": 5,
   "metadata": {},
   "outputs": [],
   "source": [
    "from bluesky import RunEngine\n",
    "import bluesky.plans as bp\n",
    "RE = RunEngine({})"
   ]
  },
  {
   "cell_type": "markdown",
   "metadata": {},
   "source": [
    "Run a step scan using the motor and the scaler."
   ]
  },
  {
   "cell_type": "code",
   "execution_count": 6,
   "metadata": {},
   "outputs": [
    {
     "data": {
      "text/plain": [
       "('110845af-c4c3-419c-bc29-1b6e1920b71e',)"
      ]
     },
     "execution_count": 6,
     "metadata": {},
     "output_type": "execute_result"
    }
   ],
   "source": [
    "RE(bp.scan([scaler], m1, -1, 1, 5))"
   ]
  },
  {
   "cell_type": "markdown",
   "metadata": {},
   "source": [
    "Ah, yes.  Nothing to see here since we did not setup anything to receive the *documents* from the RunEngine.  Here's the basic callback from lesson 1."
   ]
  },
  {
   "cell_type": "code",
   "execution_count": 7,
   "metadata": {},
   "outputs": [],
   "source": [
    "def myCallback(key, doc):\n",
    "    print(key, len(doc))\n",
    "    for k, v in doc.items():\n",
    "        print(\"\\t\", k, v)\n",
    "    print(\"~~~~~~~~~~~~~~~~~~~~\")"
   ]
  },
  {
   "cell_type": "markdown",
   "metadata": {},
   "source": [
    "Repeat the same scan but handle the document stream with `myCallback()`."
   ]
  },
  {
   "cell_type": "code",
   "execution_count": 8,
   "metadata": {},
   "outputs": [
    {
     "name": "stdout",
     "output_type": "stream",
     "text": [
      "start 15\n",
      "\t uid 4a47afc8-ab40-4398-9d0e-5c3adbdc4b1d\n",
      "\t time 1588881459.355127\n",
      "\t versions {'ophyd': '1.5.0', 'bluesky': '1.6.0'}\n",
      "\t scan_id 2\n",
      "\t plan_type generator\n",
      "\t plan_name scan\n",
      "\t detectors ['scaler']\n",
      "\t motors ('m1',)\n",
      "\t num_points 5\n",
      "\t num_intervals 4\n",
      "\t plan_args {'detectors': [\"ScalerCH(prefix='sky:scaler1', name='scaler', read_attrs=['channels', 'channels.chan01', 'channels.chan01.s', 'channels.chan02', 'channels.chan02.s', 'channels.chan03', 'channels.chan03.s', 'channels.chan10', 'channels.chan10.s', 'channels.chan11', 'channels.chan11.s', 'time'], configuration_attrs=['channels', 'channels.chan01', 'channels.chan01.chname', 'channels.chan01.preset', 'channels.chan01.gate', 'channels.chan02', 'channels.chan02.chname', 'channels.chan02.preset', 'channels.chan02.gate', 'channels.chan03', 'channels.chan03.chname', 'channels.chan03.preset', 'channels.chan03.gate', 'channels.chan10', 'channels.chan10.chname', 'channels.chan10.preset', 'channels.chan10.gate', 'channels.chan11', 'channels.chan11.chname', 'channels.chan11.preset', 'channels.chan11.gate', 'count_mode', 'delay', 'auto_count_delay', 'freq', 'preset_time', 'auto_count_time', 'egu'])\"], 'num': 5, 'args': [\"EpicsMotor(prefix='sky:m1', name='m1', settle_time=0.0, timeout=None, read_attrs=['user_readback', 'user_setpoint'], configuration_attrs=['user_offset', 'user_offset_dir', 'velocity', 'acceleration', 'motor_egu'])\", -1, 1], 'per_step': 'None'}\n",
      "\t hints {'dimensions': [(['m1'], 'primary')]}\n",
      "\t plan_pattern inner_product\n",
      "\t plan_pattern_module bluesky.plan_patterns\n",
      "\t plan_pattern_args {'num': 5, 'args': [\"EpicsMotor(prefix='sky:m1', name='m1', settle_time=0.0, timeout=None, read_attrs=['user_readback', 'user_setpoint'], configuration_attrs=['user_offset', 'user_offset_dir', 'velocity', 'acceleration', 'motor_egu'])\", -1, 1]}\n",
      "~~~~~~~~~~~~~~~~~~~~\n",
      "descriptor 8\n",
      "\t run_start 4a47afc8-ab40-4398-9d0e-5c3adbdc4b1d\n",
      "\t time 1588881463.3462102\n",
      "\t data_keys {'m1': {'source': 'PV:sky:m1.RBV', 'dtype': 'number', 'shape': [], 'units': 'degrees', 'lower_ctrl_limit': -32000.0, 'upper_ctrl_limit': 32000.0, 'precision': 5, 'object_name': 'm1'}, 'm1_user_setpoint': {'source': 'PV:sky:m1.VAL', 'dtype': 'number', 'shape': [], 'units': 'degrees', 'lower_ctrl_limit': -32000.0, 'upper_ctrl_limit': 32000.0, 'precision': 5, 'object_name': 'm1'}, 'clock': {'source': 'PV:sky:scaler1.S1', 'dtype': 'number', 'shape': [], 'units': '', 'lower_ctrl_limit': 0.0, 'upper_ctrl_limit': 0.0, 'precision': 0, 'object_name': 'scaler'}, 'I0': {'source': 'PV:sky:scaler1.S2', 'dtype': 'number', 'shape': [], 'units': '', 'lower_ctrl_limit': 0.0, 'upper_ctrl_limit': 0.0, 'precision': 0, 'object_name': 'scaler'}, 'scint': {'source': 'PV:sky:scaler1.S3', 'dtype': 'number', 'shape': [], 'units': '', 'lower_ctrl_limit': 0.0, 'upper_ctrl_limit': 0.0, 'precision': 0, 'object_name': 'scaler'}, 'ROI1': {'source': 'PV:sky:scaler1.S10', 'dtype': 'number', 'shape': [], 'units': '', 'lower_ctrl_limit': 0.0, 'upper_ctrl_limit': 0.0, 'precision': 0, 'object_name': 'scaler'}, 'ROI2': {'source': 'PV:sky:scaler1.S11', 'dtype': 'number', 'shape': [], 'units': '', 'lower_ctrl_limit': 0.0, 'upper_ctrl_limit': 0.0, 'precision': 0, 'object_name': 'scaler'}, 'scaler_time': {'source': 'PV:sky:scaler1.T', 'dtype': 'number', 'shape': [], 'units': '', 'lower_ctrl_limit': 0.0, 'upper_ctrl_limit': 0.0, 'precision': 3, 'object_name': 'scaler'}}\n",
      "\t uid 51add3ec-9901-41b2-94d8-0f9117059e0e\n",
      "\t configuration {'m1': {'data': {'m1_user_offset': 0.0, 'm1_user_offset_dir': 0, 'm1_velocity': 1.0, 'm1_acceleration': 0.2, 'm1_motor_egu': 'degrees'}, 'timestamps': {'m1_user_offset': 1588881461.591036, 'm1_user_offset_dir': 1588881461.591036, 'm1_velocity': 1588881461.591036, 'm1_acceleration': 1588881461.591036, 'm1_motor_egu': 1588881461.591036}, 'data_keys': OrderedDict([('m1_user_offset', {'source': 'PV:sky:m1.OFF', 'dtype': 'number', 'shape': [], 'units': 'degrees', 'lower_ctrl_limit': -1e+300, 'upper_ctrl_limit': 1e+300, 'precision': 5}), ('m1_user_offset_dir', {'source': 'PV:sky:m1.DIR', 'dtype': 'integer', 'shape': [], 'units': None, 'lower_ctrl_limit': None, 'upper_ctrl_limit': None, 'enum_strs': ('Pos', 'Neg')}), ('m1_velocity', {'source': 'PV:sky:m1.VELO', 'dtype': 'number', 'shape': [], 'units': 'degrees', 'lower_ctrl_limit': 0.1, 'upper_ctrl_limit': 0.0, 'precision': 5}), ('m1_acceleration', {'source': 'PV:sky:m1.ACCL', 'dtype': 'number', 'shape': [], 'units': 'sec', 'lower_ctrl_limit': -1e+300, 'upper_ctrl_limit': 1e+300, 'precision': 5}), ('m1_motor_egu', {'source': 'PV:sky:m1.EGU', 'dtype': 'string', 'shape': [], 'units': None, 'lower_ctrl_limit': None, 'upper_ctrl_limit': None})])}, 'scaler': {'data': {'scaler_channels_chan01_chname': 'clock', 'scaler_channels_chan01_preset': 15000000.0, 'scaler_channels_chan01_gate': 'Y', 'scaler_channels_chan02_chname': 'I0', 'scaler_channels_chan02_preset': 0.0, 'scaler_channels_chan02_gate': 'N', 'scaler_channels_chan03_chname': 'scint', 'scaler_channels_chan03_preset': 0.0, 'scaler_channels_chan03_gate': 'N', 'scaler_channels_chan10_chname': 'ROI1', 'scaler_channels_chan10_preset': 0.0, 'scaler_channels_chan10_gate': 'N', 'scaler_channels_chan11_chname': 'ROI2', 'scaler_channels_chan11_preset': 0.0, 'scaler_channels_chan11_gate': 'N', 'scaler_count_mode': 'OneShot', 'scaler_delay': 0.0, 'scaler_auto_count_delay': 0.0, 'scaler_freq': 10000000.0, 'scaler_preset_time': 1.5, 'scaler_auto_count_time': 1.0, 'scaler_egu': ''}, 'timestamps': {'scaler_channels_chan01_chname': 1588881463.310079, 'scaler_channels_chan01_preset': 1588881463.310079, 'scaler_channels_chan01_gate': 1588881463.310079, 'scaler_channels_chan02_chname': 1588881463.310079, 'scaler_channels_chan02_preset': 1588881463.310079, 'scaler_channels_chan02_gate': 1588881463.310079, 'scaler_channels_chan03_chname': 1588881463.310079, 'scaler_channels_chan03_preset': 1588881463.310079, 'scaler_channels_chan03_gate': 1588881463.310079, 'scaler_channels_chan10_chname': 1588881463.310079, 'scaler_channels_chan10_preset': 1588881463.310079, 'scaler_channels_chan10_gate': 1588881463.310079, 'scaler_channels_chan11_chname': 1588881463.310079, 'scaler_channels_chan11_preset': 1588881463.310079, 'scaler_channels_chan11_gate': 1588881463.310079, 'scaler_count_mode': 1588881463.310079, 'scaler_delay': 1588881463.310079, 'scaler_auto_count_delay': 1588881463.310079, 'scaler_freq': 1588881463.310079, 'scaler_preset_time': 1588881463.310079, 'scaler_auto_count_time': 1588881463.310079, 'scaler_egu': 1588881463.310079}, 'data_keys': OrderedDict([('scaler_channels_chan01_chname', {'source': 'PV:sky:scaler1.NM1', 'dtype': 'string', 'shape': [], 'units': None, 'lower_ctrl_limit': None, 'upper_ctrl_limit': None}), ('scaler_channels_chan01_preset', {'source': 'PV:sky:scaler1.PR1', 'dtype': 'number', 'shape': [], 'units': '', 'lower_ctrl_limit': 0.0, 'upper_ctrl_limit': 0.0, 'precision': 0}), ('scaler_channels_chan01_gate', {'source': 'PV:sky:scaler1.G1', 'dtype': 'string', 'shape': [], 'units': None, 'lower_ctrl_limit': None, 'upper_ctrl_limit': None, 'enum_strs': ('N', 'Y')}), ('scaler_channels_chan02_chname', {'source': 'PV:sky:scaler1.NM2', 'dtype': 'string', 'shape': [], 'units': None, 'lower_ctrl_limit': None, 'upper_ctrl_limit': None}), ('scaler_channels_chan02_preset', {'source': 'PV:sky:scaler1.PR2', 'dtype': 'number', 'shape': [], 'units': '', 'lower_ctrl_limit': 0.0, 'upper_ctrl_limit': 0.0, 'precision': 0}), ('scaler_channels_chan02_gate', {'source': 'PV:sky:scaler1.G2', 'dtype': 'string', 'shape': [], 'units': None, 'lower_ctrl_limit': None, 'upper_ctrl_limit': None, 'enum_strs': ('N', 'Y')}), ('scaler_channels_chan03_chname', {'source': 'PV:sky:scaler1.NM3', 'dtype': 'string', 'shape': [], 'units': None, 'lower_ctrl_limit': None, 'upper_ctrl_limit': None}), ('scaler_channels_chan03_preset', {'source': 'PV:sky:scaler1.PR3', 'dtype': 'number', 'shape': [], 'units': '', 'lower_ctrl_limit': 0.0, 'upper_ctrl_limit': 0.0, 'precision': 0}), ('scaler_channels_chan03_gate', {'source': 'PV:sky:scaler1.G3', 'dtype': 'string', 'shape': [], 'units': None, 'lower_ctrl_limit': None, 'upper_ctrl_limit': None, 'enum_strs': ('N', 'Y')}), ('scaler_channels_chan10_chname', {'source': 'PV:sky:scaler1.NM10', 'dtype': 'string', 'shape': [], 'units': None, 'lower_ctrl_limit': None, 'upper_ctrl_limit': None}), ('scaler_channels_chan10_preset', {'source': 'PV:sky:scaler1.PR10', 'dtype': 'number', 'shape': [], 'units': '', 'lower_ctrl_limit': 0.0, 'upper_ctrl_limit': 0.0, 'precision': 0}), ('scaler_channels_chan10_gate', {'source': 'PV:sky:scaler1.G10', 'dtype': 'string', 'shape': [], 'units': None, 'lower_ctrl_limit': None, 'upper_ctrl_limit': None, 'enum_strs': ('N', 'Y')}), ('scaler_channels_chan11_chname', {'source': 'PV:sky:scaler1.NM11', 'dtype': 'string', 'shape': [], 'units': None, 'lower_ctrl_limit': None, 'upper_ctrl_limit': None}), ('scaler_channels_chan11_preset', {'source': 'PV:sky:scaler1.PR11', 'dtype': 'number', 'shape': [], 'units': '', 'lower_ctrl_limit': 0.0, 'upper_ctrl_limit': 0.0, 'precision': 0}), ('scaler_channels_chan11_gate', {'source': 'PV:sky:scaler1.G11', 'dtype': 'string', 'shape': [], 'units': None, 'lower_ctrl_limit': None, 'upper_ctrl_limit': None, 'enum_strs': ('N', 'Y')}), ('scaler_count_mode', {'source': 'PV:sky:scaler1.CONT', 'dtype': 'string', 'shape': [], 'units': None, 'lower_ctrl_limit': None, 'upper_ctrl_limit': None, 'enum_strs': ('OneShot', 'AutoCount')}), ('scaler_delay', {'source': 'PV:sky:scaler1.DLY', 'dtype': 'number', 'shape': [], 'units': '', 'lower_ctrl_limit': 0.0, 'upper_ctrl_limit': 0.0, 'precision': 3}), ('scaler_auto_count_delay', {'source': 'PV:sky:scaler1.DLY1', 'dtype': 'number', 'shape': [], 'units': '', 'lower_ctrl_limit': 0.0, 'upper_ctrl_limit': 0.0, 'precision': 3}), ('scaler_freq', {'source': 'PV:sky:scaler1.FREQ', 'dtype': 'number', 'shape': [], 'units': '', 'lower_ctrl_limit': 0.0, 'upper_ctrl_limit': 0.0, 'precision': 3}), ('scaler_preset_time', {'source': 'PV:sky:scaler1.TP', 'dtype': 'number', 'shape': [], 'units': '', 'lower_ctrl_limit': 0.0, 'upper_ctrl_limit': 0.0, 'precision': 3}), ('scaler_auto_count_time', {'source': 'PV:sky:scaler1.TP1', 'dtype': 'number', 'shape': [], 'units': '', 'lower_ctrl_limit': 0.0, 'upper_ctrl_limit': 0.0, 'precision': 3}), ('scaler_egu', {'source': 'PV:sky:scaler1.EGU', 'dtype': 'string', 'shape': [], 'units': None, 'lower_ctrl_limit': None, 'upper_ctrl_limit': None})])}}\n",
      "\t name primary\n",
      "\t hints {'m1': {'fields': ['m1']}, 'scaler': {'fields': ['clock', 'I0', 'scint', 'ROI1', 'ROI2']}}\n",
      "\t object_keys {'m1': ['m1', 'm1_user_setpoint'], 'scaler': ['clock', 'I0', 'scint', 'ROI1', 'ROI2', 'scaler_time']}\n",
      "~~~~~~~~~~~~~~~~~~~~\n",
      "event 7\n",
      "\t descriptor 51add3ec-9901-41b2-94d8-0f9117059e0e\n",
      "\t time 1588881463.3682082\n",
      "\t data {'clock': 16000000.0, 'I0': 6.0, 'scint': 7.0, 'ROI1': 0.0, 'ROI2': 0.0, 'scaler_time': 1.6, 'm1': -1.0, 'm1_user_setpoint': -1.0}\n",
      "\t timestamps {'clock': 1588881463.310079, 'I0': 1588881463.310079, 'scint': 1588881463.310079, 'ROI1': 1588881463.310079, 'ROI2': 1588881463.310079, 'scaler_time': 1588881463.310079, 'm1': 1588881461.591036, 'm1_user_setpoint': 1588881461.591036}\n",
      "\t seq_num 1\n",
      "\t uid 3a744d07-dbe4-4d8f-9483-b704c21ff0c6\n",
      "\t filled {}\n",
      "~~~~~~~~~~~~~~~~~~~~\n"
     ]
    },
    {
     "name": "stdout",
     "output_type": "stream",
     "text": [
      "event 7\n",
      "\t descriptor 51add3ec-9901-41b2-94d8-0f9117059e0e\n",
      "\t time 1588881465.727281\n",
      "\t data {'clock': 15000000.0, 'I0': 8.0, 'scint': 8.0, 'ROI1': 0.0, 'ROI2': 0.0, 'scaler_time': 1.5, 'm1': -0.5, 'm1_user_setpoint': -0.5}\n",
      "\t timestamps {'clock': 1588881465.718302, 'I0': 1588881465.718302, 'scint': 1588881465.718302, 'ROI1': 1588881465.718302, 'ROI2': 1588881465.718302, 'scaler_time': 1588881465.718302, 'm1': 1588881464.094383, 'm1_user_setpoint': 1588881464.094383}\n",
      "\t seq_num 2\n",
      "\t uid 92b2349d-504c-4eee-b6fd-3a30097a60f1\n",
      "\t filled {}\n",
      "~~~~~~~~~~~~~~~~~~~~\n",
      "event 7\n",
      "\t descriptor 51add3ec-9901-41b2-94d8-0f9117059e0e\n",
      "\t time 1588881468.1306133\n",
      "\t data {'clock': 16000000.0, 'I0': 5.0, 'scint': 7.0, 'ROI1': 0.0, 'ROI2': 0.0, 'scaler_time': 1.6, 'm1': 0.0, 'm1_user_setpoint': 0.0}\n",
      "\t timestamps {'clock': 1588881468.121795, 'I0': 1588881468.121795, 'scint': 1588881468.121795, 'ROI1': 1588881468.121795, 'ROI2': 1588881468.121795, 'scaler_time': 1588881468.121795, 'm1': 1588881466.497749, 'm1_user_setpoint': 1588881466.497749}\n",
      "\t seq_num 3\n",
      "\t uid d4d36155-d579-4561-b398-62fd59b7e483\n",
      "\t filled {}\n",
      "~~~~~~~~~~~~~~~~~~~~\n",
      "event 7\n",
      "\t descriptor 51add3ec-9901-41b2-94d8-0f9117059e0e\n",
      "\t time 1588881470.5342917\n",
      "\t data {'clock': 16000000.0, 'I0': 9.0, 'scint': 9.0, 'ROI1': 0.0, 'ROI2': 0.0, 'scaler_time': 1.6, 'm1': 0.5, 'm1_user_setpoint': 0.5}\n",
      "\t timestamps {'clock': 1588881470.525076, 'I0': 1588881470.525076, 'scint': 1588881470.525076, 'ROI1': 1588881470.525076, 'ROI2': 1588881470.525076, 'scaler_time': 1588881470.525076, 'm1': 1588881468.901007, 'm1_user_setpoint': 1588881468.901007}\n",
      "\t seq_num 4\n",
      "\t uid 19901dd6-151b-45b7-9d05-48630a46a585\n",
      "\t filled {}\n",
      "~~~~~~~~~~~~~~~~~~~~\n",
      "event 7\n",
      "\t descriptor 51add3ec-9901-41b2-94d8-0f9117059e0e\n",
      "\t time 1588881472.9376633\n",
      "\t data {'clock': 16000000.0, 'I0': 7.0, 'scint': 8.0, 'ROI1': 0.0, 'ROI2': 0.0, 'scaler_time': 1.6, 'm1': 1.0, 'm1_user_setpoint': 1.0}\n",
      "\t timestamps {'clock': 1588881472.928444, 'I0': 1588881472.928444, 'scint': 1588881472.928444, 'ROI1': 1588881472.928444, 'ROI2': 1588881472.928444, 'scaler_time': 1588881472.928444, 'm1': 1588881471.304396, 'm1_user_setpoint': 1588881471.304396}\n",
      "\t seq_num 5\n",
      "\t uid 5f1ff6aa-33e0-420c-bae8-d5ff0b1cfcf1\n",
      "\t filled {}\n",
      "~~~~~~~~~~~~~~~~~~~~\n",
      "stop 6\n",
      "\t run_start 4a47afc8-ab40-4398-9d0e-5c3adbdc4b1d\n",
      "\t time 1588881472.9450603\n",
      "\t uid 4b5c2836-cab4-4b1f-a8ea-15a520ef085e\n",
      "\t exit_status success\n",
      "\t reason \n",
      "\t num_events {'primary': 5}\n",
      "~~~~~~~~~~~~~~~~~~~~\n"
     ]
    },
    {
     "data": {
      "text/plain": [
       "('4a47afc8-ab40-4398-9d0e-5c3adbdc4b1d',)"
      ]
     },
     "execution_count": 8,
     "metadata": {},
     "output_type": "execute_result"
    }
   ],
   "source": [
    "RE(bp.scan([scaler], m1, -1, 1, 5), myCallback)"
   ]
  },
  {
   "cell_type": "markdown",
   "metadata": {},
   "source": [
    "# Summary\n",
    "\n",
    "We'll show this code as a python program:\n",
    "\n",
    "```\n",
    "#!/usr/bin/env python\n",
    "\n",
    "\"lesson 2: motor\"\n",
    "\n",
    "from ophyd import EpicsMotor\n",
    "from ophyd.scaler import ScalerCH\n",
    "from bluesky import RunEngine\n",
    "import bluesky.plans as bp\n",
    "from apstools.devices import use_EPICS_scaler_channels\n",
    "\n",
    "\n",
    "def myCallback(key, doc):\n",
    "    print(key, len(doc))\n",
    "    for k, v in doc.items():\n",
    "        print(\"\\t\", k, v)\n",
    "    print(\"~~~~~~~~~~~~~~~~~\")\n",
    "\n",
    "\n",
    "m1 = EpicsMotor(\"sky:m1\", name=\"m1\")\n",
    "m1.wait_for_connection()\n",
    "print(m1.position)\n",
    "\n",
    "scaler = ScalerCH(\"sky:scaler1\", name=\"scaler\")\n",
    "scaler.wait_for_connection()\n",
    "\n",
    "\n",
    "# Since there are no detectors actually connected to this scaler,\n",
    "# we can change names at our choice.  A real scaler will have\n",
    "# detectors connected to specific channels and we should not modify\n",
    "# these names without regard to how signals are physically connected.\n",
    "scaler.channels.chan01.chname.put(\"clock\")\n",
    "scaler.channels.chan02.chname.put(\"I0\")\n",
    "scaler.channels.chan03.chname.put(\"scint\")\n",
    "scaler.channels.chan04.chname.put(\"\")\n",
    "scaler.channels.chan05.chname.put(\"\")\n",
    "scaler.channels.chan06.chname.put(\"\")\n",
    "scaler.channels.chan07.chname.put(\"\")\n",
    "scaler.channels.chan08.chname.put(\"\")\n",
    "scaler.channels.chan09.chname.put(\"\")\n",
    "\n",
    "\n",
    "scaler.match_names()\n",
    "use_EPICS_scaler_channels(scaler)\n",
    "print(scaler.read())\n",
    "\n",
    "RE = RunEngine({})\n",
    "\n",
    "RE(bp.scan([scaler], m1, -1, 1, 5))\n",
    "\n",
    "RE(bp.scan([scaler], m1, -1, 1, 5), myCallback)\n",
    "```"
   ]
  }
 ],
 "metadata": {
  "kernelspec": {
   "display_name": "Python 3",
   "language": "python",
   "name": "python3"
  },
  "language_info": {
   "codemirror_mode": {
    "name": "ipython",
    "version": 3
   },
   "file_extension": ".py",
   "mimetype": "text/x-python",
   "name": "python",
   "nbconvert_exporter": "python",
   "pygments_lexer": "ipython3",
   "version": "3.7.7"
  }
 },
 "nbformat": 4,
 "nbformat_minor": 2
}
