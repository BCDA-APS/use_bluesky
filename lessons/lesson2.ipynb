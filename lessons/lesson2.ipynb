{
 "cells": [
  {
   "cell_type": "markdown",
   "metadata": {},
   "source": [
    "# Lesson 2 - motor and scan\n",
    "\n",
    "In this lesson, we'll work with a motor (for precise positioning) in [Bluesky](http://nsls-ii.github.io/bluesky/) and [related tools](http://nsls-ii.github.io/).\n",
    "\n",
    "First, we'll connect with an EPICS motor (using [ophyd](http://nsls-ii.github.io/ophyd/)), and then use the Bluesky software to scan the motor (with the scaler from [lesson 1](lesson1.ipynb).\n",
    "\n",
    "Load `ophyd` device support for the `EpicsMotor` and connect with one EPICS motor channel.  We have a synApps (v6.1) XXX-style IOC with the prefix `sky:`. It has a scaler, 16 soft channel motors, and some other support we'll ignore in this lesson."
   ]
  },
  {
   "cell_type": "code",
   "execution_count": 1,
   "metadata": {},
   "outputs": [],
   "source": [
    "from ophyd import EpicsMotor\n",
    "m1 = EpicsMotor(\"sky:m1\", name=\"m1\")\n",
    "m1.wait_for_connection()"
   ]
  },
  {
   "cell_type": "markdown",
   "metadata": {},
   "source": [
    "Show the current value fo the motor (that's the `.RBV` field, in case you were interested)."
   ]
  },
  {
   "cell_type": "code",
   "execution_count": 2,
   "metadata": {},
   "outputs": [
    {
     "output_type": "execute_result",
     "data": {
      "text/plain": "5.0"
     },
     "metadata": {},
     "execution_count": 2
    }
   ],
   "source": [
    "m1.position"
   ]
  },
  {
   "cell_type": "markdown",
   "metadata": {},
   "source": [
    "Connect the scaler (as was done in lesson 1).  Define some of the chaannel names and clear out others."
   ]
  },
  {
   "cell_type": "code",
   "execution_count": 3,
   "metadata": {},
   "outputs": [],
   "source": [
    "from ophyd.scaler import ScalerCH\n",
    "scaler = ScalerCH(\"sky:scaler1\", name=\"scaler\")\n",
    "scaler.wait_for_connection()\n",
    "\n",
    "# Since there are no detectors actually connected to this scaler,\n",
    "# we can change names at our choice.  A real scaler will have\n",
    "# detectors connected to specific channels and we should not modify\n",
    "# these names without regard to how signals are physically connected.\n",
    "scaler.channels.chan01.chname.put(\"clock\")\n",
    "scaler.channels.chan02.chname.put(\"I0\")\n",
    "scaler.channels.chan03.chname.put(\"scint\")\n",
    "scaler.channels.chan04.chname.put(\"\")\n",
    "scaler.channels.chan05.chname.put(\"\")\n",
    "scaler.channels.chan06.chname.put(\"\")\n",
    "scaler.channels.chan07.chname.put(\"\")\n",
    "scaler.channels.chan08.chname.put(\"\")\n",
    "scaler.channels.chan09.chname.put(\"\")"
   ]
  },
  {
   "cell_type": "markdown",
   "metadata": {},
   "source": [
    "Use only the channels with EPICS names, those are the *interesting* channels."
   ]
  },
  {
   "cell_type": "code",
   "execution_count": 4,
   "metadata": {},
   "outputs": [
    {
     "output_type": "execute_result",
     "data": {
      "text/plain": "OrderedDict([('clock', {'value': 5000000.0, 'timestamp': 1587534493.32884}),\n             ('I0', {'value': 2.0, 'timestamp': 1587534493.32884}),\n             ('scint', {'value': 1.0, 'timestamp': 1587534493.32884}),\n             ('scaler_time', {'value': 0.5, 'timestamp': 1587534493.32884})])"
     },
     "metadata": {},
     "execution_count": 4
    }
   ],
   "source": [
    "from apstools.devices import use_EPICS_scaler_channels\n",
    "\n",
    "scaler.match_names()\n",
    "use_EPICS_scaler_channels(scaler)\n",
    "scaler.read()"
   ]
  },
  {
   "cell_type": "markdown",
   "metadata": {},
   "source": [
    "Create a RunEngine but do not connect it with a data collection strategy.  That will come in the next lessons."
   ]
  },
  {
   "cell_type": "code",
   "execution_count": 5,
   "metadata": {},
   "outputs": [],
   "source": [
    "from bluesky import RunEngine\n",
    "import bluesky.plans as bp\n",
    "RE = RunEngine({})"
   ]
  },
  {
   "cell_type": "markdown",
   "metadata": {},
   "source": [
    "Run a step scan using the motor and the scaler."
   ]
  },
  {
   "cell_type": "code",
   "execution_count": 6,
   "metadata": {},
   "outputs": [
    {
     "output_type": "execute_result",
     "data": {
      "text/plain": "('444eac01-8329-4443-9a94-b7bba1c0f91b',)"
     },
     "metadata": {},
     "execution_count": 6
    }
   ],
   "source": [
    "RE(bp.scan([scaler], m1, -1, 1, 5))"
   ]
  },
  {
   "cell_type": "markdown",
   "metadata": {},
   "source": [
    "Ah, yes.  Nothing to see here since we did not setup anything to receive the *documents* from the RunEngine.  Here's the basic callback from lesson 1."
   ]
  },
  {
   "cell_type": "code",
   "execution_count": 7,
   "metadata": {},
   "outputs": [],
   "source": [
    "def myCallback(key, doc):\n",
    "    print(key, len(doc))\n",
    "    for k, v in doc.items():\n",
    "        print(\"\\t\", k, v)"
   ]
  },
  {
   "cell_type": "markdown",
   "metadata": {},
   "source": [
    "Repeat the same scan but handle the document stream with `myCallback()`."
   ]
  },
  {
   "cell_type": "code",
   "execution_count": 8,
   "metadata": {},
   "outputs": [
    {
     "output_type": "stream",
     "name": "stdout",
     "text": "start 15\n\t uid 8fd6dfc2-202e-4426-b1f1-905664bcb1cd\n\t time 1587534618.9915764\n\t versions {'ophyd': '1.4.0rc4', 'bluesky': '1.6.0rc4'}\n\t scan_id 2\n\t plan_type generator\n\t plan_name scan\n\t detectors ['scaler']\n\t motors ('m1',)\n\t num_points 5\n\t num_intervals 4\n\t plan_args {'detectors': [\"ScalerCH(prefix='sky:scaler1', name='scaler', read_attrs=['channels', 'channels.chan01', 'channels.chan01.s', 'channels.chan02', 'channels.chan02.s', 'channels.chan03', 'channels.chan03.s', 'time'], configuration_attrs=['channels', 'channels.chan01', 'channels.chan01.chname', 'channels.chan02', 'channels.chan02.gate', 'channels.chan03', 'channels.chan03.chname', 'channels.chan03.preset', 'count_mode', 'delay', 'auto_count_delay', 'freq', 'preset_time', 'auto_count_time', 'egu'])\"], 'num': 5, 'args': [\"EpicsMotor(prefix='sky:m1', name='m1', settle_time=0.0, timeout=None, read_attrs=['user_readback', 'user_setpoint'], configuration_attrs=['user_offset', 'user_offset_dir', 'velocity', 'acceleration', 'motor_egu'])\", -1, 1], 'per_step': 'None'}\n\t hints {'dimensions': [(['m1'], 'primary')]}\n\t plan_pattern inner_product\n\t plan_pattern_module bluesky.plan_patterns\n\t plan_pattern_args {'num': 5, 'args': [\"EpicsMotor(prefix='sky:m1', name='m1', settle_time=0.0, timeout=None, read_attrs=['user_readback', 'user_setpoint'], configuration_attrs=['user_offset', 'user_offset_dir', 'velocity', 'acceleration', 'motor_egu'])\", -1, 1]}\ndescriptor 8\n\t run_start 8fd6dfc2-202e-4426-b1f1-905664bcb1cd\n\t time 1587534621.957446\n\t data_keys {'m1': {'source': 'PV:sky:m1.RBV', 'dtype': 'number', 'shape': [], 'units': 'degrees', 'lower_ctrl_limit': -32000.0, 'upper_ctrl_limit': 32000.0, 'precision': 5, 'object_name': 'm1'}, 'm1_user_setpoint': {'source': 'PV:sky:m1.VAL', 'dtype': 'number', 'shape': [], 'units': 'degrees', 'lower_ctrl_limit': -32000.0, 'upper_ctrl_limit': 32000.0, 'precision': 5, 'object_name': 'm1'}, 'clock': {'source': 'PV:sky:scaler1.S1', 'dtype': 'number', 'shape': [], 'units': '', 'lower_ctrl_limit': 0.0, 'upper_ctrl_limit': 0.0, 'precision': 0, 'object_name': 'scaler'}, 'I0': {'source': 'PV:sky:scaler1.S2', 'dtype': 'number', 'shape': [], 'units': '', 'lower_ctrl_limit': 0.0, 'upper_ctrl_limit': 0.0, 'precision': 0, 'object_name': 'scaler'}, 'scint': {'source': 'PV:sky:scaler1.S3', 'dtype': 'number', 'shape': [], 'units': '', 'lower_ctrl_limit': 0.0, 'upper_ctrl_limit': 0.0, 'precision': 0, 'object_name': 'scaler'}, 'scaler_time': {'source': 'PV:sky:scaler1.T', 'dtype': 'number', 'shape': [], 'units': '', 'lower_ctrl_limit': 0.0, 'upper_ctrl_limit': 0.0, 'precision': 3, 'object_name': 'scaler'}}\n\t uid 15030dc9-bf8d-4462-bd24-24d9187d67d3\n\t configuration {'m1': {'data': {'m1_user_offset': 0.0, 'm1_user_offset_dir': 0, 'm1_velocity': 1.0, 'm1_acceleration': 0.2, 'm1_motor_egu': 'degrees'}, 'timestamps': {'m1_user_offset': 1587534621.271203, 'm1_user_offset_dir': 1587534621.271203, 'm1_velocity': 1587534621.271203, 'm1_acceleration': 1587534621.271203, 'm1_motor_egu': 1587534621.271203}, 'data_keys': OrderedDict([('m1_user_offset', {'source': 'PV:sky:m1.OFF', 'dtype': 'number', 'shape': [], 'units': 'degrees', 'lower_ctrl_limit': -1e+300, 'upper_ctrl_limit': 1e+300, 'precision': 5}), ('m1_user_offset_dir', {'source': 'PV:sky:m1.DIR', 'dtype': 'integer', 'shape': [], 'units': None, 'lower_ctrl_limit': None, 'upper_ctrl_limit': None, 'enum_strs': ('Pos', 'Neg')}), ('m1_velocity', {'source': 'PV:sky:m1.VELO', 'dtype': 'number', 'shape': [], 'units': 'degrees', 'lower_ctrl_limit': 0.1, 'upper_ctrl_limit': 0.0, 'precision': 5}), ('m1_acceleration', {'source': 'PV:sky:m1.ACCL', 'dtype': 'number', 'shape': [], 'units': 'sec', 'lower_ctrl_limit': -1e+300, 'upper_ctrl_limit': 1e+300, 'precision': 5}), ('m1_motor_egu', {'source': 'PV:sky:m1.EGU', 'dtype': 'string', 'shape': [], 'units': None, 'lower_ctrl_limit': None, 'upper_ctrl_limit': None})])}, 'scaler': {'data': {'scaler_channels_chan01_chname': 'clock', 'scaler_channels_chan02_gate': 'N', 'scaler_channels_chan03_chname': 'scint', 'scaler_channels_chan03_preset': 0.0, 'scaler_count_mode': 'OneShot', 'scaler_delay': 0.0, 'scaler_auto_count_delay': 0.0, 'scaler_freq': 10000000.0, 'scaler_preset_time': 0.4, 'scaler_auto_count_time': 1.0, 'scaler_egu': ''}, 'timestamps': {'scaler_channels_chan01_chname': 1587534621.939456, 'scaler_channels_chan02_gate': 1587534621.939456, 'scaler_channels_chan03_chname': 1587534621.939456, 'scaler_channels_chan03_preset': 1587534621.939456, 'scaler_count_mode': 1587534621.939456, 'scaler_delay': 1587534621.939456, 'scaler_auto_count_delay': 1587534621.939456, 'scaler_freq': 1587534621.939456, 'scaler_preset_time': 1587534621.939456, 'scaler_auto_count_time': 1587534621.939456, 'scaler_egu': 1587534621.939456}, 'data_keys': OrderedDict([('scaler_channels_chan01_chname', {'source': 'PV:sky:scaler1.NM1', 'dtype': 'string', 'shape': [], 'units': None, 'lower_ctrl_limit': None, 'upper_ctrl_limit': None}), ('scaler_channels_chan02_gate', {'source': 'PV:sky:scaler1.G2', 'dtype': 'string', 'shape': [], 'units': None, 'lower_ctrl_limit': None, 'upper_ctrl_limit': None, 'enum_strs': ('N', 'Y')}), ('scaler_channels_chan03_chname', {'source': 'PV:sky:scaler1.NM3', 'dtype': 'string', 'shape': [], 'units': None, 'lower_ctrl_limit': None, 'upper_ctrl_limit': None}), ('scaler_channels_chan03_preset', {'source': 'PV:sky:scaler1.PR3', 'dtype': 'number', 'shape': [], 'units': '', 'lower_ctrl_limit': 0.0, 'upper_ctrl_limit': 0.0, 'precision': 0}), ('scaler_count_mode', {'source': 'PV:sky:scaler1.CONT', 'dtype': 'string', 'shape': [], 'units': None, 'lower_ctrl_limit': None, 'upper_ctrl_limit': None, 'enum_strs': ('OneShot', 'AutoCount')}), ('scaler_delay', {'source': 'PV:sky:scaler1.DLY', 'dtype': 'number', 'shape': [], 'units': '', 'lower_ctrl_limit': 0.0, 'upper_ctrl_limit': 0.0, 'precision': 3}), ('scaler_auto_count_delay', {'source': 'PV:sky:scaler1.DLY1', 'dtype': 'number', 'shape': [], 'units': '', 'lower_ctrl_limit': 0.0, 'upper_ctrl_limit': 0.0, 'precision': 3}), ('scaler_freq', {'source': 'PV:sky:scaler1.FREQ', 'dtype': 'number', 'shape': [], 'units': '', 'lower_ctrl_limit': 0.0, 'upper_ctrl_limit': 0.0, 'precision': 3}), ('scaler_preset_time', {'source': 'PV:sky:scaler1.TP', 'dtype': 'number', 'shape': [], 'units': '', 'lower_ctrl_limit': 0.0, 'upper_ctrl_limit': 0.0, 'precision': 3}), ('scaler_auto_count_time', {'source': 'PV:sky:scaler1.TP1', 'dtype': 'number', 'shape': [], 'units': '', 'lower_ctrl_limit': 0.0, 'upper_ctrl_limit': 0.0, 'precision': 3}), ('scaler_egu', {'source': 'PV:sky:scaler1.EGU', 'dtype': 'string', 'shape': [], 'units': None, 'lower_ctrl_limit': None, 'upper_ctrl_limit': None})])}}\n\t name primary\n\t hints {'m1': {'fields': ['m1']}, 'scaler': {'fields': ['clock', 'I0', 'scint']}}\n\t object_keys {'m1': ['m1', 'm1_user_setpoint'], 'scaler': ['clock', 'I0', 'scint', 'scaler_time']}\nevent 7\n\t descriptor 15030dc9-bf8d-4462-bd24-24d9187d67d3\n\t time 1587534621.9741306\n\t data {'clock': 5000000.0, 'I0': 3.0, 'scint': 2.0, 'scaler_time': 0.5, 'm1': -1.0, 'm1_user_setpoint': -1.0}\n\t timestamps {'clock': 1587534621.939456, 'I0': 1587534621.939456, 'scint': 1587534621.939456, 'scaler_time': 1587534621.939456, 'm1': 1587534621.171082, 'm1_user_setpoint': 1587534621.271203}\n\t seq_num 1\n\t uid f4854914-33f4-4f8d-9d8f-0879a3bb71bc\n\t filled {}\nevent 7\n\t descriptor 15030dc9-bf8d-4462-bd24-24d9187d67d3\n\t time 1587534623.4463768\n\t data {'clock': 5000000.0, 'I0': 3.0, 'scint': 3.0, 'scaler_time': 0.5, 'm1': -0.5, 'm1_user_setpoint': -0.5}\n\t timestamps {'clock': 1587534623.442234, 'I0': 1587534623.442234, 'scint': 1587534623.442234, 'scaler_time': 1587534623.442234, 'm1': 1587534622.672724, 'm1_user_setpoint': 1587534622.772851}\n\t seq_num 2\n\t uid e5cf7b27-5e0d-4d1f-ad43-2adb05f1c858\n\t filled {}\nevent 7\n\t descriptor 15030dc9-bf8d-4462-bd24-24d9187d67d3\n\t time 1587534624.8470545\n\t data {'clock': 5000000.0, 'I0': 2.0, 'scint': 1.0, 'scaler_time': 0.5, 'm1': 0.0, 'm1_user_setpoint': 0.0}\n\t timestamps {'clock': 1587534624.843859, 'I0': 1587534624.843859, 'scint': 1587534624.843859, 'scaler_time': 1587534624.843859, 'm1': 1587534624.074414, 'm1_user_setpoint': 1587534624.174532}\n\t seq_num 3\n\t uid b91ff1ed-554f-4b37-883b-3f57b7437e50\n\t filled {}\nevent 7\n\t descriptor 15030dc9-bf8d-4462-bd24-24d9187d67d3\n\t time 1587534626.2496295\n\t data {'clock': 5000000.0, 'I0': 2.0, 'scint': 3.0, 'scaler_time': 0.5, 'm1': 0.5, 'm1_user_setpoint': 0.5}\n\t timestamps {'clock': 1587534626.244306, 'I0': 1587534626.244306, 'scint': 1587534626.244306, 'scaler_time': 1587534626.244306, 'm1': 1587534625.475885, 'm1_user_setpoint': 1587534625.575995}\n\t seq_num 4\n\t uid a3c2f907-e306-4eb1-bb53-53bf184720f9\n\t filled {}\nevent 7\n\t descriptor 15030dc9-bf8d-4462-bd24-24d9187d67d3\n\t time 1587534627.6516507\n\t data {'clock': 5000000.0, 'I0': 1.0, 'scint': 2.0, 'scaler_time': 0.5, 'm1': 1.0, 'm1_user_setpoint': 1.0}\n\t timestamps {'clock': 1587534627.646813, 'I0': 1587534627.646813, 'scint': 1587534627.646813, 'scaler_time': 1587534627.646813, 'm1': 1587534626.877455, 'm1_user_setpoint': 1587534626.977576}\n\t seq_num 5\n\t uid cbbad147-5cfc-4cdd-a9ff-c330b5ffe8e2\n\t filled {}\nstop 6\n\t run_start 8fd6dfc2-202e-4426-b1f1-905664bcb1cd\n\t time 1587534627.6543977\n\t uid 39746c41-dc88-4d0a-8db3-9b4b6e6c2d9d\n\t exit_status success\n\t reason \n\t num_events {'primary': 5}\n"
    },
    {
     "output_type": "execute_result",
     "data": {
      "text/plain": "('8fd6dfc2-202e-4426-b1f1-905664bcb1cd',)"
     },
     "metadata": {},
     "execution_count": 8
    }
   ],
   "source": [
    "RE(bp.scan([scaler], m1, -1, 1, 5), myCallback)"
   ]
  },
  {
   "cell_type": "markdown",
   "metadata": {},
   "source": [
    "# Summary\n",
    "\n",
    "We'll show this code as a python program:\n",
    "\n",
    "```\n",
    "#!/APSshare/anaconda3/BlueSky/bin/python\n",
    "\n",
    "\"lesson 2: motor\"\n",
    "\n",
    "from ophyd import EpicsMotor\n",
    "from ophyd.scaler import ScalerCH\n",
    "from bluesky import RunEngine\n",
    "import bluesky.plans as bp\n",
    "from apstools.devices import use_EPICS_scaler_channels\n",
    "\n",
    "\n",
    "def myCallback(key, doc):\n",
    "    print(key, len(doc))\n",
    "    for k, v in doc.items():\n",
    "        print(\"\\t\", k, v)\n",
    "    print(\"~~~~~~~~~~~~~~~~~\")\n",
    "\n",
    "\n",
    "m1 = EpicsMotor(\"sky:m1\", name=\"m1\")\n",
    "m1.wait_for_connection()\n",
    "print(m1.position)\n",
    "\n",
    "scaler = ScalerCH(\"sky:scaler1\", name=\"scaler\")\n",
    "scaler.wait_for_connection()\n",
    "\n",
    "\n",
    "# Since there are no detectors actually connected to this scaler,\n",
    "# we can change names at our choice.  A real scaler will have\n",
    "# detectors connected to specific channels and we should not modify\n",
    "# these names without regard to how signals are physically connected.\n",
    "scaler.channels.chan01.chname.put(\"clock\")\n",
    "scaler.channels.chan02.chname.put(\"I0\")\n",
    "scaler.channels.chan03.chname.put(\"scint\")\n",
    "scaler.channels.chan04.chname.put(\"\")\n",
    "scaler.channels.chan05.chname.put(\"\")\n",
    "scaler.channels.chan06.chname.put(\"\")\n",
    "scaler.channels.chan07.chname.put(\"\")\n",
    "scaler.channels.chan08.chname.put(\"\")\n",
    "scaler.channels.chan09.chname.put(\"\")\n",
    "\n",
    "\n",
    "scaler.match_names()\n",
    "use_EPICS_scaler_channels(scaler)\n",
    "print(scaler.read())\n",
    "\n",
    "RE = RunEngine({})\n",
    "\n",
    "RE(bp.scan([scaler], m1, -1, 1, 5))\n",
    "\n",
    "RE(bp.scan([scaler], m1, -1, 1, 5), myCallback)\n",
    "```"
   ]
  }
 ],
 "metadata": {
  "kernelspec": {
   "display_name": "Python 3",
   "language": "python",
   "name": "python3"
  },
  "language_info": {
   "codemirror_mode": {
    "name": "ipython",
    "version": 3
   },
   "file_extension": ".py",
   "mimetype": "text/x-python",
   "name": "python",
   "nbconvert_exporter": "python",
   "pygments_lexer": "ipython3",
   "version": "3.7.7-final"
  }
 },
 "nbformat": 4,
 "nbformat_minor": 2
}