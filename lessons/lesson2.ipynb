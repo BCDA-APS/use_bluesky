{
 "cells": [
  {
   "cell_type": "markdown",
   "metadata": {},
   "source": [
    "# Lesson 2 : motor and scan\n",
    "\n",
    "In this lesson, we'll work with a motor (for precise positioning) in [Bluesky](http://nsls-ii.github.io/bluesky/) and [related tools](http://nsls-ii.github.io/).\n",
    "\n",
    "First, we'll connect with an EPICS motor (using [ophyd](http://nsls-ii.github.io/ophyd/)), and then use the Bluesky software to scan the motor (with the scaler from [lesson 1](lesson1.ipynb)).\n",
    "\n",
    "Load `ophyd` device support for the `EpicsMotor` and connect with one EPICS motor channel.  We have a synApps (v6.1) XXX-style IOC with the prefix `sky:`. It has a scaler, 16 soft channel motors, and some other support we'll ignore in this lesson.\n",
    "\n",
    "**note**:  This tutorial expects to find an EPICS IOC on the local network configured as a synApps [`xxx`](https://github.com/epics-modules/xxx) IOC with prefix `sky:`.  A docker container is available to provide this IOC.  See this URL for instructions:  https://github.com/prjemian/epics-docker/blob/master/n3_synApps/README.md"
   ]
  },
  {
   "cell_type": "code",
   "execution_count": 1,
   "metadata": {},
   "outputs": [],
   "source": [
    "from ophyd import EpicsMotor\n",
    "m1 = EpicsMotor(\"sky:m1\", name=\"m1\")\n",
    "m1.wait_for_connection()"
   ]
  },
  {
   "cell_type": "markdown",
   "metadata": {},
   "source": [
    "Show the current value fo the motor (that's the `.RBV` field, in case you were interested)."
   ]
  },
  {
   "cell_type": "code",
   "execution_count": 2,
   "metadata": {},
   "outputs": [
    {
     "data": {
      "text/plain": [
       "5.0"
      ]
     },
     "execution_count": 2,
     "metadata": {},
     "output_type": "execute_result"
    }
   ],
   "source": [
    "m1.position"
   ]
  },
  {
   "cell_type": "markdown",
   "metadata": {},
   "source": [
    "Connect the scaler (as was done in lesson 1).  Define some of the chaannel names and clear out others."
   ]
  },
  {
   "cell_type": "code",
   "execution_count": 3,
   "metadata": {},
   "outputs": [],
   "source": [
    "from ophyd.scaler import ScalerCH\n",
    "scaler = ScalerCH(\"sky:scaler1\", name=\"scaler\")\n",
    "scaler.wait_for_connection()\n",
    "\n",
    "# Since there are no detectors actually connected to this scaler,\n",
    "# we can change names at our choice.  A real scaler will have\n",
    "# detectors connected to specific channels and we should not modify\n",
    "# these names without regard to how signals are physically connected.\n",
    "scaler.channels.chan01.chname.put(\"clock\")\n",
    "scaler.channels.chan02.chname.put(\"I0\")\n",
    "scaler.channels.chan03.chname.put(\"scint\")\n",
    "scaler.channels.chan04.chname.put(\"\")\n",
    "scaler.channels.chan05.chname.put(\"\")\n",
    "scaler.channels.chan06.chname.put(\"\")\n",
    "scaler.channels.chan07.chname.put(\"\")\n",
    "scaler.channels.chan08.chname.put(\"\")\n",
    "scaler.channels.chan09.chname.put(\"\")"
   ]
  },
  {
   "cell_type": "markdown",
   "metadata": {},
   "source": [
    "Use only the channels with EPICS names, those are the *interesting* channels."
   ]
  },
  {
   "cell_type": "code",
   "execution_count": 4,
   "metadata": {},
   "outputs": [
    {
     "data": {
      "text/plain": [
       "OrderedDict([('clock', {'value': 5000000.0, 'timestamp': 1588797334.876972}),\n",
       "             ('I0', {'value': 2.0, 'timestamp': 1588797334.876972}),\n",
       "             ('scint', {'value': 2.0, 'timestamp': 1588797334.876972}),\n",
       "             ('ROI1', {'value': 0.0, 'timestamp': 1588797334.876972}),\n",
       "             ('ROI2', {'value': 0.0, 'timestamp': 1588797334.876972}),\n",
       "             ('scaler_time', {'value': 0.5, 'timestamp': 1588797334.876972})])"
      ]
     },
     "execution_count": 4,
     "metadata": {},
     "output_type": "execute_result"
    }
   ],
   "source": [
    "from apstools.devices import use_EPICS_scaler_channels\n",
    "\n",
    "scaler.match_names()\n",
    "use_EPICS_scaler_channels(scaler)\n",
    "scaler.read()"
   ]
  },
  {
   "cell_type": "markdown",
   "metadata": {},
   "source": [
    "Create a RunEngine but do not connect it with a data collection strategy.  That will come in the next lessons."
   ]
  },
  {
   "cell_type": "code",
   "execution_count": 5,
   "metadata": {},
   "outputs": [],
   "source": [
    "from bluesky import RunEngine\n",
    "import bluesky.plans as bp\n",
    "RE = RunEngine({})"
   ]
  },
  {
   "cell_type": "markdown",
   "metadata": {},
   "source": [
    "Run a step scan using the motor and the scaler."
   ]
  },
  {
   "cell_type": "code",
   "execution_count": 6,
   "metadata": {},
   "outputs": [
    {
     "data": {
      "text/plain": [
       "('32da54d1-3d46-4bf2-b9f4-1b75009e9840',)"
      ]
     },
     "execution_count": 6,
     "metadata": {},
     "output_type": "execute_result"
    }
   ],
   "source": [
    "RE(bp.scan([scaler], m1, -1, 1, 5))"
   ]
  },
  {
   "cell_type": "markdown",
   "metadata": {},
   "source": [
    "Ah, yes.  Nothing to see here since we did not setup anything to receive the *documents* from the RunEngine.  Here's the basic callback from lesson 1."
   ]
  },
  {
   "cell_type": "code",
   "execution_count": 7,
   "metadata": {},
   "outputs": [],
   "source": [
    "def myCallback(key, doc):\n",
    "    print(key, len(doc))\n",
    "    for k, v in doc.items():\n",
    "        print(\"\\t\", k, v)\n",
    "    print(\"~~~~~~~~~~~~~~~~~~~~\")"
   ]
  },
  {
   "cell_type": "markdown",
   "metadata": {},
   "source": [
    "Repeat the same scan but handle the document stream with `myCallback()`."
   ]
  },
  {
   "cell_type": "code",
   "execution_count": 8,
   "metadata": {},
   "outputs": [
    {
     "name": "stdout",
     "output_type": "stream",
     "text": [
      "start 15\n",
      "\t uid 49636130-9443-453c-b50b-b06dd9245621\n",
      "\t time 1588798970.4785109\n",
      "\t versions {'ophyd': '1.5.0', 'bluesky': '1.6.0'}\n",
      "\t scan_id 2\n",
      "\t plan_type generator\n",
      "\t plan_name scan\n",
      "\t detectors ['scaler']\n",
      "\t motors ('m1',)\n",
      "\t num_points 5\n",
      "\t num_intervals 4\n",
      "\t plan_args {'detectors': [\"ScalerCH(prefix='sky:scaler1', name='scaler', read_attrs=['channels', 'channels.chan01', 'channels.chan01.s', 'channels.chan02', 'channels.chan02.s', 'channels.chan03', 'channels.chan03.s', 'channels.chan10', 'channels.chan10.s', 'channels.chan11', 'channels.chan11.s', 'time'], configuration_attrs=['channels', 'channels.chan01', 'channels.chan01.gate', 'channels.chan02', 'channels.chan02.gate', 'channels.chan03', 'channels.chan03.gate', 'channels.chan10', 'channels.chan10.chname', 'channels.chan11', 'channels.chan11.chname', 'count_mode', 'delay', 'auto_count_delay', 'freq', 'preset_time', 'auto_count_time', 'egu'])\"], 'num': 5, 'args': [\"EpicsMotor(prefix='sky:m1', name='m1', settle_time=0.0, timeout=None, read_attrs=['user_readback', 'user_setpoint'], configuration_attrs=['user_offset', 'user_offset_dir', 'velocity', 'acceleration', 'motor_egu'])\", -1, 1], 'per_step': 'None'}\n",
      "\t hints {'dimensions': [(['m1'], 'primary')]}\n",
      "\t plan_pattern inner_product\n",
      "\t plan_pattern_module bluesky.plan_patterns\n",
      "\t plan_pattern_args {'num': 5, 'args': [\"EpicsMotor(prefix='sky:m1', name='m1', settle_time=0.0, timeout=None, read_attrs=['user_readback', 'user_setpoint'], configuration_attrs=['user_offset', 'user_offset_dir', 'velocity', 'acceleration', 'motor_egu'])\", -1, 1]}\n",
      "descriptor 8\n",
      "\t run_start 49636130-9443-453c-b50b-b06dd9245621\n",
      "\t time 1588798973.3547912\n",
      "\t data_keys {'m1': {'source': 'PV:sky:m1.RBV', 'dtype': 'number', 'shape': [], 'units': 'degrees', 'lower_ctrl_limit': -32000.0, 'upper_ctrl_limit': 32000.0, 'precision': 5, 'object_name': 'm1'}, 'm1_user_setpoint': {'source': 'PV:sky:m1.VAL', 'dtype': 'number', 'shape': [], 'units': 'degrees', 'lower_ctrl_limit': -32000.0, 'upper_ctrl_limit': 32000.0, 'precision': 5, 'object_name': 'm1'}, 'clock': {'source': 'PV:sky:scaler1.S1', 'dtype': 'number', 'shape': [], 'units': '', 'lower_ctrl_limit': 0.0, 'upper_ctrl_limit': 0.0, 'precision': 0, 'object_name': 'scaler'}, 'I0': {'source': 'PV:sky:scaler1.S2', 'dtype': 'number', 'shape': [], 'units': '', 'lower_ctrl_limit': 0.0, 'upper_ctrl_limit': 0.0, 'precision': 0, 'object_name': 'scaler'}, 'scint': {'source': 'PV:sky:scaler1.S3', 'dtype': 'number', 'shape': [], 'units': '', 'lower_ctrl_limit': 0.0, 'upper_ctrl_limit': 0.0, 'precision': 0, 'object_name': 'scaler'}, 'ROI1': {'source': 'PV:sky:scaler1.S10', 'dtype': 'number', 'shape': [], 'units': '', 'lower_ctrl_limit': 0.0, 'upper_ctrl_limit': 0.0, 'precision': 0, 'object_name': 'scaler'}, 'ROI2': {'source': 'PV:sky:scaler1.S11', 'dtype': 'number', 'shape': [], 'units': '', 'lower_ctrl_limit': 0.0, 'upper_ctrl_limit': 0.0, 'precision': 0, 'object_name': 'scaler'}, 'scaler_time': {'source': 'PV:sky:scaler1.T', 'dtype': 'number', 'shape': [], 'units': '', 'lower_ctrl_limit': 0.0, 'upper_ctrl_limit': 0.0, 'precision': 3, 'object_name': 'scaler'}}\n",
      "\t uid 4e7aab47-1996-4566-8457-468d3b47649a\n",
      "\t configuration {'m1': {'data': {'m1_user_offset': 0.0, 'm1_user_offset_dir': 0, 'm1_velocity': 1.0, 'm1_acceleration': 0.2, 'm1_motor_egu': 'degrees'}, 'timestamps': {'m1_user_offset': 1588798972.719924, 'm1_user_offset_dir': 1588798972.719924, 'm1_velocity': 1588798972.719924, 'm1_acceleration': 1588798972.719924, 'm1_motor_egu': 1588798972.719924}, 'data_keys': OrderedDict([('m1_user_offset', {'source': 'PV:sky:m1.OFF', 'dtype': 'number', 'shape': [], 'units': 'degrees', 'lower_ctrl_limit': -1e+300, 'upper_ctrl_limit': 1e+300, 'precision': 5}), ('m1_user_offset_dir', {'source': 'PV:sky:m1.DIR', 'dtype': 'integer', 'shape': [], 'units': None, 'lower_ctrl_limit': None, 'upper_ctrl_limit': None, 'enum_strs': ('Pos', 'Neg')}), ('m1_velocity', {'source': 'PV:sky:m1.VELO', 'dtype': 'number', 'shape': [], 'units': 'degrees', 'lower_ctrl_limit': 0.1, 'upper_ctrl_limit': 0.0, 'precision': 5}), ('m1_acceleration', {'source': 'PV:sky:m1.ACCL', 'dtype': 'number', 'shape': [], 'units': 'sec', 'lower_ctrl_limit': -1e+300, 'upper_ctrl_limit': 1e+300, 'precision': 5}), ('m1_motor_egu', {'source': 'PV:sky:m1.EGU', 'dtype': 'string', 'shape': [], 'units': None, 'lower_ctrl_limit': None, 'upper_ctrl_limit': None})])}, 'scaler': {'data': {'scaler_channels_chan01_gate': 'Y', 'scaler_channels_chan02_gate': 'N', 'scaler_channels_chan03_gate': 'N', 'scaler_channels_chan10_chname': 'ROI1', 'scaler_channels_chan11_chname': 'ROI2', 'scaler_count_mode': 'OneShot', 'scaler_delay': 0.0, 'scaler_auto_count_delay': 0.0, 'scaler_freq': 10000000.0, 'scaler_preset_time': 0.4, 'scaler_auto_count_time': 1.0, 'scaler_egu': ''}, 'timestamps': {'scaler_channels_chan01_gate': 1588798973.335766, 'scaler_channels_chan02_gate': 1588798973.335766, 'scaler_channels_chan03_gate': 1588798973.335766, 'scaler_channels_chan10_chname': 1588798973.335766, 'scaler_channels_chan11_chname': 1588798973.335766, 'scaler_count_mode': 1588798973.335766, 'scaler_delay': 1588798973.335766, 'scaler_auto_count_delay': 1588798973.335766, 'scaler_freq': 1588798973.335766, 'scaler_preset_time': 1588798973.335766, 'scaler_auto_count_time': 1588798973.335766, 'scaler_egu': 1588798973.335766}, 'data_keys': OrderedDict([('scaler_channels_chan01_gate', {'source': 'PV:sky:scaler1.G1', 'dtype': 'string', 'shape': [], 'units': None, 'lower_ctrl_limit': None, 'upper_ctrl_limit': None, 'enum_strs': ('N', 'Y')}), ('scaler_channels_chan02_gate', {'source': 'PV:sky:scaler1.G2', 'dtype': 'string', 'shape': [], 'units': None, 'lower_ctrl_limit': None, 'upper_ctrl_limit': None, 'enum_strs': ('N', 'Y')}), ('scaler_channels_chan03_gate', {'source': 'PV:sky:scaler1.G3', 'dtype': 'string', 'shape': [], 'units': None, 'lower_ctrl_limit': None, 'upper_ctrl_limit': None, 'enum_strs': ('N', 'Y')}), ('scaler_channels_chan10_chname', {'source': 'PV:sky:scaler1.NM10', 'dtype': 'string', 'shape': [], 'units': None, 'lower_ctrl_limit': None, 'upper_ctrl_limit': None}), ('scaler_channels_chan11_chname', {'source': 'PV:sky:scaler1.NM11', 'dtype': 'string', 'shape': [], 'units': None, 'lower_ctrl_limit': None, 'upper_ctrl_limit': None}), ('scaler_count_mode', {'source': 'PV:sky:scaler1.CONT', 'dtype': 'string', 'shape': [], 'units': None, 'lower_ctrl_limit': None, 'upper_ctrl_limit': None, 'enum_strs': ('OneShot', 'AutoCount')}), ('scaler_delay', {'source': 'PV:sky:scaler1.DLY', 'dtype': 'number', 'shape': [], 'units': '', 'lower_ctrl_limit': 0.0, 'upper_ctrl_limit': 0.0, 'precision': 3}), ('scaler_auto_count_delay', {'source': 'PV:sky:scaler1.DLY1', 'dtype': 'number', 'shape': [], 'units': '', 'lower_ctrl_limit': 0.0, 'upper_ctrl_limit': 0.0, 'precision': 3}), ('scaler_freq', {'source': 'PV:sky:scaler1.FREQ', 'dtype': 'number', 'shape': [], 'units': '', 'lower_ctrl_limit': 0.0, 'upper_ctrl_limit': 0.0, 'precision': 3}), ('scaler_preset_time', {'source': 'PV:sky:scaler1.TP', 'dtype': 'number', 'shape': [], 'units': '', 'lower_ctrl_limit': 0.0, 'upper_ctrl_limit': 0.0, 'precision': 3}), ('scaler_auto_count_time', {'source': 'PV:sky:scaler1.TP1', 'dtype': 'number', 'shape': [], 'units': '', 'lower_ctrl_limit': 0.0, 'upper_ctrl_limit': 0.0, 'precision': 3}), ('scaler_egu', {'source': 'PV:sky:scaler1.EGU', 'dtype': 'string', 'shape': [], 'units': None, 'lower_ctrl_limit': None, 'upper_ctrl_limit': None})])}}\n",
      "\t name primary\n",
      "\t hints {'m1': {'fields': ['m1']}, 'scaler': {'fields': ['clock', 'I0', 'scint', 'ROI1', 'ROI2']}}\n",
      "\t object_keys {'m1': ['m1', 'm1_user_setpoint'], 'scaler': ['clock', 'I0', 'scint', 'ROI1', 'ROI2', 'scaler_time']}\n",
      "event 7\n",
      "\t descriptor 4e7aab47-1996-4566-8457-468d3b47649a\n",
      "\t time 1588798973.360952\n",
      "\t data {'clock': 5000000.0, 'I0': 2.0, 'scint': 2.0, 'ROI1': 0.0, 'ROI2': 0.0, 'scaler_time': 0.5, 'm1': -1.0, 'm1_user_setpoint': -1.0}\n",
      "\t timestamps {'clock': 1588798973.335766, 'I0': 1588798973.335766, 'scint': 1588798973.335766, 'ROI1': 1588798973.335766, 'ROI2': 1588798973.335766, 'scaler_time': 1588798973.335766, 'm1': 1588798972.719924, 'm1_user_setpoint': 1588798972.719924}\n",
      "\t seq_num 1\n",
      "\t uid 61909b1f-dd4d-4603-a839-5c0360264a33\n",
      "\t filled {}\n"
     ]
    },
    {
     "name": "stdout",
     "output_type": "stream",
     "text": [
      "event 7\n",
      "\t descriptor 4e7aab47-1996-4566-8457-468d3b47649a\n",
      "\t time 1588798974.7402322\n",
      "\t data {'clock': 5000000.0, 'I0': 3.0, 'scint': 3.0, 'ROI1': 0.0, 'ROI2': 0.0, 'scaler_time': 0.5, 'm1': -0.5, 'm1_user_setpoint': -0.5}\n",
      "\t timestamps {'clock': 1588798974.728836, 'I0': 1588798974.728836, 'scint': 1588798974.728836, 'ROI1': 1588798974.728836, 'ROI2': 1588798974.728836, 'scaler_time': 1588798974.728836, 'm1': 1588798974.048372, 'm1_user_setpoint': 1588798974.148658}\n",
      "\t seq_num 2\n",
      "\t uid 1e696000-6f7a-4dc6-8c86-6c16b0f350b0\n",
      "\t filled {}\n",
      "event 7\n",
      "\t descriptor 4e7aab47-1996-4566-8457-468d3b47649a\n",
      "\t time 1588798976.1404536\n",
      "\t data {'clock': 5000000.0, 'I0': 1.0, 'scint': 3.0, 'ROI1': 0.0, 'ROI2': 0.0, 'scaler_time': 0.5, 'm1': 0.0, 'm1_user_setpoint': 0.0}\n",
      "\t timestamps {'clock': 1588798976.13362, 'I0': 1588798976.13362, 'scint': 1588798976.13362, 'ROI1': 1588798976.13362, 'ROI2': 1588798976.13362, 'scaler_time': 1588798976.13362, 'm1': 1588798975.460204, 'm1_user_setpoint': 1588798975.460204}\n",
      "\t seq_num 3\n",
      "\t uid 59ade162-76aa-4662-8f16-84243dae8ff4\n",
      "\t filled {}\n",
      "event 7\n",
      "\t descriptor 4e7aab47-1996-4566-8457-468d3b47649a\n",
      "\t time 1588798977.450103\n",
      "\t data {'clock': 5000000.0, 'I0': 1.0, 'scint': 3.0, 'ROI1': 0.0, 'ROI2': 0.0, 'scaler_time': 0.5, 'm1': 0.5, 'm1_user_setpoint': 0.5}\n",
      "\t timestamps {'clock': 1588798977.445903, 'I0': 1588798977.445903, 'scint': 1588798977.445903, 'ROI1': 1588798977.445903, 'ROI2': 1588798977.445903, 'scaler_time': 1588798977.445903, 'm1': 1588798976.866253, 'm1_user_setpoint': 1588798976.866253}\n",
      "\t seq_num 4\n",
      "\t uid 18689916-e2c7-4783-b63f-00c39ae0fbee\n",
      "\t filled {}\n",
      "event 7\n",
      "\t descriptor 4e7aab47-1996-4566-8457-468d3b47649a\n",
      "\t time 1588798978.7615826\n",
      "\t data {'clock': 5000000.0, 'I0': 1.0, 'scint': 1.0, 'ROI1': 0.0, 'ROI2': 0.0, 'scaler_time': 0.5, 'm1': 1.0, 'm1_user_setpoint': 1.0}\n",
      "\t timestamps {'clock': 1588798978.756825, 'I0': 1588798978.756825, 'scint': 1588798978.756825, 'ROI1': 1588798978.756825, 'ROI2': 1588798978.756825, 'scaler_time': 1588798978.756825, 'm1': 1588798978.178066, 'm1_user_setpoint': 1588798978.178066}\n",
      "\t seq_num 5\n",
      "\t uid e3a1f029-c1d0-4eb8-bd18-30da7bc5fa5e\n",
      "\t filled {}\n",
      "stop 6\n",
      "\t run_start 49636130-9443-453c-b50b-b06dd9245621\n",
      "\t time 1588798978.7630556\n",
      "\t uid 30868ff6-594d-4c0a-ba74-5eac6269d90a\n",
      "\t exit_status success\n",
      "\t reason \n",
      "\t num_events {'primary': 5}\n"
     ]
    },
    {
     "data": {
      "text/plain": [
       "('49636130-9443-453c-b50b-b06dd9245621',)"
      ]
     },
     "execution_count": 8,
     "metadata": {},
     "output_type": "execute_result"
    }
   ],
   "source": [
    "RE(bp.scan([scaler], m1, -1, 1, 5), myCallback)"
   ]
  },
  {
   "cell_type": "markdown",
   "metadata": {},
   "source": [
    "# Summary\n",
    "\n",
    "We'll show this code as a python program:\n",
    "\n",
    "```\n",
    "#!/usr/bin/env python\n",
    "\n",
    "\"lesson 2: motor\"\n",
    "\n",
    "from ophyd import EpicsMotor\n",
    "from ophyd.scaler import ScalerCH\n",
    "from bluesky import RunEngine\n",
    "import bluesky.plans as bp\n",
    "from apstools.devices import use_EPICS_scaler_channels\n",
    "\n",
    "\n",
    "def myCallback(key, doc):\n",
    "    print(key, len(doc))\n",
    "    for k, v in doc.items():\n",
    "        print(\"\\t\", k, v)\n",
    "    print(\"~~~~~~~~~~~~~~~~~\")\n",
    "\n",
    "\n",
    "m1 = EpicsMotor(\"sky:m1\", name=\"m1\")\n",
    "m1.wait_for_connection()\n",
    "print(m1.position)\n",
    "\n",
    "scaler = ScalerCH(\"sky:scaler1\", name=\"scaler\")\n",
    "scaler.wait_for_connection()\n",
    "\n",
    "\n",
    "# Since there are no detectors actually connected to this scaler,\n",
    "# we can change names at our choice.  A real scaler will have\n",
    "# detectors connected to specific channels and we should not modify\n",
    "# these names without regard to how signals are physically connected.\n",
    "scaler.channels.chan01.chname.put(\"clock\")\n",
    "scaler.channels.chan02.chname.put(\"I0\")\n",
    "scaler.channels.chan03.chname.put(\"scint\")\n",
    "scaler.channels.chan04.chname.put(\"\")\n",
    "scaler.channels.chan05.chname.put(\"\")\n",
    "scaler.channels.chan06.chname.put(\"\")\n",
    "scaler.channels.chan07.chname.put(\"\")\n",
    "scaler.channels.chan08.chname.put(\"\")\n",
    "scaler.channels.chan09.chname.put(\"\")\n",
    "\n",
    "\n",
    "scaler.match_names()\n",
    "use_EPICS_scaler_channels(scaler)\n",
    "print(scaler.read())\n",
    "\n",
    "RE = RunEngine({})\n",
    "\n",
    "RE(bp.scan([scaler], m1, -1, 1, 5))\n",
    "\n",
    "RE(bp.scan([scaler], m1, -1, 1, 5), myCallback)\n",
    "```"
   ]
  }
 ],
 "metadata": {
  "kernelspec": {
   "display_name": "Python 3",
   "language": "python",
   "name": "python3"
  },
  "language_info": {
   "codemirror_mode": {
    "name": "ipython",
    "version": 3
   },
   "file_extension": ".py",
   "mimetype": "text/x-python",
   "name": "python",
   "nbconvert_exporter": "python",
   "pygments_lexer": "ipython3",
   "version": "3.7.7"
  }
 },
 "nbformat": 4,
 "nbformat_minor": 2
}
