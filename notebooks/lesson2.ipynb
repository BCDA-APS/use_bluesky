{
 "cells": [
  {
   "cell_type": "code",
   "execution_count": null,
   "metadata": {},
   "outputs": [],
   "source": [
    "from ophyd import EpicsMotor\n",
    "m1 = EpicsMotor(\"xxx:m1\", name=\"m1\")"
   ]
  },
  {
   "cell_type": "code",
   "execution_count": null,
   "metadata": {},
   "outputs": [],
   "source": [
    "m1.position"
   ]
  },
  {
   "cell_type": "code",
   "execution_count": null,
   "metadata": {},
   "outputs": [],
   "source": [
    "from ophyd.scaler import ScalerCH\n",
    "scaler = ScalerCH(\"xxx:scaler1\", name=\"scaler\")"
   ]
  },
  {
   "cell_type": "code",
   "execution_count": null,
   "metadata": {},
   "outputs": [],
   "source": [
    "from bluesky import RunEngine\n",
    "import bluesky.plans as bp\n",
    "RE = RunEngine({})"
   ]
  },
  {
   "cell_type": "code",
   "execution_count": null,
   "metadata": {},
   "outputs": [],
   "source": [
    "from APS_BlueSky_tools.devices import use_EPICS_scaler_channels\n",
    "\n",
    "scaler.channels.chan01.chname.put(\"clock\")\n",
    "scaler.channels.chan02.chname.put(\"I0\")\n",
    "scaler.channels.chan03.chname.put(\"scint\")\n",
    "\n",
    "scaler.match_names()\n",
    "use_EPICS_scaler_channels(scaler)\n",
    "scaler.read()"
   ]
  },
  {
   "cell_type": "code",
   "execution_count": null,
   "metadata": {},
   "outputs": [],
   "source": [
    "RE(bp.scan([scaler], m1, -1, 1, 5))"
   ]
  }
 ],
 "metadata": {
  "kernelspec": {
   "display_name": "Python 3",
   "language": "python",
   "name": "python3"
  },
  "language_info": {
   "codemirror_mode": {
    "name": "ipython",
    "version": 3
   },
   "file_extension": ".py",
   "mimetype": "text/x-python",
   "name": "python",
   "nbconvert_exporter": "python",
   "pygments_lexer": "ipython3",
   "version": "3.6.6"
  }
 },
 "nbformat": 4,
 "nbformat_minor": 2
}
