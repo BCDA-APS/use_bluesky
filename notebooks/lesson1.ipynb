{
 "cells": [
  {
   "cell_type": "markdown",
   "metadata": {},
   "source": [
    "# Bluesky & ophyd: Lesson 1 - EpicsScaler\n",
    "\n",
    "## Starting this session in a Jupyter notebook\n",
    "\n",
    "This session was started from the linux command line:\n",
    "\n",
    "```\n",
    "jemian@otz .../JEMIAN/Documents $ /APSshare/anaconda3/BlueSky/bin/jupyter-notebook \n",
    "```\n",
    "\n",
    "This command produced the following console output and then started my default web browser with a one-time-token-authenticated connection to the Jupyter Notebook server (still running in the console):\n",
    "\n",
    "```\n",
    "[I 15:16:57.546 NotebookApp] Serving notebooks from local directory: /home/oxygen18/JEMIAN/Documents\n",
    "[I 15:16:57.546 NotebookApp] 0 active kernels\n",
    "[I 15:16:57.546 NotebookApp] The Jupyter Notebook is running at:\n",
    "[I 15:16:57.546 NotebookApp] http://localhost:8888/?token=e6a7584762c731a7c64f8f71246b3e616d779f7b4852c9d9\n",
    "[I 15:16:57.546 NotebookApp] Use Control-C to stop this server and shut down all kernels (twice to skip confirmation).\n",
    "[C 15:16:57.547 NotebookApp] \n",
    "    \n",
    "    Copy/paste this URL into your browser when you connect for the first time,\n",
    "    to login with a token:\n",
    "        http://localhost:8888/?token=e6a7584762c731a7c64f8f71246b3e616d779f7b4852c9d9\n",
    "[I 15:17:00.863 NotebookApp] Accepting one-time-token-authenticated connection from ::1\n",
    "```\n",
    "\n",
    "Next, found the **New** drop-down menu button (top right, below the **Lougout** button) and selected *Python 3* to start a new notebook page using a Python 3 shell (the only kind available here).\n",
    "\n",
    "Finally, from the **File** menu in the jupyter notebook (in the browser), selected *Rename ...* to save the *Untitled* notebook with the name *lesson1* (default extension is `.ipynb`)."
   ]
  },
  {
   "cell_type": "markdown",
   "metadata": {},
   "source": [
    "## Connect an EPICS scaler\n",
    "\n",
    "I have a synApps (v5.8) *XXX*-style IOC with the prefix `gov:`.  It has a [scaler](https://htmlpreview.github.io/?https://raw.githubusercontent.com/epics-modules/std/R3-4-1/documentation/scalerRecord.html), 16 soft channel [motor](https://github.com/epics-modules/motor)s, and some other support we'll ignore in lesson 1.\n",
    "\n",
    "The scaler is `gov:scaler1`.  We'll connect to that first.  To make the connection, we need to import the [`EpicsScaler`](http://nsls-ii.github.io/ophyd/builtin-devices.html#epicsscaler) device from the [`ophyd`](http://nsls-ii.github.io/ophyd/) library."
   ]
  },
  {
   "cell_type": "code",
   "execution_count": 1,
   "metadata": {},
   "outputs": [],
   "source": [
    "from ophyd import EpicsScaler"
   ]
  },
  {
   "cell_type": "markdown",
   "metadata": {},
   "source": [
    "Now we can create the scaler object we'll use as a detector."
   ]
  },
  {
   "cell_type": "code",
   "execution_count": 2,
   "metadata": {},
   "outputs": [],
   "source": [
    "scaler = EpicsScaler(\"gov:scaler1\", name=\"scaler\")"
   ]
  },
  {
   "cell_type": "markdown",
   "metadata": {},
   "source": [
    "Let's test that connection by asking the scaler to read it's values from EPICS."
   ]
  },
  {
   "cell_type": "code",
   "execution_count": 3,
   "metadata": {},
   "outputs": [
    {
     "data": {
      "text/plain": [
       "OrderedDict([('scaler_channels_chan1',\n",
       "              {'value': 0.0, 'timestamp': 1532469272.141368}),\n",
       "             ('scaler_channels_chan2',\n",
       "              {'value': 0.0, 'timestamp': 1532469272.141368}),\n",
       "             ('scaler_channels_chan3',\n",
       "              {'value': 0.0, 'timestamp': 1532469272.141368}),\n",
       "             ('scaler_channels_chan4',\n",
       "              {'value': 0.0, 'timestamp': 1532469272.141368}),\n",
       "             ('scaler_channels_chan5',\n",
       "              {'value': 0.0, 'timestamp': 1532469272.141368}),\n",
       "             ('scaler_channels_chan6',\n",
       "              {'value': 0.0, 'timestamp': 1532469272.141368}),\n",
       "             ('scaler_channels_chan7',\n",
       "              {'value': 0.0, 'timestamp': 1532469272.141368}),\n",
       "             ('scaler_channels_chan8',\n",
       "              {'value': 0.0, 'timestamp': 1532469272.141368}),\n",
       "             ('scaler_channels_chan9',\n",
       "              {'value': 0.0, 'timestamp': 1532469272.141368}),\n",
       "             ('scaler_channels_chan10',\n",
       "              {'value': 0.0, 'timestamp': 1532469272.141368}),\n",
       "             ('scaler_channels_chan11',\n",
       "              {'value': 0.0, 'timestamp': 1532469272.141368}),\n",
       "             ('scaler_channels_chan12',\n",
       "              {'value': 0.0, 'timestamp': 1532469272.141368}),\n",
       "             ('scaler_channels_chan13',\n",
       "              {'value': 0.0, 'timestamp': 1532469272.141368}),\n",
       "             ('scaler_channels_chan14',\n",
       "              {'value': 0.0, 'timestamp': 1532469272.141368}),\n",
       "             ('scaler_channels_chan15',\n",
       "              {'value': 0.0, 'timestamp': 1532469272.141368}),\n",
       "             ('scaler_channels_chan16',\n",
       "              {'value': 0.0, 'timestamp': 1532469272.141368}),\n",
       "             ('scaler_channels_chan17',\n",
       "              {'value': 0.0, 'timestamp': 1532469272.141368}),\n",
       "             ('scaler_channels_chan18',\n",
       "              {'value': 0.0, 'timestamp': 1532469272.141368}),\n",
       "             ('scaler_channels_chan19',\n",
       "              {'value': 0.0, 'timestamp': 1532469272.141368}),\n",
       "             ('scaler_channels_chan20',\n",
       "              {'value': 0.0, 'timestamp': 1532469272.141368}),\n",
       "             ('scaler_channels_chan21',\n",
       "              {'value': 0.0, 'timestamp': 1532469272.141368}),\n",
       "             ('scaler_channels_chan22',\n",
       "              {'value': 0.0, 'timestamp': 1532469272.141368}),\n",
       "             ('scaler_channels_chan23',\n",
       "              {'value': 0.0, 'timestamp': 1532469272.141368}),\n",
       "             ('scaler_channels_chan24',\n",
       "              {'value': 0.0, 'timestamp': 1532469272.141368}),\n",
       "             ('scaler_channels_chan25',\n",
       "              {'value': 0.0, 'timestamp': 1532469272.141368}),\n",
       "             ('scaler_channels_chan26',\n",
       "              {'value': 0.0, 'timestamp': 1532469272.141368}),\n",
       "             ('scaler_channels_chan27',\n",
       "              {'value': 0.0, 'timestamp': 1532469272.141368}),\n",
       "             ('scaler_channels_chan28',\n",
       "              {'value': 0.0, 'timestamp': 1532469272.141368}),\n",
       "             ('scaler_channels_chan29',\n",
       "              {'value': 0.0, 'timestamp': 1532469272.141368}),\n",
       "             ('scaler_channels_chan30',\n",
       "              {'value': 0.0, 'timestamp': 1532469272.141368}),\n",
       "             ('scaler_channels_chan31',\n",
       "              {'value': 0.0, 'timestamp': 1532469272.141368}),\n",
       "             ('scaler_channels_chan32',\n",
       "              {'value': 0.0, 'timestamp': 1532469272.141368})])"
      ]
     },
     "execution_count": 3,
     "metadata": {},
     "output_type": "execute_result"
    }
   ],
   "source": [
    "scaler.read()"
   ]
  },
  {
   "cell_type": "markdown",
   "metadata": {},
   "source": [
    "By default, the ophyd scaler object is prepared to connect to 32 channels from the EPICS scaler.  The names of the channels can be displayed, but it takes more work.  We'll do this with a loop without explaining the details."
   ]
  },
  {
   "cell_type": "code",
   "execution_count": 4,
   "metadata": {},
   "outputs": [
    {
     "name": "stdout",
     "output_type": "stream",
     "text": [
      "name1 clock\n",
      "name2 I0\n",
      "name3 I\n",
      "name4 diode\n",
      "name5 \n",
      "name6 \n",
      "name7 \n",
      "name8 \n",
      "name9 \n",
      "name10 \n",
      "name11 \n",
      "name12 \n",
      "name13 \n",
      "name14 \n",
      "name15 \n",
      "name16 \n",
      "name17 \n",
      "name18 \n",
      "name19 \n",
      "name20 \n",
      "name21 \n",
      "name22 \n",
      "name23 \n",
      "name24 \n",
      "name25 \n",
      "name26 \n",
      "name27 \n",
      "name28 \n",
      "name29 \n",
      "name30 \n",
      "name31 \n",
      "name32 \n"
     ]
    }
   ],
   "source": [
    "for nm in scaler.names.configuration_attrs:\n",
    "    ch = scaler.names.__getattribute__(nm)\n",
    "    print(nm, ch.value)"
   ]
  },
  {
   "cell_type": "markdown",
   "metadata": {},
   "source": [
    "Our scaler only has a few channels in use (that is, channels where the name of the channel has been specified in the GUI screen).  Let's focus on just those channels.\n",
    "\n",
    "To read just the *named* channels, we'll load an additional support library.  (Loading additional support as we need it will be a common theme in these lessons.  Rather than loading all the libraries first, as is common in python code files, we'll load support code as the need arises.)\n",
    "\n",
    "The new support code is `use_EPICS_scaler_channels` from [`APS_BlueSky_tools.devices`](http://aps-bluesky-tools.readthedocs.io/en/latest/source_code/devices.html#APS_BlueSky_tools.devices.use_EPICS_scaler_channels)."
   ]
  },
  {
   "cell_type": "code",
   "execution_count": 5,
   "metadata": {},
   "outputs": [],
   "source": [
    "from APS_BlueSky_tools.devices import use_EPICS_scaler_channels"
   ]
  },
  {
   "cell_type": "markdown",
   "metadata": {},
   "source": [
    "That is a utility function that will modify our `scaler` so it only reports the named channels.  Now the report is succinct."
   ]
  },
  {
   "cell_type": "code",
   "execution_count": 6,
   "metadata": {},
   "outputs": [
    {
     "data": {
      "text/plain": [
       "OrderedDict([('scaler_channels_chan1',\n",
       "              {'value': 0.0, 'timestamp': 1532469272.141368}),\n",
       "             ('scaler_channels_chan2',\n",
       "              {'value': 0.0, 'timestamp': 1532469272.141368}),\n",
       "             ('scaler_channels_chan3',\n",
       "              {'value': 0.0, 'timestamp': 1532469272.141368}),\n",
       "             ('scaler_channels_chan4',\n",
       "              {'value': 0.0, 'timestamp': 1532469272.141368})])"
      ]
     },
     "execution_count": 6,
     "metadata": {},
     "output_type": "execute_result"
    }
   ],
   "source": [
    "use_EPICS_scaler_channels(scaler)\n",
    "scaler.read()"
   ]
  },
  {
   "cell_type": "markdown",
   "metadata": {},
   "source": [
    "If you want to change the name fields on any of the scaler channels from the command line, follow this example."
   ]
  },
  {
   "cell_type": "code",
   "execution_count": 7,
   "metadata": {},
   "outputs": [],
   "source": [
    "scaler.names.name7.put(\"roi1\")\n",
    "scaler.names.name4.put(\"scint\")"
   ]
  },
  {
   "cell_type": "markdown",
   "metadata": {},
   "source": [
    "Then print out the names of only the *named* channels."
   ]
  },
  {
   "cell_type": "code",
   "execution_count": 8,
   "metadata": {},
   "outputs": [
    {
     "name": "stdout",
     "output_type": "stream",
     "text": [
      "name1 clock\n",
      "name2 I0\n",
      "name3 I\n",
      "name4 scint\n",
      "name7 roi1\n"
     ]
    }
   ],
   "source": [
    "for nm in scaler.names.configuration_attrs:\n",
    "    ch = scaler.names.__getattribute__(nm)\n",
    "    if len(ch.value) > 0:\n",
    "        print(nm, ch.value)"
   ]
  },
  {
   "cell_type": "markdown",
   "metadata": {},
   "source": [
    "Then, update the `scaler` object for these channels."
   ]
  },
  {
   "cell_type": "code",
   "execution_count": 9,
   "metadata": {},
   "outputs": [
    {
     "data": {
      "text/plain": [
       "OrderedDict([('scaler_channels_chan1',\n",
       "              {'value': 0.0, 'timestamp': 1532469272.141368}),\n",
       "             ('scaler_channels_chan2',\n",
       "              {'value': 0.0, 'timestamp': 1532469272.141368}),\n",
       "             ('scaler_channels_chan3',\n",
       "              {'value': 0.0, 'timestamp': 1532469272.141368}),\n",
       "             ('scaler_channels_chan4',\n",
       "              {'value': 0.0, 'timestamp': 1532469272.141368}),\n",
       "             ('scaler_channels_chan7',\n",
       "              {'value': 0.0, 'timestamp': 1532469272.141368})])"
      ]
     },
     "execution_count": 9,
     "metadata": {},
     "output_type": "execute_result"
    }
   ],
   "source": [
    "use_EPICS_scaler_channels(scaler)\n",
    "scaler.read()"
   ]
  },
  {
   "cell_type": "markdown",
   "metadata": {},
   "source": [
    "## Get, then Set the count time on the scaler\n",
    "\n",
    "The preset counting time (`.TP`) is one of the many fields of the EPICS scaler record.  It is available as `scaler.preset_time` in this scaler object.  We can inspect this:"
   ]
  },
  {
   "cell_type": "code",
   "execution_count": 10,
   "metadata": {},
   "outputs": [
    {
     "data": {
      "text/plain": [
       "EpicsSignal(read_pv='gov:scaler1.TP', name='scaler_preset_time', parent='scaler', value=3.0, timestamp=1532469272.141368, tolerance=0.001, pv_kw={}, auto_monitor=False, string=False, write_pv='gov:scaler1.TP', limits=False, put_complete=False)"
      ]
     },
     "execution_count": 10,
     "metadata": {},
     "output_type": "execute_result"
    }
   ],
   "source": [
    "scaler.preset_time"
   ]
  },
  {
   "cell_type": "markdown",
   "metadata": {},
   "source": [
    "Since `scaler.preset_time` is an [`EpicsSignal`](https://github.com/NSLS-II/ophyd/blob/master/ophyd/signal.py#L647), ([Signal](http://nsls-ii.github.io/ophyd/signals.html) is a fundamental ophyd structure), we print its `.value`."
   ]
  },
  {
   "cell_type": "code",
   "execution_count": 11,
   "metadata": {},
   "outputs": [
    {
     "data": {
      "text/plain": [
       "3.0"
      ]
     },
     "execution_count": 11,
     "metadata": {},
     "output_type": "execute_result"
    }
   ],
   "source": [
    "scaler.preset_time.value"
   ]
  },
  {
   "cell_type": "markdown",
   "metadata": {},
   "source": [
    "Set the scaler to count for 1.5 seconds once it is told to count.  We'll count it next."
   ]
  },
  {
   "cell_type": "code",
   "execution_count": 12,
   "metadata": {},
   "outputs": [],
   "source": [
    "scaler.preset_time.put(1.5)"
   ]
  },
  {
   "cell_type": "markdown",
   "metadata": {},
   "source": [
    "Note, to tell the scaler to count, we put a 1 to its `.CNT` field."
   ]
  },
  {
   "cell_type": "code",
   "execution_count": 13,
   "metadata": {},
   "outputs": [],
   "source": [
    "scaler.count.put(1)"
   ]
  },
  {
   "cell_type": "markdown",
   "metadata": {},
   "source": [
    "Now, read the scaler again.  This scaler is not very interesting since it is not connected to any hardware.  But, the timestamps have changed."
   ]
  },
  {
   "cell_type": "code",
   "execution_count": 14,
   "metadata": {},
   "outputs": [
    {
     "data": {
      "text/plain": [
       "OrderedDict([('scaler_channels_chan1',\n",
       "              {'value': 0.0, 'timestamp': 1532469272.141368}),\n",
       "             ('scaler_channels_chan2',\n",
       "              {'value': 0.0, 'timestamp': 1532469272.141368}),\n",
       "             ('scaler_channels_chan3',\n",
       "              {'value': 0.0, 'timestamp': 1532469272.141368}),\n",
       "             ('scaler_channels_chan4',\n",
       "              {'value': 0.0, 'timestamp': 1532469272.141368}),\n",
       "             ('scaler_channels_chan7',\n",
       "              {'value': 0.0, 'timestamp': 1532469272.141368})])"
      ]
     },
     "execution_count": 14,
     "metadata": {},
     "output_type": "execute_result"
    }
   ],
   "source": [
    "scaler.read()"
   ]
  },
  {
   "cell_type": "markdown",
   "metadata": {},
   "source": [
    "## Use Bluesky to count the scaler\n",
    "\n",
    "So far, we have used ophyd to talk with the EPICS scaler.  Let's start to use Bluesky.  We need to load support to start the Bluesky [*RunEngine*](http://nsls-ii.github.io/bluesky/tutorial.html#the-runengine).  For now, we'll use the most basic configuration (does not save data anywhere).  \n",
    "\n",
    "The job of the RunEngine is to process command messages (our data acquisition commands) and to output documents (the data to be acquired).  Initially, we'll use predefined data acquisition sequences (called [*plans*](http://nsls-ii.github.io/bluesky/plans.html)) and ignore the [documents](http://nsls-ii.github.io/bluesky/documents.html)."
   ]
  },
  {
   "cell_type": "code",
   "execution_count": 15,
   "metadata": {},
   "outputs": [],
   "source": [
    "from bluesky import RunEngine\n",
    "RE = RunEngine({})"
   ]
  },
  {
   "cell_type": "markdown",
   "metadata": {},
   "source": [
    "Next, we'll load a library with many [predefined plans](http://nsls-ii.github.io/bluesky/plans.html#summary).  The first plan we want to use is [`count()`](http://nsls-ii.github.io/bluesky/generated/bluesky.plans.count.html#bluesky.plans.count).  By the way, we'll use a python feature to rename `bluesky.plans` to the shorter `bp` since it will be used a lot."
   ]
  },
  {
   "cell_type": "code",
   "execution_count": 16,
   "metadata": {},
   "outputs": [],
   "source": [
    "import bluesky.plans as bp"
   ]
  },
  {
   "cell_type": "markdown",
   "metadata": {},
   "source": [
    "Now we can count the `scaler` by submitting the `bp.count` plan to the RunEngine instance `RE`.  The `bp.count()` plan takes one argument, a *list* of countable objects (just in case you want to count more than one detector at the same time).  Our list has only one object: `scaler`"
   ]
  },
  {
   "cell_type": "code",
   "execution_count": 17,
   "metadata": {},
   "outputs": [
    {
     "data": {
      "text/plain": [
       "('f333097a-7af8-496f-aedd-884c86ddc452',)"
      ]
     },
     "execution_count": 17,
     "metadata": {},
     "output_type": "execute_result"
    }
   ],
   "source": [
    "RE(bp.count([scaler]))"
   ]
  },
  {
   "cell_type": "markdown",
   "metadata": {},
   "source": [
    "The final result from submitting a plan to the RunEngine is an identifier of the sequence of documents.  Since we did not capture that sequence, we can't view it or access it in any way.  Let's *fix* that next."
   ]
  },
  {
   "cell_type": "markdown",
   "metadata": {},
   "source": [
    "### Report about the documents emitted from the RunEngine\n",
    "\n",
    "To display information about the documents emitted from the RunEngine, we need to make a function that will receive the documents.  \n",
    "\n",
    "In Bluesky terms, this type of function is a *callback*.  It takes two arguments.  The first argument is a `str` that tells what kind of document is coming, the second is a python dictionary with the document's contents.  We'll start by printing summary information.  We then submit the plan again with the name of our callback function as a second argument (not to `bp.count` but as a second argument to `RE()`)."
   ]
  },
  {
   "cell_type": "code",
   "execution_count": 18,
   "metadata": {},
   "outputs": [],
   "source": [
    "def myCallback(key, doc):\n",
    "    print(key, len(doc))"
   ]
  },
  {
   "cell_type": "code",
   "execution_count": 19,
   "metadata": {},
   "outputs": [
    {
     "name": "stdout",
     "output_type": "stream",
     "text": [
      "start 10\n",
      "descriptor 8\n",
      "event 7\n",
      "stop 6\n"
     ]
    },
    {
     "data": {
      "text/plain": [
       "('af62c72f-2a09-4055-b09e-8a87018d4070',)"
      ]
     },
     "execution_count": 19,
     "metadata": {},
     "output_type": "execute_result"
    }
   ],
   "source": [
    "RE(bp.count([scaler]), myCallback)"
   ]
  },
  {
   "cell_type": "markdown",
   "metadata": {},
   "source": [
    "So, there were four documents.  See http://nsls-ii.github.io/bluesky/documents.html for the details of each.  Let's extend our callback to print the details of each."
   ]
  },
  {
   "cell_type": "code",
   "execution_count": 20,
   "metadata": {},
   "outputs": [],
   "source": [
    "def myCallback(key, doc):\n",
    "    print(key, len(doc))\n",
    "    for k, v in doc.items():\n",
    "        print(\"\\t\", k, v)\n",
    "    print(\"~~~~~~~~~~~~~~~~~\")"
   ]
  },
  {
   "cell_type": "code",
   "execution_count": 21,
   "metadata": {},
   "outputs": [
    {
     "name": "stdout",
     "output_type": "stream",
     "text": [
      "start 10\n",
      "\t uid 745077f0-d34d-4e9e-9922-6f5c0cedd856\n",
      "\t time 1532469311.0539966\n",
      "\t hints {'dimensions': [(('time',), 'primary')]}\n",
      "\t plan_args {'detectors': [\"EpicsScaler(prefix='gov:scaler1', name='scaler', read_attrs=['channels', 'channels.chan1', 'channels.chan2', 'channels.chan3', 'channels.chan4', 'channels.chan7', 'names', 'presets', 'gates'], configuration_attrs=['count_mode', 'delay', 'auto_count_delay', 'channels', 'names', 'names.name1', 'names.name2', 'names.name3', 'names.name4', 'names.name5', 'names.name6', 'names.name7', 'names.name8', 'names.name9', 'names.name10', 'names.name11', 'names.name12', 'names.name13', 'names.name14', 'names.name15', 'names.name16', 'names.name17', 'names.name18', 'names.name19', 'names.name20', 'names.name21', 'names.name22', 'names.name23', 'names.name24', 'names.name25', 'names.name26', 'names.name27', 'names.name28', 'names.name29', 'names.name30', 'names.name31', 'names.name32', 'time', 'freq', 'preset_time', 'auto_count_time', 'presets', 'gates', 'update_rate', 'auto_count_update_rate', 'egu'])\"], 'num': 1}\n",
      "\t scan_id 3\n",
      "\t detectors ['scaler']\n",
      "\t plan_name count\n",
      "\t plan_type generator\n",
      "\t num_points 1\n",
      "\t num_intervals 0\n",
      "~~~~~~~~~~~~~~~~~\n",
      "descriptor 8\n",
      "\t run_start 745077f0-d34d-4e9e-9922-6f5c0cedd856\n",
      "\t time 1532469312.7901134\n",
      "\t data_keys {'scaler_channels_chan1': {'source': 'PV:gov:scaler1.S1', 'dtype': 'number', 'shape': [], 'precision': 0, 'units': '', 'lower_ctrl_limit': 0.0, 'upper_ctrl_limit': 0.0, 'object_name': 'scaler'}, 'scaler_channels_chan2': {'source': 'PV:gov:scaler1.S2', 'dtype': 'number', 'shape': [], 'precision': 0, 'units': '', 'lower_ctrl_limit': 0.0, 'upper_ctrl_limit': 0.0, 'object_name': 'scaler'}, 'scaler_channels_chan3': {'source': 'PV:gov:scaler1.S3', 'dtype': 'number', 'shape': [], 'precision': 0, 'units': '', 'lower_ctrl_limit': 0.0, 'upper_ctrl_limit': 0.0, 'object_name': 'scaler'}, 'scaler_channels_chan4': {'source': 'PV:gov:scaler1.S4', 'dtype': 'number', 'shape': [], 'precision': 0, 'units': '', 'lower_ctrl_limit': 0.0, 'upper_ctrl_limit': 0.0, 'object_name': 'scaler'}, 'scaler_channels_chan7': {'source': 'PV:gov:scaler1.S7', 'dtype': 'number', 'shape': [], 'precision': 0, 'units': '', 'lower_ctrl_limit': 0.0, 'upper_ctrl_limit': 0.0, 'object_name': 'scaler'}}\n",
      "\t uid d71d6b2c-8064-430e-bc8c-6ee9a7acaadc\n",
      "\t configuration {'scaler': {'data': {'scaler_count_mode': 'OneShot', 'scaler_delay': 0.0, 'scaler_auto_count_delay': 1.0, 'scaler_names_name1': 'clock', 'scaler_names_name2': 'I0', 'scaler_names_name3': 'I', 'scaler_names_name4': 'scint', 'scaler_names_name5': '', 'scaler_names_name6': '', 'scaler_names_name7': 'roi1', 'scaler_names_name8': '', 'scaler_names_name9': '', 'scaler_names_name10': '', 'scaler_names_name11': '', 'scaler_names_name12': '', 'scaler_names_name13': '', 'scaler_names_name14': '', 'scaler_names_name15': '', 'scaler_names_name16': '', 'scaler_names_name17': '', 'scaler_names_name18': '', 'scaler_names_name19': '', 'scaler_names_name20': '', 'scaler_names_name21': '', 'scaler_names_name22': '', 'scaler_names_name23': '', 'scaler_names_name24': '', 'scaler_names_name25': '', 'scaler_names_name26': '', 'scaler_names_name27': '', 'scaler_names_name28': '', 'scaler_names_name29': '', 'scaler_names_name30': '', 'scaler_names_name31': '', 'scaler_names_name32': '', 'scaler_time': 1.6, 'scaler_freq': 10000000.0, 'scaler_preset_time': 1.5, 'scaler_auto_count_time': 1.0, 'scaler_update_rate': 10.0, 'scaler_auto_count_update_rate': 10.0, 'scaler_egu': ''}, 'timestamps': {'scaler_count_mode': 1532469312.682977, 'scaler_delay': 1532469312.682977, 'scaler_auto_count_delay': 1532469312.682977, 'scaler_names_name1': 1532469312.682977, 'scaler_names_name2': 1532469312.682977, 'scaler_names_name3': 1532469312.682977, 'scaler_names_name4': 1532469312.682977, 'scaler_names_name5': 1532469312.682977, 'scaler_names_name6': 1532469312.682977, 'scaler_names_name7': 1532469312.682977, 'scaler_names_name8': 1532469312.682977, 'scaler_names_name9': 1532469312.682977, 'scaler_names_name10': 1532469312.682977, 'scaler_names_name11': 1532469312.682977, 'scaler_names_name12': 1532469312.682977, 'scaler_names_name13': 1532469312.682977, 'scaler_names_name14': 1532469312.682977, 'scaler_names_name15': 1532469312.682977, 'scaler_names_name16': 1532469312.682977, 'scaler_names_name17': 1532469312.682977, 'scaler_names_name18': 1532469312.682977, 'scaler_names_name19': 1532469312.682977, 'scaler_names_name20': 1532469312.682977, 'scaler_names_name21': 1532469312.682977, 'scaler_names_name22': 1532469312.682977, 'scaler_names_name23': 1532469312.682977, 'scaler_names_name24': 1532469312.682977, 'scaler_names_name25': 1532469312.682977, 'scaler_names_name26': 1532469312.682977, 'scaler_names_name27': 1532469312.682977, 'scaler_names_name28': 1532469312.682977, 'scaler_names_name29': 1532469312.682977, 'scaler_names_name30': 1532469312.682977, 'scaler_names_name31': 1532469312.682977, 'scaler_names_name32': 1532469312.682977, 'scaler_time': 1532469312.682977, 'scaler_freq': 1532469312.682977, 'scaler_preset_time': 1532469312.682977, 'scaler_auto_count_time': 1532469312.682977, 'scaler_update_rate': 1532469312.682977, 'scaler_auto_count_update_rate': 1532469312.682977, 'scaler_egu': 1532469312.682977}, 'data_keys': OrderedDict([('scaler_count_mode', {'source': 'PV:gov:scaler1.CONT', 'dtype': 'string', 'shape': [], 'units': None, 'lower_ctrl_limit': None, 'upper_ctrl_limit': None, 'enum_strs': ['OneShot', 'AutoCount']}), ('scaler_delay', {'source': 'PV:gov:scaler1.DLY', 'dtype': 'number', 'shape': [], 'precision': 3, 'units': '', 'lower_ctrl_limit': 0.0, 'upper_ctrl_limit': 0.0}), ('scaler_auto_count_delay', {'source': 'PV:gov:scaler1.DLY1', 'dtype': 'number', 'shape': [], 'precision': 3, 'units': '', 'lower_ctrl_limit': 0.0, 'upper_ctrl_limit': 0.0}), ('scaler_names_name1', {'source': 'PV:gov:scaler1.NM1', 'dtype': 'string', 'shape': [], 'units': None, 'lower_ctrl_limit': None, 'upper_ctrl_limit': None}), ('scaler_names_name2', {'source': 'PV:gov:scaler1.NM2', 'dtype': 'string', 'shape': [], 'units': None, 'lower_ctrl_limit': None, 'upper_ctrl_limit': None}), ('scaler_names_name3', {'source': 'PV:gov:scaler1.NM3', 'dtype': 'string', 'shape': [], 'units': None, 'lower_ctrl_limit': None, 'upper_ctrl_limit': None}), ('scaler_names_name4', {'source': 'PV:gov:scaler1.NM4', 'dtype': 'string', 'shape': [], 'units': None, 'lower_ctrl_limit': None, 'upper_ctrl_limit': None}), ('scaler_names_name5', {'source': 'PV:gov:scaler1.NM5', 'dtype': 'string', 'shape': [], 'units': None, 'lower_ctrl_limit': None, 'upper_ctrl_limit': None}), ('scaler_names_name6', {'source': 'PV:gov:scaler1.NM6', 'dtype': 'string', 'shape': [], 'units': None, 'lower_ctrl_limit': None, 'upper_ctrl_limit': None}), ('scaler_names_name7', {'source': 'PV:gov:scaler1.NM7', 'dtype': 'string', 'shape': [], 'units': None, 'lower_ctrl_limit': None, 'upper_ctrl_limit': None}), ('scaler_names_name8', {'source': 'PV:gov:scaler1.NM8', 'dtype': 'string', 'shape': [], 'units': None, 'lower_ctrl_limit': None, 'upper_ctrl_limit': None}), ('scaler_names_name9', {'source': 'PV:gov:scaler1.NM9', 'dtype': 'string', 'shape': [], 'units': None, 'lower_ctrl_limit': None, 'upper_ctrl_limit': None}), ('scaler_names_name10', {'source': 'PV:gov:scaler1.NM10', 'dtype': 'string', 'shape': [], 'units': None, 'lower_ctrl_limit': None, 'upper_ctrl_limit': None}), ('scaler_names_name11', {'source': 'PV:gov:scaler1.NM11', 'dtype': 'string', 'shape': [], 'units': None, 'lower_ctrl_limit': None, 'upper_ctrl_limit': None}), ('scaler_names_name12', {'source': 'PV:gov:scaler1.NM12', 'dtype': 'string', 'shape': [], 'units': None, 'lower_ctrl_limit': None, 'upper_ctrl_limit': None}), ('scaler_names_name13', {'source': 'PV:gov:scaler1.NM13', 'dtype': 'string', 'shape': [], 'units': None, 'lower_ctrl_limit': None, 'upper_ctrl_limit': None}), ('scaler_names_name14', {'source': 'PV:gov:scaler1.NM14', 'dtype': 'string', 'shape': [], 'units': None, 'lower_ctrl_limit': None, 'upper_ctrl_limit': None}), ('scaler_names_name15', {'source': 'PV:gov:scaler1.NM15', 'dtype': 'string', 'shape': [], 'units': None, 'lower_ctrl_limit': None, 'upper_ctrl_limit': None}), ('scaler_names_name16', {'source': 'PV:gov:scaler1.NM16', 'dtype': 'string', 'shape': [], 'units': None, 'lower_ctrl_limit': None, 'upper_ctrl_limit': None}), ('scaler_names_name17', {'source': 'PV:gov:scaler1.NM17', 'dtype': 'string', 'shape': [], 'units': None, 'lower_ctrl_limit': None, 'upper_ctrl_limit': None}), ('scaler_names_name18', {'source': 'PV:gov:scaler1.NM18', 'dtype': 'string', 'shape': [], 'units': None, 'lower_ctrl_limit': None, 'upper_ctrl_limit': None}), ('scaler_names_name19', {'source': 'PV:gov:scaler1.NM19', 'dtype': 'string', 'shape': [], 'units': None, 'lower_ctrl_limit': None, 'upper_ctrl_limit': None}), ('scaler_names_name20', {'source': 'PV:gov:scaler1.NM20', 'dtype': 'string', 'shape': [], 'units': None, 'lower_ctrl_limit': None, 'upper_ctrl_limit': None}), ('scaler_names_name21', {'source': 'PV:gov:scaler1.NM21', 'dtype': 'string', 'shape': [], 'units': None, 'lower_ctrl_limit': None, 'upper_ctrl_limit': None}), ('scaler_names_name22', {'source': 'PV:gov:scaler1.NM22', 'dtype': 'string', 'shape': [], 'units': None, 'lower_ctrl_limit': None, 'upper_ctrl_limit': None}), ('scaler_names_name23', {'source': 'PV:gov:scaler1.NM23', 'dtype': 'string', 'shape': [], 'units': None, 'lower_ctrl_limit': None, 'upper_ctrl_limit': None}), ('scaler_names_name24', {'source': 'PV:gov:scaler1.NM24', 'dtype': 'string', 'shape': [], 'units': None, 'lower_ctrl_limit': None, 'upper_ctrl_limit': None}), ('scaler_names_name25', {'source': 'PV:gov:scaler1.NM25', 'dtype': 'string', 'shape': [], 'units': None, 'lower_ctrl_limit': None, 'upper_ctrl_limit': None}), ('scaler_names_name26', {'source': 'PV:gov:scaler1.NM26', 'dtype': 'string', 'shape': [], 'units': None, 'lower_ctrl_limit': None, 'upper_ctrl_limit': None}), ('scaler_names_name27', {'source': 'PV:gov:scaler1.NM27', 'dtype': 'string', 'shape': [], 'units': None, 'lower_ctrl_limit': None, 'upper_ctrl_limit': None}), ('scaler_names_name28', {'source': 'PV:gov:scaler1.NM28', 'dtype': 'string', 'shape': [], 'units': None, 'lower_ctrl_limit': None, 'upper_ctrl_limit': None}), ('scaler_names_name29', {'source': 'PV:gov:scaler1.NM29', 'dtype': 'string', 'shape': [], 'units': None, 'lower_ctrl_limit': None, 'upper_ctrl_limit': None}), ('scaler_names_name30', {'source': 'PV:gov:scaler1.NM30', 'dtype': 'string', 'shape': [], 'units': None, 'lower_ctrl_limit': None, 'upper_ctrl_limit': None}), ('scaler_names_name31', {'source': 'PV:gov:scaler1.NM31', 'dtype': 'string', 'shape': [], 'units': None, 'lower_ctrl_limit': None, 'upper_ctrl_limit': None}), ('scaler_names_name32', {'source': 'PV:gov:scaler1.NM32', 'dtype': 'string', 'shape': [], 'units': None, 'lower_ctrl_limit': None, 'upper_ctrl_limit': None}), ('scaler_time', {'source': 'PV:gov:scaler1.T', 'dtype': 'number', 'shape': [], 'precision': 3, 'units': '', 'lower_ctrl_limit': 0.0, 'upper_ctrl_limit': 0.0}), ('scaler_freq', {'source': 'PV:gov:scaler1.FREQ', 'dtype': 'number', 'shape': [], 'precision': 3, 'units': '', 'lower_ctrl_limit': 0.0, 'upper_ctrl_limit': 0.0}), ('scaler_preset_time', {'source': 'PV:gov:scaler1.TP', 'dtype': 'number', 'shape': [], 'precision': 3, 'units': '', 'lower_ctrl_limit': 0.0, 'upper_ctrl_limit': 0.0}), ('scaler_auto_count_time', {'source': 'PV:gov:scaler1.TP1', 'dtype': 'number', 'shape': [], 'precision': 3, 'units': '', 'lower_ctrl_limit': 0.0, 'upper_ctrl_limit': 0.0}), ('scaler_update_rate', {'source': 'PV:gov:scaler1.RATE', 'dtype': 'number', 'shape': [], 'precision': 3, 'units': '', 'lower_ctrl_limit': 0.0, 'upper_ctrl_limit': 0.0}), ('scaler_auto_count_update_rate', {'source': 'PV:gov:scaler1.RAT1', 'dtype': 'number', 'shape': [], 'precision': 3, 'units': '', 'lower_ctrl_limit': 0.0, 'upper_ctrl_limit': 0.0}), ('scaler_egu', {'source': 'PV:gov:scaler1.EGU', 'dtype': 'string', 'shape': [], 'units': None, 'lower_ctrl_limit': None, 'upper_ctrl_limit': None})])}}\n",
      "\t name primary\n",
      "\t hints {'scaler': {'fields': ['scaler_channels_chan1', 'scaler_channels_chan2', 'scaler_channels_chan3', 'scaler_channels_chan4']}}\n",
      "\t object_keys {'scaler': ['scaler_channels_chan1', 'scaler_channels_chan2', 'scaler_channels_chan3', 'scaler_channels_chan4', 'scaler_channels_chan7']}\n",
      "~~~~~~~~~~~~~~~~~\n",
      "event 7\n",
      "\t descriptor d71d6b2c-8064-430e-bc8c-6ee9a7acaadc\n",
      "\t time 1532469312.8041315\n",
      "\t data {'scaler_channels_chan1': 16000000.0, 'scaler_channels_chan2': 5.0, 'scaler_channels_chan3': 6.0, 'scaler_channels_chan4': 8.0, 'scaler_channels_chan7': 8.0}\n",
      "\t timestamps {'scaler_channels_chan1': 1532469312.682977, 'scaler_channels_chan2': 1532469312.682977, 'scaler_channels_chan3': 1532469312.682977, 'scaler_channels_chan4': 1532469312.682977, 'scaler_channels_chan7': 1532469312.682977}\n",
      "\t seq_num 1\n",
      "\t uid abdd8d49-2429-453a-91f6-38867d24fc4b\n",
      "\t filled {}\n",
      "~~~~~~~~~~~~~~~~~\n",
      "stop 6\n",
      "\t run_start 745077f0-d34d-4e9e-9922-6f5c0cedd856\n",
      "\t time 1532469312.8099914\n",
      "\t uid aa3cf66e-212c-4eab-b2f5-04cc41be59e2\n",
      "\t exit_status success\n",
      "\t reason \n",
      "\t num_events {'primary': 1}\n",
      "~~~~~~~~~~~~~~~~~\n"
     ]
    },
    {
     "data": {
      "text/plain": [
       "('745077f0-d34d-4e9e-9922-6f5c0cedd856',)"
      ]
     },
     "execution_count": 21,
     "metadata": {},
     "output_type": "execute_result"
    }
   ],
   "source": [
    "RE(bp.count([scaler]), myCallback)"
   ]
  },
  {
   "cell_type": "markdown",
   "metadata": {},
   "source": [
    "With the details, we see more of what is happening.  \n",
    "\n",
    "The first document is a `start` and it says what is happening and how it will be identified.  The identifier is a [UUID](https://docs.python.org/3.6/library/uuid.html) (specifically, a [uuid4](https://docs.python.org/3.6/library/uuid.html#uuid.uuid4)).  This looks tedious and random.  The one good thing is that these are unique and often can be referred to by the first few characters (6-8 are enough to be *probably* unique).  The UUID from the `start` document is what the RunEngine reports when the scan stops.\n",
    "\n",
    "The second document is a `descriptor` and it says what, exactly, will be measured.  It also includes a reference to `start`'s uuid.  We can follow the chain back to `start` this way.\n",
    "\n",
    "The third document is an `event` and it provides the data reading when the scaler was counted.  The data is read according to the `descriptor` document (just actual values for the *named* channels).\n",
    "\n",
    "The last document is a `stop` document that describes how things ended.  It also says there was only one stream of event documents named *primary*.\n",
    "\n",
    "Let's repeat that plan, this time asking to `count` the scaler three times.  This is the `num=3` addition to the call to `bp.count()`.  What's tricky now is keeping track of the parentheses and square braces."
   ]
  },
  {
   "cell_type": "code",
   "execution_count": 22,
   "metadata": {},
   "outputs": [
    {
     "name": "stdout",
     "output_type": "stream",
     "text": [
      "start 10\n",
      "\t uid b7e9f118-5eb5-477f-9de4-ddca5c8b47a2\n",
      "\t time 1532469312.8402565\n",
      "\t hints {'dimensions': [(('time',), 'primary')]}\n",
      "\t plan_args {'detectors': [\"EpicsScaler(prefix='gov:scaler1', name='scaler', read_attrs=['channels', 'channels.chan1', 'channels.chan2', 'channels.chan3', 'channels.chan4', 'channels.chan7', 'names', 'presets', 'gates'], configuration_attrs=['count_mode', 'delay', 'auto_count_delay', 'channels', 'names', 'names.name1', 'names.name2', 'names.name3', 'names.name4', 'names.name5', 'names.name6', 'names.name7', 'names.name8', 'names.name9', 'names.name10', 'names.name11', 'names.name12', 'names.name13', 'names.name14', 'names.name15', 'names.name16', 'names.name17', 'names.name18', 'names.name19', 'names.name20', 'names.name21', 'names.name22', 'names.name23', 'names.name24', 'names.name25', 'names.name26', 'names.name27', 'names.name28', 'names.name29', 'names.name30', 'names.name31', 'names.name32', 'time', 'freq', 'preset_time', 'auto_count_time', 'presets', 'gates', 'update_rate', 'auto_count_update_rate', 'egu'])\"], 'num': 3}\n",
      "\t scan_id 4\n",
      "\t detectors ['scaler']\n",
      "\t plan_name count\n",
      "\t plan_type generator\n",
      "\t num_points 3\n",
      "\t num_intervals 2\n",
      "~~~~~~~~~~~~~~~~~\n",
      "descriptor 8\n",
      "\t run_start b7e9f118-5eb5-477f-9de4-ddca5c8b47a2\n",
      "\t time 1532469314.674914\n",
      "\t data_keys {'scaler_channels_chan1': {'source': 'PV:gov:scaler1.S1', 'dtype': 'number', 'shape': [], 'precision': 0, 'units': '', 'lower_ctrl_limit': 0.0, 'upper_ctrl_limit': 0.0, 'object_name': 'scaler'}, 'scaler_channels_chan2': {'source': 'PV:gov:scaler1.S2', 'dtype': 'number', 'shape': [], 'precision': 0, 'units': '', 'lower_ctrl_limit': 0.0, 'upper_ctrl_limit': 0.0, 'object_name': 'scaler'}, 'scaler_channels_chan3': {'source': 'PV:gov:scaler1.S3', 'dtype': 'number', 'shape': [], 'precision': 0, 'units': '', 'lower_ctrl_limit': 0.0, 'upper_ctrl_limit': 0.0, 'object_name': 'scaler'}, 'scaler_channels_chan4': {'source': 'PV:gov:scaler1.S4', 'dtype': 'number', 'shape': [], 'precision': 0, 'units': '', 'lower_ctrl_limit': 0.0, 'upper_ctrl_limit': 0.0, 'object_name': 'scaler'}, 'scaler_channels_chan7': {'source': 'PV:gov:scaler1.S7', 'dtype': 'number', 'shape': [], 'precision': 0, 'units': '', 'lower_ctrl_limit': 0.0, 'upper_ctrl_limit': 0.0, 'object_name': 'scaler'}}\n",
      "\t uid 02cf2359-106f-4fb2-bd73-7d054dcc5b7f\n",
      "\t configuration {'scaler': {'data': {'scaler_count_mode': 'OneShot', 'scaler_delay': 0.0, 'scaler_auto_count_delay': 1.0, 'scaler_names_name1': 'clock', 'scaler_names_name2': 'I0', 'scaler_names_name3': 'I', 'scaler_names_name4': 'scint', 'scaler_names_name5': '', 'scaler_names_name6': '', 'scaler_names_name7': 'roi1', 'scaler_names_name8': '', 'scaler_names_name9': '', 'scaler_names_name10': '', 'scaler_names_name11': '', 'scaler_names_name12': '', 'scaler_names_name13': '', 'scaler_names_name14': '', 'scaler_names_name15': '', 'scaler_names_name16': '', 'scaler_names_name17': '', 'scaler_names_name18': '', 'scaler_names_name19': '', 'scaler_names_name20': '', 'scaler_names_name21': '', 'scaler_names_name22': '', 'scaler_names_name23': '', 'scaler_names_name24': '', 'scaler_names_name25': '', 'scaler_names_name26': '', 'scaler_names_name27': '', 'scaler_names_name28': '', 'scaler_names_name29': '', 'scaler_names_name30': '', 'scaler_names_name31': '', 'scaler_names_name32': '', 'scaler_time': 1.6, 'scaler_freq': 10000000.0, 'scaler_preset_time': 1.5, 'scaler_auto_count_time': 1.0, 'scaler_update_rate': 10.0, 'scaler_auto_count_update_rate': 10.0, 'scaler_egu': ''}, 'timestamps': {'scaler_count_mode': 1532469314.561714, 'scaler_delay': 1532469314.561714, 'scaler_auto_count_delay': 1532469314.561714, 'scaler_names_name1': 1532469314.561714, 'scaler_names_name2': 1532469314.561714, 'scaler_names_name3': 1532469314.561714, 'scaler_names_name4': 1532469314.561714, 'scaler_names_name5': 1532469314.561714, 'scaler_names_name6': 1532469314.561714, 'scaler_names_name7': 1532469314.561714, 'scaler_names_name8': 1532469314.561714, 'scaler_names_name9': 1532469314.561714, 'scaler_names_name10': 1532469314.561714, 'scaler_names_name11': 1532469314.561714, 'scaler_names_name12': 1532469314.561714, 'scaler_names_name13': 1532469314.561714, 'scaler_names_name14': 1532469314.561714, 'scaler_names_name15': 1532469314.561714, 'scaler_names_name16': 1532469314.561714, 'scaler_names_name17': 1532469314.561714, 'scaler_names_name18': 1532469314.561714, 'scaler_names_name19': 1532469314.561714, 'scaler_names_name20': 1532469314.561714, 'scaler_names_name21': 1532469314.561714, 'scaler_names_name22': 1532469314.561714, 'scaler_names_name23': 1532469314.561714, 'scaler_names_name24': 1532469314.561714, 'scaler_names_name25': 1532469314.561714, 'scaler_names_name26': 1532469314.561714, 'scaler_names_name27': 1532469314.561714, 'scaler_names_name28': 1532469314.561714, 'scaler_names_name29': 1532469314.561714, 'scaler_names_name30': 1532469314.561714, 'scaler_names_name31': 1532469314.561714, 'scaler_names_name32': 1532469314.561714, 'scaler_time': 1532469314.561714, 'scaler_freq': 1532469314.561714, 'scaler_preset_time': 1532469314.561714, 'scaler_auto_count_time': 1532469314.561714, 'scaler_update_rate': 1532469314.561714, 'scaler_auto_count_update_rate': 1532469314.561714, 'scaler_egu': 1532469314.561714}, 'data_keys': OrderedDict([('scaler_count_mode', {'source': 'PV:gov:scaler1.CONT', 'dtype': 'string', 'shape': [], 'units': None, 'lower_ctrl_limit': None, 'upper_ctrl_limit': None, 'enum_strs': ['OneShot', 'AutoCount']}), ('scaler_delay', {'source': 'PV:gov:scaler1.DLY', 'dtype': 'number', 'shape': [], 'precision': 3, 'units': '', 'lower_ctrl_limit': 0.0, 'upper_ctrl_limit': 0.0}), ('scaler_auto_count_delay', {'source': 'PV:gov:scaler1.DLY1', 'dtype': 'number', 'shape': [], 'precision': 3, 'units': '', 'lower_ctrl_limit': 0.0, 'upper_ctrl_limit': 0.0}), ('scaler_names_name1', {'source': 'PV:gov:scaler1.NM1', 'dtype': 'string', 'shape': [], 'units': None, 'lower_ctrl_limit': None, 'upper_ctrl_limit': None}), ('scaler_names_name2', {'source': 'PV:gov:scaler1.NM2', 'dtype': 'string', 'shape': [], 'units': None, 'lower_ctrl_limit': None, 'upper_ctrl_limit': None}), ('scaler_names_name3', {'source': 'PV:gov:scaler1.NM3', 'dtype': 'string', 'shape': [], 'units': None, 'lower_ctrl_limit': None, 'upper_ctrl_limit': None}), ('scaler_names_name4', {'source': 'PV:gov:scaler1.NM4', 'dtype': 'string', 'shape': [], 'units': None, 'lower_ctrl_limit': None, 'upper_ctrl_limit': None}), ('scaler_names_name5', {'source': 'PV:gov:scaler1.NM5', 'dtype': 'string', 'shape': [], 'units': None, 'lower_ctrl_limit': None, 'upper_ctrl_limit': None}), ('scaler_names_name6', {'source': 'PV:gov:scaler1.NM6', 'dtype': 'string', 'shape': [], 'units': None, 'lower_ctrl_limit': None, 'upper_ctrl_limit': None}), ('scaler_names_name7', {'source': 'PV:gov:scaler1.NM7', 'dtype': 'string', 'shape': [], 'units': None, 'lower_ctrl_limit': None, 'upper_ctrl_limit': None}), ('scaler_names_name8', {'source': 'PV:gov:scaler1.NM8', 'dtype': 'string', 'shape': [], 'units': None, 'lower_ctrl_limit': None, 'upper_ctrl_limit': None}), ('scaler_names_name9', {'source': 'PV:gov:scaler1.NM9', 'dtype': 'string', 'shape': [], 'units': None, 'lower_ctrl_limit': None, 'upper_ctrl_limit': None}), ('scaler_names_name10', {'source': 'PV:gov:scaler1.NM10', 'dtype': 'string', 'shape': [], 'units': None, 'lower_ctrl_limit': None, 'upper_ctrl_limit': None}), ('scaler_names_name11', {'source': 'PV:gov:scaler1.NM11', 'dtype': 'string', 'shape': [], 'units': None, 'lower_ctrl_limit': None, 'upper_ctrl_limit': None}), ('scaler_names_name12', {'source': 'PV:gov:scaler1.NM12', 'dtype': 'string', 'shape': [], 'units': None, 'lower_ctrl_limit': None, 'upper_ctrl_limit': None}), ('scaler_names_name13', {'source': 'PV:gov:scaler1.NM13', 'dtype': 'string', 'shape': [], 'units': None, 'lower_ctrl_limit': None, 'upper_ctrl_limit': None}), ('scaler_names_name14', {'source': 'PV:gov:scaler1.NM14', 'dtype': 'string', 'shape': [], 'units': None, 'lower_ctrl_limit': None, 'upper_ctrl_limit': None}), ('scaler_names_name15', {'source': 'PV:gov:scaler1.NM15', 'dtype': 'string', 'shape': [], 'units': None, 'lower_ctrl_limit': None, 'upper_ctrl_limit': None}), ('scaler_names_name16', {'source': 'PV:gov:scaler1.NM16', 'dtype': 'string', 'shape': [], 'units': None, 'lower_ctrl_limit': None, 'upper_ctrl_limit': None}), ('scaler_names_name17', {'source': 'PV:gov:scaler1.NM17', 'dtype': 'string', 'shape': [], 'units': None, 'lower_ctrl_limit': None, 'upper_ctrl_limit': None}), ('scaler_names_name18', {'source': 'PV:gov:scaler1.NM18', 'dtype': 'string', 'shape': [], 'units': None, 'lower_ctrl_limit': None, 'upper_ctrl_limit': None}), ('scaler_names_name19', {'source': 'PV:gov:scaler1.NM19', 'dtype': 'string', 'shape': [], 'units': None, 'lower_ctrl_limit': None, 'upper_ctrl_limit': None}), ('scaler_names_name20', {'source': 'PV:gov:scaler1.NM20', 'dtype': 'string', 'shape': [], 'units': None, 'lower_ctrl_limit': None, 'upper_ctrl_limit': None}), ('scaler_names_name21', {'source': 'PV:gov:scaler1.NM21', 'dtype': 'string', 'shape': [], 'units': None, 'lower_ctrl_limit': None, 'upper_ctrl_limit': None}), ('scaler_names_name22', {'source': 'PV:gov:scaler1.NM22', 'dtype': 'string', 'shape': [], 'units': None, 'lower_ctrl_limit': None, 'upper_ctrl_limit': None}), ('scaler_names_name23', {'source': 'PV:gov:scaler1.NM23', 'dtype': 'string', 'shape': [], 'units': None, 'lower_ctrl_limit': None, 'upper_ctrl_limit': None}), ('scaler_names_name24', {'source': 'PV:gov:scaler1.NM24', 'dtype': 'string', 'shape': [], 'units': None, 'lower_ctrl_limit': None, 'upper_ctrl_limit': None}), ('scaler_names_name25', {'source': 'PV:gov:scaler1.NM25', 'dtype': 'string', 'shape': [], 'units': None, 'lower_ctrl_limit': None, 'upper_ctrl_limit': None}), ('scaler_names_name26', {'source': 'PV:gov:scaler1.NM26', 'dtype': 'string', 'shape': [], 'units': None, 'lower_ctrl_limit': None, 'upper_ctrl_limit': None}), ('scaler_names_name27', {'source': 'PV:gov:scaler1.NM27', 'dtype': 'string', 'shape': [], 'units': None, 'lower_ctrl_limit': None, 'upper_ctrl_limit': None}), ('scaler_names_name28', {'source': 'PV:gov:scaler1.NM28', 'dtype': 'string', 'shape': [], 'units': None, 'lower_ctrl_limit': None, 'upper_ctrl_limit': None}), ('scaler_names_name29', {'source': 'PV:gov:scaler1.NM29', 'dtype': 'string', 'shape': [], 'units': None, 'lower_ctrl_limit': None, 'upper_ctrl_limit': None}), ('scaler_names_name30', {'source': 'PV:gov:scaler1.NM30', 'dtype': 'string', 'shape': [], 'units': None, 'lower_ctrl_limit': None, 'upper_ctrl_limit': None}), ('scaler_names_name31', {'source': 'PV:gov:scaler1.NM31', 'dtype': 'string', 'shape': [], 'units': None, 'lower_ctrl_limit': None, 'upper_ctrl_limit': None}), ('scaler_names_name32', {'source': 'PV:gov:scaler1.NM32', 'dtype': 'string', 'shape': [], 'units': None, 'lower_ctrl_limit': None, 'upper_ctrl_limit': None}), ('scaler_time', {'source': 'PV:gov:scaler1.T', 'dtype': 'number', 'shape': [], 'precision': 3, 'units': '', 'lower_ctrl_limit': 0.0, 'upper_ctrl_limit': 0.0}), ('scaler_freq', {'source': 'PV:gov:scaler1.FREQ', 'dtype': 'number', 'shape': [], 'precision': 3, 'units': '', 'lower_ctrl_limit': 0.0, 'upper_ctrl_limit': 0.0}), ('scaler_preset_time', {'source': 'PV:gov:scaler1.TP', 'dtype': 'number', 'shape': [], 'precision': 3, 'units': '', 'lower_ctrl_limit': 0.0, 'upper_ctrl_limit': 0.0}), ('scaler_auto_count_time', {'source': 'PV:gov:scaler1.TP1', 'dtype': 'number', 'shape': [], 'precision': 3, 'units': '', 'lower_ctrl_limit': 0.0, 'upper_ctrl_limit': 0.0}), ('scaler_update_rate', {'source': 'PV:gov:scaler1.RATE', 'dtype': 'number', 'shape': [], 'precision': 3, 'units': '', 'lower_ctrl_limit': 0.0, 'upper_ctrl_limit': 0.0}), ('scaler_auto_count_update_rate', {'source': 'PV:gov:scaler1.RAT1', 'dtype': 'number', 'shape': [], 'precision': 3, 'units': '', 'lower_ctrl_limit': 0.0, 'upper_ctrl_limit': 0.0}), ('scaler_egu', {'source': 'PV:gov:scaler1.EGU', 'dtype': 'string', 'shape': [], 'units': None, 'lower_ctrl_limit': None, 'upper_ctrl_limit': None})])}}\n",
      "\t name primary\n",
      "\t hints {'scaler': {'fields': ['scaler_channels_chan1', 'scaler_channels_chan2', 'scaler_channels_chan3', 'scaler_channels_chan4']}}\n",
      "\t object_keys {'scaler': ['scaler_channels_chan1', 'scaler_channels_chan2', 'scaler_channels_chan3', 'scaler_channels_chan4', 'scaler_channels_chan7']}\n",
      "~~~~~~~~~~~~~~~~~\n",
      "event 7\n",
      "\t descriptor 02cf2359-106f-4fb2-bd73-7d054dcc5b7f\n",
      "\t time 1532469314.6892207\n",
      "\t data {'scaler_channels_chan1': 16000000.0, 'scaler_channels_chan2': 10.0, 'scaler_channels_chan3': 10.0, 'scaler_channels_chan4': 8.0, 'scaler_channels_chan7': 7.0}\n",
      "\t timestamps {'scaler_channels_chan1': 1532469314.561714, 'scaler_channels_chan2': 1532469314.561714, 'scaler_channels_chan3': 1532469314.561714, 'scaler_channels_chan4': 1532469314.561714, 'scaler_channels_chan7': 1532469314.561714}\n",
      "\t seq_num 1\n",
      "\t uid ff55444a-4f1e-44a5-aa05-48ff646968c4\n",
      "\t filled {}\n",
      "~~~~~~~~~~~~~~~~~\n"
     ]
    },
    {
     "name": "stdout",
     "output_type": "stream",
     "text": [
      "event 7\n",
      "\t descriptor 02cf2359-106f-4fb2-bd73-7d054dcc5b7f\n",
      "\t time 1532469316.4139385\n",
      "\t data {'scaler_channels_chan1': 16000000.0, 'scaler_channels_chan2': 6.0, 'scaler_channels_chan3': 6.0, 'scaler_channels_chan4': 7.0, 'scaler_channels_chan7': 9.0}\n",
      "\t timestamps {'scaler_channels_chan1': 1532469316.408403, 'scaler_channels_chan2': 1532469316.408403, 'scaler_channels_chan3': 1532469316.408403, 'scaler_channels_chan4': 1532469316.408403, 'scaler_channels_chan7': 1532469316.408403}\n",
      "\t seq_num 2\n",
      "\t uid c2a6de4c-0463-48fd-bc3c-f4dc379f6c5d\n",
      "\t filled {}\n",
      "~~~~~~~~~~~~~~~~~\n",
      "event 7\n",
      "\t descriptor 02cf2359-106f-4fb2-bd73-7d054dcc5b7f\n",
      "\t time 1532469318.0446608\n",
      "\t data {'scaler_channels_chan1': 16000000.0, 'scaler_channels_chan2': 7.0, 'scaler_channels_chan3': 8.0, 'scaler_channels_chan4': 7.0, 'scaler_channels_chan7': 8.0}\n",
      "\t timestamps {'scaler_channels_chan1': 1532469318.039402, 'scaler_channels_chan2': 1532469318.039402, 'scaler_channels_chan3': 1532469318.039402, 'scaler_channels_chan4': 1532469318.039402, 'scaler_channels_chan7': 1532469318.039402}\n",
      "\t seq_num 3\n",
      "\t uid 595e8195-262e-4135-a766-8252a572d1bf\n",
      "\t filled {}\n",
      "~~~~~~~~~~~~~~~~~\n",
      "stop 6\n",
      "\t run_start b7e9f118-5eb5-477f-9de4-ddca5c8b47a2\n",
      "\t time 1532469318.0495186\n",
      "\t uid 8ecd731f-8045-4299-89e0-6325b800d111\n",
      "\t exit_status success\n",
      "\t reason \n",
      "\t num_events {'primary': 3}\n",
      "~~~~~~~~~~~~~~~~~\n"
     ]
    },
    {
     "data": {
      "text/plain": [
       "('b7e9f118-5eb5-477f-9de4-ddca5c8b47a2',)"
      ]
     },
     "execution_count": 22,
     "metadata": {},
     "output_type": "execute_result"
    }
   ],
   "source": [
    "RE(bp.count([scaler], num=3), myCallback)"
   ]
  },
  {
   "cell_type": "markdown",
   "metadata": {},
   "source": [
    "Mostly the same but now there are three `event` documents."
   ]
  },
  {
   "cell_type": "markdown",
   "metadata": {},
   "source": [
    "# Summary\n",
    "\n",
    "We'll show the code so far as a proper python program now:\n",
    "\n",
    "```\n",
    "#!/APSshare/anaconda3/BlueSky/bin/python\n",
    "\n",
    "\"lesson 1: EpicsScaler\"\n",
    "\n",
    "from ophyd import EpicsScaler\n",
    "from bluesky import RunEngine\n",
    "import bluesky.plans as bp\n",
    "from APS_BlueSky_tools.devices import use_EPICS_scaler_channels\n",
    "\n",
    "\n",
    "def myCallback(key, doc):\n",
    "    print(key, len(doc))\n",
    "    for k, v in doc.items():\n",
    "        print(\"\\t\", k, v)\n",
    "    print(\"~~~~~~~~~~~~~~~~~\")\n",
    "\n",
    "def printScalerNames(scaler):\n",
    "    for nm in scaler.names.configuration_attrs:\n",
    "        ch = scaler.names.__getattribute__(nm)\n",
    "        if len(ch.value) > 0:\n",
    "            print(nm, ch.value)\n",
    "\n",
    "\n",
    "RE = RunEngine({})\n",
    "\n",
    "scaler = EpicsScaler(\"gov:scaler1\", name=\"scaler\")\n",
    "scaler.preset_time.put(1.5)\n",
    "print(scaler.preset_time.value)\n",
    "\n",
    "scaler.names.name7.put(\"roi1\")\n",
    "scaler.names.name4.put(\"scint\")\n",
    "printScalerNames(scaler)\n",
    "\n",
    "use_EPICS_scaler_channels(scaler)\n",
    "print(scaler.read())\n",
    "print(RE(bp.count([scaler], num=3), myCallback))\n",
    "```\n"
   ]
  },
  {
   "cell_type": "markdown",
   "metadata": {},
   "source": [
    "Here is the output when run from the console:\n",
    "\n",
    "```\n",
    "jemian@otz /tmp $ ./lesson1.py \n",
    "1.5\n",
    "name1 clock\n",
    "name2 I0\n",
    "name3 I\n",
    "name4 scint\n",
    "name7 roi1\n",
    "OrderedDict([('scaler_channels_chan1', {'value': 0.0, 'timestamp': 1532469318.054875}), ('scaler_channels_chan2', {'value': 0.0, 'timestamp': 1532469318.054875}), ('scaler_channels_chan3', {'value': 0.0, 'timestamp': 1532469318.054875}), ('scaler_channels_chan4', {'value': 0.0, 'timestamp': 1532469318.054875}), ('scaler_channels_chan7', {'value': 0.0, 'timestamp': 1532469318.054875})])\n",
    "start 10\n",
    "\t uid 38f77323-57e9-443e-8114-871f85347610\n",
    "\t time 1532469886.0000541\n",
    "\t num_points 3\n",
    "\t plan_name count\n",
    "\t plan_args {'detectors': [\"EpicsScaler(prefix='gov:scaler1', name='scaler', read_attrs=['channels', 'channels.chan1', 'channels.chan2', 'channels.chan3', 'channels.chan4', 'channels.chan7', 'names', 'presets', 'gates'], configuration_attrs=['count_mode', 'delay', 'auto_count_delay', 'channels', 'names', 'names.name1', 'names.name2', 'names.name3', 'names.name4', 'names.name5', 'names.name6', 'names.name7', 'names.name8', 'names.name9', 'names.name10', 'names.name11', 'names.name12', 'names.name13', 'names.name14', 'names.name15', 'names.name16', 'names.name17', 'names.name18', 'names.name19', 'names.name20', 'names.name21', 'names.name22', 'names.name23', 'names.name24', 'names.name25', 'names.name26', 'names.name27', 'names.name28', 'names.name29', 'names.name30', 'names.name31', 'names.name32', 'time', 'freq', 'preset_time', 'auto_count_time', 'presets', 'gates', 'update_rate', 'auto_count_update_rate', 'egu'])\"], 'num': 3}\n",
    "\t hints {'dimensions': [(('time',), 'primary')]}\n",
    "\t num_intervals 2\n",
    "\t plan_type generator\n",
    "\t scan_id 1\n",
    "\t detectors ['scaler']\n",
    "~~~~~~~~~~~~~~~~~\n",
    "descriptor 8\n",
    "\t run_start 38f77323-57e9-443e-8114-871f85347610\n",
    "\t time 1532469887.825319\n",
    "\t data_keys {'scaler_channels_chan1': {'source': 'PV:gov:scaler1.S1', 'dtype': 'number', 'shape': [], 'precision': 0, 'units': '', 'lower_ctrl_limit': 0.0, 'upper_ctrl_limit': 0.0, 'object_name': 'scaler'}, 'scaler_channels_chan2': {'source': 'PV:gov:scaler1.S2', 'dtype': 'number', 'shape': [], 'precision': 0, 'units': '', 'lower_ctrl_limit': 0.0, 'upper_ctrl_limit': 0.0, 'object_name': 'scaler'}, 'scaler_channels_chan3': {'source': 'PV:gov:scaler1.S3', 'dtype': 'number', 'shape': [], 'precision': 0, 'units': '', 'lower_ctrl_limit': 0.0, 'upper_ctrl_limit': 0.0, 'object_name': 'scaler'}, 'scaler_channels_chan4': {'source': 'PV:gov:scaler1.S4', 'dtype': 'number', 'shape': [], 'precision': 0, 'units': '', 'lower_ctrl_limit': 0.0, 'upper_ctrl_limit': 0.0, 'object_name': 'scaler'}, 'scaler_channels_chan7': {'source': 'PV:gov:scaler1.S7', 'dtype': 'number', 'shape': [], 'precision': 0, 'units': '', 'lower_ctrl_limit': 0.0, 'upper_ctrl_limit': 0.0, 'object_name': 'scaler'}}\n",
    "\t uid cd11f35c-0811-4533-ab72-68f68d950fa0\n",
    "\t configuration {'scaler': {'data': {'scaler_count_mode': 'OneShot', 'scaler_delay': 0.0, 'scaler_auto_count_delay': 1.0, 'scaler_names_name1': 'clock', 'scaler_names_name2': 'I0', 'scaler_names_name3': 'I', 'scaler_names_name4': 'scint', 'scaler_names_name5': '', 'scaler_names_name6': '', 'scaler_names_name7': 'roi1', 'scaler_names_name8': '', 'scaler_names_name9': '', 'scaler_names_name10': '', 'scaler_names_name11': '', 'scaler_names_name12': '', 'scaler_names_name13': '', 'scaler_names_name14': '', 'scaler_names_name15': '', 'scaler_names_name16': '', 'scaler_names_name17': '', 'scaler_names_name18': '', 'scaler_names_name19': '', 'scaler_names_name20': '', 'scaler_names_name21': '', 'scaler_names_name22': '', 'scaler_names_name23': '', 'scaler_names_name24': '', 'scaler_names_name25': '', 'scaler_names_name26': '', 'scaler_names_name27': '', 'scaler_names_name28': '', 'scaler_names_name29': '', 'scaler_names_name30': '', 'scaler_names_name31': '', 'scaler_names_name32': '', 'scaler_time': 1.6, 'scaler_freq': 10000000.0, 'scaler_preset_time': 1.5, 'scaler_auto_count_time': 1.0, 'scaler_update_rate': 10.0, 'scaler_auto_count_update_rate': 10.0, 'scaler_egu': ''}, 'timestamps': {'scaler_count_mode': 1532469887.717194, 'scaler_delay': 1532469887.717194, 'scaler_auto_count_delay': 1532469887.717194, 'scaler_names_name1': 1532469887.717194, 'scaler_names_name2': 1532469887.717194, 'scaler_names_name3': 1532469887.717194, 'scaler_names_name4': 1532469887.717194, 'scaler_names_name5': 1532469887.717194, 'scaler_names_name6': 1532469887.717194, 'scaler_names_name7': 1532469887.717194, 'scaler_names_name8': 1532469887.717194, 'scaler_names_name9': 1532469887.717194, 'scaler_names_name10': 1532469887.717194, 'scaler_names_name11': 1532469887.717194, 'scaler_names_name12': 1532469887.717194, 'scaler_names_name13': 1532469887.717194, 'scaler_names_name14': 1532469887.717194, 'scaler_names_name15': 1532469887.717194, 'scaler_names_name16': 1532469887.717194, 'scaler_names_name17': 1532469887.717194, 'scaler_names_name18': 1532469887.717194, 'scaler_names_name19': 1532469887.717194, 'scaler_names_name20': 1532469887.717194, 'scaler_names_name21': 1532469887.717194, 'scaler_names_name22': 1532469887.717194, 'scaler_names_name23': 1532469887.717194, 'scaler_names_name24': 1532469887.717194, 'scaler_names_name25': 1532469887.717194, 'scaler_names_name26': 1532469887.717194, 'scaler_names_name27': 1532469887.717194, 'scaler_names_name28': 1532469887.717194, 'scaler_names_name29': 1532469887.717194, 'scaler_names_name30': 1532469887.717194, 'scaler_names_name31': 1532469887.717194, 'scaler_names_name32': 1532469887.717194, 'scaler_time': 1532469887.717194, 'scaler_freq': 1532469887.717194, 'scaler_preset_time': 1532469887.717194, 'scaler_auto_count_time': 1532469887.717194, 'scaler_update_rate': 1532469887.717194, 'scaler_auto_count_update_rate': 1532469887.717194, 'scaler_egu': 1532469887.717194}, 'data_keys': OrderedDict([('scaler_count_mode', {'source': 'PV:gov:scaler1.CONT', 'dtype': 'string', 'shape': [], 'units': None, 'lower_ctrl_limit': None, 'upper_ctrl_limit': None, 'enum_strs': ['OneShot', 'AutoCount']}), ('scaler_delay', {'source': 'PV:gov:scaler1.DLY', 'dtype': 'number', 'shape': [], 'precision': 3, 'units': '', 'lower_ctrl_limit': 0.0, 'upper_ctrl_limit': 0.0}), ('scaler_auto_count_delay', {'source': 'PV:gov:scaler1.DLY1', 'dtype': 'number', 'shape': [], 'precision': 3, 'units': '', 'lower_ctrl_limit': 0.0, 'upper_ctrl_limit': 0.0}), ('scaler_names_name1', {'source': 'PV:gov:scaler1.NM1', 'dtype': 'string', 'shape': [], 'units': None, 'lower_ctrl_limit': None, 'upper_ctrl_limit': None}), ('scaler_names_name2', {'source': 'PV:gov:scaler1.NM2', 'dtype': 'string', 'shape': [], 'units': None, 'lower_ctrl_limit': None, 'upper_ctrl_limit': None}), ('scaler_names_name3', {'source': 'PV:gov:scaler1.NM3', 'dtype': 'string', 'shape': [], 'units': None, 'lower_ctrl_limit': None, 'upper_ctrl_limit': None}), ('scaler_names_name4', {'source': 'PV:gov:scaler1.NM4', 'dtype': 'string', 'shape': [], 'units': None, 'lower_ctrl_limit': None, 'upper_ctrl_limit': None}), ('scaler_names_name5', {'source': 'PV:gov:scaler1.NM5', 'dtype': 'string', 'shape': [], 'units': None, 'lower_ctrl_limit': None, 'upper_ctrl_limit': None}), ('scaler_names_name6', {'source': 'PV:gov:scaler1.NM6', 'dtype': 'string', 'shape': [], 'units': None, 'lower_ctrl_limit': None, 'upper_ctrl_limit': None}), ('scaler_names_name7', {'source': 'PV:gov:scaler1.NM7', 'dtype': 'string', 'shape': [], 'units': None, 'lower_ctrl_limit': None, 'upper_ctrl_limit': None}), ('scaler_names_name8', {'source': 'PV:gov:scaler1.NM8', 'dtype': 'string', 'shape': [], 'units': None, 'lower_ctrl_limit': None, 'upper_ctrl_limit': None}), ('scaler_names_name9', {'source': 'PV:gov:scaler1.NM9', 'dtype': 'string', 'shape': [], 'units': None, 'lower_ctrl_limit': None, 'upper_ctrl_limit': None}), ('scaler_names_name10', {'source': 'PV:gov:scaler1.NM10', 'dtype': 'string', 'shape': [], 'units': None, 'lower_ctrl_limit': None, 'upper_ctrl_limit': None}), ('scaler_names_name11', {'source': 'PV:gov:scaler1.NM11', 'dtype': 'string', 'shape': [], 'units': None, 'lower_ctrl_limit': None, 'upper_ctrl_limit': None}), ('scaler_names_name12', {'source': 'PV:gov:scaler1.NM12', 'dtype': 'string', 'shape': [], 'units': None, 'lower_ctrl_limit': None, 'upper_ctrl_limit': None}), ('scaler_names_name13', {'source': 'PV:gov:scaler1.NM13', 'dtype': 'string', 'shape': [], 'units': None, 'lower_ctrl_limit': None, 'upper_ctrl_limit': None}), ('scaler_names_name14', {'source': 'PV:gov:scaler1.NM14', 'dtype': 'string', 'shape': [], 'units': None, 'lower_ctrl_limit': None, 'upper_ctrl_limit': None}), ('scaler_names_name15', {'source': 'PV:gov:scaler1.NM15', 'dtype': 'string', 'shape': [], 'units': None, 'lower_ctrl_limit': None, 'upper_ctrl_limit': None}), ('scaler_names_name16', {'source': 'PV:gov:scaler1.NM16', 'dtype': 'string', 'shape': [], 'units': None, 'lower_ctrl_limit': None, 'upper_ctrl_limit': None}), ('scaler_names_name17', {'source': 'PV:gov:scaler1.NM17', 'dtype': 'string', 'shape': [], 'units': None, 'lower_ctrl_limit': None, 'upper_ctrl_limit': None}), ('scaler_names_name18', {'source': 'PV:gov:scaler1.NM18', 'dtype': 'string', 'shape': [], 'units': None, 'lower_ctrl_limit': None, 'upper_ctrl_limit': None}), ('scaler_names_name19', {'source': 'PV:gov:scaler1.NM19', 'dtype': 'string', 'shape': [], 'units': None, 'lower_ctrl_limit': None, 'upper_ctrl_limit': None}), ('scaler_names_name20', {'source': 'PV:gov:scaler1.NM20', 'dtype': 'string', 'shape': [], 'units': None, 'lower_ctrl_limit': None, 'upper_ctrl_limit': None}), ('scaler_names_name21', {'source': 'PV:gov:scaler1.NM21', 'dtype': 'string', 'shape': [], 'units': None, 'lower_ctrl_limit': None, 'upper_ctrl_limit': None}), ('scaler_names_name22', {'source': 'PV:gov:scaler1.NM22', 'dtype': 'string', 'shape': [], 'units': None, 'lower_ctrl_limit': None, 'upper_ctrl_limit': None}), ('scaler_names_name23', {'source': 'PV:gov:scaler1.NM23', 'dtype': 'string', 'shape': [], 'units': None, 'lower_ctrl_limit': None, 'upper_ctrl_limit': None}), ('scaler_names_name24', {'source': 'PV:gov:scaler1.NM24', 'dtype': 'string', 'shape': [], 'units': None, 'lower_ctrl_limit': None, 'upper_ctrl_limit': None}), ('scaler_names_name25', {'source': 'PV:gov:scaler1.NM25', 'dtype': 'string', 'shape': [], 'units': None, 'lower_ctrl_limit': None, 'upper_ctrl_limit': None}), ('scaler_names_name26', {'source': 'PV:gov:scaler1.NM26', 'dtype': 'string', 'shape': [], 'units': None, 'lower_ctrl_limit': None, 'upper_ctrl_limit': None}), ('scaler_names_name27', {'source': 'PV:gov:scaler1.NM27', 'dtype': 'string', 'shape': [], 'units': None, 'lower_ctrl_limit': None, 'upper_ctrl_limit': None}), ('scaler_names_name28', {'source': 'PV:gov:scaler1.NM28', 'dtype': 'string', 'shape': [], 'units': None, 'lower_ctrl_limit': None, 'upper_ctrl_limit': None}), ('scaler_names_name29', {'source': 'PV:gov:scaler1.NM29', 'dtype': 'string', 'shape': [], 'units': None, 'lower_ctrl_limit': None, 'upper_ctrl_limit': None}), ('scaler_names_name30', {'source': 'PV:gov:scaler1.NM30', 'dtype': 'string', 'shape': [], 'units': None, 'lower_ctrl_limit': None, 'upper_ctrl_limit': None}), ('scaler_names_name31', {'source': 'PV:gov:scaler1.NM31', 'dtype': 'string', 'shape': [], 'units': None, 'lower_ctrl_limit': None, 'upper_ctrl_limit': None}), ('scaler_names_name32', {'source': 'PV:gov:scaler1.NM32', 'dtype': 'string', 'shape': [], 'units': None, 'lower_ctrl_limit': None, 'upper_ctrl_limit': None}), ('scaler_time', {'source': 'PV:gov:scaler1.T', 'dtype': 'number', 'shape': [], 'precision': 3, 'units': '', 'lower_ctrl_limit': 0.0, 'upper_ctrl_limit': 0.0}), ('scaler_freq', {'source': 'PV:gov:scaler1.FREQ', 'dtype': 'number', 'shape': [], 'precision': 3, 'units': '', 'lower_ctrl_limit': 0.0, 'upper_ctrl_limit': 0.0}), ('scaler_preset_time', {'source': 'PV:gov:scaler1.TP', 'dtype': 'number', 'shape': [], 'precision': 3, 'units': '', 'lower_ctrl_limit': 0.0, 'upper_ctrl_limit': 0.0}), ('scaler_auto_count_time', {'source': 'PV:gov:scaler1.TP1', 'dtype': 'number', 'shape': [], 'precision': 3, 'units': '', 'lower_ctrl_limit': 0.0, 'upper_ctrl_limit': 0.0}), ('scaler_update_rate', {'source': 'PV:gov:scaler1.RATE', 'dtype': 'number', 'shape': [], 'precision': 3, 'units': '', 'lower_ctrl_limit': 0.0, 'upper_ctrl_limit': 0.0}), ('scaler_auto_count_update_rate', {'source': 'PV:gov:scaler1.RAT1', 'dtype': 'number', 'shape': [], 'precision': 3, 'units': '', 'lower_ctrl_limit': 0.0, 'upper_ctrl_limit': 0.0}), ('scaler_egu', {'source': 'PV:gov:scaler1.EGU', 'dtype': 'string', 'shape': [], 'units': None, 'lower_ctrl_limit': None, 'upper_ctrl_limit': None})])}}\n",
    "\t name primary\n",
    "\t hints {'scaler': {'fields': ['scaler_channels_chan1', 'scaler_channels_chan2', 'scaler_channels_chan3', 'scaler_channels_chan4', 'scaler_channels_chan7']}}\n",
    "\t object_keys {'scaler': ['scaler_channels_chan1', 'scaler_channels_chan2', 'scaler_channels_chan3', 'scaler_channels_chan4', 'scaler_channels_chan7']}\n",
    "~~~~~~~~~~~~~~~~~\n",
    "event 7\n",
    "\t descriptor cd11f35c-0811-4533-ab72-68f68d950fa0\n",
    "\t time 1532469887.8352284\n",
    "\t data {'scaler_channels_chan1': 16000000.0, 'scaler_channels_chan2': 7.0, 'scaler_channels_chan3': 8.0, 'scaler_channels_chan4': 9.0, 'scaler_channels_chan7': 8.0}\n",
    "\t timestamps {'scaler_channels_chan1': 1532469887.717194, 'scaler_channels_chan2': 1532469887.717194, 'scaler_channels_chan3': 1532469887.717194, 'scaler_channels_chan4': 1532469887.717194, 'scaler_channels_chan7': 1532469887.717194}\n",
    "\t seq_num 1\n",
    "\t uid 6c55bd62-e35f-43e2-9227-6378a89bb697\n",
    "\t filled {}\n",
    "~~~~~~~~~~~~~~~~~\n",
    "event 7\n",
    "\t descriptor cd11f35c-0811-4533-ab72-68f68d950fa0\n",
    "\t time 1532469889.5566924\n",
    "\t data {'scaler_channels_chan1': 16000000.0, 'scaler_channels_chan2': 7.0, 'scaler_channels_chan3': 6.0, 'scaler_channels_chan4': 9.0, 'scaler_channels_chan7': 9.0}\n",
    "\t timestamps {'scaler_channels_chan1': 1532469889.551645, 'scaler_channels_chan2': 1532469889.551645, 'scaler_channels_chan3': 1532469889.551645, 'scaler_channels_chan4': 1532469889.551645, 'scaler_channels_chan7': 1532469889.551645}\n",
    "\t seq_num 2\n",
    "\t uid 3ad0f681-fecb-4991-9f98-fea36072ea12\n",
    "\t filled {}\n",
    "~~~~~~~~~~~~~~~~~\n",
    "event 7\n",
    "\t descriptor cd11f35c-0811-4533-ab72-68f68d950fa0\n",
    "\t time 1532469891.087019\n",
    "\t data {'scaler_channels_chan1': 16000000.0, 'scaler_channels_chan2': 7.0, 'scaler_channels_chan3': 9.0, 'scaler_channels_chan4': 8.0, 'scaler_channels_chan7': 9.0}\n",
    "\t timestamps {'scaler_channels_chan1': 1532469891.081951, 'scaler_channels_chan2': 1532469891.081951, 'scaler_channels_chan3': 1532469891.081951, 'scaler_channels_chan4': 1532469891.081951, 'scaler_channels_chan7': 1532469891.081951}\n",
    "\t seq_num 3\n",
    "\t uid cf614639-d995-46be-9fe1-0e5e20f951b0\n",
    "\t filled {}\n",
    "~~~~~~~~~~~~~~~~~\n",
    "stop 6\n",
    "\t run_start 38f77323-57e9-443e-8114-871f85347610\n",
    "\t time 1532469891.0885608\n",
    "\t uid 5e9d43f1-7ff7-4258-9552-b649272125db\n",
    "\t exit_status success\n",
    "\t reason \n",
    "\t num_events {'primary': 3}\n",
    "~~~~~~~~~~~~~~~~~\n",
    "('38f77323-57e9-443e-8114-871f85347610',)\n",
    "```\n"
   ]
  },
  {
   "cell_type": "markdown",
   "metadata": {},
   "source": [
    "## Quit the jupyter notebook\n",
    "\n",
    "* Save the \"lesson1\" page if you wish.\n",
    "* Press the **Logout** button in the upper right corner of \"lesson1\" and close the page.\n",
    "* Press the **Logout** button in the upper right corner of \"Home\" and close the page.\n",
    "* Type Control-C (^C) twice in the jupyter-notebook console to kill the server."
   ]
  },
  {
   "cell_type": "code",
   "execution_count": null,
   "metadata": {},
   "outputs": [],
   "source": []
  }
 ],
 "metadata": {
  "kernelspec": {
   "display_name": "Python 3",
   "language": "python",
   "name": "python3"
  },
  "language_info": {
   "codemirror_mode": {
    "name": "ipython",
    "version": 3
   },
   "file_extension": ".py",
   "mimetype": "text/x-python",
   "name": "python",
   "nbconvert_exporter": "python",
   "pygments_lexer": "ipython3",
   "version": "3.6.5"
  }
 },
 "nbformat": 4,
 "nbformat_minor": 2
}
