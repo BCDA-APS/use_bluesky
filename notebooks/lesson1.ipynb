{
 "cells": [
  {
   "cell_type": "markdown",
   "metadata": {},
   "source": [
    "# Lesson 1 - scaler and count\n",
    "\n",
    "In this lesson, we'll work with a scaler (devices that counts pulses emitted from one or more pulse-emitting ***detector*** electronics) and use this to make a first lesson in using [Bluesky](http://nsls-ii.github.io/bluesky/) and [related tools](http://nsls-ii.github.io/).\n",
    "\n",
    "First, we'll show how to start a Jupyter notebook.  Next, we'll connect with an EPICS scaler (using [ophyd](http://nsls-ii.github.io/ophyd/)), and then use the Bluesky software to count from the scaler.\n",
    "\n",
    "## Starting this session in a Jupyter notebook\n",
    "\n",
    "This session was started from the linux command line:\n",
    "\n",
    "```\n",
    "jemian@otz .../JEMIAN/Documents $ /APSshare/anaconda3/BlueSky/bin/jupyter-notebook \n",
    "```\n",
    "\n",
    "This command produced the following console output and then started my default web browser with a one-time-token-authenticated connection to the Jupyter Notebook server (still running in the console):\n",
    "\n",
    "```\n",
    "[I 15:16:57.546 NotebookApp] Serving notebooks from local directory: /home/oxygen18/JEMIAN/Documents\n",
    "[I 15:16:57.546 NotebookApp] 0 active kernels\n",
    "[I 15:16:57.546 NotebookApp] The Jupyter Notebook is running at:\n",
    "[I 15:16:57.546 NotebookApp] http://localhost:8888/?token=e6a7584762c731a7c64f8f71246b3e616d779f7b4852c9d9\n",
    "[I 15:16:57.546 NotebookApp] Use Control-C to stop this server and shut down all kernels (twice to skip confirmation).\n",
    "[C 15:16:57.547 NotebookApp] \n",
    "    \n",
    "    Copy/paste this URL into your browser when you connect for the first time,\n",
    "    to login with a token:\n",
    "        http://localhost:8888/?token=e6a7584762c731a7c64f8f71246b3e616d779f7b4852c9d9\n",
    "[I 15:17:00.863 NotebookApp] Accepting one-time-token-authenticated connection from ::1\n",
    "```\n",
    "\n",
    "Next, found the **New** drop-down menu button (top right, below the **Lougout** button) and selected *Python 3* to start a new notebook page using a Python 3 shell (the only kind available here).\n",
    "\n",
    "Finally, from the **File** menu in the jupyter notebook (in the browser), selected *Rename ...* to save the *Untitled* notebook with the name *lesson1* (default extension is `.ipynb`)."
   ]
  },
  {
   "cell_type": "markdown",
   "metadata": {},
   "source": [
    "## Connect an EPICS scaler\n",
    "\n",
    "I have a synApps (v5.8) *XXX*-style IOC with the prefix `prj:`.  It has a [scaler](https://htmlpreview.github.io/?https://raw.githubusercontent.com/epics-modules/std/R3-4-1/documentation/scalerRecord.html), 16 soft channel [motor](https://github.com/epics-modules/motor)s, and some other support we'll ignore in lesson 1.\n",
    "\n",
    "The scaler is `prj:scaler1`.  We'll connect to that first.  To make the connection, we need to import the [`ScalerCH`](http://nsls-ii.github.io/ophyd/builtin-devices.html#epicsscaler) device from the [`ophyd.scaler`](http://nsls-ii.github.io/ophyd/) library."
   ]
  },
  {
   "cell_type": "code",
   "execution_count": 1,
   "metadata": {},
   "outputs": [],
   "source": [
    "from ophyd.scaler import ScalerCH"
   ]
  },
  {
   "cell_type": "markdown",
   "metadata": {},
   "source": [
    "Now we can create the scaler object we'll use as a detector."
   ]
  },
  {
   "cell_type": "code",
   "execution_count": 7,
   "metadata": {},
   "outputs": [],
   "source": [
    "scaler = ScalerCH(\"prj:scaler1\", name=\"scaler\")"
   ]
  },
  {
   "cell_type": "markdown",
   "metadata": {},
   "source": [
    "Let's test that connection by asking the scaler to read its values from EPICS."
   ]
  },
  {
   "cell_type": "code",
   "execution_count": 8,
   "metadata": {},
   "outputs": [
    {
     "data": {
      "text/plain": [
       "OrderedDict([('', {'value': 0.0, 'timestamp': 631152000.0}),\n",
       "             ('I0', {'value': 0.0, 'timestamp': 631152000.0}),\n",
       "             ('diode', {'value': 0.0, 'timestamp': 631152000.0}),\n",
       "             ('scaler_time', {'value': 0.0, 'timestamp': 631152000.0})])"
      ]
     },
     "execution_count": 8,
     "metadata": {},
     "output_type": "execute_result"
    }
   ],
   "source": [
    "scaler.read()"
   ]
  },
  {
   "cell_type": "markdown",
   "metadata": {},
   "source": [
    "By default, the ophyd `ScalerCH` object shows data for only the channels with names defined in EPICS.  Except for one channel (probably a bug in the `ScalerCH` code).  To fix that, we'll load another support library.  (Loading additional support as we need it will be a common theme in these lessons.  Rather than loading all the libraries first, as is common in python code files, we'll load support code as the need arises.)\n",
    "\n",
    "The new support code is `use_EPICS_scaler_channels` from [`APS_BlueSky_tools.devices`](http://aps-bluesky-tools.readthedocs.io/en/latest/source_code/devices.html#APS_BlueSky_tools.devices.use_EPICS_scaler_channels)."
   ]
  },
  {
   "cell_type": "markdown",
   "metadata": {},
   "source": [
    "Our scaler only has a few channels in use (that is, channels where the name of the channel has been specified in the GUI screen).  Let's focus on just those channels.\n",
    "\n",
    "To read just the *named* channels, we'll load an additional support library.  (Loading additional support as we need it will be a common theme in these lessons.  Rather than loading all the libraries first, as is common in python code files, we'll load support code as the need arises.)\n",
    "\n",
    "The new support code is `use_EPICS_scaler_channels` from [`APS_BlueSky_tools.devices`](http://aps-bluesky-tools.readthedocs.io/en/latest/source_code/devices.html#APS_BlueSky_tools.devices.use_EPICS_scaler_channels)."
   ]
  },
  {
   "cell_type": "code",
   "execution_count": 9,
   "metadata": {},
   "outputs": [],
   "source": [
    "from APS_BlueSky_tools.devices import use_EPICS_scaler_channels"
   ]
  },
  {
   "cell_type": "markdown",
   "metadata": {},
   "source": [
    "That is a utility function that will modify our `scaler` so it only reports the named channels (edits out the one empty named channel).  Now the report is succinct."
   ]
  },
  {
   "cell_type": "code",
   "execution_count": 12,
   "metadata": {},
   "outputs": [
    {
     "data": {
      "text/plain": [
       "OrderedDict([('I0', {'value': 0.0, 'timestamp': 631152000.0}),\n",
       "             ('diode', {'value': 0.0, 'timestamp': 631152000.0}),\n",
       "             ('scaler_time', {'value': 0.0, 'timestamp': 631152000.0})])"
      ]
     },
     "execution_count": 12,
     "metadata": {},
     "output_type": "execute_result"
    }
   ],
   "source": [
    "scaler.match_names()\n",
    "use_EPICS_scaler_channels(scaler)\n",
    "scaler.read()"
   ]
  },
  {
   "cell_type": "markdown",
   "metadata": {},
   "source": [
    "If you want to change the name fields on any of the scaler channels from the command line, follow this example."
   ]
  },
  {
   "cell_type": "code",
   "execution_count": 13,
   "metadata": {},
   "outputs": [],
   "source": [
    "scaler.channels.chan04.chname.put(\"scint\")\n",
    "scaler.channels.chan07.chname.put(\"roi1\")"
   ]
  },
  {
   "cell_type": "markdown",
   "metadata": {},
   "source": [
    "Then, update the `scaler` object for these channels."
   ]
  },
  {
   "cell_type": "code",
   "execution_count": 14,
   "metadata": {},
   "outputs": [
    {
     "data": {
      "text/plain": [
       "OrderedDict([('I0', {'value': 0.0, 'timestamp': 631152000.0}),\n",
       "             ('scint', {'value': 0.0, 'timestamp': 631152000.0}),\n",
       "             ('roi1', {'value': 0.0, 'timestamp': 631152000.0}),\n",
       "             ('scaler_time', {'value': 0.0, 'timestamp': 631152000.0})])"
      ]
     },
     "execution_count": 14,
     "metadata": {},
     "output_type": "execute_result"
    }
   ],
   "source": [
    "scaler.match_names()\n",
    "use_EPICS_scaler_channels(scaler)\n",
    "scaler.read()"
   ]
  },
  {
   "cell_type": "markdown",
   "metadata": {},
   "source": [
    "## Get, then Set the count time on the scaler\n",
    "\n",
    "The preset counting time (`.TP`) is one of the many fields of the EPICS scaler record.  It is available as `scaler.preset_time` in this scaler object.  We can inspect this:"
   ]
  },
  {
   "cell_type": "code",
   "execution_count": 15,
   "metadata": {},
   "outputs": [
    {
     "data": {
      "text/plain": [
       "EpicsSignal(read_pv='prj:scaler1.TP', name='scaler_preset_time', parent='scaler', value=1.0, timestamp=631152000.0, tolerance=0.001, pv_kw={}, auto_monitor=False, string=False, write_pv='prj:scaler1.TP', limits=False, put_complete=False)"
      ]
     },
     "execution_count": 15,
     "metadata": {},
     "output_type": "execute_result"
    }
   ],
   "source": [
    "scaler.preset_time"
   ]
  },
  {
   "cell_type": "markdown",
   "metadata": {},
   "source": [
    "Since `scaler.preset_time` is an [`EpicsSignal`](https://github.com/NSLS-II/ophyd/blob/master/ophyd/signal.py#L647), ([Signal](http://nsls-ii.github.io/ophyd/signals.html) is a fundamental ophyd structure), we print its `.value`."
   ]
  },
  {
   "cell_type": "code",
   "execution_count": 16,
   "metadata": {},
   "outputs": [
    {
     "data": {
      "text/plain": [
       "1.0"
      ]
     },
     "execution_count": 16,
     "metadata": {},
     "output_type": "execute_result"
    }
   ],
   "source": [
    "scaler.preset_time.value"
   ]
  },
  {
   "cell_type": "markdown",
   "metadata": {},
   "source": [
    "Set the scaler to count for 1.5 seconds once it is told to count.  We'll count it next."
   ]
  },
  {
   "cell_type": "code",
   "execution_count": 17,
   "metadata": {},
   "outputs": [],
   "source": [
    "scaler.preset_time.put(1.5)"
   ]
  },
  {
   "cell_type": "markdown",
   "metadata": {},
   "source": [
    "Note, to tell the scaler to count, we put a 1 to its `.CNT` field."
   ]
  },
  {
   "cell_type": "code",
   "execution_count": 18,
   "metadata": {},
   "outputs": [],
   "source": [
    "scaler.count.put(1)"
   ]
  },
  {
   "cell_type": "markdown",
   "metadata": {},
   "source": [
    "Now, read the scaler again.  This scaler is not very interesting since it is not connected to any hardware.  But, the timestamps have changed."
   ]
  },
  {
   "cell_type": "code",
   "execution_count": 19,
   "metadata": {},
   "outputs": [
    {
     "data": {
      "text/plain": [
       "OrderedDict([('I0', {'value': 7.0, 'timestamp': 1533135479.628262}),\n",
       "             ('scint', {'value': 5.0, 'timestamp': 1533135479.628262}),\n",
       "             ('roi1', {'value': 8.0, 'timestamp': 1533135479.628262}),\n",
       "             ('scaler_time', {'value': 1.6, 'timestamp': 1533135479.628262})])"
      ]
     },
     "execution_count": 19,
     "metadata": {},
     "output_type": "execute_result"
    }
   ],
   "source": [
    "scaler.read()"
   ]
  },
  {
   "cell_type": "markdown",
   "metadata": {},
   "source": [
    "## Use Bluesky to count the scaler\n",
    "\n",
    "So far, we have used ophyd to talk with the EPICS scaler.  Let's start to use Bluesky.  We need to load support to start the Bluesky [*RunEngine*](http://nsls-ii.github.io/bluesky/tutorial.html#the-runengine).  For now, we'll use the most basic configuration (does not save data anywhere).  \n",
    "\n",
    "The job of the RunEngine is to process command messages (our data acquisition commands) and to output documents (the data to be acquired).  Initially, we'll use predefined data acquisition sequences (called [*plans*](http://nsls-ii.github.io/bluesky/plans.html)) and ignore the [documents](http://nsls-ii.github.io/bluesky/documents.html)."
   ]
  },
  {
   "cell_type": "code",
   "execution_count": 20,
   "metadata": {},
   "outputs": [],
   "source": [
    "from bluesky import RunEngine\n",
    "RE = RunEngine({})"
   ]
  },
  {
   "cell_type": "markdown",
   "metadata": {},
   "source": [
    "Next, we'll load a library with many [predefined plans](http://nsls-ii.github.io/bluesky/plans.html#summary).  The first plan we want to use is [`count()`](http://nsls-ii.github.io/bluesky/generated/bluesky.plans.count.html#bluesky.plans.count).  By the way, we'll use a python feature to rename `bluesky.plans` to the shorter `bp` since it will be used a lot."
   ]
  },
  {
   "cell_type": "code",
   "execution_count": 21,
   "metadata": {},
   "outputs": [],
   "source": [
    "import bluesky.plans as bp"
   ]
  },
  {
   "cell_type": "markdown",
   "metadata": {},
   "source": [
    "Now we can count the `scaler` by submitting the `bp.count` plan to the RunEngine instance `RE`.  The `bp.count()` plan takes one argument, a *list* of countable objects (just in case you want to count more than one detector at the same time).  Our list has only one object: `scaler`"
   ]
  },
  {
   "cell_type": "code",
   "execution_count": 22,
   "metadata": {},
   "outputs": [
    {
     "data": {
      "text/plain": [
       "('b3daf8d7-2333-4dee-b958-6b1c2139ad99',)"
      ]
     },
     "execution_count": 22,
     "metadata": {},
     "output_type": "execute_result"
    }
   ],
   "source": [
    "RE(bp.count([scaler]))"
   ]
  },
  {
   "cell_type": "markdown",
   "metadata": {},
   "source": [
    "The final result from submitting a plan to the RunEngine is an identifier of the sequence of documents.  Since we did not capture that sequence, we can't view it or access it in any way.  Let's *fix* that next."
   ]
  },
  {
   "cell_type": "markdown",
   "metadata": {},
   "source": [
    "### Report about the documents emitted from the RunEngine\n",
    "\n",
    "To display information about the documents emitted from the RunEngine, we need to make a function that will receive the documents.  \n",
    "\n",
    "In Bluesky terms, this type of function is a *callback*.  It takes two arguments.  The first argument is a `str` that tells what kind of document is coming, the second is a python dictionary with the document's contents.  We'll start by printing summary information.  We then submit the plan again with the name of our callback function as a second argument (not to `bp.count` but as a second argument to `RE()`)."
   ]
  },
  {
   "cell_type": "code",
   "execution_count": 23,
   "metadata": {},
   "outputs": [],
   "source": [
    "def myCallback(key, doc):\n",
    "    print(key, len(doc))"
   ]
  },
  {
   "cell_type": "code",
   "execution_count": 24,
   "metadata": {},
   "outputs": [
    {
     "name": "stdout",
     "output_type": "stream",
     "text": [
      "start 10\n",
      "descriptor 8\n",
      "event 7\n",
      "stop 6\n"
     ]
    },
    {
     "data": {
      "text/plain": [
       "('2636a2e4-8b1a-4da0-b636-4ce4a7e9f78f',)"
      ]
     },
     "execution_count": 24,
     "metadata": {},
     "output_type": "execute_result"
    }
   ],
   "source": [
    "RE(bp.count([scaler]), myCallback)"
   ]
  },
  {
   "cell_type": "markdown",
   "metadata": {},
   "source": [
    "So, there were four documents.  See http://nsls-ii.github.io/bluesky/documents.html for the details of each.  Let's extend our callback to print the details of each."
   ]
  },
  {
   "cell_type": "code",
   "execution_count": 25,
   "metadata": {},
   "outputs": [],
   "source": [
    "def myCallback(key, doc):\n",
    "    print(key, len(doc))\n",
    "    for k, v in doc.items():\n",
    "        print(\"\\t\", k, v)\n",
    "    print(\"~~~~~~~~~~~~~~~~~\")"
   ]
  },
  {
   "cell_type": "code",
   "execution_count": 26,
   "metadata": {},
   "outputs": [
    {
     "name": "stdout",
     "output_type": "stream",
     "text": [
      "start 10\n",
      "\t uid 86f27da3-e9d3-49a5-9efb-2fdbb58b9463\n",
      "\t time 1533135539.5038252\n",
      "\t num_intervals 0\n",
      "\t plan_name count\n",
      "\t hints {'dimensions': [(('time',), 'primary')]}\n",
      "\t plan_type generator\n",
      "\t num_points 1\n",
      "\t scan_id 3\n",
      "\t plan_args {'detectors': [\"ScalerCH(prefix='prj:scaler1', name='scaler', read_attrs=['channels', 'channels.chan02', 'channels.chan02.s', 'channels.chan04', 'channels.chan04.s', 'channels.chan07', 'channels.chan07.s', 'time'], configuration_attrs=['channels', 'channels.chan01', 'channels.chan01.chname', 'channels.chan01.preset', 'channels.chan01.gate', 'channels.chan02', 'channels.chan02.chname', 'channels.chan02.preset', 'channels.chan02.gate', 'channels.chan03', 'channels.chan03.chname', 'channels.chan03.preset', 'channels.chan03.gate', 'channels.chan04', 'channels.chan04.chname', 'channels.chan04.preset', 'channels.chan04.gate', 'channels.chan05', 'channels.chan05.chname', 'channels.chan05.preset', 'channels.chan05.gate', 'channels.chan06', 'channels.chan06.chname', 'channels.chan06.preset', 'channels.chan06.gate', 'channels.chan07', 'channels.chan07.chname', 'channels.chan07.preset', 'channels.chan07.gate', 'channels.chan08', 'channels.chan08.chname', 'channels.chan08.preset', 'channels.chan08.gate', 'channels.chan09', 'channels.chan09.chname', 'channels.chan09.preset', 'channels.chan09.gate', 'channels.chan10', 'channels.chan10.chname', 'channels.chan10.preset', 'channels.chan10.gate', 'channels.chan11', 'channels.chan11.chname', 'channels.chan11.preset', 'channels.chan11.gate', 'channels.chan12', 'channels.chan12.chname', 'channels.chan12.preset', 'channels.chan12.gate', 'channels.chan13', 'channels.chan13.chname', 'channels.chan13.preset', 'channels.chan13.gate', 'channels.chan14', 'channels.chan14.chname', 'channels.chan14.preset', 'channels.chan14.gate', 'channels.chan15', 'channels.chan15.chname', 'channels.chan15.preset', 'channels.chan15.gate', 'channels.chan16', 'channels.chan16.chname', 'channels.chan16.preset', 'channels.chan16.gate', 'channels.chan17', 'channels.chan17.chname', 'channels.chan17.preset', 'channels.chan17.gate', 'channels.chan18', 'channels.chan18.chname', 'channels.chan18.preset', 'channels.chan18.gate', 'channels.chan19', 'channels.chan19.chname', 'channels.chan19.preset', 'channels.chan19.gate', 'channels.chan20', 'channels.chan20.chname', 'channels.chan20.preset', 'channels.chan20.gate', 'channels.chan21', 'channels.chan21.chname', 'channels.chan21.preset', 'channels.chan21.gate', 'channels.chan22', 'channels.chan22.chname', 'channels.chan22.preset', 'channels.chan22.gate', 'channels.chan23', 'channels.chan23.chname', 'channels.chan23.preset', 'channels.chan23.gate', 'channels.chan24', 'channels.chan24.chname', 'channels.chan24.preset', 'channels.chan24.gate', 'channels.chan25', 'channels.chan25.chname', 'channels.chan25.preset', 'channels.chan25.gate', 'channels.chan26', 'channels.chan26.chname', 'channels.chan26.preset', 'channels.chan26.gate', 'channels.chan27', 'channels.chan27.chname', 'channels.chan27.preset', 'channels.chan27.gate', 'channels.chan28', 'channels.chan28.chname', 'channels.chan28.preset', 'channels.chan28.gate', 'channels.chan29', 'channels.chan29.chname', 'channels.chan29.preset', 'channels.chan29.gate', 'channels.chan30', 'channels.chan30.chname', 'channels.chan30.preset', 'channels.chan30.gate', 'channels.chan31', 'channels.chan31.chname', 'channels.chan31.preset', 'channels.chan31.gate', 'channels.chan32', 'channels.chan32.chname', 'channels.chan32.preset', 'channels.chan32.gate', 'count_mode', 'delay', 'auto_count_delay', 'freq', 'preset_time', 'auto_count_time', 'egu'])\"], 'num': 1}\n",
      "\t detectors ['scaler']\n",
      "~~~~~~~~~~~~~~~~~\n",
      "descriptor 8\n",
      "\t run_start 86f27da3-e9d3-49a5-9efb-2fdbb58b9463\n",
      "\t time 1533135541.3040087\n",
      "\t data_keys {'I0': {'source': 'PV:prj:scaler1.S2', 'dtype': 'number', 'shape': [], 'precision': 0, 'units': '', 'lower_ctrl_limit': 0.0, 'upper_ctrl_limit': 0.0, 'object_name': 'scaler'}, 'scint': {'source': 'PV:prj:scaler1.S4', 'dtype': 'number', 'shape': [], 'precision': 0, 'units': '', 'lower_ctrl_limit': 0.0, 'upper_ctrl_limit': 0.0, 'object_name': 'scaler'}, 'roi1': {'source': 'PV:prj:scaler1.S7', 'dtype': 'number', 'shape': [], 'precision': 0, 'units': '', 'lower_ctrl_limit': 0.0, 'upper_ctrl_limit': 0.0, 'object_name': 'scaler'}, 'scaler_time': {'source': 'PV:prj:scaler1.T', 'dtype': 'number', 'shape': [], 'precision': 3, 'units': '', 'lower_ctrl_limit': 0.0, 'upper_ctrl_limit': 0.0, 'object_name': 'scaler'}}\n",
      "\t uid 0eaee96b-5a1b-4b7b-8739-75616cc7a45d\n",
      "\t configuration {'scaler': {'data': {'scaler_channels_chan01_chname': '', 'scaler_channels_chan01_preset': 15000000.0, 'scaler_channels_chan01_gate': 'Y', 'scaler_channels_chan02_chname': 'I0', 'scaler_channels_chan02_preset': 0.0, 'scaler_channels_chan02_gate': 'N', 'scaler_channels_chan03_chname': '', 'scaler_channels_chan03_preset': 0.0, 'scaler_channels_chan03_gate': 'N', 'scaler_channels_chan04_chname': 'scint', 'scaler_channels_chan04_preset': 0.0, 'scaler_channels_chan04_gate': 'N', 'scaler_channels_chan05_chname': '', 'scaler_channels_chan05_preset': 0.0, 'scaler_channels_chan05_gate': 'N', 'scaler_channels_chan06_chname': '', 'scaler_channels_chan06_preset': 0.0, 'scaler_channels_chan06_gate': 'N', 'scaler_channels_chan07_chname': 'roi1', 'scaler_channels_chan07_preset': 0.0, 'scaler_channels_chan07_gate': 'N', 'scaler_channels_chan08_chname': '', 'scaler_channels_chan08_preset': 0.0, 'scaler_channels_chan08_gate': 'N', 'scaler_channels_chan09_chname': '', 'scaler_channels_chan09_preset': 0.0, 'scaler_channels_chan09_gate': 'N', 'scaler_channels_chan10_chname': '', 'scaler_channels_chan10_preset': 0.0, 'scaler_channels_chan10_gate': 'N', 'scaler_channels_chan11_chname': '', 'scaler_channels_chan11_preset': 0.0, 'scaler_channels_chan11_gate': 'N', 'scaler_channels_chan12_chname': '', 'scaler_channels_chan12_preset': 0.0, 'scaler_channels_chan12_gate': 'N', 'scaler_channels_chan13_chname': '', 'scaler_channels_chan13_preset': 0.0, 'scaler_channels_chan13_gate': 'N', 'scaler_channels_chan14_chname': '', 'scaler_channels_chan14_preset': 0.0, 'scaler_channels_chan14_gate': 'N', 'scaler_channels_chan15_chname': '', 'scaler_channels_chan15_preset': 0.0, 'scaler_channels_chan15_gate': 'N', 'scaler_channels_chan16_chname': '', 'scaler_channels_chan16_preset': 0.0, 'scaler_channels_chan16_gate': 'N', 'scaler_channels_chan17_chname': '', 'scaler_channels_chan17_preset': 0.0, 'scaler_channels_chan17_gate': 'N', 'scaler_channels_chan18_chname': '', 'scaler_channels_chan18_preset': 0.0, 'scaler_channels_chan18_gate': 'N', 'scaler_channels_chan19_chname': '', 'scaler_channels_chan19_preset': 0.0, 'scaler_channels_chan19_gate': 'N', 'scaler_channels_chan20_chname': '', 'scaler_channels_chan20_preset': 0.0, 'scaler_channels_chan20_gate': 'N', 'scaler_channels_chan21_chname': '', 'scaler_channels_chan21_preset': 0.0, 'scaler_channels_chan21_gate': 'N', 'scaler_channels_chan22_chname': '', 'scaler_channels_chan22_preset': 0.0, 'scaler_channels_chan22_gate': 'N', 'scaler_channels_chan23_chname': '', 'scaler_channels_chan23_preset': 0.0, 'scaler_channels_chan23_gate': 'N', 'scaler_channels_chan24_chname': '', 'scaler_channels_chan24_preset': 0.0, 'scaler_channels_chan24_gate': 'N', 'scaler_channels_chan25_chname': '', 'scaler_channels_chan25_preset': 0.0, 'scaler_channels_chan25_gate': 'N', 'scaler_channels_chan26_chname': '', 'scaler_channels_chan26_preset': 0.0, 'scaler_channels_chan26_gate': 'N', 'scaler_channels_chan27_chname': '', 'scaler_channels_chan27_preset': 0.0, 'scaler_channels_chan27_gate': 'N', 'scaler_channels_chan28_chname': '', 'scaler_channels_chan28_preset': 0.0, 'scaler_channels_chan28_gate': 'N', 'scaler_channels_chan29_chname': '', 'scaler_channels_chan29_preset': 0.0, 'scaler_channels_chan29_gate': 'N', 'scaler_channels_chan30_chname': '', 'scaler_channels_chan30_preset': 0.0, 'scaler_channels_chan30_gate': 'N', 'scaler_channels_chan31_chname': '', 'scaler_channels_chan31_preset': 0.0, 'scaler_channels_chan31_gate': 'N', 'scaler_channels_chan32_chname': '', 'scaler_channels_chan32_preset': 0.0, 'scaler_channels_chan32_gate': 'N', 'scaler_count_mode': 'OneShot', 'scaler_delay': 0.0, 'scaler_auto_count_delay': 0.0, 'scaler_freq': 10000000.0, 'scaler_preset_time': 1.5, 'scaler_auto_count_time': 1.0, 'scaler_egu': ''}, 'timestamps': {'scaler_channels_chan01_chname': 1533135541.137713, 'scaler_channels_chan01_preset': 1533135541.137713, 'scaler_channels_chan01_gate': 1533135541.137713, 'scaler_channels_chan02_chname': 1533135541.137713, 'scaler_channels_chan02_preset': 1533135541.137713, 'scaler_channels_chan02_gate': 1533135541.137713, 'scaler_channels_chan03_chname': 1533135541.137713, 'scaler_channels_chan03_preset': 1533135541.137713, 'scaler_channels_chan03_gate': 1533135541.137713, 'scaler_channels_chan04_chname': 1533135541.137713, 'scaler_channels_chan04_preset': 1533135541.137713, 'scaler_channels_chan04_gate': 1533135541.137713, 'scaler_channels_chan05_chname': 1533135541.137713, 'scaler_channels_chan05_preset': 1533135541.137713, 'scaler_channels_chan05_gate': 1533135541.137713, 'scaler_channels_chan06_chname': 1533135541.137713, 'scaler_channels_chan06_preset': 1533135541.137713, 'scaler_channels_chan06_gate': 1533135541.137713, 'scaler_channels_chan07_chname': 1533135541.137713, 'scaler_channels_chan07_preset': 1533135541.137713, 'scaler_channels_chan07_gate': 1533135541.137713, 'scaler_channels_chan08_chname': 1533135541.137713, 'scaler_channels_chan08_preset': 1533135541.137713, 'scaler_channels_chan08_gate': 1533135541.137713, 'scaler_channels_chan09_chname': 1533135541.137713, 'scaler_channels_chan09_preset': 1533135541.137713, 'scaler_channels_chan09_gate': 1533135541.137713, 'scaler_channels_chan10_chname': 1533135541.137713, 'scaler_channels_chan10_preset': 1533135541.137713, 'scaler_channels_chan10_gate': 1533135541.137713, 'scaler_channels_chan11_chname': 1533135541.137713, 'scaler_channels_chan11_preset': 1533135541.137713, 'scaler_channels_chan11_gate': 1533135541.137713, 'scaler_channels_chan12_chname': 1533135541.137713, 'scaler_channels_chan12_preset': 1533135541.137713, 'scaler_channels_chan12_gate': 1533135541.137713, 'scaler_channels_chan13_chname': 1533135541.137713, 'scaler_channels_chan13_preset': 1533135541.137713, 'scaler_channels_chan13_gate': 1533135541.137713, 'scaler_channels_chan14_chname': 1533135541.137713, 'scaler_channels_chan14_preset': 1533135541.137713, 'scaler_channels_chan14_gate': 1533135541.137713, 'scaler_channels_chan15_chname': 1533135541.137713, 'scaler_channels_chan15_preset': 1533135541.137713, 'scaler_channels_chan15_gate': 1533135541.137713, 'scaler_channels_chan16_chname': 1533135541.137713, 'scaler_channels_chan16_preset': 1533135541.137713, 'scaler_channels_chan16_gate': 1533135541.137713, 'scaler_channels_chan17_chname': 1533135541.137713, 'scaler_channels_chan17_preset': 1533135541.137713, 'scaler_channels_chan17_gate': 1533135541.137713, 'scaler_channels_chan18_chname': 1533135541.137713, 'scaler_channels_chan18_preset': 1533135541.137713, 'scaler_channels_chan18_gate': 1533135541.137713, 'scaler_channels_chan19_chname': 1533135541.137713, 'scaler_channels_chan19_preset': 1533135541.137713, 'scaler_channels_chan19_gate': 1533135541.137713, 'scaler_channels_chan20_chname': 1533135541.137713, 'scaler_channels_chan20_preset': 1533135541.137713, 'scaler_channels_chan20_gate': 1533135541.137713, 'scaler_channels_chan21_chname': 1533135541.137713, 'scaler_channels_chan21_preset': 1533135541.137713, 'scaler_channels_chan21_gate': 1533135541.137713, 'scaler_channels_chan22_chname': 1533135541.137713, 'scaler_channels_chan22_preset': 1533135541.137713, 'scaler_channels_chan22_gate': 1533135541.137713, 'scaler_channels_chan23_chname': 1533135541.137713, 'scaler_channels_chan23_preset': 1533135541.137713, 'scaler_channels_chan23_gate': 1533135541.137713, 'scaler_channels_chan24_chname': 1533135541.137713, 'scaler_channels_chan24_preset': 1533135541.137713, 'scaler_channels_chan24_gate': 1533135541.137713, 'scaler_channels_chan25_chname': 1533135541.137713, 'scaler_channels_chan25_preset': 1533135541.137713, 'scaler_channels_chan25_gate': 1533135541.137713, 'scaler_channels_chan26_chname': 1533135541.137713, 'scaler_channels_chan26_preset': 1533135541.137713, 'scaler_channels_chan26_gate': 1533135541.137713, 'scaler_channels_chan27_chname': 1533135541.137713, 'scaler_channels_chan27_preset': 1533135541.137713, 'scaler_channels_chan27_gate': 1533135541.137713, 'scaler_channels_chan28_chname': 1533135541.137713, 'scaler_channels_chan28_preset': 1533135541.137713, 'scaler_channels_chan28_gate': 1533135541.137713, 'scaler_channels_chan29_chname': 1533135541.137713, 'scaler_channels_chan29_preset': 1533135541.137713, 'scaler_channels_chan29_gate': 1533135541.137713, 'scaler_channels_chan30_chname': 1533135541.137713, 'scaler_channels_chan30_preset': 1533135541.137713, 'scaler_channels_chan30_gate': 1533135541.137713, 'scaler_channels_chan31_chname': 1533135541.137713, 'scaler_channels_chan31_preset': 1533135541.137713, 'scaler_channels_chan31_gate': 1533135541.137713, 'scaler_channels_chan32_chname': 1533135541.137713, 'scaler_channels_chan32_preset': 1533135541.137713, 'scaler_channels_chan32_gate': 1533135541.137713, 'scaler_count_mode': 1533135541.137713, 'scaler_delay': 1533135541.137713, 'scaler_auto_count_delay': 1533135541.137713, 'scaler_freq': 1533135541.137713, 'scaler_preset_time': 1533135541.137713, 'scaler_auto_count_time': 1533135541.137713, 'scaler_egu': 1533135541.137713}, 'data_keys': OrderedDict([('scaler_channels_chan01_chname', {'source': 'PV:prj:scaler1.NM1', 'dtype': 'string', 'shape': [], 'units': None, 'lower_ctrl_limit': None, 'upper_ctrl_limit': None}), ('scaler_channels_chan01_preset', {'source': 'PV:prj:scaler1.PR1', 'dtype': 'number', 'shape': [], 'precision': 0, 'units': '', 'lower_ctrl_limit': 0.0, 'upper_ctrl_limit': 0.0}), ('scaler_channels_chan01_gate', {'source': 'PV:prj:scaler1.G1', 'dtype': 'string', 'shape': [], 'units': None, 'lower_ctrl_limit': None, 'upper_ctrl_limit': None, 'enum_strs': ['N', 'Y']}), ('scaler_channels_chan02_chname', {'source': 'PV:prj:scaler1.NM2', 'dtype': 'string', 'shape': [], 'units': None, 'lower_ctrl_limit': None, 'upper_ctrl_limit': None}), ('scaler_channels_chan02_preset', {'source': 'PV:prj:scaler1.PR2', 'dtype': 'number', 'shape': [], 'precision': 0, 'units': '', 'lower_ctrl_limit': 0.0, 'upper_ctrl_limit': 0.0}), ('scaler_channels_chan02_gate', {'source': 'PV:prj:scaler1.G2', 'dtype': 'string', 'shape': [], 'units': None, 'lower_ctrl_limit': None, 'upper_ctrl_limit': None, 'enum_strs': ['N', 'Y']}), ('scaler_channels_chan03_chname', {'source': 'PV:prj:scaler1.NM3', 'dtype': 'string', 'shape': [], 'units': None, 'lower_ctrl_limit': None, 'upper_ctrl_limit': None}), ('scaler_channels_chan03_preset', {'source': 'PV:prj:scaler1.PR3', 'dtype': 'number', 'shape': [], 'precision': 0, 'units': '', 'lower_ctrl_limit': 0.0, 'upper_ctrl_limit': 0.0}), ('scaler_channels_chan03_gate', {'source': 'PV:prj:scaler1.G3', 'dtype': 'string', 'shape': [], 'units': None, 'lower_ctrl_limit': None, 'upper_ctrl_limit': None, 'enum_strs': ['N', 'Y']}), ('scaler_channels_chan04_chname', {'source': 'PV:prj:scaler1.NM4', 'dtype': 'string', 'shape': [], 'units': None, 'lower_ctrl_limit': None, 'upper_ctrl_limit': None}), ('scaler_channels_chan04_preset', {'source': 'PV:prj:scaler1.PR4', 'dtype': 'number', 'shape': [], 'precision': 0, 'units': '', 'lower_ctrl_limit': 0.0, 'upper_ctrl_limit': 0.0}), ('scaler_channels_chan04_gate', {'source': 'PV:prj:scaler1.G4', 'dtype': 'string', 'shape': [], 'units': None, 'lower_ctrl_limit': None, 'upper_ctrl_limit': None, 'enum_strs': ['N', 'Y']}), ('scaler_channels_chan05_chname', {'source': 'PV:prj:scaler1.NM5', 'dtype': 'string', 'shape': [], 'units': None, 'lower_ctrl_limit': None, 'upper_ctrl_limit': None}), ('scaler_channels_chan05_preset', {'source': 'PV:prj:scaler1.PR5', 'dtype': 'number', 'shape': [], 'precision': 0, 'units': '', 'lower_ctrl_limit': 0.0, 'upper_ctrl_limit': 0.0}), ('scaler_channels_chan05_gate', {'source': 'PV:prj:scaler1.G5', 'dtype': 'string', 'shape': [], 'units': None, 'lower_ctrl_limit': None, 'upper_ctrl_limit': None, 'enum_strs': ['N', 'Y']}), ('scaler_channels_chan06_chname', {'source': 'PV:prj:scaler1.NM6', 'dtype': 'string', 'shape': [], 'units': None, 'lower_ctrl_limit': None, 'upper_ctrl_limit': None}), ('scaler_channels_chan06_preset', {'source': 'PV:prj:scaler1.PR6', 'dtype': 'number', 'shape': [], 'precision': 0, 'units': '', 'lower_ctrl_limit': 0.0, 'upper_ctrl_limit': 0.0}), ('scaler_channels_chan06_gate', {'source': 'PV:prj:scaler1.G6', 'dtype': 'string', 'shape': [], 'units': None, 'lower_ctrl_limit': None, 'upper_ctrl_limit': None, 'enum_strs': ['N', 'Y']}), ('scaler_channels_chan07_chname', {'source': 'PV:prj:scaler1.NM7', 'dtype': 'string', 'shape': [], 'units': None, 'lower_ctrl_limit': None, 'upper_ctrl_limit': None}), ('scaler_channels_chan07_preset', {'source': 'PV:prj:scaler1.PR7', 'dtype': 'number', 'shape': [], 'precision': 0, 'units': '', 'lower_ctrl_limit': 0.0, 'upper_ctrl_limit': 0.0}), ('scaler_channels_chan07_gate', {'source': 'PV:prj:scaler1.G7', 'dtype': 'string', 'shape': [], 'units': None, 'lower_ctrl_limit': None, 'upper_ctrl_limit': None, 'enum_strs': ['N', 'Y']}), ('scaler_channels_chan08_chname', {'source': 'PV:prj:scaler1.NM8', 'dtype': 'string', 'shape': [], 'units': None, 'lower_ctrl_limit': None, 'upper_ctrl_limit': None}), ('scaler_channels_chan08_preset', {'source': 'PV:prj:scaler1.PR8', 'dtype': 'number', 'shape': [], 'precision': 0, 'units': '', 'lower_ctrl_limit': 0.0, 'upper_ctrl_limit': 0.0}), ('scaler_channels_chan08_gate', {'source': 'PV:prj:scaler1.G8', 'dtype': 'string', 'shape': [], 'units': None, 'lower_ctrl_limit': None, 'upper_ctrl_limit': None, 'enum_strs': ['N', 'Y']}), ('scaler_channels_chan09_chname', {'source': 'PV:prj:scaler1.NM9', 'dtype': 'string', 'shape': [], 'units': None, 'lower_ctrl_limit': None, 'upper_ctrl_limit': None}), ('scaler_channels_chan09_preset', {'source': 'PV:prj:scaler1.PR9', 'dtype': 'number', 'shape': [], 'precision': 0, 'units': '', 'lower_ctrl_limit': 0.0, 'upper_ctrl_limit': 0.0}), ('scaler_channels_chan09_gate', {'source': 'PV:prj:scaler1.G9', 'dtype': 'string', 'shape': [], 'units': None, 'lower_ctrl_limit': None, 'upper_ctrl_limit': None, 'enum_strs': ['N', 'Y']}), ('scaler_channels_chan10_chname', {'source': 'PV:prj:scaler1.NM10', 'dtype': 'string', 'shape': [], 'units': None, 'lower_ctrl_limit': None, 'upper_ctrl_limit': None}), ('scaler_channels_chan10_preset', {'source': 'PV:prj:scaler1.PR10', 'dtype': 'number', 'shape': [], 'precision': 0, 'units': '', 'lower_ctrl_limit': 0.0, 'upper_ctrl_limit': 0.0}), ('scaler_channels_chan10_gate', {'source': 'PV:prj:scaler1.G10', 'dtype': 'string', 'shape': [], 'units': None, 'lower_ctrl_limit': None, 'upper_ctrl_limit': None, 'enum_strs': ['N', 'Y']}), ('scaler_channels_chan11_chname', {'source': 'PV:prj:scaler1.NM11', 'dtype': 'string', 'shape': [], 'units': None, 'lower_ctrl_limit': None, 'upper_ctrl_limit': None}), ('scaler_channels_chan11_preset', {'source': 'PV:prj:scaler1.PR11', 'dtype': 'number', 'shape': [], 'precision': 0, 'units': '', 'lower_ctrl_limit': 0.0, 'upper_ctrl_limit': 0.0}), ('scaler_channels_chan11_gate', {'source': 'PV:prj:scaler1.G11', 'dtype': 'string', 'shape': [], 'units': None, 'lower_ctrl_limit': None, 'upper_ctrl_limit': None, 'enum_strs': ['N', 'Y']}), ('scaler_channels_chan12_chname', {'source': 'PV:prj:scaler1.NM12', 'dtype': 'string', 'shape': [], 'units': None, 'lower_ctrl_limit': None, 'upper_ctrl_limit': None}), ('scaler_channels_chan12_preset', {'source': 'PV:prj:scaler1.PR12', 'dtype': 'number', 'shape': [], 'precision': 0, 'units': '', 'lower_ctrl_limit': 0.0, 'upper_ctrl_limit': 0.0}), ('scaler_channels_chan12_gate', {'source': 'PV:prj:scaler1.G12', 'dtype': 'string', 'shape': [], 'units': None, 'lower_ctrl_limit': None, 'upper_ctrl_limit': None, 'enum_strs': ['N', 'Y']}), ('scaler_channels_chan13_chname', {'source': 'PV:prj:scaler1.NM13', 'dtype': 'string', 'shape': [], 'units': None, 'lower_ctrl_limit': None, 'upper_ctrl_limit': None}), ('scaler_channels_chan13_preset', {'source': 'PV:prj:scaler1.PR13', 'dtype': 'number', 'shape': [], 'precision': 0, 'units': '', 'lower_ctrl_limit': 0.0, 'upper_ctrl_limit': 0.0}), ('scaler_channels_chan13_gate', {'source': 'PV:prj:scaler1.G13', 'dtype': 'string', 'shape': [], 'units': None, 'lower_ctrl_limit': None, 'upper_ctrl_limit': None, 'enum_strs': ['N', 'Y']}), ('scaler_channels_chan14_chname', {'source': 'PV:prj:scaler1.NM14', 'dtype': 'string', 'shape': [], 'units': None, 'lower_ctrl_limit': None, 'upper_ctrl_limit': None}), ('scaler_channels_chan14_preset', {'source': 'PV:prj:scaler1.PR14', 'dtype': 'number', 'shape': [], 'precision': 0, 'units': '', 'lower_ctrl_limit': 0.0, 'upper_ctrl_limit': 0.0}), ('scaler_channels_chan14_gate', {'source': 'PV:prj:scaler1.G14', 'dtype': 'string', 'shape': [], 'units': None, 'lower_ctrl_limit': None, 'upper_ctrl_limit': None, 'enum_strs': ['N', 'Y']}), ('scaler_channels_chan15_chname', {'source': 'PV:prj:scaler1.NM15', 'dtype': 'string', 'shape': [], 'units': None, 'lower_ctrl_limit': None, 'upper_ctrl_limit': None}), ('scaler_channels_chan15_preset', {'source': 'PV:prj:scaler1.PR15', 'dtype': 'number', 'shape': [], 'precision': 0, 'units': '', 'lower_ctrl_limit': 0.0, 'upper_ctrl_limit': 0.0}), ('scaler_channels_chan15_gate', {'source': 'PV:prj:scaler1.G15', 'dtype': 'string', 'shape': [], 'units': None, 'lower_ctrl_limit': None, 'upper_ctrl_limit': None, 'enum_strs': ['N', 'Y']}), ('scaler_channels_chan16_chname', {'source': 'PV:prj:scaler1.NM16', 'dtype': 'string', 'shape': [], 'units': None, 'lower_ctrl_limit': None, 'upper_ctrl_limit': None}), ('scaler_channels_chan16_preset', {'source': 'PV:prj:scaler1.PR16', 'dtype': 'number', 'shape': [], 'precision': 0, 'units': '', 'lower_ctrl_limit': 0.0, 'upper_ctrl_limit': 0.0}), ('scaler_channels_chan16_gate', {'source': 'PV:prj:scaler1.G16', 'dtype': 'string', 'shape': [], 'units': None, 'lower_ctrl_limit': None, 'upper_ctrl_limit': None, 'enum_strs': ['N', 'Y']}), ('scaler_channels_chan17_chname', {'source': 'PV:prj:scaler1.NM17', 'dtype': 'string', 'shape': [], 'units': None, 'lower_ctrl_limit': None, 'upper_ctrl_limit': None}), ('scaler_channels_chan17_preset', {'source': 'PV:prj:scaler1.PR17', 'dtype': 'number', 'shape': [], 'precision': 0, 'units': '', 'lower_ctrl_limit': 0.0, 'upper_ctrl_limit': 0.0}), ('scaler_channels_chan17_gate', {'source': 'PV:prj:scaler1.G17', 'dtype': 'string', 'shape': [], 'units': None, 'lower_ctrl_limit': None, 'upper_ctrl_limit': None, 'enum_strs': ['N', 'Y']}), ('scaler_channels_chan18_chname', {'source': 'PV:prj:scaler1.NM18', 'dtype': 'string', 'shape': [], 'units': None, 'lower_ctrl_limit': None, 'upper_ctrl_limit': None}), ('scaler_channels_chan18_preset', {'source': 'PV:prj:scaler1.PR18', 'dtype': 'number', 'shape': [], 'precision': 0, 'units': '', 'lower_ctrl_limit': 0.0, 'upper_ctrl_limit': 0.0}), ('scaler_channels_chan18_gate', {'source': 'PV:prj:scaler1.G18', 'dtype': 'string', 'shape': [], 'units': None, 'lower_ctrl_limit': None, 'upper_ctrl_limit': None, 'enum_strs': ['N', 'Y']}), ('scaler_channels_chan19_chname', {'source': 'PV:prj:scaler1.NM19', 'dtype': 'string', 'shape': [], 'units': None, 'lower_ctrl_limit': None, 'upper_ctrl_limit': None}), ('scaler_channels_chan19_preset', {'source': 'PV:prj:scaler1.PR19', 'dtype': 'number', 'shape': [], 'precision': 0, 'units': '', 'lower_ctrl_limit': 0.0, 'upper_ctrl_limit': 0.0}), ('scaler_channels_chan19_gate', {'source': 'PV:prj:scaler1.G19', 'dtype': 'string', 'shape': [], 'units': None, 'lower_ctrl_limit': None, 'upper_ctrl_limit': None, 'enum_strs': ['N', 'Y']}), ('scaler_channels_chan20_chname', {'source': 'PV:prj:scaler1.NM20', 'dtype': 'string', 'shape': [], 'units': None, 'lower_ctrl_limit': None, 'upper_ctrl_limit': None}), ('scaler_channels_chan20_preset', {'source': 'PV:prj:scaler1.PR20', 'dtype': 'number', 'shape': [], 'precision': 0, 'units': '', 'lower_ctrl_limit': 0.0, 'upper_ctrl_limit': 0.0}), ('scaler_channels_chan20_gate', {'source': 'PV:prj:scaler1.G20', 'dtype': 'string', 'shape': [], 'units': None, 'lower_ctrl_limit': None, 'upper_ctrl_limit': None, 'enum_strs': ['N', 'Y']}), ('scaler_channels_chan21_chname', {'source': 'PV:prj:scaler1.NM21', 'dtype': 'string', 'shape': [], 'units': None, 'lower_ctrl_limit': None, 'upper_ctrl_limit': None}), ('scaler_channels_chan21_preset', {'source': 'PV:prj:scaler1.PR21', 'dtype': 'number', 'shape': [], 'precision': 0, 'units': '', 'lower_ctrl_limit': 0.0, 'upper_ctrl_limit': 0.0}), ('scaler_channels_chan21_gate', {'source': 'PV:prj:scaler1.G21', 'dtype': 'string', 'shape': [], 'units': None, 'lower_ctrl_limit': None, 'upper_ctrl_limit': None, 'enum_strs': ['N', 'Y']}), ('scaler_channels_chan22_chname', {'source': 'PV:prj:scaler1.NM22', 'dtype': 'string', 'shape': [], 'units': None, 'lower_ctrl_limit': None, 'upper_ctrl_limit': None}), ('scaler_channels_chan22_preset', {'source': 'PV:prj:scaler1.PR22', 'dtype': 'number', 'shape': [], 'precision': 0, 'units': '', 'lower_ctrl_limit': 0.0, 'upper_ctrl_limit': 0.0}), ('scaler_channels_chan22_gate', {'source': 'PV:prj:scaler1.G22', 'dtype': 'string', 'shape': [], 'units': None, 'lower_ctrl_limit': None, 'upper_ctrl_limit': None, 'enum_strs': ['N', 'Y']}), ('scaler_channels_chan23_chname', {'source': 'PV:prj:scaler1.NM23', 'dtype': 'string', 'shape': [], 'units': None, 'lower_ctrl_limit': None, 'upper_ctrl_limit': None}), ('scaler_channels_chan23_preset', {'source': 'PV:prj:scaler1.PR23', 'dtype': 'number', 'shape': [], 'precision': 0, 'units': '', 'lower_ctrl_limit': 0.0, 'upper_ctrl_limit': 0.0}), ('scaler_channels_chan23_gate', {'source': 'PV:prj:scaler1.G23', 'dtype': 'string', 'shape': [], 'units': None, 'lower_ctrl_limit': None, 'upper_ctrl_limit': None, 'enum_strs': ['N', 'Y']}), ('scaler_channels_chan24_chname', {'source': 'PV:prj:scaler1.NM24', 'dtype': 'string', 'shape': [], 'units': None, 'lower_ctrl_limit': None, 'upper_ctrl_limit': None}), ('scaler_channels_chan24_preset', {'source': 'PV:prj:scaler1.PR24', 'dtype': 'number', 'shape': [], 'precision': 0, 'units': '', 'lower_ctrl_limit': 0.0, 'upper_ctrl_limit': 0.0}), ('scaler_channels_chan24_gate', {'source': 'PV:prj:scaler1.G24', 'dtype': 'string', 'shape': [], 'units': None, 'lower_ctrl_limit': None, 'upper_ctrl_limit': None, 'enum_strs': ['N', 'Y']}), ('scaler_channels_chan25_chname', {'source': 'PV:prj:scaler1.NM25', 'dtype': 'string', 'shape': [], 'units': None, 'lower_ctrl_limit': None, 'upper_ctrl_limit': None}), ('scaler_channels_chan25_preset', {'source': 'PV:prj:scaler1.PR25', 'dtype': 'number', 'shape': [], 'precision': 0, 'units': '', 'lower_ctrl_limit': 0.0, 'upper_ctrl_limit': 0.0}), ('scaler_channels_chan25_gate', {'source': 'PV:prj:scaler1.G25', 'dtype': 'string', 'shape': [], 'units': None, 'lower_ctrl_limit': None, 'upper_ctrl_limit': None, 'enum_strs': ['N', 'Y']}), ('scaler_channels_chan26_chname', {'source': 'PV:prj:scaler1.NM26', 'dtype': 'string', 'shape': [], 'units': None, 'lower_ctrl_limit': None, 'upper_ctrl_limit': None}), ('scaler_channels_chan26_preset', {'source': 'PV:prj:scaler1.PR26', 'dtype': 'number', 'shape': [], 'precision': 0, 'units': '', 'lower_ctrl_limit': 0.0, 'upper_ctrl_limit': 0.0}), ('scaler_channels_chan26_gate', {'source': 'PV:prj:scaler1.G26', 'dtype': 'string', 'shape': [], 'units': None, 'lower_ctrl_limit': None, 'upper_ctrl_limit': None, 'enum_strs': ['N', 'Y']}), ('scaler_channels_chan27_chname', {'source': 'PV:prj:scaler1.NM27', 'dtype': 'string', 'shape': [], 'units': None, 'lower_ctrl_limit': None, 'upper_ctrl_limit': None}), ('scaler_channels_chan27_preset', {'source': 'PV:prj:scaler1.PR27', 'dtype': 'number', 'shape': [], 'precision': 0, 'units': '', 'lower_ctrl_limit': 0.0, 'upper_ctrl_limit': 0.0}), ('scaler_channels_chan27_gate', {'source': 'PV:prj:scaler1.G27', 'dtype': 'string', 'shape': [], 'units': None, 'lower_ctrl_limit': None, 'upper_ctrl_limit': None, 'enum_strs': ['N', 'Y']}), ('scaler_channels_chan28_chname', {'source': 'PV:prj:scaler1.NM28', 'dtype': 'string', 'shape': [], 'units': None, 'lower_ctrl_limit': None, 'upper_ctrl_limit': None}), ('scaler_channels_chan28_preset', {'source': 'PV:prj:scaler1.PR28', 'dtype': 'number', 'shape': [], 'precision': 0, 'units': '', 'lower_ctrl_limit': 0.0, 'upper_ctrl_limit': 0.0}), ('scaler_channels_chan28_gate', {'source': 'PV:prj:scaler1.G28', 'dtype': 'string', 'shape': [], 'units': None, 'lower_ctrl_limit': None, 'upper_ctrl_limit': None, 'enum_strs': ['N', 'Y']}), ('scaler_channels_chan29_chname', {'source': 'PV:prj:scaler1.NM29', 'dtype': 'string', 'shape': [], 'units': None, 'lower_ctrl_limit': None, 'upper_ctrl_limit': None}), ('scaler_channels_chan29_preset', {'source': 'PV:prj:scaler1.PR29', 'dtype': 'number', 'shape': [], 'precision': 0, 'units': '', 'lower_ctrl_limit': 0.0, 'upper_ctrl_limit': 0.0}), ('scaler_channels_chan29_gate', {'source': 'PV:prj:scaler1.G29', 'dtype': 'string', 'shape': [], 'units': None, 'lower_ctrl_limit': None, 'upper_ctrl_limit': None, 'enum_strs': ['N', 'Y']}), ('scaler_channels_chan30_chname', {'source': 'PV:prj:scaler1.NM30', 'dtype': 'string', 'shape': [], 'units': None, 'lower_ctrl_limit': None, 'upper_ctrl_limit': None}), ('scaler_channels_chan30_preset', {'source': 'PV:prj:scaler1.PR30', 'dtype': 'number', 'shape': [], 'precision': 0, 'units': '', 'lower_ctrl_limit': 0.0, 'upper_ctrl_limit': 0.0}), ('scaler_channels_chan30_gate', {'source': 'PV:prj:scaler1.G30', 'dtype': 'string', 'shape': [], 'units': None, 'lower_ctrl_limit': None, 'upper_ctrl_limit': None, 'enum_strs': ['N', 'Y']}), ('scaler_channels_chan31_chname', {'source': 'PV:prj:scaler1.NM31', 'dtype': 'string', 'shape': [], 'units': None, 'lower_ctrl_limit': None, 'upper_ctrl_limit': None}), ('scaler_channels_chan31_preset', {'source': 'PV:prj:scaler1.PR31', 'dtype': 'number', 'shape': [], 'precision': 0, 'units': '', 'lower_ctrl_limit': 0.0, 'upper_ctrl_limit': 0.0}), ('scaler_channels_chan31_gate', {'source': 'PV:prj:scaler1.G31', 'dtype': 'string', 'shape': [], 'units': None, 'lower_ctrl_limit': None, 'upper_ctrl_limit': None, 'enum_strs': ['N', 'Y']}), ('scaler_channels_chan32_chname', {'source': 'PV:prj:scaler1.NM32', 'dtype': 'string', 'shape': [], 'units': None, 'lower_ctrl_limit': None, 'upper_ctrl_limit': None}), ('scaler_channels_chan32_preset', {'source': 'PV:prj:scaler1.PR32', 'dtype': 'number', 'shape': [], 'precision': 0, 'units': '', 'lower_ctrl_limit': 0.0, 'upper_ctrl_limit': 0.0}), ('scaler_channels_chan32_gate', {'source': 'PV:prj:scaler1.G32', 'dtype': 'string', 'shape': [], 'units': None, 'lower_ctrl_limit': None, 'upper_ctrl_limit': None, 'enum_strs': ['N', 'Y']}), ('scaler_count_mode', {'source': 'PV:prj:scaler1.CONT', 'dtype': 'string', 'shape': [], 'units': None, 'lower_ctrl_limit': None, 'upper_ctrl_limit': None, 'enum_strs': ['OneShot', 'AutoCount']}), ('scaler_delay', {'source': 'PV:prj:scaler1.DLY', 'dtype': 'number', 'shape': [], 'precision': 3, 'units': '', 'lower_ctrl_limit': 0.0, 'upper_ctrl_limit': 0.0}), ('scaler_auto_count_delay', {'source': 'PV:prj:scaler1.DLY1', 'dtype': 'number', 'shape': [], 'precision': 3, 'units': '', 'lower_ctrl_limit': 0.0, 'upper_ctrl_limit': 0.0}), ('scaler_freq', {'source': 'PV:prj:scaler1.FREQ', 'dtype': 'number', 'shape': [], 'precision': 3, 'units': '', 'lower_ctrl_limit': 0.0, 'upper_ctrl_limit': 0.0}), ('scaler_preset_time', {'source': 'PV:prj:scaler1.TP', 'dtype': 'number', 'shape': [], 'precision': 3, 'units': '', 'lower_ctrl_limit': 0.0, 'upper_ctrl_limit': 0.0}), ('scaler_auto_count_time', {'source': 'PV:prj:scaler1.TP1', 'dtype': 'number', 'shape': [], 'precision': 3, 'units': '', 'lower_ctrl_limit': 0.0, 'upper_ctrl_limit': 0.0}), ('scaler_egu', {'source': 'PV:prj:scaler1.EGU', 'dtype': 'string', 'shape': [], 'units': None, 'lower_ctrl_limit': None, 'upper_ctrl_limit': None})])}}\n",
      "\t name primary\n",
      "\t hints {'scaler': {'fields': ['I0', 'scint', 'roi1']}}\n",
      "\t object_keys {'scaler': ['I0', 'scint', 'roi1', 'scaler_time']}\n",
      "~~~~~~~~~~~~~~~~~\n",
      "event 7\n",
      "\t descriptor 0eaee96b-5a1b-4b7b-8739-75616cc7a45d\n",
      "\t time 1533135541.3354514\n",
      "\t data {'I0': 8.0, 'scint': 5.0, 'roi1': 7.0, 'scaler_time': 1.5}\n",
      "\t timestamps {'I0': 1533135541.137713, 'scint': 1533135541.137713, 'roi1': 1533135541.137713, 'scaler_time': 1533135541.137713}\n",
      "\t seq_num 1\n",
      "\t uid 25a5a3e5-d107-47a8-8644-f14c37f5fe1a\n",
      "\t filled {}\n",
      "~~~~~~~~~~~~~~~~~\n",
      "stop 6\n",
      "\t run_start 86f27da3-e9d3-49a5-9efb-2fdbb58b9463\n",
      "\t time 1533135541.3396778\n",
      "\t uid 87a09c05-22da-4ef4-a4e4-fedc23c2c9ec\n",
      "\t exit_status success\n",
      "\t reason \n",
      "\t num_events {'primary': 1}\n",
      "~~~~~~~~~~~~~~~~~\n"
     ]
    },
    {
     "data": {
      "text/plain": [
       "('86f27da3-e9d3-49a5-9efb-2fdbb58b9463',)"
      ]
     },
     "execution_count": 26,
     "metadata": {},
     "output_type": "execute_result"
    }
   ],
   "source": [
    "RE(bp.count([scaler]), myCallback)"
   ]
  },
  {
   "cell_type": "markdown",
   "metadata": {},
   "source": [
    "With the details, we see more of what is happening.  \n",
    "\n",
    "The first document is a `start` and it says what is happening and how it will be identified.  The identifier (named `uid`) is a [UUID](https://docs.python.org/3.6/library/uuid.html) (specifically, a [uuid4](https://docs.python.org/3.6/library/uuid.html#uuid.uuid4)).  This looks tedious and random.  The one good thing is that these are unique and often can be referred to by the first few characters (6-8 are enough to be *probably* unique).  The `uid` from the `start` document is what the RunEngine reports when the scan stops.\n",
    "\n",
    "The second document is a `descriptor` and it says what, exactly, will be measured.  It also includes a reference to `start`'s `uid`.  We can follow the chain back to `start` this way.\n",
    "\n",
    "The third document is an `event` and it provides the data reading when the scaler was counted.  The data is read according to the `descriptor` document (just actual values for the *named* channels).\n",
    "\n",
    "The last document is a `stop` document that describes how things ended.  It also says there was only one stream of event documents named *primary*.\n",
    "\n",
    "Let's repeat that plan, this time asking to `count` the scaler three times.  This is the `num=3` addition to the call to `bp.count()`.  What's tricky now is keeping track of the parentheses and square braces."
   ]
  },
  {
   "cell_type": "code",
   "execution_count": 27,
   "metadata": {},
   "outputs": [
    {
     "name": "stdout",
     "output_type": "stream",
     "text": [
      "start 10\n",
      "\t uid 368042b3-b93f-4e5c-88cb-012b8a268402\n",
      "\t time 1533135548.3046095\n",
      "\t num_intervals 2\n",
      "\t plan_name count\n",
      "\t hints {'dimensions': [(('time',), 'primary')]}\n",
      "\t plan_type generator\n",
      "\t num_points 3\n",
      "\t scan_id 4\n",
      "\t plan_args {'detectors': [\"ScalerCH(prefix='prj:scaler1', name='scaler', read_attrs=['channels', 'channels.chan02', 'channels.chan02.s', 'channels.chan04', 'channels.chan04.s', 'channels.chan07', 'channels.chan07.s', 'time'], configuration_attrs=['channels', 'channels.chan01', 'channels.chan01.chname', 'channels.chan01.preset', 'channels.chan01.gate', 'channels.chan02', 'channels.chan02.chname', 'channels.chan02.preset', 'channels.chan02.gate', 'channels.chan03', 'channels.chan03.chname', 'channels.chan03.preset', 'channels.chan03.gate', 'channels.chan04', 'channels.chan04.chname', 'channels.chan04.preset', 'channels.chan04.gate', 'channels.chan05', 'channels.chan05.chname', 'channels.chan05.preset', 'channels.chan05.gate', 'channels.chan06', 'channels.chan06.chname', 'channels.chan06.preset', 'channels.chan06.gate', 'channels.chan07', 'channels.chan07.chname', 'channels.chan07.preset', 'channels.chan07.gate', 'channels.chan08', 'channels.chan08.chname', 'channels.chan08.preset', 'channels.chan08.gate', 'channels.chan09', 'channels.chan09.chname', 'channels.chan09.preset', 'channels.chan09.gate', 'channels.chan10', 'channels.chan10.chname', 'channels.chan10.preset', 'channels.chan10.gate', 'channels.chan11', 'channels.chan11.chname', 'channels.chan11.preset', 'channels.chan11.gate', 'channels.chan12', 'channels.chan12.chname', 'channels.chan12.preset', 'channels.chan12.gate', 'channels.chan13', 'channels.chan13.chname', 'channels.chan13.preset', 'channels.chan13.gate', 'channels.chan14', 'channels.chan14.chname', 'channels.chan14.preset', 'channels.chan14.gate', 'channels.chan15', 'channels.chan15.chname', 'channels.chan15.preset', 'channels.chan15.gate', 'channels.chan16', 'channels.chan16.chname', 'channels.chan16.preset', 'channels.chan16.gate', 'channels.chan17', 'channels.chan17.chname', 'channels.chan17.preset', 'channels.chan17.gate', 'channels.chan18', 'channels.chan18.chname', 'channels.chan18.preset', 'channels.chan18.gate', 'channels.chan19', 'channels.chan19.chname', 'channels.chan19.preset', 'channels.chan19.gate', 'channels.chan20', 'channels.chan20.chname', 'channels.chan20.preset', 'channels.chan20.gate', 'channels.chan21', 'channels.chan21.chname', 'channels.chan21.preset', 'channels.chan21.gate', 'channels.chan22', 'channels.chan22.chname', 'channels.chan22.preset', 'channels.chan22.gate', 'channels.chan23', 'channels.chan23.chname', 'channels.chan23.preset', 'channels.chan23.gate', 'channels.chan24', 'channels.chan24.chname', 'channels.chan24.preset', 'channels.chan24.gate', 'channels.chan25', 'channels.chan25.chname', 'channels.chan25.preset', 'channels.chan25.gate', 'channels.chan26', 'channels.chan26.chname', 'channels.chan26.preset', 'channels.chan26.gate', 'channels.chan27', 'channels.chan27.chname', 'channels.chan27.preset', 'channels.chan27.gate', 'channels.chan28', 'channels.chan28.chname', 'channels.chan28.preset', 'channels.chan28.gate', 'channels.chan29', 'channels.chan29.chname', 'channels.chan29.preset', 'channels.chan29.gate', 'channels.chan30', 'channels.chan30.chname', 'channels.chan30.preset', 'channels.chan30.gate', 'channels.chan31', 'channels.chan31.chname', 'channels.chan31.preset', 'channels.chan31.gate', 'channels.chan32', 'channels.chan32.chname', 'channels.chan32.preset', 'channels.chan32.gate', 'count_mode', 'delay', 'auto_count_delay', 'freq', 'preset_time', 'auto_count_time', 'egu'])\"], 'num': 3}\n",
      "\t detectors ['scaler']\n",
      "~~~~~~~~~~~~~~~~~\n",
      "descriptor 8\n",
      "\t run_start 368042b3-b93f-4e5c-88cb-012b8a268402\n",
      "\t time 1533135550.1768584\n",
      "\t data_keys {'I0': {'source': 'PV:prj:scaler1.S2', 'dtype': 'number', 'shape': [], 'precision': 0, 'units': '', 'lower_ctrl_limit': 0.0, 'upper_ctrl_limit': 0.0, 'object_name': 'scaler'}, 'scint': {'source': 'PV:prj:scaler1.S4', 'dtype': 'number', 'shape': [], 'precision': 0, 'units': '', 'lower_ctrl_limit': 0.0, 'upper_ctrl_limit': 0.0, 'object_name': 'scaler'}, 'roi1': {'source': 'PV:prj:scaler1.S7', 'dtype': 'number', 'shape': [], 'precision': 0, 'units': '', 'lower_ctrl_limit': 0.0, 'upper_ctrl_limit': 0.0, 'object_name': 'scaler'}, 'scaler_time': {'source': 'PV:prj:scaler1.T', 'dtype': 'number', 'shape': [], 'precision': 3, 'units': '', 'lower_ctrl_limit': 0.0, 'upper_ctrl_limit': 0.0, 'object_name': 'scaler'}}\n",
      "\t uid b4b0c480-5131-4e15-8840-330c5cf800bf\n",
      "\t configuration {'scaler': {'data': {'scaler_channels_chan01_chname': '', 'scaler_channels_chan01_preset': 15000000.0, 'scaler_channels_chan01_gate': 'Y', 'scaler_channels_chan02_chname': 'I0', 'scaler_channels_chan02_preset': 0.0, 'scaler_channels_chan02_gate': 'N', 'scaler_channels_chan03_chname': '', 'scaler_channels_chan03_preset': 0.0, 'scaler_channels_chan03_gate': 'N', 'scaler_channels_chan04_chname': 'scint', 'scaler_channels_chan04_preset': 0.0, 'scaler_channels_chan04_gate': 'N', 'scaler_channels_chan05_chname': '', 'scaler_channels_chan05_preset': 0.0, 'scaler_channels_chan05_gate': 'N', 'scaler_channels_chan06_chname': '', 'scaler_channels_chan06_preset': 0.0, 'scaler_channels_chan06_gate': 'N', 'scaler_channels_chan07_chname': 'roi1', 'scaler_channels_chan07_preset': 0.0, 'scaler_channels_chan07_gate': 'N', 'scaler_channels_chan08_chname': '', 'scaler_channels_chan08_preset': 0.0, 'scaler_channels_chan08_gate': 'N', 'scaler_channels_chan09_chname': '', 'scaler_channels_chan09_preset': 0.0, 'scaler_channels_chan09_gate': 'N', 'scaler_channels_chan10_chname': '', 'scaler_channels_chan10_preset': 0.0, 'scaler_channels_chan10_gate': 'N', 'scaler_channels_chan11_chname': '', 'scaler_channels_chan11_preset': 0.0, 'scaler_channels_chan11_gate': 'N', 'scaler_channels_chan12_chname': '', 'scaler_channels_chan12_preset': 0.0, 'scaler_channels_chan12_gate': 'N', 'scaler_channels_chan13_chname': '', 'scaler_channels_chan13_preset': 0.0, 'scaler_channels_chan13_gate': 'N', 'scaler_channels_chan14_chname': '', 'scaler_channels_chan14_preset': 0.0, 'scaler_channels_chan14_gate': 'N', 'scaler_channels_chan15_chname': '', 'scaler_channels_chan15_preset': 0.0, 'scaler_channels_chan15_gate': 'N', 'scaler_channels_chan16_chname': '', 'scaler_channels_chan16_preset': 0.0, 'scaler_channels_chan16_gate': 'N', 'scaler_channels_chan17_chname': '', 'scaler_channels_chan17_preset': 0.0, 'scaler_channels_chan17_gate': 'N', 'scaler_channels_chan18_chname': '', 'scaler_channels_chan18_preset': 0.0, 'scaler_channels_chan18_gate': 'N', 'scaler_channels_chan19_chname': '', 'scaler_channels_chan19_preset': 0.0, 'scaler_channels_chan19_gate': 'N', 'scaler_channels_chan20_chname': '', 'scaler_channels_chan20_preset': 0.0, 'scaler_channels_chan20_gate': 'N', 'scaler_channels_chan21_chname': '', 'scaler_channels_chan21_preset': 0.0, 'scaler_channels_chan21_gate': 'N', 'scaler_channels_chan22_chname': '', 'scaler_channels_chan22_preset': 0.0, 'scaler_channels_chan22_gate': 'N', 'scaler_channels_chan23_chname': '', 'scaler_channels_chan23_preset': 0.0, 'scaler_channels_chan23_gate': 'N', 'scaler_channels_chan24_chname': '', 'scaler_channels_chan24_preset': 0.0, 'scaler_channels_chan24_gate': 'N', 'scaler_channels_chan25_chname': '', 'scaler_channels_chan25_preset': 0.0, 'scaler_channels_chan25_gate': 'N', 'scaler_channels_chan26_chname': '', 'scaler_channels_chan26_preset': 0.0, 'scaler_channels_chan26_gate': 'N', 'scaler_channels_chan27_chname': '', 'scaler_channels_chan27_preset': 0.0, 'scaler_channels_chan27_gate': 'N', 'scaler_channels_chan28_chname': '', 'scaler_channels_chan28_preset': 0.0, 'scaler_channels_chan28_gate': 'N', 'scaler_channels_chan29_chname': '', 'scaler_channels_chan29_preset': 0.0, 'scaler_channels_chan29_gate': 'N', 'scaler_channels_chan30_chname': '', 'scaler_channels_chan30_preset': 0.0, 'scaler_channels_chan30_gate': 'N', 'scaler_channels_chan31_chname': '', 'scaler_channels_chan31_preset': 0.0, 'scaler_channels_chan31_gate': 'N', 'scaler_channels_chan32_chname': '', 'scaler_channels_chan32_preset': 0.0, 'scaler_channels_chan32_gate': 'N', 'scaler_count_mode': 'OneShot', 'scaler_delay': 0.0, 'scaler_auto_count_delay': 0.0, 'scaler_freq': 10000000.0, 'scaler_preset_time': 1.5, 'scaler_auto_count_time': 1.0, 'scaler_egu': ''}, 'timestamps': {'scaler_channels_chan01_chname': 1533135549.936048, 'scaler_channels_chan01_preset': 1533135549.936048, 'scaler_channels_chan01_gate': 1533135549.936048, 'scaler_channels_chan02_chname': 1533135549.936048, 'scaler_channels_chan02_preset': 1533135549.936048, 'scaler_channels_chan02_gate': 1533135549.936048, 'scaler_channels_chan03_chname': 1533135549.936048, 'scaler_channels_chan03_preset': 1533135549.936048, 'scaler_channels_chan03_gate': 1533135549.936048, 'scaler_channels_chan04_chname': 1533135549.936048, 'scaler_channels_chan04_preset': 1533135549.936048, 'scaler_channels_chan04_gate': 1533135549.936048, 'scaler_channels_chan05_chname': 1533135549.936048, 'scaler_channels_chan05_preset': 1533135549.936048, 'scaler_channels_chan05_gate': 1533135549.936048, 'scaler_channels_chan06_chname': 1533135549.936048, 'scaler_channels_chan06_preset': 1533135549.936048, 'scaler_channels_chan06_gate': 1533135549.936048, 'scaler_channels_chan07_chname': 1533135549.936048, 'scaler_channels_chan07_preset': 1533135549.936048, 'scaler_channels_chan07_gate': 1533135549.936048, 'scaler_channels_chan08_chname': 1533135549.936048, 'scaler_channels_chan08_preset': 1533135549.936048, 'scaler_channels_chan08_gate': 1533135549.936048, 'scaler_channels_chan09_chname': 1533135549.936048, 'scaler_channels_chan09_preset': 1533135549.936048, 'scaler_channels_chan09_gate': 1533135549.936048, 'scaler_channels_chan10_chname': 1533135549.936048, 'scaler_channels_chan10_preset': 1533135549.936048, 'scaler_channels_chan10_gate': 1533135549.936048, 'scaler_channels_chan11_chname': 1533135549.936048, 'scaler_channels_chan11_preset': 1533135549.936048, 'scaler_channels_chan11_gate': 1533135549.936048, 'scaler_channels_chan12_chname': 1533135549.936048, 'scaler_channels_chan12_preset': 1533135549.936048, 'scaler_channels_chan12_gate': 1533135549.936048, 'scaler_channels_chan13_chname': 1533135549.936048, 'scaler_channels_chan13_preset': 1533135549.936048, 'scaler_channels_chan13_gate': 1533135549.936048, 'scaler_channels_chan14_chname': 1533135549.936048, 'scaler_channels_chan14_preset': 1533135549.936048, 'scaler_channels_chan14_gate': 1533135549.936048, 'scaler_channels_chan15_chname': 1533135549.936048, 'scaler_channels_chan15_preset': 1533135549.936048, 'scaler_channels_chan15_gate': 1533135549.936048, 'scaler_channels_chan16_chname': 1533135549.936048, 'scaler_channels_chan16_preset': 1533135549.936048, 'scaler_channels_chan16_gate': 1533135549.936048, 'scaler_channels_chan17_chname': 1533135549.936048, 'scaler_channels_chan17_preset': 1533135549.936048, 'scaler_channels_chan17_gate': 1533135549.936048, 'scaler_channels_chan18_chname': 1533135549.936048, 'scaler_channels_chan18_preset': 1533135549.936048, 'scaler_channels_chan18_gate': 1533135549.936048, 'scaler_channels_chan19_chname': 1533135549.936048, 'scaler_channels_chan19_preset': 1533135549.936048, 'scaler_channels_chan19_gate': 1533135549.936048, 'scaler_channels_chan20_chname': 1533135549.936048, 'scaler_channels_chan20_preset': 1533135549.936048, 'scaler_channels_chan20_gate': 1533135549.936048, 'scaler_channels_chan21_chname': 1533135549.936048, 'scaler_channels_chan21_preset': 1533135549.936048, 'scaler_channels_chan21_gate': 1533135549.936048, 'scaler_channels_chan22_chname': 1533135549.936048, 'scaler_channels_chan22_preset': 1533135549.936048, 'scaler_channels_chan22_gate': 1533135549.936048, 'scaler_channels_chan23_chname': 1533135549.936048, 'scaler_channels_chan23_preset': 1533135549.936048, 'scaler_channels_chan23_gate': 1533135549.936048, 'scaler_channels_chan24_chname': 1533135549.936048, 'scaler_channels_chan24_preset': 1533135549.936048, 'scaler_channels_chan24_gate': 1533135549.936048, 'scaler_channels_chan25_chname': 1533135549.936048, 'scaler_channels_chan25_preset': 1533135549.936048, 'scaler_channels_chan25_gate': 1533135549.936048, 'scaler_channels_chan26_chname': 1533135549.936048, 'scaler_channels_chan26_preset': 1533135549.936048, 'scaler_channels_chan26_gate': 1533135549.936048, 'scaler_channels_chan27_chname': 1533135549.936048, 'scaler_channels_chan27_preset': 1533135549.936048, 'scaler_channels_chan27_gate': 1533135549.936048, 'scaler_channels_chan28_chname': 1533135549.936048, 'scaler_channels_chan28_preset': 1533135549.936048, 'scaler_channels_chan28_gate': 1533135549.936048, 'scaler_channels_chan29_chname': 1533135549.936048, 'scaler_channels_chan29_preset': 1533135549.936048, 'scaler_channels_chan29_gate': 1533135549.936048, 'scaler_channels_chan30_chname': 1533135549.936048, 'scaler_channels_chan30_preset': 1533135549.936048, 'scaler_channels_chan30_gate': 1533135549.936048, 'scaler_channels_chan31_chname': 1533135549.936048, 'scaler_channels_chan31_preset': 1533135549.936048, 'scaler_channels_chan31_gate': 1533135549.936048, 'scaler_channels_chan32_chname': 1533135549.936048, 'scaler_channels_chan32_preset': 1533135549.936048, 'scaler_channels_chan32_gate': 1533135549.936048, 'scaler_count_mode': 1533135549.936048, 'scaler_delay': 1533135549.936048, 'scaler_auto_count_delay': 1533135549.936048, 'scaler_freq': 1533135549.936048, 'scaler_preset_time': 1533135549.936048, 'scaler_auto_count_time': 1533135549.936048, 'scaler_egu': 1533135549.936048}, 'data_keys': OrderedDict([('scaler_channels_chan01_chname', {'source': 'PV:prj:scaler1.NM1', 'dtype': 'string', 'shape': [], 'units': None, 'lower_ctrl_limit': None, 'upper_ctrl_limit': None}), ('scaler_channels_chan01_preset', {'source': 'PV:prj:scaler1.PR1', 'dtype': 'number', 'shape': [], 'precision': 0, 'units': '', 'lower_ctrl_limit': 0.0, 'upper_ctrl_limit': 0.0}), ('scaler_channels_chan01_gate', {'source': 'PV:prj:scaler1.G1', 'dtype': 'string', 'shape': [], 'units': None, 'lower_ctrl_limit': None, 'upper_ctrl_limit': None, 'enum_strs': ['N', 'Y']}), ('scaler_channels_chan02_chname', {'source': 'PV:prj:scaler1.NM2', 'dtype': 'string', 'shape': [], 'units': None, 'lower_ctrl_limit': None, 'upper_ctrl_limit': None}), ('scaler_channels_chan02_preset', {'source': 'PV:prj:scaler1.PR2', 'dtype': 'number', 'shape': [], 'precision': 0, 'units': '', 'lower_ctrl_limit': 0.0, 'upper_ctrl_limit': 0.0}), ('scaler_channels_chan02_gate', {'source': 'PV:prj:scaler1.G2', 'dtype': 'string', 'shape': [], 'units': None, 'lower_ctrl_limit': None, 'upper_ctrl_limit': None, 'enum_strs': ['N', 'Y']}), ('scaler_channels_chan03_chname', {'source': 'PV:prj:scaler1.NM3', 'dtype': 'string', 'shape': [], 'units': None, 'lower_ctrl_limit': None, 'upper_ctrl_limit': None}), ('scaler_channels_chan03_preset', {'source': 'PV:prj:scaler1.PR3', 'dtype': 'number', 'shape': [], 'precision': 0, 'units': '', 'lower_ctrl_limit': 0.0, 'upper_ctrl_limit': 0.0}), ('scaler_channels_chan03_gate', {'source': 'PV:prj:scaler1.G3', 'dtype': 'string', 'shape': [], 'units': None, 'lower_ctrl_limit': None, 'upper_ctrl_limit': None, 'enum_strs': ['N', 'Y']}), ('scaler_channels_chan04_chname', {'source': 'PV:prj:scaler1.NM4', 'dtype': 'string', 'shape': [], 'units': None, 'lower_ctrl_limit': None, 'upper_ctrl_limit': None}), ('scaler_channels_chan04_preset', {'source': 'PV:prj:scaler1.PR4', 'dtype': 'number', 'shape': [], 'precision': 0, 'units': '', 'lower_ctrl_limit': 0.0, 'upper_ctrl_limit': 0.0}), ('scaler_channels_chan04_gate', {'source': 'PV:prj:scaler1.G4', 'dtype': 'string', 'shape': [], 'units': None, 'lower_ctrl_limit': None, 'upper_ctrl_limit': None, 'enum_strs': ['N', 'Y']}), ('scaler_channels_chan05_chname', {'source': 'PV:prj:scaler1.NM5', 'dtype': 'string', 'shape': [], 'units': None, 'lower_ctrl_limit': None, 'upper_ctrl_limit': None}), ('scaler_channels_chan05_preset', {'source': 'PV:prj:scaler1.PR5', 'dtype': 'number', 'shape': [], 'precision': 0, 'units': '', 'lower_ctrl_limit': 0.0, 'upper_ctrl_limit': 0.0}), ('scaler_channels_chan05_gate', {'source': 'PV:prj:scaler1.G5', 'dtype': 'string', 'shape': [], 'units': None, 'lower_ctrl_limit': None, 'upper_ctrl_limit': None, 'enum_strs': ['N', 'Y']}), ('scaler_channels_chan06_chname', {'source': 'PV:prj:scaler1.NM6', 'dtype': 'string', 'shape': [], 'units': None, 'lower_ctrl_limit': None, 'upper_ctrl_limit': None}), ('scaler_channels_chan06_preset', {'source': 'PV:prj:scaler1.PR6', 'dtype': 'number', 'shape': [], 'precision': 0, 'units': '', 'lower_ctrl_limit': 0.0, 'upper_ctrl_limit': 0.0}), ('scaler_channels_chan06_gate', {'source': 'PV:prj:scaler1.G6', 'dtype': 'string', 'shape': [], 'units': None, 'lower_ctrl_limit': None, 'upper_ctrl_limit': None, 'enum_strs': ['N', 'Y']}), ('scaler_channels_chan07_chname', {'source': 'PV:prj:scaler1.NM7', 'dtype': 'string', 'shape': [], 'units': None, 'lower_ctrl_limit': None, 'upper_ctrl_limit': None}), ('scaler_channels_chan07_preset', {'source': 'PV:prj:scaler1.PR7', 'dtype': 'number', 'shape': [], 'precision': 0, 'units': '', 'lower_ctrl_limit': 0.0, 'upper_ctrl_limit': 0.0}), ('scaler_channels_chan07_gate', {'source': 'PV:prj:scaler1.G7', 'dtype': 'string', 'shape': [], 'units': None, 'lower_ctrl_limit': None, 'upper_ctrl_limit': None, 'enum_strs': ['N', 'Y']}), ('scaler_channels_chan08_chname', {'source': 'PV:prj:scaler1.NM8', 'dtype': 'string', 'shape': [], 'units': None, 'lower_ctrl_limit': None, 'upper_ctrl_limit': None}), ('scaler_channels_chan08_preset', {'source': 'PV:prj:scaler1.PR8', 'dtype': 'number', 'shape': [], 'precision': 0, 'units': '', 'lower_ctrl_limit': 0.0, 'upper_ctrl_limit': 0.0}), ('scaler_channels_chan08_gate', {'source': 'PV:prj:scaler1.G8', 'dtype': 'string', 'shape': [], 'units': None, 'lower_ctrl_limit': None, 'upper_ctrl_limit': None, 'enum_strs': ['N', 'Y']}), ('scaler_channels_chan09_chname', {'source': 'PV:prj:scaler1.NM9', 'dtype': 'string', 'shape': [], 'units': None, 'lower_ctrl_limit': None, 'upper_ctrl_limit': None}), ('scaler_channels_chan09_preset', {'source': 'PV:prj:scaler1.PR9', 'dtype': 'number', 'shape': [], 'precision': 0, 'units': '', 'lower_ctrl_limit': 0.0, 'upper_ctrl_limit': 0.0}), ('scaler_channels_chan09_gate', {'source': 'PV:prj:scaler1.G9', 'dtype': 'string', 'shape': [], 'units': None, 'lower_ctrl_limit': None, 'upper_ctrl_limit': None, 'enum_strs': ['N', 'Y']}), ('scaler_channels_chan10_chname', {'source': 'PV:prj:scaler1.NM10', 'dtype': 'string', 'shape': [], 'units': None, 'lower_ctrl_limit': None, 'upper_ctrl_limit': None}), ('scaler_channels_chan10_preset', {'source': 'PV:prj:scaler1.PR10', 'dtype': 'number', 'shape': [], 'precision': 0, 'units': '', 'lower_ctrl_limit': 0.0, 'upper_ctrl_limit': 0.0}), ('scaler_channels_chan10_gate', {'source': 'PV:prj:scaler1.G10', 'dtype': 'string', 'shape': [], 'units': None, 'lower_ctrl_limit': None, 'upper_ctrl_limit': None, 'enum_strs': ['N', 'Y']}), ('scaler_channels_chan11_chname', {'source': 'PV:prj:scaler1.NM11', 'dtype': 'string', 'shape': [], 'units': None, 'lower_ctrl_limit': None, 'upper_ctrl_limit': None}), ('scaler_channels_chan11_preset', {'source': 'PV:prj:scaler1.PR11', 'dtype': 'number', 'shape': [], 'precision': 0, 'units': '', 'lower_ctrl_limit': 0.0, 'upper_ctrl_limit': 0.0}), ('scaler_channels_chan11_gate', {'source': 'PV:prj:scaler1.G11', 'dtype': 'string', 'shape': [], 'units': None, 'lower_ctrl_limit': None, 'upper_ctrl_limit': None, 'enum_strs': ['N', 'Y']}), ('scaler_channels_chan12_chname', {'source': 'PV:prj:scaler1.NM12', 'dtype': 'string', 'shape': [], 'units': None, 'lower_ctrl_limit': None, 'upper_ctrl_limit': None}), ('scaler_channels_chan12_preset', {'source': 'PV:prj:scaler1.PR12', 'dtype': 'number', 'shape': [], 'precision': 0, 'units': '', 'lower_ctrl_limit': 0.0, 'upper_ctrl_limit': 0.0}), ('scaler_channels_chan12_gate', {'source': 'PV:prj:scaler1.G12', 'dtype': 'string', 'shape': [], 'units': None, 'lower_ctrl_limit': None, 'upper_ctrl_limit': None, 'enum_strs': ['N', 'Y']}), ('scaler_channels_chan13_chname', {'source': 'PV:prj:scaler1.NM13', 'dtype': 'string', 'shape': [], 'units': None, 'lower_ctrl_limit': None, 'upper_ctrl_limit': None}), ('scaler_channels_chan13_preset', {'source': 'PV:prj:scaler1.PR13', 'dtype': 'number', 'shape': [], 'precision': 0, 'units': '', 'lower_ctrl_limit': 0.0, 'upper_ctrl_limit': 0.0}), ('scaler_channels_chan13_gate', {'source': 'PV:prj:scaler1.G13', 'dtype': 'string', 'shape': [], 'units': None, 'lower_ctrl_limit': None, 'upper_ctrl_limit': None, 'enum_strs': ['N', 'Y']}), ('scaler_channels_chan14_chname', {'source': 'PV:prj:scaler1.NM14', 'dtype': 'string', 'shape': [], 'units': None, 'lower_ctrl_limit': None, 'upper_ctrl_limit': None}), ('scaler_channels_chan14_preset', {'source': 'PV:prj:scaler1.PR14', 'dtype': 'number', 'shape': [], 'precision': 0, 'units': '', 'lower_ctrl_limit': 0.0, 'upper_ctrl_limit': 0.0}), ('scaler_channels_chan14_gate', {'source': 'PV:prj:scaler1.G14', 'dtype': 'string', 'shape': [], 'units': None, 'lower_ctrl_limit': None, 'upper_ctrl_limit': None, 'enum_strs': ['N', 'Y']}), ('scaler_channels_chan15_chname', {'source': 'PV:prj:scaler1.NM15', 'dtype': 'string', 'shape': [], 'units': None, 'lower_ctrl_limit': None, 'upper_ctrl_limit': None}), ('scaler_channels_chan15_preset', {'source': 'PV:prj:scaler1.PR15', 'dtype': 'number', 'shape': [], 'precision': 0, 'units': '', 'lower_ctrl_limit': 0.0, 'upper_ctrl_limit': 0.0}), ('scaler_channels_chan15_gate', {'source': 'PV:prj:scaler1.G15', 'dtype': 'string', 'shape': [], 'units': None, 'lower_ctrl_limit': None, 'upper_ctrl_limit': None, 'enum_strs': ['N', 'Y']}), ('scaler_channels_chan16_chname', {'source': 'PV:prj:scaler1.NM16', 'dtype': 'string', 'shape': [], 'units': None, 'lower_ctrl_limit': None, 'upper_ctrl_limit': None}), ('scaler_channels_chan16_preset', {'source': 'PV:prj:scaler1.PR16', 'dtype': 'number', 'shape': [], 'precision': 0, 'units': '', 'lower_ctrl_limit': 0.0, 'upper_ctrl_limit': 0.0}), ('scaler_channels_chan16_gate', {'source': 'PV:prj:scaler1.G16', 'dtype': 'string', 'shape': [], 'units': None, 'lower_ctrl_limit': None, 'upper_ctrl_limit': None, 'enum_strs': ['N', 'Y']}), ('scaler_channels_chan17_chname', {'source': 'PV:prj:scaler1.NM17', 'dtype': 'string', 'shape': [], 'units': None, 'lower_ctrl_limit': None, 'upper_ctrl_limit': None}), ('scaler_channels_chan17_preset', {'source': 'PV:prj:scaler1.PR17', 'dtype': 'number', 'shape': [], 'precision': 0, 'units': '', 'lower_ctrl_limit': 0.0, 'upper_ctrl_limit': 0.0}), ('scaler_channels_chan17_gate', {'source': 'PV:prj:scaler1.G17', 'dtype': 'string', 'shape': [], 'units': None, 'lower_ctrl_limit': None, 'upper_ctrl_limit': None, 'enum_strs': ['N', 'Y']}), ('scaler_channels_chan18_chname', {'source': 'PV:prj:scaler1.NM18', 'dtype': 'string', 'shape': [], 'units': None, 'lower_ctrl_limit': None, 'upper_ctrl_limit': None}), ('scaler_channels_chan18_preset', {'source': 'PV:prj:scaler1.PR18', 'dtype': 'number', 'shape': [], 'precision': 0, 'units': '', 'lower_ctrl_limit': 0.0, 'upper_ctrl_limit': 0.0}), ('scaler_channels_chan18_gate', {'source': 'PV:prj:scaler1.G18', 'dtype': 'string', 'shape': [], 'units': None, 'lower_ctrl_limit': None, 'upper_ctrl_limit': None, 'enum_strs': ['N', 'Y']}), ('scaler_channels_chan19_chname', {'source': 'PV:prj:scaler1.NM19', 'dtype': 'string', 'shape': [], 'units': None, 'lower_ctrl_limit': None, 'upper_ctrl_limit': None}), ('scaler_channels_chan19_preset', {'source': 'PV:prj:scaler1.PR19', 'dtype': 'number', 'shape': [], 'precision': 0, 'units': '', 'lower_ctrl_limit': 0.0, 'upper_ctrl_limit': 0.0}), ('scaler_channels_chan19_gate', {'source': 'PV:prj:scaler1.G19', 'dtype': 'string', 'shape': [], 'units': None, 'lower_ctrl_limit': None, 'upper_ctrl_limit': None, 'enum_strs': ['N', 'Y']}), ('scaler_channels_chan20_chname', {'source': 'PV:prj:scaler1.NM20', 'dtype': 'string', 'shape': [], 'units': None, 'lower_ctrl_limit': None, 'upper_ctrl_limit': None}), ('scaler_channels_chan20_preset', {'source': 'PV:prj:scaler1.PR20', 'dtype': 'number', 'shape': [], 'precision': 0, 'units': '', 'lower_ctrl_limit': 0.0, 'upper_ctrl_limit': 0.0}), ('scaler_channels_chan20_gate', {'source': 'PV:prj:scaler1.G20', 'dtype': 'string', 'shape': [], 'units': None, 'lower_ctrl_limit': None, 'upper_ctrl_limit': None, 'enum_strs': ['N', 'Y']}), ('scaler_channels_chan21_chname', {'source': 'PV:prj:scaler1.NM21', 'dtype': 'string', 'shape': [], 'units': None, 'lower_ctrl_limit': None, 'upper_ctrl_limit': None}), ('scaler_channels_chan21_preset', {'source': 'PV:prj:scaler1.PR21', 'dtype': 'number', 'shape': [], 'precision': 0, 'units': '', 'lower_ctrl_limit': 0.0, 'upper_ctrl_limit': 0.0}), ('scaler_channels_chan21_gate', {'source': 'PV:prj:scaler1.G21', 'dtype': 'string', 'shape': [], 'units': None, 'lower_ctrl_limit': None, 'upper_ctrl_limit': None, 'enum_strs': ['N', 'Y']}), ('scaler_channels_chan22_chname', {'source': 'PV:prj:scaler1.NM22', 'dtype': 'string', 'shape': [], 'units': None, 'lower_ctrl_limit': None, 'upper_ctrl_limit': None}), ('scaler_channels_chan22_preset', {'source': 'PV:prj:scaler1.PR22', 'dtype': 'number', 'shape': [], 'precision': 0, 'units': '', 'lower_ctrl_limit': 0.0, 'upper_ctrl_limit': 0.0}), ('scaler_channels_chan22_gate', {'source': 'PV:prj:scaler1.G22', 'dtype': 'string', 'shape': [], 'units': None, 'lower_ctrl_limit': None, 'upper_ctrl_limit': None, 'enum_strs': ['N', 'Y']}), ('scaler_channels_chan23_chname', {'source': 'PV:prj:scaler1.NM23', 'dtype': 'string', 'shape': [], 'units': None, 'lower_ctrl_limit': None, 'upper_ctrl_limit': None}), ('scaler_channels_chan23_preset', {'source': 'PV:prj:scaler1.PR23', 'dtype': 'number', 'shape': [], 'precision': 0, 'units': '', 'lower_ctrl_limit': 0.0, 'upper_ctrl_limit': 0.0}), ('scaler_channels_chan23_gate', {'source': 'PV:prj:scaler1.G23', 'dtype': 'string', 'shape': [], 'units': None, 'lower_ctrl_limit': None, 'upper_ctrl_limit': None, 'enum_strs': ['N', 'Y']}), ('scaler_channels_chan24_chname', {'source': 'PV:prj:scaler1.NM24', 'dtype': 'string', 'shape': [], 'units': None, 'lower_ctrl_limit': None, 'upper_ctrl_limit': None}), ('scaler_channels_chan24_preset', {'source': 'PV:prj:scaler1.PR24', 'dtype': 'number', 'shape': [], 'precision': 0, 'units': '', 'lower_ctrl_limit': 0.0, 'upper_ctrl_limit': 0.0}), ('scaler_channels_chan24_gate', {'source': 'PV:prj:scaler1.G24', 'dtype': 'string', 'shape': [], 'units': None, 'lower_ctrl_limit': None, 'upper_ctrl_limit': None, 'enum_strs': ['N', 'Y']}), ('scaler_channels_chan25_chname', {'source': 'PV:prj:scaler1.NM25', 'dtype': 'string', 'shape': [], 'units': None, 'lower_ctrl_limit': None, 'upper_ctrl_limit': None}), ('scaler_channels_chan25_preset', {'source': 'PV:prj:scaler1.PR25', 'dtype': 'number', 'shape': [], 'precision': 0, 'units': '', 'lower_ctrl_limit': 0.0, 'upper_ctrl_limit': 0.0}), ('scaler_channels_chan25_gate', {'source': 'PV:prj:scaler1.G25', 'dtype': 'string', 'shape': [], 'units': None, 'lower_ctrl_limit': None, 'upper_ctrl_limit': None, 'enum_strs': ['N', 'Y']}), ('scaler_channels_chan26_chname', {'source': 'PV:prj:scaler1.NM26', 'dtype': 'string', 'shape': [], 'units': None, 'lower_ctrl_limit': None, 'upper_ctrl_limit': None}), ('scaler_channels_chan26_preset', {'source': 'PV:prj:scaler1.PR26', 'dtype': 'number', 'shape': [], 'precision': 0, 'units': '', 'lower_ctrl_limit': 0.0, 'upper_ctrl_limit': 0.0}), ('scaler_channels_chan26_gate', {'source': 'PV:prj:scaler1.G26', 'dtype': 'string', 'shape': [], 'units': None, 'lower_ctrl_limit': None, 'upper_ctrl_limit': None, 'enum_strs': ['N', 'Y']}), ('scaler_channels_chan27_chname', {'source': 'PV:prj:scaler1.NM27', 'dtype': 'string', 'shape': [], 'units': None, 'lower_ctrl_limit': None, 'upper_ctrl_limit': None}), ('scaler_channels_chan27_preset', {'source': 'PV:prj:scaler1.PR27', 'dtype': 'number', 'shape': [], 'precision': 0, 'units': '', 'lower_ctrl_limit': 0.0, 'upper_ctrl_limit': 0.0}), ('scaler_channels_chan27_gate', {'source': 'PV:prj:scaler1.G27', 'dtype': 'string', 'shape': [], 'units': None, 'lower_ctrl_limit': None, 'upper_ctrl_limit': None, 'enum_strs': ['N', 'Y']}), ('scaler_channels_chan28_chname', {'source': 'PV:prj:scaler1.NM28', 'dtype': 'string', 'shape': [], 'units': None, 'lower_ctrl_limit': None, 'upper_ctrl_limit': None}), ('scaler_channels_chan28_preset', {'source': 'PV:prj:scaler1.PR28', 'dtype': 'number', 'shape': [], 'precision': 0, 'units': '', 'lower_ctrl_limit': 0.0, 'upper_ctrl_limit': 0.0}), ('scaler_channels_chan28_gate', {'source': 'PV:prj:scaler1.G28', 'dtype': 'string', 'shape': [], 'units': None, 'lower_ctrl_limit': None, 'upper_ctrl_limit': None, 'enum_strs': ['N', 'Y']}), ('scaler_channels_chan29_chname', {'source': 'PV:prj:scaler1.NM29', 'dtype': 'string', 'shape': [], 'units': None, 'lower_ctrl_limit': None, 'upper_ctrl_limit': None}), ('scaler_channels_chan29_preset', {'source': 'PV:prj:scaler1.PR29', 'dtype': 'number', 'shape': [], 'precision': 0, 'units': '', 'lower_ctrl_limit': 0.0, 'upper_ctrl_limit': 0.0}), ('scaler_channels_chan29_gate', {'source': 'PV:prj:scaler1.G29', 'dtype': 'string', 'shape': [], 'units': None, 'lower_ctrl_limit': None, 'upper_ctrl_limit': None, 'enum_strs': ['N', 'Y']}), ('scaler_channels_chan30_chname', {'source': 'PV:prj:scaler1.NM30', 'dtype': 'string', 'shape': [], 'units': None, 'lower_ctrl_limit': None, 'upper_ctrl_limit': None}), ('scaler_channels_chan30_preset', {'source': 'PV:prj:scaler1.PR30', 'dtype': 'number', 'shape': [], 'precision': 0, 'units': '', 'lower_ctrl_limit': 0.0, 'upper_ctrl_limit': 0.0}), ('scaler_channels_chan30_gate', {'source': 'PV:prj:scaler1.G30', 'dtype': 'string', 'shape': [], 'units': None, 'lower_ctrl_limit': None, 'upper_ctrl_limit': None, 'enum_strs': ['N', 'Y']}), ('scaler_channels_chan31_chname', {'source': 'PV:prj:scaler1.NM31', 'dtype': 'string', 'shape': [], 'units': None, 'lower_ctrl_limit': None, 'upper_ctrl_limit': None}), ('scaler_channels_chan31_preset', {'source': 'PV:prj:scaler1.PR31', 'dtype': 'number', 'shape': [], 'precision': 0, 'units': '', 'lower_ctrl_limit': 0.0, 'upper_ctrl_limit': 0.0}), ('scaler_channels_chan31_gate', {'source': 'PV:prj:scaler1.G31', 'dtype': 'string', 'shape': [], 'units': None, 'lower_ctrl_limit': None, 'upper_ctrl_limit': None, 'enum_strs': ['N', 'Y']}), ('scaler_channels_chan32_chname', {'source': 'PV:prj:scaler1.NM32', 'dtype': 'string', 'shape': [], 'units': None, 'lower_ctrl_limit': None, 'upper_ctrl_limit': None}), ('scaler_channels_chan32_preset', {'source': 'PV:prj:scaler1.PR32', 'dtype': 'number', 'shape': [], 'precision': 0, 'units': '', 'lower_ctrl_limit': 0.0, 'upper_ctrl_limit': 0.0}), ('scaler_channels_chan32_gate', {'source': 'PV:prj:scaler1.G32', 'dtype': 'string', 'shape': [], 'units': None, 'lower_ctrl_limit': None, 'upper_ctrl_limit': None, 'enum_strs': ['N', 'Y']}), ('scaler_count_mode', {'source': 'PV:prj:scaler1.CONT', 'dtype': 'string', 'shape': [], 'units': None, 'lower_ctrl_limit': None, 'upper_ctrl_limit': None, 'enum_strs': ['OneShot', 'AutoCount']}), ('scaler_delay', {'source': 'PV:prj:scaler1.DLY', 'dtype': 'number', 'shape': [], 'precision': 3, 'units': '', 'lower_ctrl_limit': 0.0, 'upper_ctrl_limit': 0.0}), ('scaler_auto_count_delay', {'source': 'PV:prj:scaler1.DLY1', 'dtype': 'number', 'shape': [], 'precision': 3, 'units': '', 'lower_ctrl_limit': 0.0, 'upper_ctrl_limit': 0.0}), ('scaler_freq', {'source': 'PV:prj:scaler1.FREQ', 'dtype': 'number', 'shape': [], 'precision': 3, 'units': '', 'lower_ctrl_limit': 0.0, 'upper_ctrl_limit': 0.0}), ('scaler_preset_time', {'source': 'PV:prj:scaler1.TP', 'dtype': 'number', 'shape': [], 'precision': 3, 'units': '', 'lower_ctrl_limit': 0.0, 'upper_ctrl_limit': 0.0}), ('scaler_auto_count_time', {'source': 'PV:prj:scaler1.TP1', 'dtype': 'number', 'shape': [], 'precision': 3, 'units': '', 'lower_ctrl_limit': 0.0, 'upper_ctrl_limit': 0.0}), ('scaler_egu', {'source': 'PV:prj:scaler1.EGU', 'dtype': 'string', 'shape': [], 'units': None, 'lower_ctrl_limit': None, 'upper_ctrl_limit': None})])}}\n",
      "\t name primary\n",
      "\t hints {'scaler': {'fields': ['I0', 'scint', 'roi1']}}\n",
      "\t object_keys {'scaler': ['I0', 'scint', 'roi1', 'scaler_time']}\n",
      "~~~~~~~~~~~~~~~~~\n",
      "event 7\n",
      "\t descriptor b4b0c480-5131-4e15-8840-330c5cf800bf\n",
      "\t time 1533135550.206693\n",
      "\t data {'I0': 7.0, 'scint': 6.0, 'roi1': 7.0, 'scaler_time': 1.5}\n",
      "\t timestamps {'I0': 1533135549.936048, 'scint': 1533135549.936048, 'roi1': 1533135549.936048, 'scaler_time': 1533135549.936048}\n",
      "\t seq_num 1\n",
      "\t uid 9c56b628-416e-453f-84bd-8e5b206e93ca\n",
      "\t filled {}\n",
      "~~~~~~~~~~~~~~~~~\n"
     ]
    },
    {
     "name": "stdout",
     "output_type": "stream",
     "text": [
      "event 7\n",
      "\t descriptor b4b0c480-5131-4e15-8840-330c5cf800bf\n",
      "\t time 1533135551.9284623\n",
      "\t data {'I0': 8.0, 'scint': 8.0, 'roi1': 7.0, 'scaler_time': 1.6}\n",
      "\t timestamps {'I0': 1533135551.925602, 'scint': 1533135551.925602, 'roi1': 1533135551.925602, 'scaler_time': 1533135551.925602}\n",
      "\t seq_num 2\n",
      "\t uid 8f77138d-0786-4259-a9c1-34d0840d017a\n",
      "\t filled {}\n",
      "~~~~~~~~~~~~~~~~~\n",
      "event 7\n",
      "\t descriptor b4b0c480-5131-4e15-8840-330c5cf800bf\n",
      "\t time 1533135553.4614947\n",
      "\t data {'I0': 4.0, 'scint': 7.0, 'roi1': 9.0, 'scaler_time': 1.6}\n",
      "\t timestamps {'I0': 1533135553.458647, 'scint': 1533135553.458647, 'roi1': 1533135553.458647, 'scaler_time': 1533135553.458647}\n",
      "\t seq_num 3\n",
      "\t uid 80cd9d0b-d9db-4001-9272-e0a696650570\n",
      "\t filled {}\n",
      "~~~~~~~~~~~~~~~~~\n",
      "stop 6\n",
      "\t run_start 368042b3-b93f-4e5c-88cb-012b8a268402\n",
      "\t time 1533135553.465585\n",
      "\t uid e1d36482-4ae6-4cc3-94f0-09a38af4b58a\n",
      "\t exit_status success\n",
      "\t reason \n",
      "\t num_events {'primary': 3}\n",
      "~~~~~~~~~~~~~~~~~\n"
     ]
    },
    {
     "data": {
      "text/plain": [
       "('368042b3-b93f-4e5c-88cb-012b8a268402',)"
      ]
     },
     "execution_count": 27,
     "metadata": {},
     "output_type": "execute_result"
    }
   ],
   "source": [
    "RE(bp.count([scaler], num=3), myCallback)"
   ]
  },
  {
   "cell_type": "markdown",
   "metadata": {},
   "source": [
    "Mostly the same but now there are three `event` documents."
   ]
  },
  {
   "cell_type": "markdown",
   "metadata": {},
   "source": [
    "# Summary\n",
    "\n",
    "We'll show this code as a python program:\n",
    "\n",
    "```\n",
    "#!/APSshare/anaconda3/BlueSky/bin/python\n",
    "\n",
    "\"lesson 1: EpicsScaler\"\n",
    "\n",
    "from ophyd.scaler import ScalerCH\n",
    "from bluesky import RunEngine\n",
    "import bluesky.plans as bp\n",
    "from APS_BlueSky_tools.devices import use_EPICS_scaler_channels\n",
    "\n",
    "\n",
    "def myCallback(key, doc):\n",
    "    print(key, len(doc))\n",
    "    for k, v in doc.items():\n",
    "        print(\"\\t\", k, v)\n",
    "    print(\"~~~~~~~~~~~~~~~~~\")\n",
    "\n",
    "\n",
    "RE = RunEngine({})\n",
    "\n",
    "scaler = ScalerCH(\"prj:scaler1\", name=\"scaler\")\n",
    "scaler.preset_time.put(1.5)\n",
    "print(scaler.preset_time.value)\n",
    "\n",
    "scaler.channels.chan04.chname.put(\"scint\")\n",
    "scaler.channels.chan07.chname.put(\"roi1\")\n",
    "\n",
    "scaler.match_names()\n",
    "use_EPICS_scaler_channels(scaler)\n",
    "print(scaler.read())\n",
    "print(RE(bp.count([scaler], num=3), myCallback))\n",
    "```\n"
   ]
  },
  {
   "cell_type": "markdown",
   "metadata": {},
   "source": [
    "## Quit the jupyter notebook\n",
    "\n",
    "* Save the \"lesson1\" page if you wish.\n",
    "* Press the **Logout** button in the upper right corner of \"lesson1\" and close the page.\n",
    "* Press the **Logout** button in the upper right corner of \"Home\" and close the page.\n",
    "* Type Control-C (^C) twice in the jupyter-notebook console to kill the server."
   ]
  }
 ],
 "metadata": {
  "kernelspec": {
   "display_name": "Python 3",
   "language": "python",
   "name": "python3"
  },
  "language_info": {
   "codemirror_mode": {
    "name": "ipython",
    "version": 3
   },
   "file_extension": ".py",
   "mimetype": "text/x-python",
   "name": "python",
   "nbconvert_exporter": "python",
   "pygments_lexer": "ipython3",
   "version": "3.6.6"
  }
 },
 "nbformat": 4,
 "nbformat_minor": 2
}
