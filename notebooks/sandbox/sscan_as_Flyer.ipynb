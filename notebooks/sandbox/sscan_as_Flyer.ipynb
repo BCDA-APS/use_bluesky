{
 "cells": [
  {
   "cell_type": "markdown",
   "metadata": {},
   "source": [
    "# sscan as Flyer\n",
    "\n",
    "## 1D step scans using sscan record\n",
    "\n",
    "Use the [sscan record](https://epics.anl.gov/bcda/synApps/sscan/sscanRecord.html) as an [ophyd Flyer](http://nsls-ii.github.io/bluesky/async.html) for [bluesky](http://nsls-ii.github.io/bluesky) data acquisition.  Consider the case of [1D step scans using sscan record](https://epics.anl.gov/bcda/synApps/sscan/sscanRecord.html#HEADING_1-1)."
   ]
  },
  {
   "cell_type": "code",
   "execution_count": 3,
   "metadata": {},
   "outputs": [],
   "source": [
    "import asyncio\n",
    "from collections import deque\n",
    "import numpy as np\n",
    "import time\n",
    "\n",
    "%matplotlib notebook\n",
    "from bluesky.utils import install_qt_kicker\n",
    "install_qt_kicker()\n",
    "\n",
    "# common IOC prefix to be used\n",
    "P = \"vm7:\""
   ]
  },
  {
   "cell_type": "code",
   "execution_count": null,
   "metadata": {},
   "outputs": [],
   "source": [
    "from ophyd.scaler import ScalerCH\n",
    "scaler = ScalerCH(f\"{P}scaler1\", name=\"scaler\")\n",
    "scaler.select_channels(None)"
   ]
  },
  {
   "cell_type": "code",
   "execution_count": 6,
   "metadata": {},
   "outputs": [],
   "source": [
    "from ophyd import EpicsMotor\n",
    "m1 = EpicsMotor(f\"{P}m1\", name=\"m1\")"
   ]
  },
  {
   "cell_type": "code",
   "execution_count": 4,
   "metadata": {},
   "outputs": [],
   "source": [
    "from apstools.synApps_ophyd import userCalcsDevice\n",
    "calcs = userCalcsDevice(P, name=\"calcs\")"
   ]
  },
  {
   "cell_type": "code",
   "execution_count": null,
   "metadata": {},
   "outputs": [],
   "source": [
    "from apstools.synApps_ophyd import sscanDevice\n",
    "scans = sscanDevice(P, name=\"scans\")\n",
    "scans.select_channels()"
   ]
  },
  {
   "cell_type": "code",
   "execution_count": null,
   "metadata": {},
   "outputs": [],
   "source": [
    "from apstools.synApps_ophyd import SaveData\n",
    "save_data = SaveData(f\"{P}saveData_\", name=\"save_data\")"
   ]
  },
  {
   "cell_type": "code",
   "execution_count": null,
   "metadata": {},
   "outputs": [],
   "source": [
    "# configure saveData for data collection into MDA files:\n",
    "        \n",
    "save_data.file_system.put(\"/tmp\")\n",
    "save_data.subdirectory.put(\"saveData\")\n",
    "save_data.base_name.put(\"sscan1_\")\n",
    "save_data.next_scan_number.put(1)\n",
    "save_data.comment1.put(\"testing\")\n",
    "save_data.comment2.put(\"configured and run from ophyd\")"
   ]
  },
  {
   "cell_type": "code",
   "execution_count": null,
   "metadata": {},
   "outputs": [],
   "source": [
    "# configure the sscan record for data collection:\n",
    "\n",
    "# clear out the weeds\n",
    "scans.reset()\n",
    "\n",
    "scan = scans.scan1\n",
    "scan.number_points.put(6)\n",
    "scan.positioners.p1.setpoint_pv.put(m1.user_setpoint.pvname)\n",
    "scan.positioners.p1.readback_pv.put(m1.user_readback.pvname)\n",
    "scan.positioners.p1.start.put(-1)\n",
    "scan.positioners.p1.end.put(0)\n",
    "scan.positioner_delay.put(0.0)\n",
    "scan.detector_delay.put(0.1)\n",
    "scan.detectors.d01.input_pv.put(scaler.channels.chan03.s.pvname)\n",
    "scan.detectors.d02.input_pv.put(scaler.channels.chan02.s.pvname)\n",
    "scan.triggers.t1.trigger_pv.put(scaler.count.pvname)\n",
    "\n",
    "# finally, reconfigure\n",
    "scans.select_channels()"
   ]
  },
  {
   "cell_type": "code",
   "execution_count": null,
   "metadata": {},
   "outputs": [],
   "source": [
    "# TODO: make a plan for bluesky\n",
    "\n",
    "# probably does not need to be a Flyer\n",
    "# still, try to make it fit\n",
    "\n",
    "from ophyd.flyers import FlyerInterface\n",
    "\n",
    "class SscanFlyer_1D_StepSimple(FlyerInterface):\n",
    "\n",
    "    def kickoff(self):\n",
    "        # http://nsls-ii.github.io/ophyd/generated/ophyd.flyers.FlyerInterface.kickoff.html\n",
    "        pass   # -> StatusBase\n",
    "\n",
    "    def complete(self):\n",
    "        # http://nsls-ii.github.io/ophyd/generated/ophyd.flyers.FlyerInterface.complete.html\n",
    "        pass   # -> StatusBase\n",
    "\n",
    "    def describe_collect(self):\n",
    "        # http://nsls-ii.github.io/ophyd/generated/ophyd.flyers.FlyerInterface.describe_collect.html\n",
    "        pass   # -> Dict[str, Dict]\n",
    "\n",
    "    def collect(self):\n",
    "        # http://nsls-ii.github.io/ophyd/generated/ophyd.flyers.FlyerInterface.collect.html\n",
    "        pass   # -> Generator[Dict, None, None]\n",
    "\n",
    "    def collect_tables(self):\n",
    "        pass   # -> Iterable[Any]"
   ]
  },
  {
   "cell_type": "markdown",
   "metadata": {},
   "source": [
    "## MockFlyer with motor and pseudo-detector\n",
    "\n",
    "ophyd's *MockFlyer* example : https://github.com/NSLS-II/ophyd/blob/master/ophyd/sim.py#L546"
   ]
  },
  {
   "cell_type": "code",
   "execution_count": null,
   "metadata": {},
   "outputs": [],
   "source": [
    "class MockFlyer:\n",
    "    \"\"\"\n",
    "    Class for mocking a flyscan API implemented with stepper motors.\n",
    "    \"\"\"\n",
    "\n",
    "    def __init__(self, name, detector, motor, start, stop, num, loop=None):\n",
    "        self.name = name\n",
    "        self.parent = None\n",
    "        self._mot = motor\n",
    "        self._detector = detector\n",
    "        self._steps = np.linspace(start, stop, num)\n",
    "        self._data = deque()\n",
    "        self._completion_status = None\n",
    "        if loop is None:\n",
    "            loop = asyncio.get_event_loop()\n",
    "        self.loop = loop\n",
    "\n",
    "    def __setstate__(self, val):\n",
    "        name, detector, motor, steps = val\n",
    "        self.name = name\n",
    "        self.parent = None\n",
    "        self._mot = motor\n",
    "        self._detector = detector\n",
    "        self._steps = steps\n",
    "        self._completion_status = None\n",
    "        self.loop = asyncio.get_event_loop()\n",
    "\n",
    "    def __getstate__(self):\n",
    "        return (self.name, self._detector, self._mot, self._steps)\n",
    "\n",
    "    def read_configuration(self):\n",
    "        return OrderedDict()\n",
    "\n",
    "    def describe_configuration(self):\n",
    "        return OrderedDict()\n",
    "\n",
    "    def describe_collect(self):\n",
    "        dd = dict()\n",
    "        dd.update(self._mot.describe())\n",
    "        dd.update(self._detector.describe())\n",
    "        return {'stream_name': dd}\n",
    "\n",
    "    def complete(self):\n",
    "        if self._completion_status is None:\n",
    "            raise RuntimeError(\"No collection in progress\")\n",
    "        return self._completion_status\n",
    "\n",
    "    def kickoff(self):\n",
    "        if self._completion_status is not None:\n",
    "            raise RuntimeError(\"Already kicked off.\")\n",
    "        self._data = deque()\n",
    "\n",
    "        self._future = self.loop.run_in_executor(None, self._scan)\n",
    "        st = DeviceStatus(device=self)\n",
    "        self._completion_status = st\n",
    "        self._future.add_done_callback(lambda x: st._finished())\n",
    "        return st\n",
    "\n",
    "    def collect(self):\n",
    "        if self._completion_status is None or not self._completion_status.done:\n",
    "            raise RuntimeError(\"No reading until done!\")\n",
    "        self._completion_status = None\n",
    "\n",
    "        yield from self._data\n",
    "\n",
    "    def _scan(self):\n",
    "        \"This will be run on a separate thread, started in self.kickoff()\"\n",
    "        ttime.sleep(.1)\n",
    "        for p in self._steps:\n",
    "            stat = self._mot.set(p)\n",
    "            while True:\n",
    "                if stat.done:\n",
    "                    break\n",
    "                ttime.sleep(0.01)\n",
    "            stat = self._detector.trigger()\n",
    "            while True:\n",
    "                if stat.done:\n",
    "                    break\n",
    "                ttime.sleep(0.01)\n",
    "\n",
    "            event = dict()\n",
    "            event['time'] = ttime.time()\n",
    "            event['data'] = dict()\n",
    "            event['timestamps'] = dict()\n",
    "            for r in [self._mot, self._detector]:\n",
    "                d = r.read()\n",
    "                for k, v in d.items():\n",
    "                    event['data'][k] = v['value']\n",
    "                    event['timestamps'][k] = v['timestamp']\n",
    "            self._data.append(event)\n",
    "\n",
    "    def stop(self, *, success=False):\n",
    "        pass\n"
   ]
  },
  {
   "cell_type": "code",
   "execution_count": 16,
   "metadata": {},
   "outputs": [],
   "source": [
    "# make a noisy detector in an EPICS swait record, peak ceneter at 2\n",
    "noisy_det = calcs.calc2.val\n",
    "\n",
    "# FIXME: crashes an EPICS 7 IOC\n",
    "# from apstools.synApps_ophyd import swait_setup_lorentzian\n",
    "# swait_setup_lorentzian(calcs.calc2, m1, 2)"
   ]
  },
  {
   "cell_type": "code",
   "execution_count": 19,
   "metadata": {},
   "outputs": [],
   "source": [
    "swait = calcs.calc2\n",
    "motor = m1\n",
    "center, width, scale, noise = 2, 1, 1, 0.05\n",
    "\n",
    "swait.reset()\n",
    "swait.desc.put(\"noisy Lorentzian curve\")\n",
    "swait.scan.put(\"Passive\")\n",
    "swait.channels.A.input_pv.put(motor.user_readback.pvname)\n",
    "swait.channels.B.value.put(center)\n",
    "swait.channels.C.value.put(width)\n",
    "swait.channels.D.value.put(scale)\n",
    "swait.channels.E.value.put(noise)\n",
    "\n",
    "swait.calc.put(\"D*(0.95+E*RNDM)/(1+((A-b)/c)^2)\")\n",
    "# FIXME: swait.scan.put(\"I/O Intr\")     # crashes an EPICS 7 IOC\n",
    "swait.hints = {\"fields\": ['val',]}\n",
    "swait.read_attrs = ['val',]"
   ]
  },
  {
   "cell_type": "code",
   "execution_count": null,
   "metadata": {},
   "outputs": [],
   "source": [
    "mflyer = MockFlyer('mflyer', noisy_det, m1, 1, 5, 20)"
   ]
  },
  {
   "cell_type": "code",
   "execution_count": null,
   "metadata": {
    "scrolled": true
   },
   "outputs": [],
   "source": [
    "# step-scan the motor and read the noisy detector\n",
    "if False:     # disable for now (it works)\n",
    "    t0 = time.time()\n",
    "    for p in range(10):\n",
    "        m1.move(p-3)\n",
    "        print(\n",
    "            \"%8.3f\" % (time.time()-t0), \n",
    "            \"%8.2f\" % m1.position, \n",
    "            \"%8.4f\" % noisy_det.get()\n",
    "             )\n",
    "    m1.move(0)\n",
    "    print(\"Complete in %.3f seconds\" % (time.time()-t0))"
   ]
  },
  {
   "cell_type": "code",
   "execution_count": null,
   "metadata": {},
   "outputs": [],
   "source": [
    "from databroker import Broker\n",
    "db = Broker.named(\"mongodb_config\")"
   ]
  },
  {
   "cell_type": "code",
   "execution_count": null,
   "metadata": {},
   "outputs": [],
   "source": [
    "from bluesky import RunEngine\n",
    "import bluesky.plans as bp\n",
    "from bluesky.callbacks.best_effort import BestEffortCallback\n",
    "from bluesky import SupplementalData\n",
    "\n",
    "RE = RunEngine({})\n",
    "RE.subscribe(db.insert)\n",
    "RE.subscribe(BestEffortCallback())\n",
    "RE.preprocessors.append(SupplementalData())"
   ]
  },
  {
   "cell_type": "code",
   "execution_count": null,
   "metadata": {},
   "outputs": [],
   "source": [
    "RE = RunEngine({})\n",
    "RE(bp.scan([noisy_det], m1, -5, 5, 11))"
   ]
  },
  {
   "cell_type": "code",
   "execution_count": null,
   "metadata": {},
   "outputs": [],
   "source": [
    "h = db[-1]\n",
    "h.table()"
   ]
  }
 ],
 "metadata": {
  "kernelspec": {
   "display_name": "Python 3",
   "language": "python",
   "name": "python3"
  },
  "language_info": {
   "codemirror_mode": {
    "name": "ipython",
    "version": 3
   },
   "file_extension": ".py",
   "mimetype": "text/x-python",
   "name": "python",
   "nbconvert_exporter": "python",
   "pygments_lexer": "ipython3",
   "version": "3.6.6"
  }
 },
 "nbformat": 4,
 "nbformat_minor": 2
}
