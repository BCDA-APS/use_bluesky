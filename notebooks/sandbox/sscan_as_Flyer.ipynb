{
 "cells": [
  {
   "cell_type": "markdown",
   "metadata": {},
   "source": [
    "# sscan as Flyer\n",
    "\n",
    "## 1D step scans using sscan record\n",
    "\n",
    "Use the [sscan record](https://epics.anl.gov/bcda/synApps/sscan/sscanRecord.html) as an [ophyd Flyer](http://nsls-ii.github.io/bluesky/async.html) for [bluesky](http://nsls-ii.github.io/bluesky) data acquisition.  Consider the case of [1D step scans using sscan record](https://epics.anl.gov/bcda/synApps/sscan/sscanRecord.html#HEADING_1-1)."
   ]
  },
  {
   "cell_type": "code",
   "execution_count": 1,
   "metadata": {},
   "outputs": [],
   "source": [
    "import asyncio\n",
    "from collections import deque, OrderedDict\n",
    "import numpy as np\n",
    "import time\n",
    "\n",
    "%matplotlib notebook\n",
    "from bluesky.utils import install_qt_kicker\n",
    "install_qt_kicker()\n",
    "\n",
    "# common IOC prefix to be used\n",
    "P = \"xxx:\""
   ]
  },
  {
   "cell_type": "code",
   "execution_count": 2,
   "metadata": {},
   "outputs": [],
   "source": [
    "from ophyd.scaler import ScalerCH\n",
    "scaler = ScalerCH(f\"{P}scaler1\", name=\"scaler\")\n",
    "scaler.select_channels(None)"
   ]
  },
  {
   "cell_type": "code",
   "execution_count": 3,
   "metadata": {},
   "outputs": [],
   "source": [
    "from ophyd import EpicsMotor\n",
    "m1 = EpicsMotor(f\"{P}m1\", name=\"m1\")"
   ]
  },
  {
   "cell_type": "code",
   "execution_count": 4,
   "metadata": {},
   "outputs": [],
   "source": [
    "from apstools.synApps_ophyd import userCalcsDevice\n",
    "calcs = userCalcsDevice(P, name=\"calcs\")"
   ]
  },
  {
   "cell_type": "code",
   "execution_count": 5,
   "metadata": {},
   "outputs": [],
   "source": [
    "from apstools.synApps_ophyd import sscanDevice\n",
    "scans = sscanDevice(P, name=\"scans\")\n",
    "scans.select_channels()"
   ]
  },
  {
   "cell_type": "code",
   "execution_count": 6,
   "metadata": {},
   "outputs": [],
   "source": [
    "from apstools.synApps_ophyd import SaveData\n",
    "save_data = SaveData(f\"{P}saveData_\", name=\"save_data\")"
   ]
  },
  {
   "cell_type": "code",
   "execution_count": 7,
   "metadata": {},
   "outputs": [],
   "source": [
    "# configure saveData for data collection into MDA files:\n",
    "        \n",
    "save_data.file_system.put(\"/tmp\")\n",
    "save_data.subdirectory.put(\"saveData\")\n",
    "save_data.base_name.put(\"sscan1_\")\n",
    "save_data.next_scan_number.put(1)\n",
    "save_data.comment1.put(\"testing\")\n",
    "save_data.comment2.put(\"configured and run from ophyd\")"
   ]
  },
  {
   "cell_type": "code",
   "execution_count": 8,
   "metadata": {},
   "outputs": [],
   "source": [
    "# configure the sscan record for data collection:\n",
    "\n",
    "# clear out the weeds\n",
    "scans.reset()\n",
    "\n",
    "scan = scans.scan1\n",
    "scan.number_points.put(6)\n",
    "scan.positioners.p1.setpoint_pv.put(m1.user_setpoint.pvname)\n",
    "scan.positioners.p1.readback_pv.put(m1.user_readback.pvname)\n",
    "scan.positioners.p1.start.put(-1)\n",
    "scan.positioners.p1.end.put(0)\n",
    "scan.positioner_delay.put(0.0)\n",
    "scan.detector_delay.put(0.1)\n",
    "scan.detectors.d01.input_pv.put(scaler.channels.chan03.s.pvname)\n",
    "scan.detectors.d02.input_pv.put(scaler.channels.chan02.s.pvname)\n",
    "scan.triggers.t1.trigger_pv.put(scaler.count.pvname)\n",
    "\n",
    "# finally, reconfigure\n",
    "scans.select_channels()"
   ]
  },
  {
   "cell_type": "code",
   "execution_count": 9,
   "metadata": {},
   "outputs": [],
   "source": [
    "# make a noisy detector in an EPICS swait record, peak ceneter at 2\n",
    "from apstools.synApps_ophyd import swait_setup_lorentzian\n",
    "swait_setup_lorentzian(calcs.calc2, m1, 2)\n",
    "noisy_det = calcs.calc2.val\n",
    "noisy_det.kind = \"hinted\""
   ]
  },
  {
   "cell_type": "code",
   "execution_count": 10,
   "metadata": {
    "scrolled": true
   },
   "outputs": [],
   "source": [
    "def ophyd_step_scan(motor):\n",
    "    \"\"\"step-scan the motor and read the noisy detector\"\"\"\n",
    "    t0 = time.time()\n",
    "    for p in range(10):\n",
    "        motor.move(p-3)\n",
    "        print(\n",
    "            \"%8.3f\" % (time.time()-t0), \n",
    "            \"%8.2f\" % motor.position, \n",
    "            \"%8.4f\" % noisy_det.get()\n",
    "             )\n",
    "    motor.move(0)\n",
    "    print(\"Complete in %.3f seconds\" % (time.time()-t0))\n",
    "\n",
    "# ophyd_step_scan(m1)"
   ]
  },
  {
   "cell_type": "markdown",
   "metadata": {},
   "source": [
    "--------\n",
    "## setup Bluesky, databroker, and the RunEngine"
   ]
  },
  {
   "cell_type": "code",
   "execution_count": 11,
   "metadata": {},
   "outputs": [],
   "source": [
    "from databroker import Broker\n",
    "db = Broker.named(\"mongodb_config\")"
   ]
  },
  {
   "cell_type": "code",
   "execution_count": 12,
   "metadata": {},
   "outputs": [],
   "source": [
    "from bluesky import RunEngine\n",
    "import bluesky.plans as bp\n",
    "from bluesky.callbacks.best_effort import BestEffortCallback\n",
    "from bluesky import SupplementalData\n",
    "\n",
    "RE = RunEngine({})\n",
    "RE.subscribe(db.insert)\n",
    "RE.subscribe(BestEffortCallback())\n",
    "RE.preprocessors.append(SupplementalData())"
   ]
  },
  {
   "cell_type": "markdown",
   "metadata": {},
   "source": [
    "simple step scan using bluesky plan"
   ]
  },
  {
   "cell_type": "code",
   "execution_count": 13,
   "metadata": {
    "scrolled": true
   },
   "outputs": [],
   "source": [
    "# RE(bp.scan([noisy_det], m1, -5, 5, 11))"
   ]
  },
  {
   "cell_type": "markdown",
   "metadata": {},
   "source": [
    "-------------------------\n",
    "\n",
    "# Start to build our own Flyer"
   ]
  },
  {
   "cell_type": "code",
   "execution_count": 14,
   "metadata": {},
   "outputs": [],
   "source": [
    "import ophyd\n",
    "import bluesky\n",
    "import threading\n",
    "import logging\n",
    "\n",
    "logger = logging.getLogger()\n",
    "\n",
    "class MyFlyer(ophyd.Device):\n",
    "    \"\"\"\n",
    "    starting template for a Flyer that we understand\n",
    "    \"\"\"\n",
    "\n",
    "    def __init__(self, sscan, motor, detectors, triggers, first, last, npts, **kwargs):\n",
    "        super().__init__('', parent=None, **kwargs)\n",
    "\n",
    "        self.sscan = sscan\n",
    "        self.motor = motor\n",
    "        self.detectors = detectors\n",
    "        self.triggers = triggers\n",
    "        self.first = first\n",
    "        self.last = last\n",
    "        self.num_points = npts\n",
    "        self.positioner_delay = 0.0\n",
    "        self.detector_delay = 0.1\n",
    "        self.row_data_objects = None\n",
    "\n",
    "        self.complete_status = None\n",
    "        self.t0 = 0\n",
    "\n",
    "    def my_activity(self):\n",
    "        \"\"\"\n",
    "        start the \"fly scan\" here, could wait for completion\n",
    "        \n",
    "        It's OK to use blocking calls here \n",
    "        since this is called in a separate thread\n",
    "        from the BlueSky RunEngine.\n",
    "        \"\"\"\n",
    "        logger.info(\"activity()\")\n",
    "        if self.complete_status is None:\n",
    "            logger.info(\"leaving activity() - not complete\")\n",
    "            return\n",
    "        \n",
    "        # do the activity here\n",
    "        scan = self.sscan\n",
    "        scan.reset()\n",
    "\n",
    "        scan.positioner_delay.put(self.positioner_delay)\n",
    "        scan.positioners.p1.setpoint_pv.put(self.motor.user_setpoint.pvname)\n",
    "        scan.positioners.p1.readback_pv.put(self.motor.user_readback.pvname)\n",
    "        scan.positioners.p1.start.put(self.first)\n",
    "        scan.positioners.p1.end.put(self.last)\n",
    "        scan.number_points.put(self.num_points)\n",
    "\n",
    "        scan.detector_delay.put(self.detector_delay)\n",
    "        for i, d in enumerate(self.detectors):\n",
    "            getattr(scan.detectors, \"d%02d\" % (i+1)).input_pv.put(d.pvname)\n",
    "\n",
    "        for i, t in enumerate(self.triggers):\n",
    "            getattr(scan.triggers, \"t%d\" % (i+1)).trigger_pv.put(t.pvname)\n",
    "        \n",
    "        # reconfigure the ophyd object for only the channels in use\n",
    "        scan.select_channels()\n",
    "        \n",
    "        # finally, start the sscan record\n",
    "        # monitor instead of wait for complete here\n",
    "        # call collect when sscan indicates new data is ready\n",
    "        scan.execute_scan.put(1)\n",
    "\n",
    "        row_contents = []\n",
    "        for part in (scan.positioners, scan.detectors):\n",
    "            for chname in part.read_attrs:\n",
    "                if not chname.endswith(\"_value\"):\n",
    "                    continue\n",
    "                row_contents.append(getattr(part, chname))\n",
    "        self.row_data_objects = row_contents\n",
    "        \n",
    "        last_point = scan.current_point.get()\n",
    "        \n",
    "        # once started, we notify by updating the status object\n",
    "        self.kickoff_status._finished(success=True)\n",
    "\n",
    "        # TODO: wait for completion\n",
    "        while True:\n",
    "            current_point = scan.current_point.get()\n",
    "            if last_point != current_point and current_point > 0:\n",
    "                pass    # this is the time to call collect()\n",
    "            last_point = current_point\n",
    "            if scan.scan_phase.get() in (0, \"IDLE\"):\n",
    "                break\n",
    "            time.sleep(0.001) \n",
    "    \n",
    "        # after the wait, we declare victory\n",
    "        self.complete_status._finished(success=True)\n",
    "        logger.info(f\"activity() complete. status = {self.complete_status}\")\n",
    "\n",
    "    def kickoff(self):\n",
    "        \"\"\"\n",
    "        Start this Flyer\n",
    "        \"\"\"\n",
    "        logger.info(\"kickoff()\")\n",
    "        self.kickoff_status = ophyd.DeviceStatus(self)\n",
    "        self.complete_status = ophyd.DeviceStatus(self)\n",
    "        \n",
    "        thread = threading.Thread(target=self.my_activity, daemon=True)\n",
    "\n",
    "        self.t0 = time.time()\n",
    "        thread.start()\n",
    "        return self.kickoff_status\n",
    "\n",
    "    def complete(self):\n",
    "        \"\"\"\n",
    "        Wait for flying to be complete\n",
    "        \"\"\"\n",
    "        logger.info(\"complete()\")\n",
    "        if self.complete_status is None:\n",
    "            raise RuntimeError(\"No collection in progress\")\n",
    "\n",
    "        return self.complete_status\n",
    "\n",
    "    def describe_collect(self):\n",
    "        \"\"\"\n",
    "        Describe details for ``collect()`` method\n",
    "        \"\"\"\n",
    "        logger.info(\"describe_collect()\")\n",
    "\n",
    "        stream = OrderedDict()\n",
    "        for item in self.row_data_objects:\n",
    "            key = item.name.lstrip(scan.name+\"_\")\n",
    "            stream[key] = dict(\n",
    "                source = item.name,\n",
    "                dtype = \"number\",\n",
    "                shape = (1,)\n",
    "            )\n",
    "        return {\"primary\" : stream}\n",
    "\n",
    "    def collect(self):\n",
    "        \"\"\"\n",
    "        Start this Flyer\n",
    "        \"\"\"\n",
    "        logger.info(\"collect()\")\n",
    "        self.complete_status = None\n",
    "        t = time.time()\n",
    "\n",
    "        dstream = OrderedDict()\n",
    "        tstream = OrderedDict()\n",
    "        for item in self.row_data_objects:\n",
    "            key = item.name.lstrip(scan.name+\"_\")\n",
    "            dstream[key] = item.get()\n",
    "            tstream[key] = t\n",
    "\n",
    "        yield dict(\n",
    "            time=t,\n",
    "            data=dstream,\n",
    "            timestamps=tstream\n",
    "        )"
   ]
  },
  {
   "cell_type": "code",
   "execution_count": 14,
   "metadata": {},
   "outputs": [],
   "source": [
    "ifly = MyFlyer(\n",
    "    scans.scan1, \n",
    "    m1, \n",
    "    [scaler.channels.chan03.s, scaler.channels.chan02.s, calcs.calc1.val], \n",
    "    [scaler.count, calcs.calc1.process], \n",
    "    -3, \n",
    "    6, \n",
    "    11, \n",
    "    name=\"ifly\")"
   ]
  },
  {
   "cell_type": "code",
   "execution_count": 15,
   "metadata": {},
   "outputs": [
    {
     "data": {
      "text/plain": [
       "DeviceStatus(device=ifly, done=False, success=False)"
      ]
     },
     "execution_count": 15,
     "metadata": {},
     "output_type": "execute_result"
    }
   ],
   "source": [
    "ifly.kickoff()"
   ]
  },
  {
   "cell_type": "code",
   "execution_count": 16,
   "metadata": {},
   "outputs": [
    {
     "data": {
      "text/plain": [
       "DeviceStatus(device=ifly, done=False, success=False)"
      ]
     },
     "execution_count": 16,
     "metadata": {},
     "output_type": "execute_result"
    }
   ],
   "source": [
    "ifly.complete()"
   ]
  },
  {
   "cell_type": "code",
   "execution_count": 17,
   "metadata": {},
   "outputs": [
    {
     "data": {
      "text/plain": [
       "{'primary': OrderedDict([('positioners_p1_readback_value',\n",
       "               {'source': 'scans_scan1_positioners_p1_readback_value',\n",
       "                'dtype': 'number',\n",
       "                'shape': (1,)}),\n",
       "              ('positioners_p1_setpoint_value',\n",
       "               {'source': 'scans_scan1_positioners_p1_setpoint_value',\n",
       "                'dtype': 'number',\n",
       "                'shape': (1,)}),\n",
       "              ('detectors_d01_current_value',\n",
       "               {'source': 'scans_scan1_detectors_d01_current_value',\n",
       "                'dtype': 'number',\n",
       "                'shape': (1,)}),\n",
       "              ('detectors_d02_current_value',\n",
       "               {'source': 'scans_scan1_detectors_d02_current_value',\n",
       "                'dtype': 'number',\n",
       "                'shape': (1,)}),\n",
       "              ('detectors_d03_current_value',\n",
       "               {'source': 'scans_scan1_detectors_d03_current_value',\n",
       "                'dtype': 'number',\n",
       "                'shape': (1,)})])}"
      ]
     },
     "execution_count": 17,
     "metadata": {},
     "output_type": "execute_result"
    }
   ],
   "source": [
    "ifly.describe_collect()"
   ]
  },
  {
   "cell_type": "code",
   "execution_count": 21,
   "metadata": {},
   "outputs": [
    {
     "data": {
      "text/plain": [
       "<generator object MyFlyer.collect at 0x00000201504B5DE0>"
      ]
     },
     "execution_count": 21,
     "metadata": {},
     "output_type": "execute_result"
    }
   ],
   "source": [
    "ifly.collect()"
   ]
  },
  {
   "cell_type": "code",
   "execution_count": 22,
   "metadata": {},
   "outputs": [
    {
     "name": "stdout",
     "output_type": "stream",
     "text": [
      "[{'time': 1552274846.914526, 'data': OrderedDict([('positioners_p1_readback_value', 6.0), ('positioners_p1_setpoint_value', 6.000000000000001), ('detectors_d01_current_value', 2.0), ('detectors_d02_current_value', 3.0), ('detectors_d03_current_value', 0.0)]), 'timestamps': OrderedDict([('positioners_p1_readback_value', 1552274846.914526), ('positioners_p1_setpoint_value', 1552274846.914526), ('detectors_d01_current_value', 1552274846.914526), ('detectors_d02_current_value', 1552274846.914526), ('detectors_d03_current_value', 1552274846.914526)])}]\n"
     ]
    }
   ],
   "source": [
    "g = _\n",
    "print(list(g))"
   ]
  },
  {
   "cell_type": "code",
   "execution_count": 23,
   "metadata": {},
   "outputs": [
    {
     "name": "stdout",
     "output_type": "stream",
     "text": [
      "Transient Scan ID: 3     Time: 2019-03-10 22:27:57\n",
      "Persistent Unique Scan ID: '5f2bc621-4972-427b-bd73-2ae877ae1f2b'\n",
      "New stream: 'primary'\n",
      "+-----------+------------+\n",
      "|   seq_num |       time |\n",
      "+-----------+------------+\n",
      "+-----------+------------+\n",
      "generator fly ['5f2bc621'] (scan num: 3)\n",
      "\n",
      "\n",
      "\n"
     ]
    },
    {
     "data": {
      "text/plain": [
       "('5f2bc621-4972-427b-bd73-2ae877ae1f2b',)"
      ]
     },
     "execution_count": 23,
     "metadata": {},
     "output_type": "execute_result"
    }
   ],
   "source": [
    "RE(bp.fly([ifly]))"
   ]
  },
  {
   "cell_type": "code",
   "execution_count": 24,
   "metadata": {},
   "outputs": [
    {
     "name": "stdout",
     "output_type": "stream",
     "text": [
      "['primary']\n"
     ]
    }
   ],
   "source": [
    "h = db[-1]\n",
    "print(h.stream_names)"
   ]
  },
  {
   "cell_type": "code",
   "execution_count": 25,
   "metadata": {},
   "outputs": [
    {
     "data": {
      "text/html": [
       "<div>\n",
       "<style scoped>\n",
       "    .dataframe tbody tr th:only-of-type {\n",
       "        vertical-align: middle;\n",
       "    }\n",
       "\n",
       "    .dataframe tbody tr th {\n",
       "        vertical-align: top;\n",
       "    }\n",
       "\n",
       "    .dataframe thead th {\n",
       "        text-align: right;\n",
       "    }\n",
       "</style>\n",
       "<table border=\"1\" class=\"dataframe\">\n",
       "  <thead>\n",
       "    <tr style=\"text-align: right;\">\n",
       "      <th></th>\n",
       "      <th>time</th>\n",
       "      <th>positioners_p1_readback_value</th>\n",
       "      <th>positioners_p1_setpoint_value</th>\n",
       "      <th>detectors_d01_current_value</th>\n",
       "      <th>detectors_d02_current_value</th>\n",
       "      <th>detectors_d03_current_value</th>\n",
       "    </tr>\n",
       "    <tr>\n",
       "      <th>seq_num</th>\n",
       "      <th></th>\n",
       "      <th></th>\n",
       "      <th></th>\n",
       "      <th></th>\n",
       "      <th></th>\n",
       "      <th></th>\n",
       "    </tr>\n",
       "  </thead>\n",
       "  <tbody>\n",
       "    <tr>\n",
       "      <th>1</th>\n",
       "      <td>2019-03-10 22:28:26.062897444</td>\n",
       "      <td>6.0</td>\n",
       "      <td>6.0</td>\n",
       "      <td>2.0</td>\n",
       "      <td>2.0</td>\n",
       "      <td>0.0</td>\n",
       "    </tr>\n",
       "  </tbody>\n",
       "</table>\n",
       "</div>"
      ],
      "text/plain": [
       "                                 time  positioners_p1_readback_value  \\\n",
       "seq_num                                                                \n",
       "1       2019-03-10 22:28:26.062897444                            6.0   \n",
       "\n",
       "         positioners_p1_setpoint_value  detectors_d01_current_value  \\\n",
       "seq_num                                                               \n",
       "1                                  6.0                          2.0   \n",
       "\n",
       "         detectors_d02_current_value  detectors_d03_current_value  \n",
       "seq_num                                                            \n",
       "1                                2.0                          0.0  "
      ]
     },
     "execution_count": 25,
     "metadata": {},
     "output_type": "execute_result"
    }
   ],
   "source": [
    "h.table(\"primary\")"
   ]
  },
  {
   "cell_type": "code",
   "execution_count": 26,
   "metadata": {},
   "outputs": [
    {
     "data": {
      "text/plain": [
       "[('start',\n",
       "  {'time': 1552274877.8031926,\n",
       "   'uid': '5f2bc621-4972-427b-bd73-2ae877ae1f2b',\n",
       "   'scan_id': 3,\n",
       "   'plan_type': 'generator',\n",
       "   'plan_name': 'fly'}),\n",
       " ('descriptor',\n",
       "  {'run_start': '5f2bc621-4972-427b-bd73-2ae877ae1f2b',\n",
       "   'data_keys': {'positioners_p1_readback_value': {'source': 'scans_scan1_positioners_p1_readback_value',\n",
       "     'dtype': 'number',\n",
       "     'shape': [1]},\n",
       "    'positioners_p1_setpoint_value': {'source': 'scans_scan1_positioners_p1_setpoint_value',\n",
       "     'dtype': 'number',\n",
       "     'shape': [1]},\n",
       "    'detectors_d01_current_value': {'source': 'scans_scan1_detectors_d01_current_value',\n",
       "     'dtype': 'number',\n",
       "     'shape': [1]},\n",
       "    'detectors_d02_current_value': {'source': 'scans_scan1_detectors_d02_current_value',\n",
       "     'dtype': 'number',\n",
       "     'shape': [1]},\n",
       "    'detectors_d03_current_value': {'source': 'scans_scan1_detectors_d03_current_value',\n",
       "     'dtype': 'number',\n",
       "     'shape': [1]}},\n",
       "   'time': 1552274906.0359716,\n",
       "   'uid': '875588c5-2828-4423-ac45-27593b2a3b82',\n",
       "   'name': 'primary',\n",
       "   'hints': {'ifly': {'fields': []}},\n",
       "   'object_keys': {'ifly': ['positioners_p1_readback_value',\n",
       "     'positioners_p1_setpoint_value',\n",
       "     'detectors_d01_current_value',\n",
       "     'detectors_d02_current_value',\n",
       "     'detectors_d03_current_value']}}),\n",
       " ('event',\n",
       "  {'descriptor': '875588c5-2828-4423-ac45-27593b2a3b82',\n",
       "   'uid': '34a0352b-f7d0-46b1-a8f8-9ee913acb60c',\n",
       "   'data': {'positioners_p1_readback_value': 6.0,\n",
       "    'positioners_p1_setpoint_value': 6.000000000000001,\n",
       "    'detectors_d01_current_value': 2.0,\n",
       "    'detectors_d02_current_value': 2.0,\n",
       "    'detectors_d03_current_value': 0.0},\n",
       "   'timestamps': {'positioners_p1_readback_value': 1552274906.0628974,\n",
       "    'positioners_p1_setpoint_value': 1552274906.0628974,\n",
       "    'detectors_d01_current_value': 1552274906.0628974,\n",
       "    'detectors_d02_current_value': 1552274906.0628974,\n",
       "    'detectors_d03_current_value': 1552274906.0628974},\n",
       "   'time': 1552274906.0628974,\n",
       "   'seq_num': 1,\n",
       "   'filled': {}}),\n",
       " ('stop',\n",
       "  {'run_start': '5f2bc621-4972-427b-bd73-2ae877ae1f2b',\n",
       "   'time': 1552274906.098206,\n",
       "   'uid': '0bf17a5f-fcf9-4db3-935d-a3e5fed693cc',\n",
       "   'exit_status': 'success',\n",
       "   'num_events': {'primary': 1}})]"
      ]
     },
     "execution_count": 26,
     "metadata": {},
     "output_type": "execute_result"
    }
   ],
   "source": [
    "list(h.documents())"
   ]
  }
 ],
 "metadata": {
  "kernelspec": {
   "display_name": "Python 3",
   "language": "python",
   "name": "python3"
  },
  "language_info": {
   "codemirror_mode": {
    "name": "ipython",
    "version": 3
   },
   "file_extension": ".py",
   "mimetype": "text/x-python",
   "name": "python",
   "nbconvert_exporter": "python",
   "pygments_lexer": "ipython3",
   "version": "3.7.2"
  }
 },
 "nbformat": 4,
 "nbformat_minor": 2
}
