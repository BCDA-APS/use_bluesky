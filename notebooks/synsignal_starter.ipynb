{
 "cells": [
  {
   "cell_type": "code",
   "execution_count": 1,
   "metadata": {},
   "outputs": [],
   "source": [
    "from ophyd.sim import SynSignal"
   ]
  },
  {
   "cell_type": "code",
   "execution_count": 2,
   "metadata": {},
   "outputs": [],
   "source": [
    "sig1 = SynSignal(name=\"sig1\")"
   ]
  },
  {
   "cell_type": "code",
   "execution_count": 3,
   "metadata": {},
   "outputs": [],
   "source": [
    "sig1.value"
   ]
  },
  {
   "cell_type": "code",
   "execution_count": 4,
   "metadata": {},
   "outputs": [],
   "source": [
    "sig1.put(12000)"
   ]
  },
  {
   "cell_type": "code",
   "execution_count": 5,
   "metadata": {},
   "outputs": [
    {
     "data": {
      "text/plain": [
       "{'sig1': {'value': 12000, 'timestamp': 1541095849.7885957}}"
      ]
     },
     "execution_count": 5,
     "metadata": {},
     "output_type": "execute_result"
    }
   ],
   "source": [
    "sig1.read()"
   ]
  },
  {
   "cell_type": "code",
   "execution_count": 6,
   "metadata": {},
   "outputs": [],
   "source": [
    "import numpy as np"
   ]
  },
  {
   "cell_type": "code",
   "execution_count": 7,
   "metadata": {},
   "outputs": [],
   "source": [
    "import bluesky.plan_stubs as bps\n",
    "import time\n",
    "\n",
    "class MySynSignal(SynSignal):\n",
    "    \n",
    "    def my_random(self):\n",
    "        # print(\"*\"*20, self.exposure_time)\n",
    "        # yield from bps.sleep(self.exposure_time)\n",
    "        # time.sleep(self.exposure_time)\n",
    "        return np.random.rand()\n",
    "\n",
    "sig1 = MySynSignal(name=\"sig1\")\n",
    "sig1._func = sig1.my_random\n",
    "sig1.exposure_time = 1"
   ]
  },
  {
   "cell_type": "code",
   "execution_count": 8,
   "metadata": {},
   "outputs": [
    {
     "data": {
      "text/plain": [
       "{'sig1': {'value': None, 'timestamp': 1541095850.0154335}}"
      ]
     },
     "execution_count": 8,
     "metadata": {},
     "output_type": "execute_result"
    }
   ],
   "source": [
    "sig1.read()"
   ]
  },
  {
   "cell_type": "code",
   "execution_count": 9,
   "metadata": {},
   "outputs": [
    {
     "data": {
      "text/plain": [
       "DeviceStatus(device=sig1, done=False, success=False)"
      ]
     },
     "execution_count": 9,
     "metadata": {},
     "output_type": "execute_result"
    }
   ],
   "source": [
    "sig1.trigger()"
   ]
  },
  {
   "cell_type": "code",
   "execution_count": 10,
   "metadata": {},
   "outputs": [
    {
     "data": {
      "text/plain": [
       "{'sig1': {'value': None, 'timestamp': 1541095850.0154335}}"
      ]
     },
     "execution_count": 10,
     "metadata": {},
     "output_type": "execute_result"
    }
   ],
   "source": [
    "sig1.read()"
   ]
  },
  {
   "cell_type": "code",
   "execution_count": 11,
   "metadata": {},
   "outputs": [
    {
     "data": {
      "text/plain": [
       "{'sig1': {'value': None, 'timestamp': 1541095850.0154335}}"
      ]
     },
     "execution_count": 11,
     "metadata": {},
     "output_type": "execute_result"
    }
   ],
   "source": [
    "sig1.trigger()\n",
    "sig1.read()"
   ]
  },
  {
   "cell_type": "code",
   "execution_count": 12,
   "metadata": {},
   "outputs": [],
   "source": [
    "from bluesky import RunEngine\n",
    "import bluesky.plans as bp\n",
    "from bluesky.simulators import summarize_plan\n",
    "\n",
    "RE = RunEngine({})"
   ]
  },
  {
   "cell_type": "code",
   "execution_count": 13,
   "metadata": {},
   "outputs": [
    {
     "name": "stdout",
     "output_type": "stream",
     "text": [
      "stage: (MySynSignal(name='sig1', timestamp=1541095850.0154335)), (), {}\n",
      "open_run: (None), (), {'detectors': ['sig1'], 'num_points': 3, 'num_intervals': 2, 'plan_args': {'detectors': [\"MySynSignal(name='sig1', timestamp=1541095850.0154335)\"], 'num': 3}, 'plan_name': 'count', 'hints': {'dimensions': [(('time',), 'primary')]}}\n",
      "checkpoint: (None), (), {}\n",
      "trigger: (MySynSignal(name='sig1', timestamp=1541095850.0154335)), (), {'group': 'trigger-83d787'}\n",
      "wait: (None), (), {'group': 'trigger-83d787'}\n",
      "create: (None), (), {'name': 'primary'}\n",
      "read: (MySynSignal(name='sig1', timestamp=1541095850.0154335)), (), {}\n",
      "save: (None), (), {}\n",
      "sleep: (None), (1.4994683265686035,), {}\n",
      "checkpoint: (None), (), {}\n",
      "trigger: (MySynSignal(name='sig1', timestamp=1541095850.0154335)), (), {'group': 'trigger-658647'}\n",
      "wait: (None), (), {'group': 'trigger-658647'}\n",
      "create: (None), (), {'name': 'primary'}\n",
      "read: (MySynSignal(name='sig1', timestamp=1541095850.0154335)), (), {}\n",
      "save: (None), (), {}\n",
      "sleep: (None), (1.4997920989990234,), {}\n",
      "checkpoint: (None), (), {}\n",
      "trigger: (MySynSignal(name='sig1', timestamp=1541095850.0154335)), (), {'group': 'trigger-6f573a'}\n",
      "wait: (None), (), {'group': 'trigger-6f573a'}\n",
      "create: (None), (), {'name': 'primary'}\n",
      "read: (MySynSignal(name='sig1', timestamp=1541095850.0154335)), (), {}\n",
      "save: (None), (), {}\n",
      "sleep: (None), (1.499772310256958,), {}\n",
      "close_run: (None), (), {'exit_status': None, 'reason': None}\n",
      "unstage: (MySynSignal(name='sig1', timestamp=1541095850.0154335)), (), {}\n"
     ]
    }
   ],
   "source": [
    "for item in bp.count([sig1], num=3, delay=1.5):\n",
    "    print(item)"
   ]
  },
  {
   "cell_type": "code",
   "execution_count": 14,
   "metadata": {},
   "outputs": [
    {
     "name": "stdout",
     "output_type": "stream",
     "text": [
      "start {'uid': '64a03bcc-9709-472d-8702-8055a5ff398c', 'time': 1541095850.1322348, 'scan_id': 1, 'purpose': 'demo today for Chen', 'num_intervals': 2, 'num_points': 3, 'a_bool': True, 'plan_args': {'detectors': [\"MySynSignal(name='sig1', timestamp=1541095850.0154335)\"], 'num': 3}, 'detectors': ['sig1'], 'plan_name': 'count', 'hints': {'dimensions': [(('time',), 'primary')]}, 'my_cat': 'sleeping', 'plan_type': 'generator'}\n",
      "descriptor {'run_start': '64a03bcc-9709-472d-8702-8055a5ff398c', 'time': 1541095851.1385465, 'data_keys': {'sig1': {'source': 'SIM:sig1', 'dtype': 'number', 'shape': [], 'precision': 3, 'object_name': 'sig1'}}, 'uid': '013a9ab5-2c84-4a2c-b9d5-dcee1c8cdf81', 'configuration': {'sig1': {'data': {'sig1': 0.03806177915207132}, 'timestamps': {'sig1': 1541095851.1377492}, 'data_keys': {'sig1': {'source': 'SIM:sig1', 'dtype': 'number', 'shape': [], 'precision': 3}}}}, 'name': 'primary', 'hints': {'sig1': {'fields': []}}, 'object_keys': {'sig1': ['sig1']}}\n",
      "event {'descriptor': '013a9ab5-2c84-4a2c-b9d5-dcee1c8cdf81', 'time': 1541095851.142332, 'data': {'sig1': 0.03806177915207132}, 'timestamps': {'sig1': 1541095851.1377492}, 'seq_num': 1, 'uid': 'e03fde38-b885-4acc-90c5-d39c36750824', 'filled': {}}\n",
      "event {'descriptor': '013a9ab5-2c84-4a2c-b9d5-dcee1c8cdf81', 'time': 1541095853.1390913, 'data': {'sig1': 0.5832219932716067}, 'timestamps': {'sig1': 1541095853.1384013}, 'seq_num': 2, 'uid': 'd560f67d-770d-435a-b887-0e91a047dacc', 'filled': {}}\n",
      "event {'descriptor': '013a9ab5-2c84-4a2c-b9d5-dcee1c8cdf81', 'time': 1541095855.1412401, 'data': {'sig1': 0.2791873123916916}, 'timestamps': {'sig1': 1541095855.140615}, 'seq_num': 3, 'uid': 'd05e9c76-008d-48c4-a2c0-e5bcf96f8a93', 'filled': {}}\n",
      "stop {'run_start': '64a03bcc-9709-472d-8702-8055a5ff398c', 'time': 1541095856.1396298, 'uid': '114db72c-a28b-4478-9faa-df7361a7e6e0', 'exit_status': 'success', 'reason': '', 'num_events': {'primary': 3}}\n"
     ]
    },
    {
     "data": {
      "text/plain": [
       "('64a03bcc-9709-472d-8702-8055a5ff398c',)"
      ]
     },
     "execution_count": 14,
     "metadata": {},
     "output_type": "execute_result"
    }
   ],
   "source": [
    "RE(bp.count([sig1], num=3, delay=2, md=dict(purpose=\"demo today for Chen\", my_cat=\"sleeping\", a_bool=True)), print)"
   ]
  },
  {
   "cell_type": "code",
   "execution_count": 15,
   "metadata": {},
   "outputs": [],
   "source": [
    "def my_count(count_time=1, delay=0):\n",
    "    sig1.exposure_time = count_time\n",
    "    yield from bp.count([sig1], num=3, delay=delay, md=dict(purpose=\"demo today for Chen\", my_cat=\"eating\", a_bool=True))"
   ]
  },
  {
   "cell_type": "code",
   "execution_count": 16,
   "metadata": {},
   "outputs": [
    {
     "name": "stdout",
     "output_type": "stream",
     "text": [
      "start {'uid': '47ceaebc-3c9a-4944-9df8-d5309a0e2f70', 'time': 1541095856.1929536, 'scan_id': 2, 'purpose': 'demo today for Chen', 'num_intervals': 2, 'num_points': 3, 'a_bool': True, 'plan_args': {'detectors': [\"MySynSignal(name='sig1', value=0.2791873123916916, timestamp=1541095855.140615)\"], 'num': 3}, 'detectors': ['sig1'], 'plan_name': 'count', 'hints': {'dimensions': [(('time',), 'primary')]}, 'my_cat': 'eating', 'plan_type': 'generator'}\n",
      "descriptor {'run_start': '47ceaebc-3c9a-4944-9df8-d5309a0e2f70', 'time': 1541095857.1981814, 'data_keys': {'sig1': {'source': 'SIM:sig1', 'dtype': 'number', 'shape': [], 'precision': 3, 'object_name': 'sig1'}}, 'uid': '4bf2681a-d344-4fd6-a94a-4c351a3d7ae7', 'configuration': {'sig1': {'data': {'sig1': 0.007962871548252037}, 'timestamps': {'sig1': 1541095857.196816}, 'data_keys': {'sig1': {'source': 'SIM:sig1', 'dtype': 'number', 'shape': [], 'precision': 3}}}}, 'name': 'primary', 'hints': {'sig1': {'fields': []}}, 'object_keys': {'sig1': ['sig1']}}\n",
      "event {'descriptor': '4bf2681a-d344-4fd6-a94a-4c351a3d7ae7', 'time': 1541095857.202921, 'data': {'sig1': 0.007962871548252037}, 'timestamps': {'sig1': 1541095857.196816}, 'seq_num': 1, 'uid': '6e183ab5-5877-449e-8a46-0626e964f117', 'filled': {}}\n",
      "event {'descriptor': '4bf2681a-d344-4fd6-a94a-4c351a3d7ae7', 'time': 1541095858.2058141, 'data': {'sig1': 0.5057494234193844}, 'timestamps': {'sig1': 1541095858.2051609}, 'seq_num': 2, 'uid': '2f991c07-b597-4d8f-8a1d-0dd8780a3db5', 'filled': {}}\n",
      "event {'descriptor': '4bf2681a-d344-4fd6-a94a-4c351a3d7ae7', 'time': 1541095859.2091255, 'data': {'sig1': 0.21343721371080848}, 'timestamps': {'sig1': 1541095859.2084908}, 'seq_num': 3, 'uid': '77c150c4-6644-4995-a0f9-13586551dd0e', 'filled': {}}\n",
      "stop {'run_start': '47ceaebc-3c9a-4944-9df8-d5309a0e2f70', 'time': 1541095859.2108986, 'uid': 'e424fd50-e380-472b-ab69-c284995badd7', 'exit_status': 'success', 'reason': '', 'num_events': {'primary': 3}}\n"
     ]
    },
    {
     "data": {
      "text/plain": [
       "('47ceaebc-3c9a-4944-9df8-d5309a0e2f70',)"
      ]
     },
     "execution_count": 16,
     "metadata": {},
     "output_type": "execute_result"
    }
   ],
   "source": [
    "RE(my_count(1), print)"
   ]
  },
  {
   "cell_type": "code",
   "execution_count": 17,
   "metadata": {},
   "outputs": [
    {
     "data": {
      "text/plain": [
       "{'sig1': {'value': 0.21343721371080848, 'timestamp': 1541095859.2084908}}"
      ]
     },
     "execution_count": 17,
     "metadata": {},
     "output_type": "execute_result"
    }
   ],
   "source": [
    "sig1.trigger()\n",
    "sig1.read()"
   ]
  },
  {
   "cell_type": "code",
   "execution_count": 18,
   "metadata": {},
   "outputs": [
    {
     "data": {
      "text/plain": [
       "2"
      ]
     },
     "execution_count": 18,
     "metadata": {},
     "output_type": "execute_result"
    }
   ],
   "source": [
    "from bluesky.callbacks.best_effort import BestEffortCallback\n",
    "bec = BestEffortCallback()\n",
    "RE.subscribe(bec)\n"
   ]
  },
  {
   "cell_type": "code",
   "execution_count": 19,
   "metadata": {},
   "outputs": [
    {
     "name": "stdout",
     "output_type": "stream",
     "text": [
      "Transient Scan ID: 3     Time: 2018/11/01 13:10:59\n",
      "Persistent Unique Scan ID: 'a09ee9c1-c630-4557-b75c-88533eb8cfad'\n",
      "New stream: 'primary'\n",
      "+-----------+------------+\n",
      "|   seq_num |       time |\n",
      "+-----------+------------+\n",
      "|         1 | 13:11:00.4 |\n",
      "|         2 | 13:11:02.4 |\n",
      "|         3 | 13:11:04.4 |\n",
      "+-----------+------------+\n",
      "generator count ['a09ee9c1'] (scan num: 3)\n",
      "\n",
      "\n",
      "\n"
     ]
    },
    {
     "data": {
      "text/plain": [
       "('a09ee9c1-c630-4557-b75c-88533eb8cfad',)"
      ]
     },
     "execution_count": 19,
     "metadata": {},
     "output_type": "execute_result"
    }
   ],
   "source": [
    "RE(my_count(1, 2))"
   ]
  },
  {
   "cell_type": "code",
   "execution_count": null,
   "metadata": {},
   "outputs": [],
   "source": []
  }
 ],
 "metadata": {
  "kernelspec": {
   "display_name": "Python 3",
   "language": "python",
   "name": "python3"
  },
  "language_info": {
   "codemirror_mode": {
    "name": "ipython",
    "version": 3
   },
   "file_extension": ".py",
   "mimetype": "text/x-python",
   "name": "python",
   "nbconvert_exporter": "python",
   "pygments_lexer": "ipython3",
   "version": "3.6.2"
  }
 },
 "nbformat": 4,
 "nbformat_minor": 2
}
